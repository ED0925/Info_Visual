{
 "cells": [
  {
   "cell_type": "code",
   "execution_count": 7,
   "metadata": {},
   "outputs": [
    {
     "data": {
      "text/plain": [
       "'data/Aggregated_Medals_Summary.csv'"
      ]
     },
     "execution_count": 7,
     "metadata": {},
     "output_type": "execute_result"
    }
   ],
   "source": [
    "import pandas as pd\n",
    "\n",
    "# Load the dataset\n",
    "file_path = \"data/Updated_Medals_Summary_with_Numeric_ID.csv\"\n",
    "df = pd.read_csv(file_path)\n",
    "\n",
    "# Correct the Total_Medals column (sum of Gold, Silver, Bronze)\n",
    "df['Total_Medals_Corrected'] = df[['Gold', 'Silver', 'Bronze']].sum(axis=1)\n",
    "\n",
    "# Aggregate the data by NOC, numeric_id, and season to calculate totals for Winter and Summer\n",
    "season_totals = df.groupby(['noc', 'numeric_id', 'season'], as_index=False).agg({\n",
    "    'Gold': 'sum',\n",
    "    'Silver': 'sum',\n",
    "    'Bronze': 'sum',\n",
    "    'Total_Medals_Corrected': 'sum'\n",
    "}).rename(columns={\n",
    "    'Gold': 'Season_Gold',\n",
    "    'Silver': 'Season_Silver',\n",
    "    'Bronze': 'Season_Bronze',\n",
    "    'Total_Medals_Corrected': 'Season_Total_Medals'\n",
    "})\n",
    "\n",
    "# Separate Winter and Summer season totals\n",
    "winter_totals = season_totals[season_totals['season'] == 'Winter']\n",
    "summer_totals = season_totals[season_totals['season'] == 'Summer']\n",
    "\n",
    "# Merge Winter and Summer totals back together by noc and numeric_id\n",
    "df_totals = pd.merge(\n",
    "    winter_totals[['noc', 'numeric_id', 'Season_Total_Medals']],\n",
    "    summer_totals[['noc', 'numeric_id', 'Season_Total_Medals']],\n",
    "    on=['noc', 'numeric_id'],\n",
    "    how='outer',\n",
    "    suffixes=('_Winter', '_Summer')\n",
    ")\n",
    "\n",
    "# Replace NaN with 0 for countries without Winter or Summer medals\n",
    "df_totals.fillna(0, inplace=True)\n",
    "\n",
    "# Convert columns to integers\n",
    "df_totals[['Season_Total_Medals_Winter', 'Season_Total_Medals_Summer']] = df_totals[\n",
    "    ['Season_Total_Medals_Winter', 'Season_Total_Medals_Summer']\n",
    "].astype(int)\n",
    "\n",
    "# Aggregate overall totals\n",
    "df_aggregated = df.groupby(['noc', 'numeric_id'], as_index=False).agg({\n",
    "    'Gold': 'sum',\n",
    "    'Silver': 'sum',\n",
    "    'Bronze': 'sum',\n",
    "    'Total_Medals_Corrected': 'sum'\n",
    "}).rename(columns={\n",
    "    'Gold': 'Total_Gold',\n",
    "    'Silver': 'Total_Silver',\n",
    "    'Bronze': 'Total_Bronze',\n",
    "    'Total_Medals_Corrected': 'Total_Medals'\n",
    "})\n",
    "\n",
    "# Add Winter and Summer totals to the aggregated dataset\n",
    "df_final = pd.merge(\n",
    "    df_aggregated,\n",
    "    df_totals[['noc', 'numeric_id', 'Season_Total_Medals_Winter', 'Season_Total_Medals_Summer']],\n",
    "    on=['noc', 'numeric_id'],\n",
    "    how='left'\n",
    ")\n",
    "\n",
    "# Save the new CSV file\n",
    "new_file_path = \"data/Aggregated_Medals_Summary.csv\"\n",
    "df_final.to_csv(new_file_path, index=False)\n",
    "\n",
    "new_file_path\n"
   ]
  }
 ],
 "metadata": {
  "kernelspec": {
   "display_name": "Python 3",
   "language": "python",
   "name": "python3"
  },
  "language_info": {
   "codemirror_mode": {
    "name": "ipython",
    "version": 3
   },
   "file_extension": ".py",
   "mimetype": "text/x-python",
   "name": "python",
   "nbconvert_exporter": "python",
   "pygments_lexer": "ipython3",
   "version": "3.9.9"
  }
 },
 "nbformat": 4,
 "nbformat_minor": 2
}
