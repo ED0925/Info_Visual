{
 "cells": [
  {
   "cell_type": "code",
   "execution_count": 13,
   "metadata": {},
   "outputs": [
    {
     "ename": "KeyError",
     "evalue": "\"['numeric_id', 'Season_Total_Medals_Winter', 'Season_Total_Medals_Summer'] not in index\"",
     "output_type": "error",
     "traceback": [
      "\u001b[0;31m---------------------------------------------------------------------------\u001b[0m",
      "\u001b[0;31mKeyError\u001b[0m                                  Traceback (most recent call last)",
      "Cell \u001b[0;32mIn[13], line 33\u001b[0m\n\u001b[1;32m     30\u001b[0m final_df \u001b[38;5;241m=\u001b[39m final_df\u001b[38;5;241m.\u001b[39mfillna(\u001b[38;5;241m0\u001b[39m)\n\u001b[1;32m     32\u001b[0m \u001b[38;5;66;03m# 选择需要保留的旧属性和新添加的列\u001b[39;00m\n\u001b[0;32m---> 33\u001b[0m final_df \u001b[38;5;241m=\u001b[39m \u001b[43mfinal_df\u001b[49m\u001b[43m[\u001b[49m\u001b[43m[\u001b[49m\u001b[38;5;124;43m'\u001b[39;49m\u001b[38;5;124;43mnoc\u001b[39;49m\u001b[38;5;124;43m'\u001b[39;49m\u001b[43m,\u001b[49m\u001b[43m \u001b[49m\u001b[38;5;124;43m'\u001b[39;49m\u001b[38;5;124;43mnumeric_id\u001b[39;49m\u001b[38;5;124;43m'\u001b[39;49m\u001b[43m,\u001b[49m\u001b[43m \u001b[49m\u001b[38;5;124;43m'\u001b[39;49m\u001b[38;5;124;43mSeason_Total_Medals_Winter\u001b[39;49m\u001b[38;5;124;43m'\u001b[39;49m\u001b[43m,\u001b[49m\u001b[43m \u001b[49m\u001b[38;5;124;43m'\u001b[39;49m\u001b[38;5;124;43mSeason_Total_Medals_Summer\u001b[39;49m\u001b[38;5;124;43m'\u001b[39;49m\u001b[43m,\u001b[49m\u001b[43m \u001b[49m\n\u001b[1;32m     34\u001b[0m \u001b[43m                     \u001b[49m\u001b[38;5;124;43m'\u001b[39;49m\u001b[38;5;124;43mGold_summer\u001b[39;49m\u001b[38;5;124;43m'\u001b[39;49m\u001b[43m,\u001b[49m\u001b[43m \u001b[49m\u001b[38;5;124;43m'\u001b[39;49m\u001b[38;5;124;43mSilver_summer\u001b[39;49m\u001b[38;5;124;43m'\u001b[39;49m\u001b[43m,\u001b[49m\u001b[43m \u001b[49m\u001b[38;5;124;43m'\u001b[39;49m\u001b[38;5;124;43mBronze_summer\u001b[39;49m\u001b[38;5;124;43m'\u001b[39;49m\u001b[43m,\u001b[49m\u001b[43m \u001b[49m\n\u001b[1;32m     35\u001b[0m \u001b[43m                     \u001b[49m\u001b[38;5;124;43m'\u001b[39;49m\u001b[38;5;124;43mGold_winter\u001b[39;49m\u001b[38;5;124;43m'\u001b[39;49m\u001b[43m,\u001b[49m\u001b[43m \u001b[49m\u001b[38;5;124;43m'\u001b[39;49m\u001b[38;5;124;43mSilver_winter\u001b[39;49m\u001b[38;5;124;43m'\u001b[39;49m\u001b[43m,\u001b[49m\u001b[43m \u001b[49m\u001b[38;5;124;43m'\u001b[39;49m\u001b[38;5;124;43mBronze_winter\u001b[39;49m\u001b[38;5;124;43m'\u001b[39;49m\u001b[43m]\u001b[49m\u001b[43m]\u001b[49m\n\u001b[1;32m     37\u001b[0m \u001b[38;5;66;03m# 保存到新的CSV文件\u001b[39;00m\n\u001b[1;32m     38\u001b[0m final_df\u001b[38;5;241m.\u001b[39mto_csv(\u001b[38;5;124m'\u001b[39m\u001b[38;5;124mAggregated_Medals_Summary.csv\u001b[39m\u001b[38;5;124m'\u001b[39m, index\u001b[38;5;241m=\u001b[39m\u001b[38;5;28;01mFalse\u001b[39;00m)\n",
      "File \u001b[0;32m~/Library/Python/3.9/lib/python/site-packages/pandas/core/frame.py:4108\u001b[0m, in \u001b[0;36mDataFrame.__getitem__\u001b[0;34m(self, key)\u001b[0m\n\u001b[1;32m   4106\u001b[0m     \u001b[38;5;28;01mif\u001b[39;00m is_iterator(key):\n\u001b[1;32m   4107\u001b[0m         key \u001b[38;5;241m=\u001b[39m \u001b[38;5;28mlist\u001b[39m(key)\n\u001b[0;32m-> 4108\u001b[0m     indexer \u001b[38;5;241m=\u001b[39m \u001b[38;5;28;43mself\u001b[39;49m\u001b[38;5;241;43m.\u001b[39;49m\u001b[43mcolumns\u001b[49m\u001b[38;5;241;43m.\u001b[39;49m\u001b[43m_get_indexer_strict\u001b[49m\u001b[43m(\u001b[49m\u001b[43mkey\u001b[49m\u001b[43m,\u001b[49m\u001b[43m \u001b[49m\u001b[38;5;124;43m\"\u001b[39;49m\u001b[38;5;124;43mcolumns\u001b[39;49m\u001b[38;5;124;43m\"\u001b[39;49m\u001b[43m)\u001b[49m[\u001b[38;5;241m1\u001b[39m]\n\u001b[1;32m   4110\u001b[0m \u001b[38;5;66;03m# take() does not accept boolean indexers\u001b[39;00m\n\u001b[1;32m   4111\u001b[0m \u001b[38;5;28;01mif\u001b[39;00m \u001b[38;5;28mgetattr\u001b[39m(indexer, \u001b[38;5;124m\"\u001b[39m\u001b[38;5;124mdtype\u001b[39m\u001b[38;5;124m\"\u001b[39m, \u001b[38;5;28;01mNone\u001b[39;00m) \u001b[38;5;241m==\u001b[39m \u001b[38;5;28mbool\u001b[39m:\n",
      "File \u001b[0;32m~/Library/Python/3.9/lib/python/site-packages/pandas/core/indexes/base.py:6200\u001b[0m, in \u001b[0;36mIndex._get_indexer_strict\u001b[0;34m(self, key, axis_name)\u001b[0m\n\u001b[1;32m   6197\u001b[0m \u001b[38;5;28;01melse\u001b[39;00m:\n\u001b[1;32m   6198\u001b[0m     keyarr, indexer, new_indexer \u001b[38;5;241m=\u001b[39m \u001b[38;5;28mself\u001b[39m\u001b[38;5;241m.\u001b[39m_reindex_non_unique(keyarr)\n\u001b[0;32m-> 6200\u001b[0m \u001b[38;5;28;43mself\u001b[39;49m\u001b[38;5;241;43m.\u001b[39;49m\u001b[43m_raise_if_missing\u001b[49m\u001b[43m(\u001b[49m\u001b[43mkeyarr\u001b[49m\u001b[43m,\u001b[49m\u001b[43m \u001b[49m\u001b[43mindexer\u001b[49m\u001b[43m,\u001b[49m\u001b[43m \u001b[49m\u001b[43maxis_name\u001b[49m\u001b[43m)\u001b[49m\n\u001b[1;32m   6202\u001b[0m keyarr \u001b[38;5;241m=\u001b[39m \u001b[38;5;28mself\u001b[39m\u001b[38;5;241m.\u001b[39mtake(indexer)\n\u001b[1;32m   6203\u001b[0m \u001b[38;5;28;01mif\u001b[39;00m \u001b[38;5;28misinstance\u001b[39m(key, Index):\n\u001b[1;32m   6204\u001b[0m     \u001b[38;5;66;03m# GH 42790 - Preserve name from an Index\u001b[39;00m\n",
      "File \u001b[0;32m~/Library/Python/3.9/lib/python/site-packages/pandas/core/indexes/base.py:6252\u001b[0m, in \u001b[0;36mIndex._raise_if_missing\u001b[0;34m(self, key, indexer, axis_name)\u001b[0m\n\u001b[1;32m   6249\u001b[0m     \u001b[38;5;28;01mraise\u001b[39;00m \u001b[38;5;167;01mKeyError\u001b[39;00m(\u001b[38;5;124mf\u001b[39m\u001b[38;5;124m\"\u001b[39m\u001b[38;5;124mNone of [\u001b[39m\u001b[38;5;132;01m{\u001b[39;00mkey\u001b[38;5;132;01m}\u001b[39;00m\u001b[38;5;124m] are in the [\u001b[39m\u001b[38;5;132;01m{\u001b[39;00maxis_name\u001b[38;5;132;01m}\u001b[39;00m\u001b[38;5;124m]\u001b[39m\u001b[38;5;124m\"\u001b[39m)\n\u001b[1;32m   6251\u001b[0m not_found \u001b[38;5;241m=\u001b[39m \u001b[38;5;28mlist\u001b[39m(ensure_index(key)[missing_mask\u001b[38;5;241m.\u001b[39mnonzero()[\u001b[38;5;241m0\u001b[39m]]\u001b[38;5;241m.\u001b[39munique())\n\u001b[0;32m-> 6252\u001b[0m \u001b[38;5;28;01mraise\u001b[39;00m \u001b[38;5;167;01mKeyError\u001b[39;00m(\u001b[38;5;124mf\u001b[39m\u001b[38;5;124m\"\u001b[39m\u001b[38;5;132;01m{\u001b[39;00mnot_found\u001b[38;5;132;01m}\u001b[39;00m\u001b[38;5;124m not in index\u001b[39m\u001b[38;5;124m\"\u001b[39m)\n",
      "\u001b[0;31mKeyError\u001b[0m: \"['numeric_id', 'Season_Total_Medals_Winter', 'Season_Total_Medals_Summer'] not in index\""
     ]
    }
   ],
   "source": [
    "import pandas as pd\n",
    "\n",
    "# 读取CSV文件\n",
    "df = pd.read_csv('data/Updated_Medals_Summary_with_Numeric_ID.csv')\n",
    "\n",
    "# 按国家和季节汇总奖牌数据\n",
    "aggregated_df = df.groupby(['noc', 'season']).sum().reset_index()\n",
    "\n",
    "# 提取夏季和冬季的奖牌数据\n",
    "summer_df = aggregated_df[aggregated_df['season'] == 'Summer']\n",
    "winter_df = aggregated_df[aggregated_df['season'] == 'Winter']\n",
    "\n",
    "# 合并夏季和冬季的数据\n",
    "result_df = pd.merge(summer_df, winter_df, on='noc', suffixes=('_summer', '_winter'), how='outer')\n",
    "\n",
    "# 填充缺失值为0\n",
    "result_df = result_df.fillna(0)\n",
    "\n",
    "# 选择需要的列并重命名\n",
    "result_df = result_df[['noc', 'Gold_summer', 'Silver_summer', 'Bronze_summer', \n",
    "                       'Gold_winter', 'Silver_winter', 'Bronze_winter']]\n",
    "\n",
    "# 读取原始的聚合数据\n",
    "original_df = pd.read_csv('Aggregated_Medals_Summary.csv')\n",
    "\n",
    "# 合并原始数据和新数据\n",
    "final_df = pd.merge(original_df, result_df, on='noc', how='left')\n",
    "\n",
    "# 填充缺失值为0\n",
    "final_df = final_df.fillna(0)\n",
    "\n",
    "# 选择需要保留的旧属性和新添加的列\n",
    "final_df = final_df[['noc', 'numeric_id', 'Season_Total_Medals_Winter', 'Season_Total_Medals_Summer', \n",
    "                     'Gold_summer', 'Silver_summer', 'Bronze_summer', \n",
    "                     'Gold_winter', 'Silver_winter', 'Bronze_winter']]\n",
    "\n",
    "# 保存到新的CSV文件\n",
    "final_df.to_csv('Aggregated_Medals_Summary.csv', index=False)"
   ]
  },
  {
   "cell_type": "code",
   "execution_count": 16,
   "metadata": {},
   "outputs": [],
   "source": [
    "import pandas as pd\n",
    "\n",
    "# 读取CSV文件\n",
    "df = pd.read_csv('data/Updated_Medals_Summary_with_Numeric_ID.csv')\n",
    "\n",
    "# 按国家和季节汇总奖牌数据\n",
    "aggregated_df = df.groupby(['noc', 'season']).sum().reset_index()\n",
    "\n",
    "# 提取夏季和冬季的奖牌数据\n",
    "summer_df = aggregated_df[aggregated_df['season'] == 'Summer']\n",
    "winter_df = aggregated_df[aggregated_df['season'] == 'Winter']\n",
    "\n",
    "# 合并夏季和冬季的数据\n",
    "result_df = pd.merge(summer_df, winter_df, on='noc', suffixes=('_summer', '_winter'), how='outer')\n",
    "\n",
    "# 填充缺失值为0\n",
    "result_df = result_df.fillna(0)\n",
    "\n",
    "# 确保所有奖牌列都是整数类型\n",
    "result_df[['Gold_summer', 'Silver_summer', 'Bronze_summer', \n",
    "           'Gold_winter', 'Silver_winter', 'Bronze_winter']] = result_df[['Gold_summer', 'Silver_summer', 'Bronze_summer', \n",
    "                                                                          'Gold_winter', 'Silver_winter', 'Bronze_winter']].astype(int)\n",
    "\n",
    "# 选择需要的列并重命名\n",
    "result_df = result_df[['noc', 'Gold_summer', 'Silver_summer', 'Bronze_summer', \n",
    "                       'Gold_winter', 'Silver_winter', 'Bronze_winter']]\n",
    "\n",
    "# 读取原始的聚合数据\n",
    "original_df = pd.read_csv('data/Aggregated_Medals_Summary.csv')\n",
    "\n",
    "# 合并原始数据和新数据\n",
    "final_df = pd.merge(original_df, result_df, on='noc', how='left')\n",
    "\n",
    "# 保存到新的CSV文件\n",
    "final_df.to_csv('data/Aggregated_Medals_Summary.csv', index=False)"
   ]
  },
  {
   "cell_type": "code",
   "execution_count": 18,
   "metadata": {},
   "outputs": [],
   "source": [
    "import pandas as pd\n",
    "\n",
    "# 读取聚合数据和地区数据\n",
    "aggregated_df = pd.read_csv('data/Aggregated_Medals_Summary.csv')\n",
    "regions_df = pd.read_csv('data/noc_regions.csv')\n",
    "\n",
    "# 合并数据\n",
    "merged_df = pd.merge(aggregated_df, regions_df, left_on='noc', right_on='NOC', how='left')\n",
    "\n",
    "# 删除重复的NOC列\n",
    "merged_df = merged_df.drop(columns=['NOC'])\n",
    "\n",
    "# 保存到新的CSV文件\n",
    "merged_df.to_csv('data/Aggregated_Medals_Summary.csv', index=False)"
   ]
  },
  {
   "cell_type": "code",
   "execution_count": 3,
   "metadata": {},
   "outputs": [],
   "source": [
    "import pandas as pd\n",
    "\n",
    "# 读取聚合数据和地区数据\n",
    "aggregated_df = pd.read_csv('data/Updated_Medals_Summary_with_Numeric_ID.csv')\n",
    "regions_df = pd.read_csv('data/noc_regions.csv')\n",
    "\n",
    "# 合并数据\n",
    "merged_df = pd.merge(aggregated_df, regions_df, left_on='noc', right_on='NOC', how='left')\n",
    "\n",
    "# 删除重复的NOC列\n",
    "merged_df = merged_df.drop(columns=['NOC'])\n",
    "\n",
    "# 保存到新的CSV文件\n",
    "merged_df.to_csv('data/Updated_Medals_Summary_with_Numeric_ID.csv', index=False)"
   ]
  }
 ],
 "metadata": {
  "kernelspec": {
   "display_name": "Python 3",
   "language": "python",
   "name": "python3"
  },
  "language_info": {
   "codemirror_mode": {
    "name": "ipython",
    "version": 3
   },
   "file_extension": ".py",
   "mimetype": "text/x-python",
   "name": "python",
   "nbconvert_exporter": "python",
   "pygments_lexer": "ipython3",
   "version": "3.9.9"
  }
 },
 "nbformat": 4,
 "nbformat_minor": 2
}
