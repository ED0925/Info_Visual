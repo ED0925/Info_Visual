{
 "cells": [
  {
   "cell_type": "code",
   "execution_count": 2,
   "metadata": {},
   "outputs": [
    {
     "name": "stdout",
     "output_type": "stream",
     "text": [
      "Defaulting to user installation because normal site-packages is not writeable\n",
      "Collecting ace_tools\n",
      "  Downloading ace_tools-0.0-py3-none-any.whl (1.1 kB)\n",
      "Installing collected packages: ace-tools\n",
      "Successfully installed ace-tools-0.0\n",
      "\u001b[33mWARNING: You are using pip version 21.2.4; however, version 24.3.1 is available.\n",
      "You should consider upgrading via the '/Library/Developer/CommandLineTools/usr/bin/python3 -m pip install --upgrade pip' command.\u001b[0m\n",
      "Note: you may need to restart the kernel to use updated packages.\n",
      "Index(['survey_year', 'urban_rural', 'bioregions', 'bird_type', 'bird_count'], dtype='object')\n"
     ]
    },
    {
     "ename": "KeyError",
     "evalue": "\"The 'medal' column does not exist in the DataFrame.\"",
     "output_type": "error",
     "traceback": [
      "\u001b[0;31m---------------------------------------------------------------------------\u001b[0m",
      "\u001b[0;31mKeyError\u001b[0m                                  Traceback (most recent call last)",
      "Cell \u001b[0;32mIn[2], line 18\u001b[0m\n\u001b[1;32m     16\u001b[0m     medals_data \u001b[38;5;241m=\u001b[39m medals_data[[\u001b[38;5;124m'\u001b[39m\u001b[38;5;124myear\u001b[39m\u001b[38;5;124m'\u001b[39m, \u001b[38;5;124m'\u001b[39m\u001b[38;5;124mnoc\u001b[39m\u001b[38;5;124m'\u001b[39m, \u001b[38;5;124m'\u001b[39m\u001b[38;5;124mmedal\u001b[39m\u001b[38;5;124m'\u001b[39m, \u001b[38;5;124m'\u001b[39m\u001b[38;5;124mseason\u001b[39m\u001b[38;5;124m'\u001b[39m]]\n\u001b[1;32m     17\u001b[0m \u001b[38;5;28;01melse\u001b[39;00m:\n\u001b[0;32m---> 18\u001b[0m     \u001b[38;5;28;01mraise\u001b[39;00m \u001b[38;5;167;01mKeyError\u001b[39;00m(\u001b[38;5;124m\"\u001b[39m\u001b[38;5;124mThe \u001b[39m\u001b[38;5;124m'\u001b[39m\u001b[38;5;124mmedal\u001b[39m\u001b[38;5;124m'\u001b[39m\u001b[38;5;124m column does not exist in the DataFrame.\u001b[39m\u001b[38;5;124m\"\u001b[39m)\n\u001b[1;32m     20\u001b[0m \u001b[38;5;66;03m# Initialize an empty DataFrame to store the results\u001b[39;00m\n\u001b[1;32m     21\u001b[0m medals_by_year \u001b[38;5;241m=\u001b[39m (\n\u001b[1;32m     22\u001b[0m     medals_data\n\u001b[1;32m     23\u001b[0m     \u001b[38;5;241m.\u001b[39mgroupby([\u001b[38;5;124m'\u001b[39m\u001b[38;5;124mnoc\u001b[39m\u001b[38;5;124m'\u001b[39m, \u001b[38;5;124m'\u001b[39m\u001b[38;5;124myear\u001b[39m\u001b[38;5;124m'\u001b[39m, \u001b[38;5;124m'\u001b[39m\u001b[38;5;124mseason\u001b[39m\u001b[38;5;124m'\u001b[39m, \u001b[38;5;124m'\u001b[39m\u001b[38;5;124mmedal\u001b[39m\u001b[38;5;124m'\u001b[39m])\n\u001b[1;32m     24\u001b[0m     \u001b[38;5;241m.\u001b[39msize()\n\u001b[1;32m     25\u001b[0m     \u001b[38;5;241m.\u001b[39mreset_index(name\u001b[38;5;241m=\u001b[39m\u001b[38;5;124m'\u001b[39m\u001b[38;5;124mcount\u001b[39m\u001b[38;5;124m'\u001b[39m)\n\u001b[1;32m     26\u001b[0m )\n",
      "\u001b[0;31mKeyError\u001b[0m: \"The 'medal' column does not exist in the DataFrame.\""
     ]
    }
   ],
   "source": [
    "import pandas as pd\n",
    "%pip install ace_tools\n",
    "\n",
    "# Correct raw file link\n",
    "file_path = 'https://raw.githubusercontent.com/rfordatascience/tidytuesday/master/data/2021/2021-08-31/bird_baths.csv'\n",
    "\n",
    "olympics_df = pd.read_csv(file_path)\n",
    "\n",
    "# Display the columns of the DataFrame to inspect the structure\n",
    "print(olympics_df.columns)\n",
    "\n",
    "# Check if 'medal' column exists\n",
    "if 'medal' in olympics_df.columns:\n",
    "    # Filter rows with medals and clean up necessary columns\n",
    "    medals_data = olympics_df[olympics_df['medal'].notna()]\n",
    "    medals_data = medals_data[['year', 'noc', 'medal', 'season']]\n",
    "else:\n",
    "    raise KeyError(\"The 'medal' column does not exist in the DataFrame.\")\n",
    "\n",
    "# Initialize an empty DataFrame to store the results\n",
    "medals_by_year = (\n",
    "    medals_data\n",
    "    .groupby(['noc', 'year', 'season', 'medal'])\n",
    "    .size()\n",
    "    .reset_index(name='count')\n",
    ")\n",
    "\n",
    "# Pivot table to simplify analysis\n",
    "medals_summary = medals_by_year.pivot_table(\n",
    "    index=['noc', 'year', 'season'], \n",
    "    columns='medal', \n",
    "    values='count', \n",
    "    aggfunc='sum',\n",
    "    fill_value=0\n",
    ").reset_index()\n",
    "\n",
    "# Calculate total medals for each year, season, and NOC\n",
    "medals_summary['total_medals'] = (\n",
    "    medals_summary.get('Gold', 0) +\n",
    "    medals_summary.get('Silver', 0) +\n",
    "    medals_summary.get('Bronze', 0)\n",
    ")\n",
    "\n",
    "# Add missing columns if they do not exist\n",
    "for medal in ['Gold', 'Silver', 'Bronze']:\n",
    "    if medal not in medals_summary:\n",
    "        medals_summary[medal] = 0\n",
    "\n",
    "# Save the results for the user to explore\n",
    "medals_summary.rename(columns={'Gold': 'gold_medals', 'Silver': 'silver_medals', 'Bronze': 'bronze_medals'}, inplace=True)\n",
    "import ace_tools as tools\n",
    "tools.display_dataframe_to_user(name=\"Olympic Medals Summary by Year\", dataframe=medals_summary)\n"
   ]
  }
 ],
 "metadata": {
  "kernelspec": {
   "display_name": "Python 3",
   "language": "python",
   "name": "python3"
  },
  "language_info": {
   "codemirror_mode": {
    "name": "ipython",
    "version": 3
   },
   "file_extension": ".py",
   "mimetype": "text/x-python",
   "name": "python",
   "nbconvert_exporter": "python",
   "pygments_lexer": "ipython3",
   "version": "3.9.6"
  }
 },
 "nbformat": 4,
 "nbformat_minor": 2
}
