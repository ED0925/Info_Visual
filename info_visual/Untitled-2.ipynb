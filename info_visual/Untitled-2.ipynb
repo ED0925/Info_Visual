{
 "cells": [
  {
   "cell_type": "markdown",
   "metadata": {},
   "source": [
    "# Import Required Libraries\n",
    "Import the necessary libraries, including pandas."
   ]
  },
  {
   "cell_type": "code",
   "execution_count": null,
   "metadata": {},
   "outputs": [],
   "source": [
    "# 导入必要的库，包括 pandas\n",
    "import pandas as pd"
   ]
  },
  {
   "cell_type": "markdown",
   "metadata": {},
   "source": [
    "# Load the Dataset\n",
    "Load the Aggregated_Medals_Summary.csv file into a pandas DataFrame."
   ]
  },
  {
   "cell_type": "code",
   "execution_count": null,
   "metadata": {},
   "outputs": [],
   "source": [
    "# 加载数据集\n",
    "df = pd.read_csv('Aggregated_Medals_Summary.csv')\n",
    "\n",
    "# 显示数据集的前几行以确认加载成功\n",
    "df.head()"
   ]
  },
  {
   "cell_type": "markdown",
   "metadata": {},
   "source": [
    "# Add Total Medals Columns for Winter\n",
    "Calculate the total golds, silvers, and bronzes for winter and add them as new columns to the DataFrame."
   ]
  },
  {
   "cell_type": "code",
   "execution_count": null,
   "metadata": {},
   "outputs": [],
   "source": [
    "# 计算冬季总金牌、银牌和铜牌，并将其添加为新列\n",
    "df['Total_Golds_Winter'] = df['Golds_Winter'].sum()\n",
    "df['Total_Silvers_Winter'] = df['Silvers_Winter'].sum()\n",
    "df['Total_Bronzes_Winter'] = df['Bronzes_Winter'].sum()\n",
    "\n",
    "# 显示更新后的数据集的前几行以确认新列已添加\n",
    "df.head()"
   ]
  },
  {
   "cell_type": "markdown",
   "metadata": {},
   "source": [
    "# Add Total Medals Columns for Summer\n",
    "Calculate the total golds, silvers, and bronzes for summer and add them as new columns to the DataFrame."
   ]
  },
  {
   "cell_type": "code",
   "execution_count": null,
   "metadata": {},
   "outputs": [],
   "source": [
    "# 计算夏季总金牌、银牌和铜牌，并将其添加为新列\n",
    "df['Total_Golds_Summer'] = df['Golds_Summer'].sum()\n",
    "df['Total_Silvers_Summer'] = df['Silvers_Summer'].sum()\n",
    "df['Total_Bronzes_Summer'] = df['Bronzes_Summer'].sum()\n",
    "\n",
    "# 显示更新后的数据集的前几行以确认新列已添加\n",
    "df.head()"
   ]
  },
  {
   "cell_type": "markdown",
   "metadata": {},
   "source": [
    "# Save the Updated Dataset\n",
    "Save the updated DataFrame back to a CSV file."
   ]
  },
  {
   "cell_type": "code",
   "execution_count": null,
   "metadata": {},
   "outputs": [],
   "source": [
    "# 保存更新后的数据集\n",
    "df.to_csv('Updated_Medals_Summary_with_Numeric_ID.csv', index=False)"
   ]
  }
 ],
 "metadata": {
  "language_info": {
   "name": "python"
  }
 },
 "nbformat": 4,
 "nbformat_minor": 2
}
