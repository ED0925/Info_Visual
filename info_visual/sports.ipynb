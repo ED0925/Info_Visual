{
 "cells": [
  {
   "cell_type": "code",
   "execution_count": 6,
   "metadata": {},
   "outputs": [
    {
     "name": "stdout",
     "output_type": "stream",
     "text": [
      "Defaulting to user installation because normal site-packages is not writeable\n",
      "Requirement already satisfied: pandas in /Users/alexandrawang/Library/Python/3.9/lib/python/site-packages (2.2.3)\n",
      "Requirement already satisfied: python-dateutil>=2.8.2 in /Users/alexandrawang/Library/Python/3.9/lib/python/site-packages (from pandas) (2.9.0.post0)\n",
      "Requirement already satisfied: pytz>=2020.1 in /Users/alexandrawang/Library/Python/3.9/lib/python/site-packages (from pandas) (2024.2)\n",
      "Requirement already satisfied: tzdata>=2022.7 in /Users/alexandrawang/Library/Python/3.9/lib/python/site-packages (from pandas) (2024.2)\n",
      "Requirement already satisfied: numpy>=1.22.4 in /Users/alexandrawang/Library/Python/3.9/lib/python/site-packages (from pandas) (2.0.2)\n",
      "Requirement already satisfied: six>=1.5 in /Users/alexandrawang/Library/Python/3.9/lib/python/site-packages (from python-dateutil>=2.8.2->pandas) (1.16.0)\n",
      "\u001b[33mWARNING: You are using pip version 21.2.4; however, version 24.3.1 is available.\n",
      "You should consider upgrading via the '/Library/Developer/CommandLineTools/usr/bin/python3 -m pip install --upgrade pip' command.\u001b[0m\n",
      "Note: you may need to restart the kernel to use updated packages.\n",
      "Defaulting to user installation because normal site-packages is not writeable\n",
      "Requirement already satisfied: altair in /Users/alexandrawang/Library/Python/3.9/lib/python/site-packages (5.4.1)\n",
      "Requirement already satisfied: jsonschema>=3.0 in /Users/alexandrawang/Library/Python/3.9/lib/python/site-packages (from altair) (4.23.0)\n",
      "Requirement already satisfied: narwhals>=1.5.2 in /Users/alexandrawang/Library/Python/3.9/lib/python/site-packages (from altair) (1.14.1)\n",
      "Requirement already satisfied: typing-extensions>=4.10.0 in /Users/alexandrawang/Library/Python/3.9/lib/python/site-packages (from altair) (4.12.2)\n",
      "Requirement already satisfied: jinja2 in /Users/alexandrawang/Library/Python/3.9/lib/python/site-packages (from altair) (3.1.4)\n",
      "Requirement already satisfied: packaging in /Users/alexandrawang/Library/Python/3.9/lib/python/site-packages (from altair) (24.2)\n",
      "Requirement already satisfied: jsonschema-specifications>=2023.03.6 in /Users/alexandrawang/Library/Python/3.9/lib/python/site-packages (from jsonschema>=3.0->altair) (2024.10.1)\n",
      "Requirement already satisfied: rpds-py>=0.7.1 in /Users/alexandrawang/Library/Python/3.9/lib/python/site-packages (from jsonschema>=3.0->altair) (0.21.0)\n",
      "Requirement already satisfied: referencing>=0.28.4 in /Users/alexandrawang/Library/Python/3.9/lib/python/site-packages (from jsonschema>=3.0->altair) (0.35.1)\n",
      "Requirement already satisfied: attrs>=22.2.0 in /Users/alexandrawang/Library/Python/3.9/lib/python/site-packages (from jsonschema>=3.0->altair) (24.2.0)\n",
      "Requirement already satisfied: MarkupSafe>=2.0 in /Users/alexandrawang/Library/Python/3.9/lib/python/site-packages (from jinja2->altair) (3.0.2)\n",
      "\u001b[33mWARNING: You are using pip version 21.2.4; however, version 24.3.1 is available.\n",
      "You should consider upgrading via the '/Library/Developer/CommandLineTools/usr/bin/python3 -m pip install --upgrade pip' command.\u001b[0m\n",
      "Note: you may need to restart the kernel to use updated packages.\n"
     ]
    },
    {
     "data": {
      "application/vnd.vegalite.v5+json": {
       "$schema": "https://vega.github.io/schema/vega-lite/v5.20.1.json",
       "config": {
        "view": {
         "continuousHeight": 300,
         "continuousWidth": 300
        }
       },
       "data": {
        "name": "data-f56149298ab8d3d1e4ada1fc79c16009"
       },
       "datasets": {
        "data-f56149298ab8d3d1e4ada1fc79c16009": [
         {
          "medal_count": 1,
          "noc": "SUI",
          "season": "Summer",
          "season_color": "blue",
          "sport": "Aeronautics"
         },
         {
          "medal_count": 1,
          "noc": "AUS",
          "season": "Winter",
          "season_color": "orange",
          "sport": "Alpine Skiing"
         },
         {
          "medal_count": 114,
          "noc": "AUT",
          "season": "Winter",
          "season_color": "orange",
          "sport": "Alpine Skiing"
         },
         {
          "medal_count": 11,
          "noc": "CAN",
          "season": "Winter",
          "season_color": "orange",
          "sport": "Alpine Skiing"
         },
         {
          "medal_count": 10,
          "noc": "CRO",
          "season": "Winter",
          "season_color": "orange",
          "sport": "Alpine Skiing"
         },
         {
          "medal_count": 1,
          "noc": "CZE",
          "season": "Winter",
          "season_color": "orange",
          "sport": "Alpine Skiing"
         },
         {
          "medal_count": 2,
          "noc": "ESP",
          "season": "Winter",
          "season_color": "orange",
          "sport": "Alpine Skiing"
         },
         {
          "medal_count": 1,
          "noc": "FIN",
          "season": "Winter",
          "season_color": "orange",
          "sport": "Alpine Skiing"
         },
         {
          "medal_count": 45,
          "noc": "FRA",
          "season": "Winter",
          "season_color": "orange",
          "sport": "Alpine Skiing"
         },
         {
          "medal_count": 9,
          "noc": "FRG",
          "season": "Winter",
          "season_color": "orange",
          "sport": "Alpine Skiing"
         },
         {
          "medal_count": 31,
          "noc": "GER",
          "season": "Winter",
          "season_color": "orange",
          "sport": "Alpine Skiing"
         },
         {
          "medal_count": 30,
          "noc": "ITA",
          "season": "Winter",
          "season_color": "orange",
          "sport": "Alpine Skiing"
         },
         {
          "medal_count": 1,
          "noc": "JPN",
          "season": "Winter",
          "season_color": "orange",
          "sport": "Alpine Skiing"
         },
         {
          "medal_count": 9,
          "noc": "LIE",
          "season": "Winter",
          "season_color": "orange",
          "sport": "Alpine Skiing"
         },
         {
          "medal_count": 2,
          "noc": "LUX",
          "season": "Winter",
          "season_color": "orange",
          "sport": "Alpine Skiing"
         },
         {
          "medal_count": 29,
          "noc": "NOR",
          "season": "Winter",
          "season_color": "orange",
          "sport": "Alpine Skiing"
         },
         {
          "medal_count": 1,
          "noc": "NZL",
          "season": "Winter",
          "season_color": "orange",
          "sport": "Alpine Skiing"
         },
         {
          "medal_count": 1,
          "noc": "RUS",
          "season": "Winter",
          "season_color": "orange",
          "sport": "Alpine Skiing"
         },
         {
          "medal_count": 7,
          "noc": "SLO",
          "season": "Winter",
          "season_color": "orange",
          "sport": "Alpine Skiing"
         },
         {
          "medal_count": 59,
          "noc": "SUI",
          "season": "Winter",
          "season_color": "orange",
          "sport": "Alpine Skiing"
         },
         {
          "medal_count": 16,
          "noc": "SWE",
          "season": "Winter",
          "season_color": "orange",
          "sport": "Alpine Skiing"
         },
         {
          "medal_count": 1,
          "noc": "TCH",
          "season": "Winter",
          "season_color": "orange",
          "sport": "Alpine Skiing"
         },
         {
          "medal_count": 1,
          "noc": "URS",
          "season": "Winter",
          "season_color": "orange",
          "sport": "Alpine Skiing"
         },
         {
          "medal_count": 44,
          "noc": "USA",
          "season": "Winter",
          "season_color": "orange",
          "sport": "Alpine Skiing"
         },
         {
          "medal_count": 2,
          "noc": "YUG",
          "season": "Winter",
          "season_color": "orange",
          "sport": "Alpine Skiing"
         },
         {
          "medal_count": 1,
          "noc": "AUS",
          "season": "Winter",
          "season_color": "orange",
          "sport": "Alpinism"
         },
         {
          "medal_count": 12,
          "noc": "GBR",
          "season": "Winter",
          "season_color": "orange",
          "sport": "Alpinism"
         },
         {
          "medal_count": 2,
          "noc": "GER",
          "season": "Summer",
          "season_color": "blue",
          "sport": "Alpinism"
         },
         {
          "medal_count": 7,
          "noc": "IND",
          "season": "Winter",
          "season_color": "orange",
          "sport": "Alpinism"
         },
         {
          "medal_count": 1,
          "noc": "NEP",
          "season": "Winter",
          "season_color": "orange",
          "sport": "Alpinism"
         },
         {
          "medal_count": 2,
          "noc": "SUI",
          "season": "Summer",
          "season_color": "blue",
          "sport": "Alpinism"
         },
         {
          "medal_count": 5,
          "noc": "AUS",
          "season": "Summer",
          "season_color": "blue",
          "sport": "Archery"
         },
         {
          "medal_count": 52,
          "noc": "BEL",
          "season": "Summer",
          "season_color": "blue",
          "sport": "Archery"
         },
         {
          "medal_count": 19,
          "noc": "CHN",
          "season": "Summer",
          "season_color": "blue",
          "sport": "Archery"
         },
         {
          "medal_count": 3,
          "noc": "ESP",
          "season": "Summer",
          "season_color": "blue",
          "sport": "Archery"
         },
         {
          "medal_count": 4,
          "noc": "EUN",
          "season": "Summer",
          "season_color": "blue",
          "sport": "Archery"
         },
         {
          "medal_count": 6,
          "noc": "FIN",
          "season": "Summer",
          "season_color": "blue",
          "sport": "Archery"
         },
         {
          "medal_count": 48,
          "noc": "FRA",
          "season": "Summer",
          "season_color": "blue",
          "sport": "Archery"
         },
         {
          "medal_count": 13,
          "noc": "GBR",
          "season": "Summer",
          "season_color": "blue",
          "sport": "Archery"
         },
         {
          "medal_count": 7,
          "noc": "GER",
          "season": "Summer",
          "season_color": "blue",
          "sport": "Archery"
         },
         {
          "medal_count": 3,
          "noc": "INA",
          "season": "Summer",
          "season_color": "blue",
          "sport": "Archery"
         },
         {
          "medal_count": 15,
          "noc": "ITA",
          "season": "Summer",
          "season_color": "blue",
          "sport": "Archery"
         },
         {
          "medal_count": 7,
          "noc": "JPN",
          "season": "Summer",
          "season_color": "blue",
          "sport": "Archery"
         },
         {
          "medal_count": 69,
          "noc": "KOR",
          "season": "Summer",
          "season_color": "blue",
          "sport": "Archery"
         },
         {
          "medal_count": 2,
          "noc": "MEX",
          "season": "Summer",
          "season_color": "blue",
          "sport": "Archery"
         },
         {
          "medal_count": 9,
          "noc": "NED",
          "season": "Summer",
          "season_color": "blue",
          "sport": "Archery"
         },
         {
          "medal_count": 4,
          "noc": "POL",
          "season": "Summer",
          "season_color": "blue",
          "sport": "Archery"
         },
         {
          "medal_count": 4,
          "noc": "RUS",
          "season": "Summer",
          "season_color": "blue",
          "sport": "Archery"
         },
         {
          "medal_count": 2,
          "noc": "SWE",
          "season": "Summer",
          "season_color": "blue",
          "sport": "Archery"
         },
         {
          "medal_count": 9,
          "noc": "TPE",
          "season": "Summer",
          "season_color": "blue",
          "sport": "Archery"
         },
         {
          "medal_count": 8,
          "noc": "UKR",
          "season": "Summer",
          "season_color": "blue",
          "sport": "Archery"
         },
         {
          "medal_count": 7,
          "noc": "URS",
          "season": "Summer",
          "season_color": "blue",
          "sport": "Archery"
         },
         {
          "medal_count": 57,
          "noc": "USA",
          "season": "Summer",
          "season_color": "blue",
          "sport": "Archery"
         },
         {
          "medal_count": 10,
          "noc": "AUT",
          "season": "Summer",
          "season_color": "blue",
          "sport": "Art Competitions"
         },
         {
          "medal_count": 8,
          "noc": "BEL",
          "season": "Summer",
          "season_color": "blue",
          "sport": "Art Competitions"
         },
         {
          "medal_count": 2,
          "noc": "CAN",
          "season": "Summer",
          "season_color": "blue",
          "sport": "Art Competitions"
         },
         {
          "medal_count": 9,
          "noc": "DEN",
          "season": "Summer",
          "season_color": "blue",
          "sport": "Art Competitions"
         },
         {
          "medal_count": 5,
          "noc": "FIN",
          "season": "Summer",
          "season_color": "blue",
          "sport": "Art Competitions"
         },
         {
          "medal_count": 15,
          "noc": "FRA",
          "season": "Summer",
          "season_color": "blue",
          "sport": "Art Competitions"
         },
         {
          "medal_count": 9,
          "noc": "GBR",
          "season": "Summer",
          "season_color": "blue",
          "sport": "Art Competitions"
         },
         {
          "medal_count": 26,
          "noc": "GER",
          "season": "Summer",
          "season_color": "blue",
          "sport": "Art Competitions"
         },
         {
          "medal_count": 1,
          "noc": "GRE",
          "season": "Summer",
          "season_color": "blue",
          "sport": "Art Competitions"
         },
         {
          "medal_count": 5,
          "noc": "HUN",
          "season": "Summer",
          "season_color": "blue",
          "sport": "Art Competitions"
         },
         {
          "medal_count": 3,
          "noc": "IRL",
          "season": "Summer",
          "season_color": "blue",
          "sport": "Art Competitions"
         },
         {
          "medal_count": 14,
          "noc": "ITA",
          "season": "Summer",
          "season_color": "blue",
          "sport": "Art Competitions"
         },
         {
          "medal_count": 2,
          "noc": "JPN",
          "season": "Summer",
          "season_color": "blue",
          "sport": "Art Competitions"
         },
         {
          "medal_count": 3,
          "noc": "LUX",
          "season": "Summer",
          "season_color": "blue",
          "sport": "Art Competitions"
         },
         {
          "medal_count": 1,
          "noc": "MON",
          "season": "Summer",
          "season_color": "blue",
          "sport": "Art Competitions"
         },
         {
          "medal_count": 7,
          "noc": "NED",
          "season": "Summer",
          "season_color": "blue",
          "sport": "Art Competitions"
         },
         {
          "medal_count": 1,
          "noc": "NOR",
          "season": "Summer",
          "season_color": "blue",
          "sport": "Art Competitions"
         },
         {
          "medal_count": 8,
          "noc": "POL",
          "season": "Summer",
          "season_color": "blue",
          "sport": "Art Competitions"
         },
         {
          "medal_count": 2,
          "noc": "RSA",
          "season": "Summer",
          "season_color": "blue",
          "sport": "Art Competitions"
         },
         {
          "medal_count": 9,
          "noc": "SUI",
          "season": "Summer",
          "season_color": "blue",
          "sport": "Art Competitions"
         },
         {
          "medal_count": 4,
          "noc": "SWE",
          "season": "Summer",
          "season_color": "blue",
          "sport": "Art Competitions"
         },
         {
          "medal_count": 3,
          "noc": "TCH",
          "season": "Summer",
          "season_color": "blue",
          "sport": "Art Competitions"
         },
         {
          "medal_count": 9,
          "noc": "USA",
          "season": "Summer",
          "season_color": "blue",
          "sport": "Art Competitions"
         },
         {
          "medal_count": 9,
          "noc": "ALG",
          "season": "Summer",
          "season_color": "blue",
          "sport": "Athletics"
         },
         {
          "medal_count": 1,
          "noc": "ANZ",
          "season": "Summer",
          "season_color": "blue",
          "sport": "Athletics"
         },
         {
          "medal_count": 5,
          "noc": "ARG",
          "season": "Summer",
          "season_color": "blue",
          "sport": "Athletics"
         },
         {
          "medal_count": 89,
          "noc": "AUS",
          "season": "Summer",
          "season_color": "blue",
          "sport": "Athletics"
         },
         {
          "medal_count": 7,
          "noc": "AUT",
          "season": "Summer",
          "season_color": "blue",
          "sport": "Athletics"
         },
         {
          "medal_count": 36,
          "noc": "BAH",
          "season": "Summer",
          "season_color": "blue",
          "sport": "Athletics"
         },
         {
          "medal_count": 1,
          "noc": "BAR",
          "season": "Summer",
          "season_color": "blue",
          "sport": "Athletics"
         },
         {
          "medal_count": 2,
          "noc": "BDI",
          "season": "Summer",
          "season_color": "blue",
          "sport": "Athletics"
         },
         {
          "medal_count": 16,
          "noc": "BEL",
          "season": "Summer",
          "season_color": "blue",
          "sport": "Athletics"
         },
         {
          "medal_count": 17,
          "noc": "BLR",
          "season": "Summer",
          "season_color": "blue",
          "sport": "Athletics"
         },
         {
          "medal_count": 1,
          "noc": "BOH",
          "season": "Summer",
          "season_color": "blue",
          "sport": "Athletics"
         },
         {
          "medal_count": 1,
          "noc": "BOT",
          "season": "Summer",
          "season_color": "blue",
          "sport": "Athletics"
         },
         {
          "medal_count": 26,
          "noc": "BRA",
          "season": "Summer",
          "season_color": "blue",
          "sport": "Athletics"
         },
         {
          "medal_count": 3,
          "noc": "BRN",
          "season": "Summer",
          "season_color": "blue",
          "sport": "Athletics"
         },
         {
          "medal_count": 19,
          "noc": "BUL",
          "season": "Summer",
          "season_color": "blue",
          "sport": "Athletics"
         },
         {
          "medal_count": 98,
          "noc": "CAN",
          "season": "Summer",
          "season_color": "blue",
          "sport": "Athletics"
         },
         {
          "medal_count": 2,
          "noc": "CHI",
          "season": "Summer",
          "season_color": "blue",
          "sport": "Athletics"
         },
         {
          "medal_count": 27,
          "noc": "CHN",
          "season": "Summer",
          "season_color": "blue",
          "sport": "Athletics"
         },
         {
          "medal_count": 1,
          "noc": "CIV",
          "season": "Summer",
          "season_color": "blue",
          "sport": "Athletics"
         },
         {
          "medal_count": 2,
          "noc": "CMR",
          "season": "Summer",
          "season_color": "blue",
          "sport": "Athletics"
         },
         {
          "medal_count": 3,
          "noc": "COL",
          "season": "Summer",
          "season_color": "blue",
          "sport": "Athletics"
         },
         {
          "medal_count": 5,
          "noc": "CRO",
          "season": "Summer",
          "season_color": "blue",
          "sport": "Athletics"
         },
         {
          "medal_count": 58,
          "noc": "CUB",
          "season": "Summer",
          "season_color": "blue",
          "sport": "Athletics"
         },
         {
          "medal_count": 12,
          "noc": "CZE",
          "season": "Summer",
          "season_color": "blue",
          "sport": "Athletics"
         },
         {
          "medal_count": 7,
          "noc": "DEN",
          "season": "Summer",
          "season_color": "blue",
          "sport": "Athletics"
         },
         {
          "medal_count": 1,
          "noc": "DJI",
          "season": "Summer",
          "season_color": "blue",
          "sport": "Athletics"
         },
         {
          "medal_count": 3,
          "noc": "DOM",
          "season": "Summer",
          "season_color": "blue",
          "sport": "Athletics"
         },
         {
          "medal_count": 2,
          "noc": "ECU",
          "season": "Summer",
          "season_color": "blue",
          "sport": "Athletics"
         },
         {
          "medal_count": 1,
          "noc": "ERI",
          "season": "Summer",
          "season_color": "blue",
          "sport": "Athletics"
         },
         {
          "medal_count": 14,
          "noc": "ESP",
          "season": "Summer",
          "season_color": "blue",
          "sport": "Athletics"
         },
         {
          "medal_count": 6,
          "noc": "EST",
          "season": "Summer",
          "season_color": "blue",
          "sport": "Athletics"
         },
         {
          "medal_count": 53,
          "noc": "ETH",
          "season": "Summer",
          "season_color": "blue",
          "sport": "Athletics"
         },
         {
          "medal_count": 29,
          "noc": "EUN",
          "season": "Summer",
          "season_color": "blue",
          "sport": "Athletics"
         },
         {
          "medal_count": 138,
          "noc": "FIN",
          "season": "Summer",
          "season_color": "blue",
          "sport": "Athletics"
         },
         {
          "medal_count": 116,
          "noc": "FRA",
          "season": "Summer",
          "season_color": "blue",
          "sport": "Athletics"
         },
         {
          "medal_count": 71,
          "noc": "FRG",
          "season": "Summer",
          "season_color": "blue",
          "sport": "Athletics"
         },
         {
          "medal_count": 338,
          "noc": "GBR",
          "season": "Summer",
          "season_color": "blue",
          "sport": "Athletics"
         },
         {
          "medal_count": 140,
          "noc": "GDR",
          "season": "Summer",
          "season_color": "blue",
          "sport": "Athletics"
         },
         {
          "medal_count": 154,
          "noc": "GER",
          "season": "Summer",
          "season_color": "blue",
          "sport": "Athletics"
         },
         {
          "medal_count": 37,
          "noc": "GRE",
          "season": "Summer",
          "season_color": "blue",
          "sport": "Athletics"
         },
         {
          "medal_count": 2,
          "noc": "GRN",
          "season": "Summer",
          "season_color": "blue",
          "sport": "Athletics"
         },
         {
          "medal_count": 1,
          "noc": "GUA",
          "season": "Summer",
          "season_color": "blue",
          "sport": "Athletics"
         },
         {
          "medal_count": 1,
          "noc": "HAI",
          "season": "Summer",
          "season_color": "blue",
          "sport": "Athletics"
         },
         {
          "medal_count": 52,
          "noc": "HUN",
          "season": "Summer",
          "season_color": "blue",
          "sport": "Athletics"
         },
         {
          "medal_count": 2,
          "noc": "IND",
          "season": "Summer",
          "season_color": "blue",
          "sport": "Athletics"
         },
         {
          "medal_count": 1,
          "noc": "IRI",
          "season": "Summer",
          "season_color": "blue",
          "sport": "Athletics"
         },
         {
          "medal_count": 6,
          "noc": "IRL",
          "season": "Summer",
          "season_color": "blue",
          "sport": "Athletics"
         },
         {
          "medal_count": 2,
          "noc": "ISL",
          "season": "Summer",
          "season_color": "blue",
          "sport": "Athletics"
         },
         {
          "medal_count": 72,
          "noc": "ITA",
          "season": "Summer",
          "season_color": "blue",
          "sport": "Athletics"
         },
         {
          "medal_count": 156,
          "noc": "JAM",
          "season": "Summer",
          "season_color": "blue",
          "sport": "Athletics"
         },
         {
          "medal_count": 31,
          "noc": "JPN",
          "season": "Summer",
          "season_color": "blue",
          "sport": "Athletics"
         },
         {
          "medal_count": 4,
          "noc": "KAZ",
          "season": "Summer",
          "season_color": "blue",
          "sport": "Athletics"
         },
         {
          "medal_count": 99,
          "noc": "KEN",
          "season": "Summer",
          "season_color": "blue",
          "sport": "Athletics"
         },
         {
          "medal_count": 2,
          "noc": "KOR",
          "season": "Summer",
          "season_color": "blue",
          "sport": "Athletics"
         },
         {
          "medal_count": 1,
          "noc": "KSA",
          "season": "Summer",
          "season_color": "blue",
          "sport": "Athletics"
         },
         {
          "medal_count": 5,
          "noc": "LAT",
          "season": "Summer",
          "season_color": "blue",
          "sport": "Athletics"
         },
         {
          "medal_count": 5,
          "noc": "LTU",
          "season": "Summer",
          "season_color": "blue",
          "sport": "Athletics"
         },
         {
          "medal_count": 2,
          "noc": "LUX",
          "season": "Summer",
          "season_color": "blue",
          "sport": "Athletics"
         },
         {
          "medal_count": 19,
          "noc": "MAR",
          "season": "Summer",
          "season_color": "blue",
          "sport": "Athletics"
         },
         {
          "medal_count": 11,
          "noc": "MEX",
          "season": "Summer",
          "season_color": "blue",
          "sport": "Athletics"
         },
         {
          "medal_count": 2,
          "noc": "MOZ",
          "season": "Summer",
          "season_color": "blue",
          "sport": "Athletics"
         },
         {
          "medal_count": 4,
          "noc": "NAM",
          "season": "Summer",
          "season_color": "blue",
          "sport": "Athletics"
         },
         {
          "medal_count": 22,
          "noc": "NED",
          "season": "Summer",
          "season_color": "blue",
          "sport": "Athletics"
         },
         {
          "medal_count": 41,
          "noc": "NGR",
          "season": "Summer",
          "season_color": "blue",
          "sport": "Athletics"
         },
         {
          "medal_count": 20,
          "noc": "NOR",
          "season": "Summer",
          "season_color": "blue",
          "sport": "Athletics"
         },
         {
          "medal_count": 24,
          "noc": "NZL",
          "season": "Summer",
          "season_color": "blue",
          "sport": "Athletics"
         },
         {
          "medal_count": 3,
          "noc": "PAN",
          "season": "Summer",
          "season_color": "blue",
          "sport": "Athletics"
         },
         {
          "medal_count": 2,
          "noc": "PHI",
          "season": "Summer",
          "season_color": "blue",
          "sport": "Athletics"
         },
         {
          "medal_count": 72,
          "noc": "POL",
          "season": "Summer",
          "season_color": "blue",
          "sport": "Athletics"
         },
         {
          "medal_count": 10,
          "noc": "POR",
          "season": "Summer",
          "season_color": "blue",
          "sport": "Athletics"
         },
         {
          "medal_count": 1,
          "noc": "PUR",
          "season": "Summer",
          "season_color": "blue",
          "sport": "Athletics"
         },
         {
          "medal_count": 3,
          "noc": "QAT",
          "season": "Summer",
          "season_color": "blue",
          "sport": "Athletics"
         },
         {
          "medal_count": 35,
          "noc": "ROU",
          "season": "Summer",
          "season_color": "blue",
          "sport": "Athletics"
         },
         {
          "medal_count": 31,
          "noc": "RSA",
          "season": "Summer",
          "season_color": "blue",
          "sport": "Athletics"
         },
         {
          "medal_count": 103,
          "noc": "RUS",
          "season": "Summer",
          "season_color": "blue",
          "sport": "Athletics"
         },
         {
          "medal_count": 1,
          "noc": "SEN",
          "season": "Summer",
          "season_color": "blue",
          "sport": "Athletics"
         },
         {
          "medal_count": 4,
          "noc": "SLO",
          "season": "Summer",
          "season_color": "blue",
          "sport": "Athletics"
         },
         {
          "medal_count": 1,
          "noc": "SRB",
          "season": "Summer",
          "season_color": "blue",
          "sport": "Athletics"
         },
         {
          "medal_count": 2,
          "noc": "SRI",
          "season": "Summer",
          "season_color": "blue",
          "sport": "Athletics"
         },
         {
          "medal_count": 1,
          "noc": "SUD",
          "season": "Summer",
          "season_color": "blue",
          "sport": "Athletics"
         },
         {
          "medal_count": 8,
          "noc": "SUI",
          "season": "Summer",
          "season_color": "blue",
          "sport": "Athletics"
         },
         {
          "medal_count": 1,
          "noc": "SVK",
          "season": "Summer",
          "season_color": "blue",
          "sport": "Athletics"
         },
         {
          "medal_count": 128,
          "noc": "SWE",
          "season": "Summer",
          "season_color": "blue",
          "sport": "Athletics"
         },
         {
          "medal_count": 1,
          "noc": "SYR",
          "season": "Summer",
          "season_color": "blue",
          "sport": "Athletics"
         },
         {
          "medal_count": 2,
          "noc": "TAN",
          "season": "Summer",
          "season_color": "blue",
          "sport": "Athletics"
         },
         {
          "medal_count": 24,
          "noc": "TCH",
          "season": "Summer",
          "season_color": "blue",
          "sport": "Athletics"
         },
         {
          "medal_count": 1,
          "noc": "TJK",
          "season": "Summer",
          "season_color": "blue",
          "sport": "Athletics"
         },
         {
          "medal_count": 2,
          "noc": "TPE",
          "season": "Summer",
          "season_color": "blue",
          "sport": "Athletics"
         },
         {
          "medal_count": 28,
          "noc": "TTO",
          "season": "Summer",
          "season_color": "blue",
          "sport": "Athletics"
         },
         {
          "medal_count": 5,
          "noc": "TUN",
          "season": "Summer",
          "season_color": "blue",
          "sport": "Athletics"
         },
         {
          "medal_count": 6,
          "noc": "TUR",
          "season": "Summer",
          "season_color": "blue",
          "sport": "Athletics"
         },
         {
          "medal_count": 3,
          "noc": "UGA",
          "season": "Summer",
          "season_color": "blue",
          "sport": "Athletics"
         },
         {
          "medal_count": 21,
          "noc": "UKR",
          "season": "Summer",
          "season_color": "blue",
          "sport": "Athletics"
         },
         {
          "medal_count": 242,
          "noc": "URS",
          "season": "Summer",
          "season_color": "blue",
          "sport": "Athletics"
         },
         {
          "medal_count": 1080,
          "noc": "USA",
          "season": "Summer",
          "season_color": "blue",
          "sport": "Athletics"
         },
         {
          "medal_count": 2,
          "noc": "VEN",
          "season": "Summer",
          "season_color": "blue",
          "sport": "Athletics"
         },
         {
          "medal_count": 5,
          "noc": "WIF",
          "season": "Summer",
          "season_color": "blue",
          "sport": "Athletics"
         },
         {
          "medal_count": 2,
          "noc": "YUG",
          "season": "Summer",
          "season_color": "blue",
          "sport": "Athletics"
         },
         {
          "medal_count": 1,
          "noc": "ZAM",
          "season": "Summer",
          "season_color": "blue",
          "sport": "Athletics"
         },
         {
          "medal_count": 64,
          "noc": "CHN",
          "season": "Summer",
          "season_color": "blue",
          "sport": "Badminton"
         },
         {
          "medal_count": 12,
          "noc": "DEN",
          "season": "Summer",
          "season_color": "blue",
          "sport": "Badminton"
         },
         {
          "medal_count": 1,
          "noc": "ESP",
          "season": "Summer",
          "season_color": "blue",
          "sport": "Badminton"
         },
         {
          "medal_count": 6,
          "noc": "GBR",
          "season": "Summer",
          "season_color": "blue",
          "sport": "Badminton"
         },
         {
          "medal_count": 28,
          "noc": "INA",
          "season": "Summer",
          "season_color": "blue",
          "sport": "Badminton"
         },
         {
          "medal_count": 2,
          "noc": "IND",
          "season": "Summer",
          "season_color": "blue",
          "sport": "Badminton"
         },
         {
          "medal_count": 5,
          "noc": "JPN",
          "season": "Summer",
          "season_color": "blue",
          "sport": "Badminton"
         },
         {
          "medal_count": 35,
          "noc": "KOR",
          "season": "Summer",
          "season_color": "blue",
          "sport": "Badminton"
         },
         {
          "medal_count": 12,
          "noc": "MAS",
          "season": "Summer",
          "season_color": "blue",
          "sport": "Badminton"
         },
         {
          "medal_count": 1,
          "noc": "NED",
          "season": "Summer",
          "season_color": "blue",
          "sport": "Badminton"
         },
         {
          "medal_count": 2,
          "noc": "RUS",
          "season": "Summer",
          "season_color": "blue",
          "sport": "Badminton"
         },
         {
          "medal_count": 24,
          "noc": "AUS",
          "season": "Summer",
          "season_color": "blue",
          "sport": "Baseball"
         },
         {
          "medal_count": 112,
          "noc": "CUB",
          "season": "Summer",
          "season_color": "blue",
          "sport": "Baseball"
         },
         {
          "medal_count": 64,
          "noc": "JPN",
          "season": "Summer",
          "season_color": "blue",
          "sport": "Baseball"
         },
         {
          "medal_count": 48,
          "noc": "KOR",
          "season": "Summer",
          "season_color": "blue",
          "sport": "Baseball"
         },
         {
          "medal_count": 20,
          "noc": "TPE",
          "season": "Summer",
          "season_color": "blue",
          "sport": "Baseball"
         },
         {
          "medal_count": 68,
          "noc": "USA",
          "season": "Summer",
          "season_color": "blue",
          "sport": "Baseball"
         },
         {
          "medal_count": 24,
          "noc": "ARG",
          "season": "Summer",
          "season_color": "blue",
          "sport": "Basketball"
         },
         {
          "medal_count": 60,
          "noc": "AUS",
          "season": "Summer",
          "season_color": "blue",
          "sport": "Basketball"
         },
         {
          "medal_count": 58,
          "noc": "BRA",
          "season": "Summer",
          "season_color": "blue",
          "sport": "Basketball"
         },
         {
          "medal_count": 24,
          "noc": "BUL",
          "season": "Summer",
          "season_color": "blue",
          "sport": "Basketball"
         },
         {
          "medal_count": 9,
          "noc": "CAN",
          "season": "Summer",
          "season_color": "blue",
          "sport": "Basketball"
         },
         {
          "medal_count": 23,
          "noc": "CHN",
          "season": "Summer",
          "season_color": "blue",
          "sport": "Basketball"
         },
         {
          "medal_count": 12,
          "noc": "CRO",
          "season": "Summer",
          "season_color": "blue",
          "sport": "Basketball"
         },
         {
          "medal_count": 12,
          "noc": "CUB",
          "season": "Summer",
          "season_color": "blue",
          "sport": "Basketball"
         },
         {
          "medal_count": 60,
          "noc": "ESP",
          "season": "Summer",
          "season_color": "blue",
          "sport": "Basketball"
         },
         {
          "medal_count": 12,
          "noc": "EUN",
          "season": "Summer",
          "season_color": "blue",
          "sport": "Basketball"
         },
         {
          "medal_count": 38,
          "noc": "FRA",
          "season": "Summer",
          "season_color": "blue",
          "sport": "Basketball"
         },
         {
          "medal_count": 24,
          "noc": "ITA",
          "season": "Summer",
          "season_color": "blue",
          "sport": "Basketball"
         },
         {
          "medal_count": 11,
          "noc": "KOR",
          "season": "Summer",
          "season_color": "blue",
          "sport": "Basketball"
         },
         {
          "medal_count": 35,
          "noc": "LTU",
          "season": "Summer",
          "season_color": "blue",
          "sport": "Basketball"
         },
         {
          "medal_count": 11,
          "noc": "MEX",
          "season": "Summer",
          "season_color": "blue",
          "sport": "Basketball"
         },
         {
          "medal_count": 36,
          "noc": "RUS",
          "season": "Summer",
          "season_color": "blue",
          "sport": "Basketball"
         },
         {
          "medal_count": 12,
          "noc": "SCG",
          "season": "Summer",
          "season_color": "blue",
          "sport": "Basketball"
         },
         {
          "medal_count": 24,
          "noc": "SRB",
          "season": "Summer",
          "season_color": "blue",
          "sport": "Basketball"
         },
         {
          "medal_count": 146,
          "noc": "URS",
          "season": "Summer",
          "season_color": "blue",
          "sport": "Basketball"
         },
         {
          "medal_count": 24,
          "noc": "URU",
          "season": "Summer",
          "season_color": "blue",
          "sport": "Basketball"
         },
         {
          "medal_count": 341,
          "noc": "USA",
          "season": "Summer",
          "season_color": "blue",
          "sport": "Basketball"
         },
         {
          "medal_count": 84,
          "noc": "YUG",
          "season": "Summer",
          "season_color": "blue",
          "sport": "Basketball"
         },
         {
          "medal_count": 2,
          "noc": "ESP",
          "season": "Summer",
          "season_color": "blue",
          "sport": "Basque Pelota"
         },
         {
          "medal_count": 4,
          "noc": "AUS",
          "season": "Summer",
          "season_color": "blue",
          "sport": "Beach Volleyball"
         },
         {
          "medal_count": 26,
          "noc": "BRA",
          "season": "Summer",
          "season_color": "blue",
          "sport": "Beach Volleyball"
         },
         {
          "medal_count": 2,
          "noc": "CAN",
          "season": "Summer",
          "season_color": "blue",
          "sport": "Beach Volleyball"
         },
         {
          "medal_count": 4,
          "noc": "CHN",
          "season": "Summer",
          "season_color": "blue",
          "sport": "Beach Volleyball"
         },
         {
          "medal_count": 2,
          "noc": "ESP",
          "season": "Summer",
          "season_color": "blue",
          "sport": "Beach Volleyball"
         },
         {
          "medal_count": 6,
          "noc": "GER",
          "season": "Summer",
          "season_color": "blue",
          "sport": "Beach Volleyball"
         },
         {
          "medal_count": 2,
          "noc": "ITA",
          "season": "Summer",
          "season_color": "blue",
          "sport": "Beach Volleyball"
         },
         {
          "medal_count": 2,
          "noc": "LAT",
          "season": "Summer",
          "season_color": "blue",
          "sport": "Beach Volleyball"
         },
         {
          "medal_count": 2,
          "noc": "NED",
          "season": "Summer",
          "season_color": "blue",
          "sport": "Beach Volleyball"
         },
         {
          "medal_count": 2,
          "noc": "SUI",
          "season": "Summer",
          "season_color": "blue",
          "sport": "Beach Volleyball"
         },
         {
          "medal_count": 20,
          "noc": "USA",
          "season": "Summer",
          "season_color": "blue",
          "sport": "Beach Volleyball"
         },
         {
          "medal_count": 11,
          "noc": "AUT",
          "season": "Winter",
          "season_color": "orange",
          "sport": "Biathlon"
         },
         {
          "medal_count": 8,
          "noc": "BLR",
          "season": "Winter",
          "season_color": "orange",
          "sport": "Biathlon"
         },
         {
          "medal_count": 2,
          "noc": "BUL",
          "season": "Winter",
          "season_color": "orange",
          "sport": "Biathlon"
         },
         {
          "medal_count": 3,
          "noc": "CAN",
          "season": "Winter",
          "season_color": "orange",
          "sport": "Biathlon"
         },
         {
          "medal_count": 1,
          "noc": "CRO",
          "season": "Winter",
          "season_color": "orange",
          "sport": "Biathlon"
         },
         {
          "medal_count": 8,
          "noc": "CZE",
          "season": "Winter",
          "season_color": "orange",
          "sport": "Biathlon"
         },
         {
          "medal_count": 11,
          "noc": "EUN",
          "season": "Winter",
          "season_color": "orange",
          "sport": "Biathlon"
         },
         {
          "medal_count": 12,
          "noc": "FIN",
          "season": "Winter",
          "season_color": "orange",
          "sport": "Biathlon"
         },
         {
          "medal_count": 40,
          "noc": "FRA",
          "season": "Winter",
          "season_color": "orange",
          "sport": "Biathlon"
         },
         {
          "medal_count": 14,
          "noc": "FRG",
          "season": "Winter",
          "season_color": "orange",
          "sport": "Biathlon"
         },
         {
          "medal_count": 20,
          "noc": "GDR",
          "season": "Winter",
          "season_color": "orange",
          "sport": "Biathlon"
         },
         {
          "medal_count": 80,
          "noc": "GER",
          "season": "Winter",
          "season_color": "orange",
          "sport": "Biathlon"
         },
         {
          "medal_count": 10,
          "noc": "ITA",
          "season": "Winter",
          "season_color": "orange",
          "sport": "Biathlon"
         },
         {
          "medal_count": 1,
          "noc": "KAZ",
          "season": "Winter",
          "season_color": "orange",
          "sport": "Biathlon"
         },
         {
          "medal_count": 62,
          "noc": "NOR",
          "season": "Winter",
          "season_color": "orange",
          "sport": "Biathlon"
         },
         {
          "medal_count": 1,
          "noc": "POL",
          "season": "Winter",
          "season_color": "orange",
          "sport": "Biathlon"
         },
         {
          "medal_count": 57,
          "noc": "RUS",
          "season": "Winter",
          "season_color": "orange",
          "sport": "Biathlon"
         },
         {
          "medal_count": 1,
          "noc": "SLO",
          "season": "Winter",
          "season_color": "orange",
          "sport": "Biathlon"
         },
         {
          "medal_count": 1,
          "noc": "SUI",
          "season": "Winter",
          "season_color": "orange",
          "sport": "Biathlon"
         },
         {
          "medal_count": 4,
          "noc": "SVK",
          "season": "Winter",
          "season_color": "orange",
          "sport": "Biathlon"
         },
         {
          "medal_count": 16,
          "noc": "SWE",
          "season": "Winter",
          "season_color": "orange",
          "sport": "Biathlon"
         },
         {
          "medal_count": 8,
          "noc": "UKR",
          "season": "Winter",
          "season_color": "orange",
          "sport": "Biathlon"
         },
         {
          "medal_count": 37,
          "noc": "URS",
          "season": "Winter",
          "season_color": "orange",
          "sport": "Biathlon"
         },
         {
          "medal_count": 12,
          "noc": "AUT",
          "season": "Winter",
          "season_color": "orange",
          "sport": "Bobsleigh"
         },
         {
          "medal_count": 9,
          "noc": "BEL",
          "season": "Winter",
          "season_color": "orange",
          "sport": "Bobsleigh"
         },
         {
          "medal_count": 18,
          "noc": "CAN",
          "season": "Winter",
          "season_color": "orange",
          "sport": "Bobsleigh"
         },
         {
          "medal_count": 4,
          "noc": "FRA",
          "season": "Winter",
          "season_color": "orange",
          "sport": "Bobsleigh"
         },
         {
          "medal_count": 16,
          "noc": "FRG",
          "season": "Winter",
          "season_color": "orange",
          "sport": "Bobsleigh"
         },
         {
          "medal_count": 14,
          "noc": "GBR",
          "season": "Winter",
          "season_color": "orange",
          "sport": "Bobsleigh"
         },
         {
          "medal_count": 38,
          "noc": "GDR",
          "season": "Winter",
          "season_color": "orange",
          "sport": "Bobsleigh"
         },
         {
          "medal_count": 63,
          "noc": "GER",
          "season": "Winter",
          "season_color": "orange",
          "sport": "Bobsleigh"
         },
         {
          "medal_count": 32,
          "noc": "ITA",
          "season": "Winter",
          "season_color": "orange",
          "sport": "Bobsleigh"
         },
         {
          "medal_count": 4,
          "noc": "LAT",
          "season": "Winter",
          "season_color": "orange",
          "sport": "Bobsleigh"
         },
         {
          "medal_count": 2,
          "noc": "ROU",
          "season": "Winter",
          "season_color": "orange",
          "sport": "Bobsleigh"
         },
         {
          "medal_count": 12,
          "noc": "RUS",
          "season": "Winter",
          "season_color": "orange",
          "sport": "Bobsleigh"
         },
         {
          "medal_count": 92,
          "noc": "SUI",
          "season": "Winter",
          "season_color": "orange",
          "sport": "Bobsleigh"
         },
         {
          "medal_count": 8,
          "noc": "URS",
          "season": "Winter",
          "season_color": "orange",
          "sport": "Bobsleigh"
         },
         {
          "medal_count": 74,
          "noc": "USA",
          "season": "Winter",
          "season_color": "orange",
          "sport": "Bobsleigh"
         },
         {
          "medal_count": 6,
          "noc": "ALG",
          "season": "Summer",
          "season_color": "blue",
          "sport": "Boxing"
         },
         {
          "medal_count": 1,
          "noc": "ANZ",
          "season": "Summer",
          "season_color": "blue",
          "sport": "Boxing"
         },
         {
          "medal_count": 24,
          "noc": "ARG",
          "season": "Summer",
          "season_color": "blue",
          "sport": "Boxing"
         },
         {
          "medal_count": 1,
          "noc": "ARM",
          "season": "Summer",
          "season_color": "blue",
          "sport": "Boxing"
         },
         {
          "medal_count": 4,
          "noc": "AUS",
          "season": "Summer",
          "season_color": "blue",
          "sport": "Boxing"
         },
         {
          "medal_count": 8,
          "noc": "AZE",
          "season": "Summer",
          "season_color": "blue",
          "sport": "Boxing"
         },
         {
          "medal_count": 4,
          "noc": "BEL",
          "season": "Summer",
          "season_color": "blue",
          "sport": "Boxing"
         },
         {
          "medal_count": 1,
          "noc": "BER",
          "season": "Summer",
          "season_color": "blue",
          "sport": "Boxing"
         },
         {
          "medal_count": 2,
          "noc": "BLR",
          "season": "Summer",
          "season_color": "blue",
          "sport": "Boxing"
         },
         {
          "medal_count": 5,
          "noc": "BRA",
          "season": "Summer",
          "season_color": "blue",
          "sport": "Boxing"
         },
         {
          "medal_count": 18,
          "noc": "BUL",
          "season": "Summer",
          "season_color": "blue",
          "sport": "Boxing"
         },
         {
          "medal_count": 17,
          "noc": "CAN",
          "season": "Summer",
          "season_color": "blue",
          "sport": "Boxing"
         },
         {
          "medal_count": 3,
          "noc": "CHI",
          "season": "Summer",
          "season_color": "blue",
          "sport": "Boxing"
         },
         {
          "medal_count": 12,
          "noc": "CHN",
          "season": "Summer",
          "season_color": "blue",
          "sport": "Boxing"
         },
         {
          "medal_count": 2,
          "noc": "CMR",
          "season": "Summer",
          "season_color": "blue",
          "sport": "Boxing"
         },
         {
          "medal_count": 5,
          "noc": "COL",
          "season": "Summer",
          "season_color": "blue",
          "sport": "Boxing"
         },
         {
          "medal_count": 1,
          "noc": "CRO",
          "season": "Summer",
          "season_color": "blue",
          "sport": "Boxing"
         },
         {
          "medal_count": 73,
          "noc": "CUB",
          "season": "Summer",
          "season_color": "blue",
          "sport": "Boxing"
         },
         {
          "medal_count": 1,
          "noc": "CZE",
          "season": "Summer",
          "season_color": "blue",
          "sport": "Boxing"
         },
         {
          "medal_count": 12,
          "noc": "DEN",
          "season": "Summer",
          "season_color": "blue",
          "sport": "Boxing"
         },
         {
          "medal_count": 2,
          "noc": "DOM",
          "season": "Summer",
          "season_color": "blue",
          "sport": "Boxing"
         },
         {
          "medal_count": 3,
          "noc": "EGY",
          "season": "Summer",
          "season_color": "blue",
          "sport": "Boxing"
         },
         {
          "medal_count": 4,
          "noc": "ESP",
          "season": "Summer",
          "season_color": "blue",
          "sport": "Boxing"
         },
         {
          "medal_count": 1,
          "noc": "EST",
          "season": "Summer",
          "season_color": "blue",
          "sport": "Boxing"
         },
         {
          "medal_count": 2,
          "noc": "EUN",
          "season": "Summer",
          "season_color": "blue",
          "sport": "Boxing"
         },
         {
          "medal_count": 15,
          "noc": "FIN",
          "season": "Summer",
          "season_color": "blue",
          "sport": "Boxing"
         },
         {
          "medal_count": 25,
          "noc": "FRA",
          "season": "Summer",
          "season_color": "blue",
          "sport": "Boxing"
         },
         {
          "medal_count": 6,
          "noc": "FRG",
          "season": "Summer",
          "season_color": "blue",
          "sport": "Boxing"
         },
         {
          "medal_count": 56,
          "noc": "GBR",
          "season": "Summer",
          "season_color": "blue",
          "sport": "Boxing"
         },
         {
          "medal_count": 13,
          "noc": "GDR",
          "season": "Summer",
          "season_color": "blue",
          "sport": "Boxing"
         },
         {
          "medal_count": 1,
          "noc": "GEO",
          "season": "Summer",
          "season_color": "blue",
          "sport": "Boxing"
         },
         {
          "medal_count": 29,
          "noc": "GER",
          "season": "Summer",
          "season_color": "blue",
          "sport": "Boxing"
         },
         {
          "medal_count": 3,
          "noc": "GHA",
          "season": "Summer",
          "season_color": "blue",
          "sport": "Boxing"
         },
         {
          "medal_count": 1,
          "noc": "GUY",
          "season": "Summer",
          "season_color": "blue",
          "sport": "Boxing"
         },
         {
          "medal_count": 20,
          "noc": "HUN",
          "season": "Summer",
          "season_color": "blue",
          "sport": "Boxing"
         },
         {
          "medal_count": 2,
          "noc": "IND",
          "season": "Summer",
          "season_color": "blue",
          "sport": "Boxing"
         },
         {
          "medal_count": 16,
          "noc": "IRL",
          "season": "Summer",
          "season_color": "blue",
          "sport": "Boxing"
         },
         {
          "medal_count": 47,
          "noc": "ITA",
          "season": "Summer",
          "season_color": "blue",
          "sport": "Boxing"
         },
         {
          "medal_count": 5,
          "noc": "JPN",
          "season": "Summer",
          "season_color": "blue",
          "sport": "Boxing"
         },
         {
          "medal_count": 22,
          "noc": "KAZ",
          "season": "Summer",
          "season_color": "blue",
          "sport": "Boxing"
         },
         {
          "medal_count": 7,
          "noc": "KEN",
          "season": "Summer",
          "season_color": "blue",
          "sport": "Boxing"
         },
         {
          "medal_count": 20,
          "noc": "KOR",
          "season": "Summer",
          "season_color": "blue",
          "sport": "Boxing"
         },
         {
          "medal_count": 1,
          "noc": "LTU",
          "season": "Summer",
          "season_color": "blue",
          "sport": "Boxing"
         },
         {
          "medal_count": 4,
          "noc": "MAR",
          "season": "Summer",
          "season_color": "blue",
          "sport": "Boxing"
         },
         {
          "medal_count": 2,
          "noc": "MDA",
          "season": "Summer",
          "season_color": "blue",
          "sport": "Boxing"
         },
         {
          "medal_count": 13,
          "noc": "MEX",
          "season": "Summer",
          "season_color": "blue",
          "sport": "Boxing"
         },
         {
          "medal_count": 7,
          "noc": "MGL",
          "season": "Summer",
          "season_color": "blue",
          "sport": "Boxing"
         },
         {
          "medal_count": 1,
          "noc": "MRI",
          "season": "Summer",
          "season_color": "blue",
          "sport": "Boxing"
         },
         {
          "medal_count": 7,
          "noc": "NED",
          "season": "Summer",
          "season_color": "blue",
          "sport": "Boxing"
         },
         {
          "medal_count": 6,
          "noc": "NGR",
          "season": "Summer",
          "season_color": "blue",
          "sport": "Boxing"
         },
         {
          "medal_count": 1,
          "noc": "NIG",
          "season": "Summer",
          "season_color": "blue",
          "sport": "Boxing"
         },
         {
          "medal_count": 5,
          "noc": "NOR",
          "season": "Summer",
          "season_color": "blue",
          "sport": "Boxing"
         },
         {
          "medal_count": 3,
          "noc": "NZL",
          "season": "Summer",
          "season_color": "blue",
          "sport": "Boxing"
         },
         {
          "medal_count": 1,
          "noc": "PAK",
          "season": "Summer",
          "season_color": "blue",
          "sport": "Boxing"
         },
         {
          "medal_count": 5,
          "noc": "PHI",
          "season": "Summer",
          "season_color": "blue",
          "sport": "Boxing"
         },
         {
          "medal_count": 43,
          "noc": "POL",
          "season": "Summer",
          "season_color": "blue",
          "sport": "Boxing"
         },
         {
          "medal_count": 8,
          "noc": "PRK",
          "season": "Summer",
          "season_color": "blue",
          "sport": "Boxing"
         },
         {
          "medal_count": 6,
          "noc": "PUR",
          "season": "Summer",
          "season_color": "blue",
          "sport": "Boxing"
         },
         {
          "medal_count": 25,
          "noc": "ROU",
          "season": "Summer",
          "season_color": "blue",
          "sport": "Boxing"
         },
         {
          "medal_count": 19,
          "noc": "RSA",
          "season": "Summer",
          "season_color": "blue",
          "sport": "Boxing"
         },
         {
          "medal_count": 30,
          "noc": "RUS",
          "season": "Summer",
          "season_color": "blue",
          "sport": "Boxing"
         },
         {
          "medal_count": 11,
          "noc": "SWE",
          "season": "Summer",
          "season_color": "blue",
          "sport": "Boxing"
         },
         {
          "medal_count": 1,
          "noc": "SYR",
          "season": "Summer",
          "season_color": "blue",
          "sport": "Boxing"
         },
         {
          "medal_count": 6,
          "noc": "TCH",
          "season": "Summer",
          "season_color": "blue",
          "sport": "Boxing"
         },
         {
          "medal_count": 1,
          "noc": "TGA",
          "season": "Summer",
          "season_color": "blue",
          "sport": "Boxing"
         },
         {
          "medal_count": 14,
          "noc": "THA",
          "season": "Summer",
          "season_color": "blue",
          "sport": "Boxing"
         },
         {
          "medal_count": 1,
          "noc": "TJK",
          "season": "Summer",
          "season_color": "blue",
          "sport": "Boxing"
         },
         {
          "medal_count": 2,
          "noc": "TUN",
          "season": "Summer",
          "season_color": "blue",
          "sport": "Boxing"
         },
         {
          "medal_count": 5,
          "noc": "TUR",
          "season": "Summer",
          "season_color": "blue",
          "sport": "Boxing"
         },
         {
          "medal_count": 1,
          "noc": "UAR",
          "season": "Summer",
          "season_color": "blue",
          "sport": "Boxing"
         },
         {
          "medal_count": 4,
          "noc": "UGA",
          "season": "Summer",
          "season_color": "blue",
          "sport": "Boxing"
         },
         {
          "medal_count": 14,
          "noc": "UKR",
          "season": "Summer",
          "season_color": "blue",
          "sport": "Boxing"
         },
         {
          "medal_count": 51,
          "noc": "URS",
          "season": "Summer",
          "season_color": "blue",
          "sport": "Boxing"
         },
         {
          "medal_count": 1,
          "noc": "URU",
          "season": "Summer",
          "season_color": "blue",
          "sport": "Boxing"
         },
         {
          "medal_count": 113,
          "noc": "USA",
          "season": "Summer",
          "season_color": "blue",
          "sport": "Boxing"
         },
         {
          "medal_count": 14,
          "noc": "UZB",
          "season": "Summer",
          "season_color": "blue",
          "sport": "Boxing"
         },
         {
          "medal_count": 6,
          "noc": "VEN",
          "season": "Summer",
          "season_color": "blue",
          "sport": "Boxing"
         },
         {
          "medal_count": 11,
          "noc": "YUG",
          "season": "Summer",
          "season_color": "blue",
          "sport": "Boxing"
         },
         {
          "medal_count": 1,
          "noc": "ZAM",
          "season": "Summer",
          "season_color": "blue",
          "sport": "Boxing"
         },
         {
          "medal_count": 41,
          "noc": "AUS",
          "season": "Summer",
          "season_color": "blue",
          "sport": "Canoeing"
         },
         {
          "medal_count": 21,
          "noc": "AUT",
          "season": "Summer",
          "season_color": "blue",
          "sport": "Canoeing"
         },
         {
          "medal_count": 2,
          "noc": "AZE",
          "season": "Summer",
          "season_color": "blue",
          "sport": "Canoeing"
         },
         {
          "medal_count": 22,
          "noc": "BLR",
          "season": "Summer",
          "season_color": "blue",
          "sport": "Canoeing"
         },
         {
          "medal_count": 4,
          "noc": "BRA",
          "season": "Summer",
          "season_color": "blue",
          "sport": "Canoeing"
         },
         {
          "medal_count": 28,
          "noc": "BUL",
          "season": "Summer",
          "season_color": "blue",
          "sport": "Canoeing"
         },
         {
          "medal_count": 33,
          "noc": "CAN",
          "season": "Summer",
          "season_color": "blue",
          "sport": "Canoeing"
         },
         {
          "medal_count": 4,
          "noc": "CHN",
          "season": "Summer",
          "season_color": "blue",
          "sport": "Canoeing"
         },
         {
          "medal_count": 5,
          "noc": "CUB",
          "season": "Summer",
          "season_color": "blue",
          "sport": "Canoeing"
         },
         {
          "medal_count": 24,
          "noc": "CZE",
          "season": "Summer",
          "season_color": "blue",
          "sport": "Canoeing"
         },
         {
          "medal_count": 22,
          "noc": "DEN",
          "season": "Summer",
          "season_color": "blue",
          "sport": "Canoeing"
         },
         {
          "medal_count": 24,
          "noc": "ESP",
          "season": "Summer",
          "season_color": "blue",
          "sport": "Canoeing"
         },
         {
          "medal_count": 3,
          "noc": "EUN",
          "season": "Summer",
          "season_color": "blue",
          "sport": "Canoeing"
         },
         {
          "medal_count": 14,
          "noc": "FIN",
          "season": "Summer",
          "season_color": "blue",
          "sport": "Canoeing"
         },
         {
          "medal_count": 53,
          "noc": "FRA",
          "season": "Summer",
          "season_color": "blue",
          "sport": "Canoeing"
         },
         {
          "medal_count": 14,
          "noc": "FRG",
          "season": "Summer",
          "season_color": "blue",
          "sport": "Canoeing"
         },
         {
          "medal_count": 22,
          "noc": "GBR",
          "season": "Summer",
          "season_color": "blue",
          "sport": "Canoeing"
         },
         {
          "medal_count": 52,
          "noc": "GDR",
          "season": "Summer",
          "season_color": "blue",
          "sport": "Canoeing"
         },
         {
          "medal_count": 163,
          "noc": "GER",
          "season": "Summer",
          "season_color": "blue",
          "sport": "Canoeing"
         },
         {
          "medal_count": 158,
          "noc": "HUN",
          "season": "Summer",
          "season_color": "blue",
          "sport": "Canoeing"
         },
         {
          "medal_count": 1,
          "noc": "ISR",
          "season": "Summer",
          "season_color": "blue",
          "sport": "Canoeing"
         },
         {
          "medal_count": 23,
          "noc": "ITA",
          "season": "Summer",
          "season_color": "blue",
          "sport": "Canoeing"
         },
         {
          "medal_count": 1,
          "noc": "JPN",
          "season": "Summer",
          "season_color": "blue",
          "sport": "Canoeing"
         },
         {
          "medal_count": 2,
          "noc": "LAT",
          "season": "Summer",
          "season_color": "blue",
          "sport": "Canoeing"
         },
         {
          "medal_count": 3,
          "noc": "LTU",
          "season": "Summer",
          "season_color": "blue",
          "sport": "Canoeing"
         },
         {
          "medal_count": 2,
          "noc": "MDA",
          "season": "Summer",
          "season_color": "blue",
          "sport": "Canoeing"
         },
         {
          "medal_count": 12,
          "noc": "NED",
          "season": "Summer",
          "season_color": "blue",
          "sport": "Canoeing"
         },
         {
          "medal_count": 22,
          "noc": "NOR",
          "season": "Summer",
          "season_color": "blue",
          "sport": "Canoeing"
         },
         {
          "medal_count": 18,
          "noc": "NZL",
          "season": "Summer",
          "season_color": "blue",
          "sport": "Canoeing"
         },
         {
          "medal_count": 37,
          "noc": "POL",
          "season": "Summer",
          "season_color": "blue",
          "sport": "Canoeing"
         },
         {
          "medal_count": 2,
          "noc": "POR",
          "season": "Summer",
          "season_color": "blue",
          "sport": "Canoeing"
         },
         {
          "medal_count": 67,
          "noc": "ROU",
          "season": "Summer",
          "season_color": "blue",
          "sport": "Canoeing"
         },
         {
          "medal_count": 1,
          "noc": "RSA",
          "season": "Summer",
          "season_color": "blue",
          "sport": "Canoeing"
         },
         {
          "medal_count": 22,
          "noc": "RUS",
          "season": "Summer",
          "season_color": "blue",
          "sport": "Canoeing"
         },
         {
          "medal_count": 2,
          "noc": "SLO",
          "season": "Summer",
          "season_color": "blue",
          "sport": "Canoeing"
         },
         {
          "medal_count": 2,
          "noc": "SRB",
          "season": "Summer",
          "season_color": "blue",
          "sport": "Canoeing"
         },
         {
          "medal_count": 4,
          "noc": "SUI",
          "season": "Summer",
          "season_color": "blue",
          "sport": "Canoeing"
         },
         {
          "medal_count": 32,
          "noc": "SVK",
          "season": "Summer",
          "season_color": "blue",
          "sport": "Canoeing"
         },
         {
          "medal_count": 57,
          "noc": "SWE",
          "season": "Summer",
          "season_color": "blue",
          "sport": "Canoeing"
         },
         {
          "medal_count": 18,
          "noc": "TCH",
          "season": "Summer",
          "season_color": "blue",
          "sport": "Canoeing"
         },
         {
          "medal_count": 1,
          "noc": "TOG",
          "season": "Summer",
          "season_color": "blue",
          "sport": "Canoeing"
         },
         {
          "medal_count": 12,
          "noc": "UKR",
          "season": "Summer",
          "season_color": "blue",
          "sport": "Canoeing"
         },
         {
          "medal_count": 87,
          "noc": "URS",
          "season": "Summer",
          "season_color": "blue",
          "sport": "Canoeing"
         },
         {
          "medal_count": 21,
          "noc": "USA",
          "season": "Summer",
          "season_color": "blue",
          "sport": "Canoeing"
         },
         {
          "medal_count": 7,
          "noc": "YUG",
          "season": "Summer",
          "season_color": "blue",
          "sport": "Canoeing"
         },
         {
          "medal_count": 3,
          "noc": "FRA",
          "season": "Summer",
          "season_color": "blue",
          "sport": "Cricket"
         },
         {
          "medal_count": 21,
          "noc": "GBR",
          "season": "Summer",
          "season_color": "blue",
          "sport": "Cricket"
         },
         {
          "medal_count": 8,
          "noc": "FRA",
          "season": "Summer",
          "season_color": "blue",
          "sport": "Croquet"
         },
         {
          "medal_count": 5,
          "noc": "AUT",
          "season": "Winter",
          "season_color": "orange",
          "sport": "Cross Country Skiing"
         },
         {
          "medal_count": 1,
          "noc": "BUL",
          "season": "Winter",
          "season_color": "orange",
          "sport": "Cross Country Skiing"
         },
         {
          "medal_count": 4,
          "noc": "CAN",
          "season": "Winter",
          "season_color": "orange",
          "sport": "Cross Country Skiing"
         },
         {
          "medal_count": 12,
          "noc": "CZE",
          "season": "Winter",
          "season_color": "orange",
          "sport": "Cross Country Skiing"
         },
         {
          "medal_count": 7,
          "noc": "EST",
          "season": "Winter",
          "season_color": "orange",
          "sport": "Cross Country Skiing"
         },
         {
          "medal_count": 12,
          "noc": "EUN",
          "season": "Winter",
          "season_color": "orange",
          "sport": "Cross Country Skiing"
         },
         {
          "medal_count": 141,
          "noc": "FIN",
          "season": "Winter",
          "season_color": "orange",
          "sport": "Cross Country Skiing"
         },
         {
          "medal_count": 5,
          "noc": "FRA",
          "season": "Winter",
          "season_color": "orange",
          "sport": "Cross Country Skiing"
         },
         {
          "medal_count": 10,
          "noc": "GDR",
          "season": "Winter",
          "season_color": "orange",
          "sport": "Cross Country Skiing"
         },
         {
          "medal_count": 35,
          "noc": "GER",
          "season": "Winter",
          "season_color": "orange",
          "sport": "Cross Country Skiing"
         },
         {
          "medal_count": 61,
          "noc": "ITA",
          "season": "Winter",
          "season_color": "orange",
          "sport": "Cross Country Skiing"
         },
         {
          "medal_count": 4,
          "noc": "KAZ",
          "season": "Winter",
          "season_color": "orange",
          "sport": "Cross Country Skiing"
         },
         {
          "medal_count": 164,
          "noc": "NOR",
          "season": "Winter",
          "season_color": "orange",
          "sport": "Cross Country Skiing"
         },
         {
          "medal_count": 5,
          "noc": "POL",
          "season": "Winter",
          "season_color": "orange",
          "sport": "Cross Country Skiing"
         },
         {
          "medal_count": 49,
          "noc": "RUS",
          "season": "Winter",
          "season_color": "orange",
          "sport": "Cross Country Skiing"
         },
         {
          "medal_count": 2,
          "noc": "SLO",
          "season": "Winter",
          "season_color": "orange",
          "sport": "Cross Country Skiing"
         },
         {
          "medal_count": 13,
          "noc": "SUI",
          "season": "Winter",
          "season_color": "orange",
          "sport": "Cross Country Skiing"
         },
         {
          "medal_count": 123,
          "noc": "SWE",
          "season": "Winter",
          "season_color": "orange",
          "sport": "Cross Country Skiing"
         },
         {
          "medal_count": 11,
          "noc": "TCH",
          "season": "Winter",
          "season_color": "orange",
          "sport": "Cross Country Skiing"
         },
         {
          "medal_count": 111,
          "noc": "URS",
          "season": "Winter",
          "season_color": "orange",
          "sport": "Cross Country Skiing"
         },
         {
          "medal_count": 1,
          "noc": "USA",
          "season": "Winter",
          "season_color": "orange",
          "sport": "Cross Country Skiing"
         },
         {
          "medal_count": 48,
          "noc": "CAN",
          "season": "Winter",
          "season_color": "orange",
          "sport": "Curling"
         },
         {
          "medal_count": 4,
          "noc": "CHN",
          "season": "Winter",
          "season_color": "orange",
          "sport": "Curling"
         },
         {
          "medal_count": 5,
          "noc": "DEN",
          "season": "Winter",
          "season_color": "orange",
          "sport": "Curling"
         },
         {
          "medal_count": 4,
          "noc": "FIN",
          "season": "Winter",
          "season_color": "orange",
          "sport": "Curling"
         },
         {
          "medal_count": 4,
          "noc": "FRA",
          "season": "Winter",
          "season_color": "orange",
          "sport": "Curling"
         },
         {
          "medal_count": 17,
          "noc": "GBR",
          "season": "Winter",
          "season_color": "orange",
          "sport": "Curling"
         },
         {
          "medal_count": 14,
          "noc": "NOR",
          "season": "Winter",
          "season_color": "orange",
          "sport": "Curling"
         },
         {
          "medal_count": 23,
          "noc": "SUI",
          "season": "Winter",
          "season_color": "orange",
          "sport": "Curling"
         },
         {
          "medal_count": 29,
          "noc": "SWE",
          "season": "Winter",
          "season_color": "orange",
          "sport": "Curling"
         },
         {
          "medal_count": 4,
          "noc": "USA",
          "season": "Winter",
          "season_color": "orange",
          "sport": "Curling"
         },
         {
          "medal_count": 2,
          "noc": "ARG",
          "season": "Summer",
          "season_color": "blue",
          "sport": "Cycling"
         },
         {
          "medal_count": 84,
          "noc": "AUS",
          "season": "Summer",
          "season_color": "blue",
          "sport": "Cycling"
         },
         {
          "medal_count": 3,
          "noc": "AUT",
          "season": "Summer",
          "season_color": "blue",
          "sport": "Cycling"
         },
         {
          "medal_count": 47,
          "noc": "BEL",
          "season": "Summer",
          "season_color": "blue",
          "sport": "Cycling"
         },
         {
          "medal_count": 1,
          "noc": "BLR",
          "season": "Summer",
          "season_color": "blue",
          "sport": "Cycling"
         },
         {
          "medal_count": 23,
          "noc": "CAN",
          "season": "Summer",
          "season_color": "blue",
          "sport": "Cycling"
         },
         {
          "medal_count": 9,
          "noc": "CHN",
          "season": "Summer",
          "season_color": "blue",
          "sport": "Cycling"
         },
         {
          "medal_count": 6,
          "noc": "COL",
          "season": "Summer",
          "season_color": "blue",
          "sport": "Cycling"
         },
         {
          "medal_count": 1,
          "noc": "CUB",
          "season": "Summer",
          "season_color": "blue",
          "sport": "Cycling"
         },
         {
          "medal_count": 2,
          "noc": "CZE",
          "season": "Summer",
          "season_color": "blue",
          "sport": "Cycling"
         },
         {
          "medal_count": 52,
          "noc": "DEN",
          "season": "Summer",
          "season_color": "blue",
          "sport": "Cycling"
         },
         {
          "medal_count": 19,
          "noc": "ESP",
          "season": "Summer",
          "season_color": "blue",
          "sport": "Cycling"
         },
         {
          "medal_count": 1,
          "noc": "EST",
          "season": "Summer",
          "season_color": "blue",
          "sport": "Cycling"
         },
         {
          "medal_count": 151,
          "noc": "FRA",
          "season": "Summer",
          "season_color": "blue",
          "sport": "Cycling"
         },
         {
          "medal_count": 28,
          "noc": "FRG",
          "season": "Summer",
          "season_color": "blue",
          "sport": "Cycling"
         },
         {
          "medal_count": 182,
          "noc": "GBR",
          "season": "Summer",
          "season_color": "blue",
          "sport": "Cycling"
         },
         {
          "medal_count": 33,
          "noc": "GDR",
          "season": "Summer",
          "season_color": "blue",
          "sport": "Cycling"
         },
         {
          "medal_count": 94,
          "noc": "GER",
          "season": "Summer",
          "season_color": "blue",
          "sport": "Cycling"
         },
         {
          "medal_count": 4,
          "noc": "GRE",
          "season": "Summer",
          "season_color": "blue",
          "sport": "Cycling"
         },
         {
          "medal_count": 1,
          "noc": "HKG",
          "season": "Summer",
          "season_color": "blue",
          "sport": "Cycling"
         },
         {
          "medal_count": 124,
          "noc": "ITA",
          "season": "Summer",
          "season_color": "blue",
          "sport": "Cycling"
         },
         {
          "medal_count": 1,
          "noc": "JAM",
          "season": "Summer",
          "season_color": "blue",
          "sport": "Cycling"
         },
         {
          "medal_count": 6,
          "noc": "JPN",
          "season": "Summer",
          "season_color": "blue",
          "sport": "Cycling"
         },
         {
          "medal_count": 2,
          "noc": "KAZ",
          "season": "Summer",
          "season_color": "blue",
          "sport": "Cycling"
         },
         {
          "medal_count": 3,
          "noc": "LAT",
          "season": "Summer",
          "season_color": "blue",
          "sport": "Cycling"
         },
         {
          "medal_count": 1,
          "noc": "LTU",
          "season": "Summer",
          "season_color": "blue",
          "sport": "Cycling"
         },
         {
          "medal_count": 1,
          "noc": "MAS",
          "season": "Summer",
          "season_color": "blue",
          "sport": "Cycling"
         },
         {
          "medal_count": 2,
          "noc": "MEX",
          "season": "Summer",
          "season_color": "blue",
          "sport": "Cycling"
         },
         {
          "medal_count": 67,
          "noc": "NED",
          "season": "Summer",
          "season_color": "blue",
          "sport": "Cycling"
         },
         {
          "medal_count": 4,
          "noc": "NOR",
          "season": "Summer",
          "season_color": "blue",
          "sport": "Cycling"
         },
         {
          "medal_count": 18,
          "noc": "NZL",
          "season": "Summer",
          "season_color": "blue",
          "sport": "Cycling"
         },
         {
          "medal_count": 24,
          "noc": "POL",
          "season": "Summer",
          "season_color": "blue",
          "sport": "Cycling"
         },
         {
          "medal_count": 1,
          "noc": "POR",
          "season": "Summer",
          "season_color": "blue",
          "sport": "Cycling"
         },
         {
          "medal_count": 16,
          "noc": "RSA",
          "season": "Summer",
          "season_color": "blue",
          "sport": "Cycling"
         },
         {
          "medal_count": 24,
          "noc": "RUS",
          "season": "Summer",
          "season_color": "blue",
          "sport": "Cycling"
         },
         {
          "medal_count": 26,
          "noc": "SUI",
          "season": "Summer",
          "season_color": "blue",
          "sport": "Cycling"
         },
         {
          "medal_count": 48,
          "noc": "SWE",
          "season": "Summer",
          "season_color": "blue",
          "sport": "Cycling"
         },
         {
          "medal_count": 13,
          "noc": "TCH",
          "season": "Summer",
          "season_color": "blue",
          "sport": "Cycling"
         },
         {
          "medal_count": 6,
          "noc": "UKR",
          "season": "Summer",
          "season_color": "blue",
          "sport": "Cycling"
         },
         {
          "medal_count": 53,
          "noc": "URS",
          "season": "Summer",
          "season_color": "blue",
          "sport": "Cycling"
         },
         {
          "medal_count": 1,
          "noc": "URU",
          "season": "Summer",
          "season_color": "blue",
          "sport": "Cycling"
         },
         {
          "medal_count": 78,
          "noc": "USA",
          "season": "Summer",
          "season_color": "blue",
          "sport": "Cycling"
         },
         {
          "medal_count": 1,
          "noc": "VEN",
          "season": "Summer",
          "season_color": "blue",
          "sport": "Cycling"
         },
         {
          "medal_count": 20,
          "noc": "AUS",
          "season": "Summer",
          "season_color": "blue",
          "sport": "Diving"
         },
         {
          "medal_count": 1,
          "noc": "AUT",
          "season": "Summer",
          "season_color": "blue",
          "sport": "Diving"
         },
         {
          "medal_count": 18,
          "noc": "CAN",
          "season": "Summer",
          "season_color": "blue",
          "sport": "Diving"
         },
         {
          "medal_count": 88,
          "noc": "CHN",
          "season": "Summer",
          "season_color": "blue",
          "sport": "Diving"
         },
         {
          "medal_count": 2,
          "noc": "DEN",
          "season": "Summer",
          "season_color": "blue",
          "sport": "Diving"
         },
         {
          "medal_count": 2,
          "noc": "EGY",
          "season": "Summer",
          "season_color": "blue",
          "sport": "Diving"
         },
         {
          "medal_count": 3,
          "noc": "EUN",
          "season": "Summer",
          "season_color": "blue",
          "sport": "Diving"
         },
         {
          "medal_count": 1,
          "noc": "FRA",
          "season": "Summer",
          "season_color": "blue",
          "sport": "Diving"
         },
         {
          "medal_count": 13,
          "noc": "GBR",
          "season": "Summer",
          "season_color": "blue",
          "sport": "Diving"
         },
         {
          "medal_count": 7,
          "noc": "GDR",
          "season": "Summer",
          "season_color": "blue",
          "sport": "Diving"
         },
         {
          "medal_count": 30,
          "noc": "GER",
          "season": "Summer",
          "season_color": "blue",
          "sport": "Diving"
         },
         {
          "medal_count": 2,
          "noc": "GRE",
          "season": "Summer",
          "season_color": "blue",
          "sport": "Diving"
         },
         {
          "medal_count": 12,
          "noc": "ITA",
          "season": "Summer",
          "season_color": "blue",
          "sport": "Diving"
         },
         {
          "medal_count": 3,
          "noc": "MAS",
          "season": "Summer",
          "season_color": "blue",
          "sport": "Diving"
         },
         {
          "medal_count": 17,
          "noc": "MEX",
          "season": "Summer",
          "season_color": "blue",
          "sport": "Diving"
         },
         {
          "medal_count": 27,
          "noc": "RUS",
          "season": "Summer",
          "season_color": "blue",
          "sport": "Diving"
         },
         {
          "medal_count": 21,
          "noc": "SWE",
          "season": "Summer",
          "season_color": "blue",
          "sport": "Diving"
         },
         {
          "medal_count": 2,
          "noc": "TCH",
          "season": "Summer",
          "season_color": "blue",
          "sport": "Diving"
         },
         {
          "medal_count": 4,
          "noc": "UKR",
          "season": "Summer",
          "season_color": "blue",
          "sport": "Diving"
         },
         {
          "medal_count": 14,
          "noc": "URS",
          "season": "Summer",
          "season_color": "blue",
          "sport": "Diving"
         },
         {
          "medal_count": 140,
          "noc": "USA",
          "season": "Summer",
          "season_color": "blue",
          "sport": "Diving"
         },
         {
          "medal_count": 1,
          "noc": "ARG",
          "season": "Summer",
          "season_color": "blue",
          "sport": "Equestrianism"
         },
         {
          "medal_count": 37,
          "noc": "AUS",
          "season": "Summer",
          "season_color": "blue",
          "sport": "Equestrianism"
         },
         {
          "medal_count": 6,
          "noc": "AUT",
          "season": "Summer",
          "season_color": "blue",
          "sport": "Equestrianism"
         },
         {
          "medal_count": 23,
          "noc": "BEL",
          "season": "Summer",
          "season_color": "blue",
          "sport": "Equestrianism"
         },
         {
          "medal_count": 9,
          "noc": "BRA",
          "season": "Summer",
          "season_color": "blue",
          "sport": "Equestrianism"
         },
         {
          "medal_count": 3,
          "noc": "BUL",
          "season": "Summer",
          "season_color": "blue",
          "sport": "Equestrianism"
         },
         {
          "medal_count": 17,
          "noc": "CAN",
          "season": "Summer",
          "season_color": "blue",
          "sport": "Equestrianism"
         },
         {
          "medal_count": 4,
          "noc": "CHI",
          "season": "Summer",
          "season_color": "blue",
          "sport": "Equestrianism"
         },
         {
          "medal_count": 8,
          "noc": "DEN",
          "season": "Summer",
          "season_color": "blue",
          "sport": "Equestrianism"
         },
         {
          "medal_count": 11,
          "noc": "ESP",
          "season": "Summer",
          "season_color": "blue",
          "sport": "Equestrianism"
         },
         {
          "medal_count": 79,
          "noc": "FRA",
          "season": "Summer",
          "season_color": "blue",
          "sport": "Equestrianism"
         },
         {
          "medal_count": 62,
          "noc": "FRG",
          "season": "Summer",
          "season_color": "blue",
          "sport": "Equestrianism"
         },
         {
          "medal_count": 83,
          "noc": "GBR",
          "season": "Summer",
          "season_color": "blue",
          "sport": "Equestrianism"
         },
         {
          "medal_count": 143,
          "noc": "GER",
          "season": "Summer",
          "season_color": "blue",
          "sport": "Equestrianism"
         },
         {
          "medal_count": 1,
          "noc": "HUN",
          "season": "Summer",
          "season_color": "blue",
          "sport": "Equestrianism"
         },
         {
          "medal_count": 1,
          "noc": "IRL",
          "season": "Summer",
          "season_color": "blue",
          "sport": "Equestrianism"
         },
         {
          "medal_count": 46,
          "noc": "ITA",
          "season": "Summer",
          "season_color": "blue",
          "sport": "Equestrianism"
         },
         {
          "medal_count": 1,
          "noc": "JPN",
          "season": "Summer",
          "season_color": "blue",
          "sport": "Equestrianism"
         },
         {
          "medal_count": 5,
          "noc": "KSA",
          "season": "Summer",
          "season_color": "blue",
          "sport": "Equestrianism"
         },
         {
          "medal_count": 17,
          "noc": "MEX",
          "season": "Summer",
          "season_color": "blue",
          "sport": "Equestrianism"
         },
         {
          "medal_count": 56,
          "noc": "NED",
          "season": "Summer",
          "season_color": "blue",
          "sport": "Equestrianism"
         },
         {
          "medal_count": 3,
          "noc": "NOR",
          "season": "Summer",
          "season_color": "blue",
          "sport": "Equestrianism"
         },
         {
          "medal_count": 23,
          "noc": "NZL",
          "season": "Summer",
          "season_color": "blue",
          "sport": "Equestrianism"
         },
         {
          "medal_count": 15,
          "noc": "POL",
          "season": "Summer",
          "season_color": "blue",
          "sport": "Equestrianism"
         },
         {
          "medal_count": 10,
          "noc": "POR",
          "season": "Summer",
          "season_color": "blue",
          "sport": "Equestrianism"
         },
         {
          "medal_count": 4,
          "noc": "ROU",
          "season": "Summer",
          "season_color": "blue",
          "sport": "Equestrianism"
         },
         {
          "medal_count": 50,
          "noc": "SUI",
          "season": "Summer",
          "season_color": "blue",
          "sport": "Equestrianism"
         },
         {
          "medal_count": 85,
          "noc": "SWE",
          "season": "Summer",
          "season_color": "blue",
          "sport": "Equestrianism"
         },
         {
          "medal_count": 1,
          "noc": "TCH",
          "season": "Summer",
          "season_color": "blue",
          "sport": "Equestrianism"
         },
         {
          "medal_count": 29,
          "noc": "URS",
          "season": "Summer",
          "season_color": "blue",
          "sport": "Equestrianism"
         },
         {
          "medal_count": 132,
          "noc": "USA",
          "season": "Summer",
          "season_color": "blue",
          "sport": "Equestrianism"
         },
         {
          "medal_count": 5,
          "noc": "ARG",
          "season": "Summer",
          "season_color": "blue",
          "sport": "Fencing"
         },
         {
          "medal_count": 13,
          "noc": "AUT",
          "season": "Summer",
          "season_color": "blue",
          "sport": "Fencing"
         },
         {
          "medal_count": 48,
          "noc": "BEL",
          "season": "Summer",
          "season_color": "blue",
          "sport": "Fencing"
         },
         {
          "medal_count": 6,
          "noc": "BOH",
          "season": "Summer",
          "season_color": "blue",
          "sport": "Fencing"
         },
         {
          "medal_count": 30,
          "noc": "CHN",
          "season": "Summer",
          "season_color": "blue",
          "sport": "Fencing"
         },
         {
          "medal_count": 20,
          "noc": "CUB",
          "season": "Summer",
          "season_color": "blue",
          "sport": "Fencing"
         },
         {
          "medal_count": 6,
          "noc": "DEN",
          "season": "Summer",
          "season_color": "blue",
          "sport": "Fencing"
         },
         {
          "medal_count": 1,
          "noc": "EGY",
          "season": "Summer",
          "season_color": "blue",
          "sport": "Fencing"
         },
         {
          "medal_count": 1,
          "noc": "ESP",
          "season": "Summer",
          "season_color": "blue",
          "sport": "Fencing"
         },
         {
          "medal_count": 13,
          "noc": "EUN",
          "season": "Summer",
          "season_color": "blue",
          "sport": "Fencing"
         },
         {
          "medal_count": 310,
          "noc": "FRA",
          "season": "Summer",
          "season_color": "blue",
          "sport": "Fencing"
         },
         {
          "medal_count": 48,
          "noc": "FRG",
          "season": "Summer",
          "season_color": "blue",
          "sport": "Fencing"
         },
         {
          "medal_count": 28,
          "noc": "GBR",
          "season": "Summer",
          "season_color": "blue",
          "sport": "Fencing"
         },
         {
          "medal_count": 1,
          "noc": "GDR",
          "season": "Summer",
          "season_color": "blue",
          "sport": "Fencing"
         },
         {
          "medal_count": 73,
          "noc": "GER",
          "season": "Summer",
          "season_color": "blue",
          "sport": "Fencing"
         },
         {
          "medal_count": 12,
          "noc": "GRE",
          "season": "Summer",
          "season_color": "blue",
          "sport": "Fencing"
         },
         {
          "medal_count": 236,
          "noc": "HUN",
          "season": "Summer",
          "season_color": "blue",
          "sport": "Fencing"
         },
         {
          "medal_count": 359,
          "noc": "ITA",
          "season": "Summer",
          "season_color": "blue",
          "sport": "Fencing"
         },
         {
          "medal_count": 5,
          "noc": "JPN",
          "season": "Summer",
          "season_color": "blue",
          "sport": "Fencing"
         },
         {
          "medal_count": 20,
          "noc": "KOR",
          "season": "Summer",
          "season_color": "blue",
          "sport": "Fencing"
         },
         {
          "medal_count": 1,
          "noc": "MEX",
          "season": "Summer",
          "season_color": "blue",
          "sport": "Fencing"
         },
         {
          "medal_count": 31,
          "noc": "NED",
          "season": "Summer",
          "season_color": "blue",
          "sport": "Fencing"
         },
         {
          "medal_count": 1,
          "noc": "NOR",
          "season": "Summer",
          "season_color": "blue",
          "sport": "Fencing"
         },
         {
          "medal_count": 82,
          "noc": "POL",
          "season": "Summer",
          "season_color": "blue",
          "sport": "Fencing"
         },
         {
          "medal_count": 6,
          "noc": "POR",
          "season": "Summer",
          "season_color": "blue",
          "sport": "Fencing"
         },
         {
          "medal_count": 47,
          "noc": "ROU",
          "season": "Summer",
          "season_color": "blue",
          "sport": "Fencing"
         },
         {
          "medal_count": 62,
          "noc": "RUS",
          "season": "Summer",
          "season_color": "blue",
          "sport": "Fencing"
         },
         {
          "medal_count": 23,
          "noc": "SUI",
          "season": "Summer",
          "season_color": "blue",
          "sport": "Fencing"
         },
         {
          "medal_count": 26,
          "noc": "SWE",
          "season": "Summer",
          "season_color": "blue",
          "sport": "Fencing"
         },
         {
          "medal_count": 1,
          "noc": "TUN",
          "season": "Summer",
          "season_color": "blue",
          "sport": "Fencing"
         },
         {
          "medal_count": 12,
          "noc": "UKR",
          "season": "Summer",
          "season_color": "blue",
          "sport": "Fencing"
         },
         {
          "medal_count": 146,
          "noc": "URS",
          "season": "Summer",
          "season_color": "blue",
          "sport": "Fencing"
         },
         {
          "medal_count": 69,
          "noc": "USA",
          "season": "Summer",
          "season_color": "blue",
          "sport": "Fencing"
         },
         {
          "medal_count": 1,
          "noc": "VEN",
          "season": "Summer",
          "season_color": "blue",
          "sport": "Fencing"
         },
         {
          "medal_count": 25,
          "noc": "AUT",
          "season": "Winter",
          "season_color": "orange",
          "sport": "Figure Skating"
         },
         {
          "medal_count": 3,
          "noc": "BEL",
          "season": "Winter",
          "season_color": "orange",
          "sport": "Figure Skating"
         },
         {
          "medal_count": 43,
          "noc": "CAN",
          "season": "Winter",
          "season_color": "orange",
          "sport": "Figure Skating"
         },
         {
          "medal_count": 12,
          "noc": "CHN",
          "season": "Winter",
          "season_color": "orange",
          "sport": "Figure Skating"
         },
         {
          "medal_count": 9,
          "noc": "EUN",
          "season": "Winter",
          "season_color": "orange",
          "sport": "Figure Skating"
         },
         {
          "medal_count": 2,
          "noc": "FIN",
          "season": "Summer",
          "season_color": "blue",
          "sport": "Figure Skating"
         },
         {
          "medal_count": 2,
          "noc": "FIN",
          "season": "Winter",
          "season_color": "orange",
          "sport": "Figure Skating"
         },
         {
          "medal_count": 18,
          "noc": "FRA",
          "season": "Winter",
          "season_color": "orange",
          "sport": "Figure Skating"
         },
         {
          "medal_count": 3,
          "noc": "FRG",
          "season": "Winter",
          "season_color": "orange",
          "sport": "Figure Skating"
         },
         {
          "medal_count": 10,
          "noc": "GBR",
          "season": "Summer",
          "season_color": "blue",
          "sport": "Figure Skating"
         },
         {
          "medal_count": 10,
          "noc": "GBR",
          "season": "Winter",
          "season_color": "orange",
          "sport": "Figure Skating"
         },
         {
          "medal_count": 14,
          "noc": "GDR",
          "season": "Winter",
          "season_color": "orange",
          "sport": "Figure Skating"
         },
         {
          "medal_count": 3,
          "noc": "GER",
          "season": "Summer",
          "season_color": "blue",
          "sport": "Figure Skating"
         },
         {
          "medal_count": 16,
          "noc": "GER",
          "season": "Winter",
          "season_color": "orange",
          "sport": "Figure Skating"
         },
         {
          "medal_count": 12,
          "noc": "HUN",
          "season": "Winter",
          "season_color": "orange",
          "sport": "Figure Skating"
         },
         {
          "medal_count": 3,
          "noc": "ITA",
          "season": "Winter",
          "season_color": "orange",
          "sport": "Figure Skating"
         },
         {
          "medal_count": 5,
          "noc": "JPN",
          "season": "Winter",
          "season_color": "orange",
          "sport": "Figure Skating"
         },
         {
          "medal_count": 1,
          "noc": "KAZ",
          "season": "Winter",
          "season_color": "orange",
          "sport": "Figure Skating"
         },
         {
          "medal_count": 2,
          "noc": "KOR",
          "season": "Winter",
          "season_color": "orange",
          "sport": "Figure Skating"
         },
         {
          "medal_count": 3,
          "noc": "NED",
          "season": "Winter",
          "season_color": "orange",
          "sport": "Figure Skating"
         },
         {
          "medal_count": 4,
          "noc": "NOR",
          "season": "Summer",
          "season_color": "blue",
          "sport": "Figure Skating"
         },
         {
          "medal_count": 3,
          "noc": "NOR",
          "season": "Winter",
          "season_color": "orange",
          "sport": "Figure Skating"
         },
         {
          "medal_count": 1,
          "noc": "RUS",
          "season": "Summer",
          "season_color": "blue",
          "sport": "Figure Skating"
         },
         {
          "medal_count": 51,
          "noc": "RUS",
          "season": "Winter",
          "season_color": "orange",
          "sport": "Figure Skating"
         },
         {
          "medal_count": 3,
          "noc": "SUI",
          "season": "Winter",
          "season_color": "orange",
          "sport": "Figure Skating"
         },
         {
          "medal_count": 6,
          "noc": "SWE",
          "season": "Summer",
          "season_color": "blue",
          "sport": "Figure Skating"
         },
         {
          "medal_count": 4,
          "noc": "SWE",
          "season": "Winter",
          "season_color": "orange",
          "sport": "Figure Skating"
         },
         {
          "medal_count": 5,
          "noc": "TCH",
          "season": "Winter",
          "season_color": "orange",
          "sport": "Figure Skating"
         },
         {
          "medal_count": 3,
          "noc": "UKR",
          "season": "Winter",
          "season_color": "orange",
          "sport": "Figure Skating"
         },
         {
          "medal_count": 44,
          "noc": "URS",
          "season": "Winter",
          "season_color": "orange",
          "sport": "Figure Skating"
         },
         {
          "medal_count": 1,
          "noc": "USA",
          "season": "Summer",
          "season_color": "blue",
          "sport": "Figure Skating"
         },
         {
          "medal_count": 65,
          "noc": "USA",
          "season": "Winter",
          "season_color": "orange",
          "sport": "Figure Skating"
         },
         {
          "medal_count": 68,
          "noc": "ARG",
          "season": "Summer",
          "season_color": "blue",
          "sport": "Football"
         },
         {
          "medal_count": 13,
          "noc": "AUT",
          "season": "Summer",
          "season_color": "blue",
          "sport": "Football"
         },
         {
          "medal_count": 23,
          "noc": "BEL",
          "season": "Summer",
          "season_color": "blue",
          "sport": "Football"
         },
         {
          "medal_count": 136,
          "noc": "BRA",
          "season": "Summer",
          "season_color": "blue",
          "sport": "Football"
         },
         {
          "medal_count": 32,
          "noc": "BUL",
          "season": "Summer",
          "season_color": "blue",
          "sport": "Football"
         },
         {
          "medal_count": 49,
          "noc": "CAN",
          "season": "Summer",
          "season_color": "blue",
          "sport": "Football"
         },
         {
          "medal_count": 17,
          "noc": "CHI",
          "season": "Summer",
          "season_color": "blue",
          "sport": "Football"
         },
         {
          "medal_count": 15,
          "noc": "CHN",
          "season": "Summer",
          "season_color": "blue",
          "sport": "Football"
         },
         {
          "medal_count": 18,
          "noc": "CMR",
          "season": "Summer",
          "season_color": "blue",
          "sport": "Football"
         },
         {
          "medal_count": 65,
          "noc": "DEN",
          "season": "Summer",
          "season_color": "blue",
          "sport": "Football"
         },
         {
          "medal_count": 52,
          "noc": "ESP",
          "season": "Summer",
          "season_color": "blue",
          "sport": "Football"
         },
         {
          "medal_count": 32,
          "noc": "FRA",
          "season": "Summer",
          "season_color": "blue",
          "sport": "Football"
         },
         {
          "medal_count": 18,
          "noc": "FRG",
          "season": "Summer",
          "season_color": "blue",
          "sport": "Football"
         },
         {
          "medal_count": 45,
          "noc": "GBR",
          "season": "Summer",
          "season_color": "blue",
          "sport": "Football"
         },
         {
          "medal_count": 51,
          "noc": "GDR",
          "season": "Summer",
          "season_color": "blue",
          "sport": "Football"
         },
         {
          "medal_count": 104,
          "noc": "GER",
          "season": "Summer",
          "season_color": "blue",
          "sport": "Football"
         },
         {
          "medal_count": 20,
          "noc": "GHA",
          "season": "Summer",
          "season_color": "blue",
          "sport": "Football"
         },
         {
          "medal_count": 11,
          "noc": "GRE",
          "season": "Summer",
          "season_color": "blue",
          "sport": "Football"
         },
         {
          "medal_count": 79,
          "noc": "HUN",
          "season": "Summer",
          "season_color": "blue",
          "sport": "Football"
         },
         {
          "medal_count": 48,
          "noc": "ITA",
          "season": "Summer",
          "season_color": "blue",
          "sport": "Football"
         },
         {
          "medal_count": 34,
          "noc": "JPN",
          "season": "Summer",
          "season_color": "blue",
          "sport": "Football"
         },
         {
          "medal_count": 18,
          "noc": "KOR",
          "season": "Summer",
          "season_color": "blue",
          "sport": "Football"
         },
         {
          "medal_count": 16,
          "noc": "MEX",
          "season": "Summer",
          "season_color": "blue",
          "sport": "Football"
         },
         {
          "medal_count": 42,
          "noc": "NED",
          "season": "Summer",
          "season_color": "blue",
          "sport": "Football"
         },
         {
          "medal_count": 50,
          "noc": "NGR",
          "season": "Summer",
          "season_color": "blue",
          "sport": "Football"
         },
         {
          "medal_count": 47,
          "noc": "NOR",
          "season": "Summer",
          "season_color": "blue",
          "sport": "Football"
         },
         {
          "medal_count": 17,
          "noc": "PAR",
          "season": "Summer",
          "season_color": "blue",
          "sport": "Football"
         },
         {
          "medal_count": 50,
          "noc": "POL",
          "season": "Summer",
          "season_color": "blue",
          "sport": "Football"
         },
         {
          "medal_count": 15,
          "noc": "SUI",
          "season": "Summer",
          "season_color": "blue",
          "sport": "Football"
         },
         {
          "medal_count": 60,
          "noc": "SWE",
          "season": "Summer",
          "season_color": "blue",
          "sport": "Football"
         },
         {
          "medal_count": 33,
          "noc": "TCH",
          "season": "Summer",
          "season_color": "blue",
          "sport": "Football"
         },
         {
          "medal_count": 87,
          "noc": "URS",
          "season": "Summer",
          "season_color": "blue",
          "sport": "Football"
         },
         {
          "medal_count": 31,
          "noc": "URU",
          "season": "Summer",
          "season_color": "blue",
          "sport": "Football"
         },
         {
          "medal_count": 102,
          "noc": "USA",
          "season": "Summer",
          "season_color": "blue",
          "sport": "Football"
         },
         {
          "medal_count": 73,
          "noc": "YUG",
          "season": "Summer",
          "season_color": "blue",
          "sport": "Football"
         },
         {
          "medal_count": 7,
          "noc": "AUS",
          "season": "Winter",
          "season_color": "orange",
          "sport": "Freestyle Skiing"
         },
         {
          "medal_count": 1,
          "noc": "AUT",
          "season": "Winter",
          "season_color": "orange",
          "sport": "Freestyle Skiing"
         },
         {
          "medal_count": 6,
          "noc": "BLR",
          "season": "Winter",
          "season_color": "orange",
          "sport": "Freestyle Skiing"
         },
         {
          "medal_count": 18,
          "noc": "CAN",
          "season": "Winter",
          "season_color": "orange",
          "sport": "Freestyle Skiing"
         },
         {
          "medal_count": 8,
          "noc": "CHN",
          "season": "Winter",
          "season_color": "orange",
          "sport": "Freestyle Skiing"
         },
         {
          "medal_count": 1,
          "noc": "CZE",
          "season": "Winter",
          "season_color": "orange",
          "sport": "Freestyle Skiing"
         },
         {
          "medal_count": 1,
          "noc": "EUN",
          "season": "Winter",
          "season_color": "orange",
          "sport": "Freestyle Skiing"
         },
         {
          "medal_count": 4,
          "noc": "FIN",
          "season": "Winter",
          "season_color": "orange",
          "sport": "Freestyle Skiing"
         },
         {
          "medal_count": 12,
          "noc": "FRA",
          "season": "Winter",
          "season_color": "orange",
          "sport": "Freestyle Skiing"
         },
         {
          "medal_count": 1,
          "noc": "GER",
          "season": "Winter",
          "season_color": "orange",
          "sport": "Freestyle Skiing"
         },
         {
          "medal_count": 3,
          "noc": "JPN",
          "season": "Winter",
          "season_color": "orange",
          "sport": "Freestyle Skiing"
         },
         {
          "medal_count": 8,
          "noc": "NOR",
          "season": "Winter",
          "season_color": "orange",
          "sport": "Freestyle Skiing"
         },
         {
          "medal_count": 4,
          "noc": "RUS",
          "season": "Winter",
          "season_color": "orange",
          "sport": "Freestyle Skiing"
         },
         {
          "medal_count": 4,
          "noc": "SUI",
          "season": "Winter",
          "season_color": "orange",
          "sport": "Freestyle Skiing"
         },
         {
          "medal_count": 2,
          "noc": "SWE",
          "season": "Winter",
          "season_color": "orange",
          "sport": "Freestyle Skiing"
         },
         {
          "medal_count": 21,
          "noc": "USA",
          "season": "Winter",
          "season_color": "orange",
          "sport": "Freestyle Skiing"
         },
         {
          "medal_count": 1,
          "noc": "UZB",
          "season": "Winter",
          "season_color": "orange",
          "sport": "Freestyle Skiing"
         },
         {
          "medal_count": 1,
          "noc": "CAN",
          "season": "Summer",
          "season_color": "blue",
          "sport": "Golf"
         },
         {
          "medal_count": 1,
          "noc": "CHN",
          "season": "Summer",
          "season_color": "blue",
          "sport": "Golf"
         },
         {
          "medal_count": 3,
          "noc": "GBR",
          "season": "Summer",
          "season_color": "blue",
          "sport": "Golf"
         },
         {
          "medal_count": 1,
          "noc": "KOR",
          "season": "Summer",
          "season_color": "blue",
          "sport": "Golf"
         },
         {
          "medal_count": 1,
          "noc": "NZL",
          "season": "Summer",
          "season_color": "blue",
          "sport": "Golf"
         },
         {
          "medal_count": 1,
          "noc": "SWE",
          "season": "Summer",
          "season_color": "blue",
          "sport": "Golf"
         },
         {
          "medal_count": 38,
          "noc": "USA",
          "season": "Summer",
          "season_color": "blue",
          "sport": "Golf"
         },
         {
          "medal_count": 3,
          "noc": "AUT",
          "season": "Summer",
          "season_color": "blue",
          "sport": "Gymnastics"
         },
         {
          "medal_count": 48,
          "noc": "BEL",
          "season": "Summer",
          "season_color": "blue",
          "sport": "Gymnastics"
         },
         {
          "medal_count": 4,
          "noc": "BLR",
          "season": "Summer",
          "season_color": "blue",
          "sport": "Gymnastics"
         },
         {
          "medal_count": 4,
          "noc": "BRA",
          "season": "Summer",
          "season_color": "blue",
          "sport": "Gymnastics"
         },
         {
          "medal_count": 10,
          "noc": "BUL",
          "season": "Summer",
          "season_color": "blue",
          "sport": "Gymnastics"
         },
         {
          "medal_count": 1,
          "noc": "CAN",
          "season": "Summer",
          "season_color": "blue",
          "sport": "Gymnastics"
         },
         {
          "medal_count": 109,
          "noc": "CHN",
          "season": "Summer",
          "season_color": "blue",
          "sport": "Gymnastics"
         },
         {
          "medal_count": 1,
          "noc": "CRO",
          "season": "Summer",
          "season_color": "blue",
          "sport": "Gymnastics"
         },
         {
          "medal_count": 111,
          "noc": "DEN",
          "season": "Summer",
          "season_color": "blue",
          "sport": "Gymnastics"
         },
         {
          "medal_count": 4,
          "noc": "ESP",
          "season": "Summer",
          "season_color": "blue",
          "sport": "Gymnastics"
         },
         {
          "medal_count": 28,
          "noc": "EUN",
          "season": "Summer",
          "season_color": "blue",
          "sport": "Gymnastics"
         },
         {
          "medal_count": 99,
          "noc": "FIN",
          "season": "Summer",
          "season_color": "blue",
          "sport": "Gymnastics"
         },
         {
          "medal_count": 58,
          "noc": "FRA",
          "season": "Summer",
          "season_color": "blue",
          "sport": "Gymnastics"
         },
         {
          "medal_count": 1,
          "noc": "FRG",
          "season": "Summer",
          "season_color": "blue",
          "sport": "Gymnastics"
         },
         {
          "medal_count": 51,
          "noc": "GBR",
          "season": "Summer",
          "season_color": "blue",
          "sport": "Gymnastics"
         },
         {
          "medal_count": 86,
          "noc": "GDR",
          "season": "Summer",
          "season_color": "blue",
          "sport": "Gymnastics"
         },
         {
          "medal_count": 77,
          "noc": "GER",
          "season": "Summer",
          "season_color": "blue",
          "sport": "Gymnastics"
         },
         {
          "medal_count": 12,
          "noc": "GRE",
          "season": "Summer",
          "season_color": "blue",
          "sport": "Gymnastics"
         },
         {
          "medal_count": 111,
          "noc": "HUN",
          "season": "Summer",
          "season_color": "blue",
          "sport": "Gymnastics"
         },
         {
          "medal_count": 109,
          "noc": "ITA",
          "season": "Summer",
          "season_color": "blue",
          "sport": "Gymnastics"
         },
         {
          "medal_count": 166,
          "noc": "JPN",
          "season": "Summer",
          "season_color": "blue",
          "sport": "Gymnastics"
         },
         {
          "medal_count": 9,
          "noc": "KOR",
          "season": "Summer",
          "season_color": "blue",
          "sport": "Gymnastics"
         },
         {
          "medal_count": 2,
          "noc": "LAT",
          "season": "Summer",
          "season_color": "blue",
          "sport": "Gymnastics"
         },
         {
          "medal_count": 12,
          "noc": "NED",
          "season": "Summer",
          "season_color": "blue",
          "sport": "Gymnastics"
         },
         {
          "medal_count": 121,
          "noc": "NOR",
          "season": "Summer",
          "season_color": "blue",
          "sport": "Gymnastics"
         },
         {
          "medal_count": 9,
          "noc": "POL",
          "season": "Summer",
          "season_color": "blue",
          "sport": "Gymnastics"
         },
         {
          "medal_count": 3,
          "noc": "PRK",
          "season": "Summer",
          "season_color": "blue",
          "sport": "Gymnastics"
         },
         {
          "medal_count": 135,
          "noc": "ROU",
          "season": "Summer",
          "season_color": "blue",
          "sport": "Gymnastics"
         },
         {
          "medal_count": 83,
          "noc": "RUS",
          "season": "Summer",
          "season_color": "blue",
          "sport": "Gymnastics"
         },
         {
          "medal_count": 84,
          "noc": "SUI",
          "season": "Summer",
          "season_color": "blue",
          "sport": "Gymnastics"
         },
         {
          "medal_count": 103,
          "noc": "SWE",
          "season": "Summer",
          "season_color": "blue",
          "sport": "Gymnastics"
         },
         {
          "medal_count": 78,
          "noc": "TCH",
          "season": "Summer",
          "season_color": "blue",
          "sport": "Gymnastics"
         },
         {
          "medal_count": 23,
          "noc": "UKR",
          "season": "Summer",
          "season_color": "blue",
          "sport": "Gymnastics"
         },
         {
          "medal_count": 288,
          "noc": "URS",
          "season": "Summer",
          "season_color": "blue",
          "sport": "Gymnastics"
         },
         {
          "medal_count": 194,
          "noc": "USA",
          "season": "Summer",
          "season_color": "blue",
          "sport": "Gymnastics"
         },
         {
          "medal_count": 1,
          "noc": "UZB",
          "season": "Summer",
          "season_color": "blue",
          "sport": "Gymnastics"
         },
         {
          "medal_count": 18,
          "noc": "YUG",
          "season": "Summer",
          "season_color": "blue",
          "sport": "Gymnastics"
         },
         {
          "medal_count": 22,
          "noc": "AUT",
          "season": "Summer",
          "season_color": "blue",
          "sport": "Handball"
         },
         {
          "medal_count": 13,
          "noc": "CHN",
          "season": "Summer",
          "season_color": "blue",
          "sport": "Handball"
         },
         {
          "medal_count": 46,
          "noc": "CRO",
          "season": "Summer",
          "season_color": "blue",
          "sport": "Handball"
         },
         {
          "medal_count": 59,
          "noc": "DEN",
          "season": "Summer",
          "season_color": "blue",
          "sport": "Handball"
         },
         {
          "medal_count": 60,
          "noc": "ESP",
          "season": "Summer",
          "season_color": "blue",
          "sport": "Handball"
         },
         {
          "medal_count": 25,
          "noc": "EUN",
          "season": "Summer",
          "season_color": "blue",
          "sport": "Handball"
         },
         {
          "medal_count": 77,
          "noc": "FRA",
          "season": "Summer",
          "season_color": "blue",
          "sport": "Handball"
         },
         {
          "medal_count": 15,
          "noc": "FRG",
          "season": "Summer",
          "season_color": "blue",
          "sport": "Handball"
         },
         {
          "medal_count": 42,
          "noc": "GDR",
          "season": "Summer",
          "season_color": "blue",
          "sport": "Handball"
         },
         {
          "medal_count": 52,
          "noc": "GER",
          "season": "Summer",
          "season_color": "blue",
          "sport": "Handball"
         },
         {
          "medal_count": 45,
          "noc": "HUN",
          "season": "Summer",
          "season_color": "blue",
          "sport": "Handball"
         },
         {
          "medal_count": 14,
          "noc": "ISL",
          "season": "Summer",
          "season_color": "blue",
          "sport": "Handball"
         },
         {
          "medal_count": 96,
          "noc": "KOR",
          "season": "Summer",
          "season_color": "blue",
          "sport": "Handball"
         },
         {
          "medal_count": 14,
          "noc": "MNE",
          "season": "Summer",
          "season_color": "blue",
          "sport": "Handball"
         },
         {
          "medal_count": 85,
          "noc": "NOR",
          "season": "Summer",
          "season_color": "blue",
          "sport": "Handball"
         },
         {
          "medal_count": 14,
          "noc": "POL",
          "season": "Summer",
          "season_color": "blue",
          "sport": "Handball"
         },
         {
          "medal_count": 58,
          "noc": "ROU",
          "season": "Summer",
          "season_color": "blue",
          "sport": "Handball"
         },
         {
          "medal_count": 58,
          "noc": "RUS",
          "season": "Summer",
          "season_color": "blue",
          "sport": "Handball"
         },
         {
          "medal_count": 17,
          "noc": "SUI",
          "season": "Summer",
          "season_color": "blue",
          "sport": "Handball"
         },
         {
          "medal_count": 61,
          "noc": "SWE",
          "season": "Summer",
          "season_color": "blue",
          "sport": "Handball"
         },
         {
          "medal_count": 16,
          "noc": "TCH",
          "season": "Summer",
          "season_color": "blue",
          "sport": "Handball"
         },
         {
          "medal_count": 15,
          "noc": "UKR",
          "season": "Summer",
          "season_color": "blue",
          "sport": "Handball"
         },
         {
          "medal_count": 84,
          "noc": "URS",
          "season": "Summer",
          "season_color": "blue",
          "sport": "Handball"
         },
         {
          "medal_count": 72,
          "noc": "YUG",
          "season": "Summer",
          "season_color": "blue",
          "sport": "Handball"
         },
         {
          "medal_count": 81,
          "noc": "ARG",
          "season": "Summer",
          "season_color": "blue",
          "sport": "Hockey"
         },
         {
          "medal_count": 188,
          "noc": "AUS",
          "season": "Summer",
          "season_color": "blue",
          "sport": "Hockey"
         },
         {
          "medal_count": 30,
          "noc": "BEL",
          "season": "Summer",
          "season_color": "blue",
          "sport": "Hockey"
         },
         {
          "medal_count": 16,
          "noc": "CHN",
          "season": "Summer",
          "season_color": "blue",
          "sport": "Hockey"
         },
         {
          "medal_count": 12,
          "noc": "DEN",
          "season": "Summer",
          "season_color": "blue",
          "sport": "Hockey"
         },
         {
          "medal_count": 77,
          "noc": "ESP",
          "season": "Summer",
          "season_color": "blue",
          "sport": "Hockey"
         },
         {
          "medal_count": 66,
          "noc": "FRG",
          "season": "Summer",
          "season_color": "blue",
          "sport": "Hockey"
         },
         {
          "medal_count": 163,
          "noc": "GBR",
          "season": "Summer",
          "season_color": "blue",
          "sport": "Hockey"
         },
         {
          "medal_count": 182,
          "noc": "GER",
          "season": "Summer",
          "season_color": "blue",
          "sport": "Hockey"
         },
         {
          "medal_count": 173,
          "noc": "IND",
          "season": "Summer",
          "season_color": "blue",
          "sport": "Hockey"
         },
         {
          "medal_count": 11,
          "noc": "JPN",
          "season": "Summer",
          "season_color": "blue",
          "sport": "Hockey"
         },
         {
          "medal_count": 48,
          "noc": "KOR",
          "season": "Summer",
          "season_color": "blue",
          "sport": "Hockey"
         },
         {
          "medal_count": 255,
          "noc": "NED",
          "season": "Summer",
          "season_color": "blue",
          "sport": "Hockey"
         },
         {
          "medal_count": 14,
          "noc": "NZL",
          "season": "Summer",
          "season_color": "blue",
          "sport": "Hockey"
         },
         {
          "medal_count": 119,
          "noc": "PAK",
          "season": "Summer",
          "season_color": "blue",
          "sport": "Hockey"
         },
         {
          "medal_count": 16,
          "noc": "TCH",
          "season": "Summer",
          "season_color": "blue",
          "sport": "Hockey"
         },
         {
          "medal_count": 32,
          "noc": "URS",
          "season": "Summer",
          "season_color": "blue",
          "sport": "Hockey"
         },
         {
          "medal_count": 30,
          "noc": "USA",
          "season": "Summer",
          "season_color": "blue",
          "sport": "Hockey"
         },
         {
          "medal_count": 15,
          "noc": "ZIM",
          "season": "Summer",
          "season_color": "blue",
          "sport": "Hockey"
         },
         {
          "medal_count": 8,
          "noc": "CAN",
          "season": "Summer",
          "season_color": "blue",
          "sport": "Ice Hockey"
         },
         {
          "medal_count": 340,
          "noc": "CAN",
          "season": "Winter",
          "season_color": "orange",
          "sport": "Ice Hockey"
         },
         {
          "medal_count": 45,
          "noc": "CZE",
          "season": "Winter",
          "season_color": "orange",
          "sport": "Ice Hockey"
         },
         {
          "medal_count": 22,
          "noc": "EUN",
          "season": "Winter",
          "season_color": "orange",
          "sport": "Ice Hockey"
         },
         {
          "medal_count": 174,
          "noc": "FIN",
          "season": "Winter",
          "season_color": "orange",
          "sport": "Ice Hockey"
         },
         {
          "medal_count": 18,
          "noc": "FRG",
          "season": "Winter",
          "season_color": "orange",
          "sport": "Ice Hockey"
         },
         {
          "medal_count": 22,
          "noc": "GBR",
          "season": "Winter",
          "season_color": "orange",
          "sport": "Ice Hockey"
         },
         {
          "medal_count": 10,
          "noc": "GER",
          "season": "Winter",
          "season_color": "orange",
          "sport": "Ice Hockey"
         },
         {
          "medal_count": 43,
          "noc": "RUS",
          "season": "Winter",
          "season_color": "orange",
          "sport": "Ice Hockey"
         },
         {
          "medal_count": 48,
          "noc": "SUI",
          "season": "Winter",
          "season_color": "orange",
          "sport": "Ice Hockey"
         },
         {
          "medal_count": 217,
          "noc": "SWE",
          "season": "Winter",
          "season_color": "orange",
          "sport": "Ice Hockey"
         },
         {
          "medal_count": 8,
          "noc": "TCH",
          "season": "Summer",
          "season_color": "blue",
          "sport": "Ice Hockey"
         },
         {
          "medal_count": 131,
          "noc": "TCH",
          "season": "Winter",
          "season_color": "orange",
          "sport": "Ice Hockey"
         },
         {
          "medal_count": 168,
          "noc": "URS",
          "season": "Winter",
          "season_color": "orange",
          "sport": "Ice Hockey"
         },
         {
          "medal_count": 11,
          "noc": "USA",
          "season": "Summer",
          "season_color": "blue",
          "sport": "Ice Hockey"
         },
         {
          "medal_count": 265,
          "noc": "USA",
          "season": "Winter",
          "season_color": "orange",
          "sport": "Ice Hockey"
         },
         {
          "medal_count": 2,
          "noc": "GBR",
          "season": "Summer",
          "season_color": "blue",
          "sport": "Jeu De Paume"
         },
         {
          "medal_count": 1,
          "noc": "USA",
          "season": "Summer",
          "season_color": "blue",
          "sport": "Jeu De Paume"
         },
         {
          "medal_count": 2,
          "noc": "ALG",
          "season": "Summer",
          "season_color": "blue",
          "sport": "Judo"
         },
         {
          "medal_count": 2,
          "noc": "ARG",
          "season": "Summer",
          "season_color": "blue",
          "sport": "Judo"
         },
         {
          "medal_count": 2,
          "noc": "AUS",
          "season": "Summer",
          "season_color": "blue",
          "sport": "Judo"
         },
         {
          "medal_count": 5,
          "noc": "AUT",
          "season": "Summer",
          "season_color": "blue",
          "sport": "Judo"
         },
         {
          "medal_count": 4,
          "noc": "AZE",
          "season": "Summer",
          "season_color": "blue",
          "sport": "Judo"
         },
         {
          "medal_count": 12,
          "noc": "BEL",
          "season": "Summer",
          "season_color": "blue",
          "sport": "Judo"
         },
         {
          "medal_count": 2,
          "noc": "BLR",
          "season": "Summer",
          "season_color": "blue",
          "sport": "Judo"
         },
         {
          "medal_count": 22,
          "noc": "BRA",
          "season": "Summer",
          "season_color": "blue",
          "sport": "Judo"
         },
         {
          "medal_count": 3,
          "noc": "BUL",
          "season": "Summer",
          "season_color": "blue",
          "sport": "Judo"
         },
         {
          "medal_count": 5,
          "noc": "CAN",
          "season": "Summer",
          "season_color": "blue",
          "sport": "Judo"
         },
         {
          "medal_count": 22,
          "noc": "CHN",
          "season": "Summer",
          "season_color": "blue",
          "sport": "Judo"
         },
         {
          "medal_count": 2,
          "noc": "COL",
          "season": "Summer",
          "season_color": "blue",
          "sport": "Judo"
         },
         {
          "medal_count": 36,
          "noc": "CUB",
          "season": "Summer",
          "season_color": "blue",
          "sport": "Judo"
         },
         {
          "medal_count": 1,
          "noc": "CZE",
          "season": "Summer",
          "season_color": "blue",
          "sport": "Judo"
         },
         {
          "medal_count": 2,
          "noc": "EGY",
          "season": "Summer",
          "season_color": "blue",
          "sport": "Judo"
         },
         {
          "medal_count": 6,
          "noc": "ESP",
          "season": "Summer",
          "season_color": "blue",
          "sport": "Judo"
         },
         {
          "medal_count": 3,
          "noc": "EST",
          "season": "Summer",
          "season_color": "blue",
          "sport": "Judo"
         },
         {
          "medal_count": 4,
          "noc": "EUN",
          "season": "Summer",
          "season_color": "blue",
          "sport": "Judo"
         },
         {
          "medal_count": 49,
          "noc": "FRA",
          "season": "Summer",
          "season_color": "blue",
          "sport": "Judo"
         },
         {
          "medal_count": 8,
          "noc": "FRG",
          "season": "Summer",
          "season_color": "blue",
          "sport": "Judo"
         },
         {
          "medal_count": 19,
          "noc": "GBR",
          "season": "Summer",
          "season_color": "blue",
          "sport": "Judo"
         },
         {
          "medal_count": 9,
          "noc": "GDR",
          "season": "Summer",
          "season_color": "blue",
          "sport": "Judo"
         },
         {
          "medal_count": 8,
          "noc": "GEO",
          "season": "Summer",
          "season_color": "blue",
          "sport": "Judo"
         },
         {
          "medal_count": 20,
          "noc": "GER",
          "season": "Summer",
          "season_color": "blue",
          "sport": "Judo"
         },
         {
          "medal_count": 2,
          "noc": "GRE",
          "season": "Summer",
          "season_color": "blue",
          "sport": "Judo"
         },
         {
          "medal_count": 9,
          "noc": "HUN",
          "season": "Summer",
          "season_color": "blue",
          "sport": "Judo"
         },
         {
          "medal_count": 1,
          "noc": "ISL",
          "season": "Summer",
          "season_color": "blue",
          "sport": "Judo"
         },
         {
          "medal_count": 5,
          "noc": "ISR",
          "season": "Summer",
          "season_color": "blue",
          "sport": "Judo"
         },
         {
          "medal_count": 15,
          "noc": "ITA",
          "season": "Summer",
          "season_color": "blue",
          "sport": "Judo"
         },
         {
          "medal_count": 84,
          "noc": "JPN",
          "season": "Summer",
          "season_color": "blue",
          "sport": "Judo"
         },
         {
          "medal_count": 3,
          "noc": "KAZ",
          "season": "Summer",
          "season_color": "blue",
          "sport": "Judo"
         },
         {
          "medal_count": 1,
          "noc": "KGZ",
          "season": "Summer",
          "season_color": "blue",
          "sport": "Judo"
         },
         {
          "medal_count": 43,
          "noc": "KOR",
          "season": "Summer",
          "season_color": "blue",
          "sport": "Judo"
         },
         {
          "medal_count": 1,
          "noc": "KOS",
          "season": "Summer",
          "season_color": "blue",
          "sport": "Judo"
         },
         {
          "medal_count": 1,
          "noc": "LAT",
          "season": "Summer",
          "season_color": "blue",
          "sport": "Judo"
         },
         {
          "medal_count": 8,
          "noc": "MGL",
          "season": "Summer",
          "season_color": "blue",
          "sport": "Judo"
         },
         {
          "medal_count": 23,
          "noc": "NED",
          "season": "Summer",
          "season_color": "blue",
          "sport": "Judo"
         },
         {
          "medal_count": 8,
          "noc": "POL",
          "season": "Summer",
          "season_color": "blue",
          "sport": "Judo"
         },
         {
          "medal_count": 2,
          "noc": "POR",
          "season": "Summer",
          "season_color": "blue",
          "sport": "Judo"
         },
         {
          "medal_count": 8,
          "noc": "PRK",
          "season": "Summer",
          "season_color": "blue",
          "sport": "Judo"
         },
         {
          "medal_count": 6,
          "noc": "ROU",
          "season": "Summer",
          "season_color": "blue",
          "sport": "Judo"
         },
         {
          "medal_count": 16,
          "noc": "RUS",
          "season": "Summer",
          "season_color": "blue",
          "sport": "Judo"
         },
         {
          "medal_count": 5,
          "noc": "SLO",
          "season": "Summer",
          "season_color": "blue",
          "sport": "Judo"
         },
         {
          "medal_count": 4,
          "noc": "SUI",
          "season": "Summer",
          "season_color": "blue",
          "sport": "Judo"
         },
         {
          "medal_count": 1,
          "noc": "SVK",
          "season": "Summer",
          "season_color": "blue",
          "sport": "Judo"
         },
         {
          "medal_count": 1,
          "noc": "TCH",
          "season": "Summer",
          "season_color": "blue",
          "sport": "Judo"
         },
         {
          "medal_count": 1,
          "noc": "TJK",
          "season": "Summer",
          "season_color": "blue",
          "sport": "Judo"
         },
         {
          "medal_count": 2,
          "noc": "TUR",
          "season": "Summer",
          "season_color": "blue",
          "sport": "Judo"
         },
         {
          "medal_count": 1,
          "noc": "UAE",
          "season": "Summer",
          "season_color": "blue",
          "sport": "Judo"
         },
         {
          "medal_count": 3,
          "noc": "UKR",
          "season": "Summer",
          "season_color": "blue",
          "sport": "Judo"
         },
         {
          "medal_count": 23,
          "noc": "URS",
          "season": "Summer",
          "season_color": "blue",
          "sport": "Judo"
         },
         {
          "medal_count": 14,
          "noc": "USA",
          "season": "Summer",
          "season_color": "blue",
          "sport": "Judo"
         },
         {
          "medal_count": 6,
          "noc": "UZB",
          "season": "Summer",
          "season_color": "blue",
          "sport": "Judo"
         },
         {
          "medal_count": 2,
          "noc": "YUG",
          "season": "Summer",
          "season_color": "blue",
          "sport": "Judo"
         },
         {
          "medal_count": 36,
          "noc": "CAN",
          "season": "Summer",
          "season_color": "blue",
          "sport": "Lacrosse"
         },
         {
          "medal_count": 12,
          "noc": "GBR",
          "season": "Summer",
          "season_color": "blue",
          "sport": "Lacrosse"
         },
         {
          "medal_count": 12,
          "noc": "USA",
          "season": "Summer",
          "season_color": "blue",
          "sport": "Lacrosse"
         },
         {
          "medal_count": 27,
          "noc": "AUT",
          "season": "Winter",
          "season_color": "orange",
          "sport": "Luge"
         },
         {
          "medal_count": 14,
          "noc": "FRG",
          "season": "Winter",
          "season_color": "orange",
          "sport": "Luge"
         },
         {
          "medal_count": 37,
          "noc": "GDR",
          "season": "Winter",
          "season_color": "orange",
          "sport": "Luge"
         },
         {
          "medal_count": 47,
          "noc": "GER",
          "season": "Winter",
          "season_color": "orange",
          "sport": "Luge"
         },
         {
          "medal_count": 24,
          "noc": "ITA",
          "season": "Winter",
          "season_color": "orange",
          "sport": "Luge"
         },
         {
          "medal_count": 9,
          "noc": "LAT",
          "season": "Winter",
          "season_color": "orange",
          "sport": "Luge"
         },
         {
          "medal_count": 6,
          "noc": "RUS",
          "season": "Winter",
          "season_color": "orange",
          "sport": "Luge"
         },
         {
          "medal_count": 7,
          "noc": "URS",
          "season": "Winter",
          "season_color": "orange",
          "sport": "Luge"
         },
         {
          "medal_count": 9,
          "noc": "USA",
          "season": "Winter",
          "season_color": "orange",
          "sport": "Luge"
         },
         {
          "medal_count": 4,
          "noc": "FIN",
          "season": "Winter",
          "season_color": "orange",
          "sport": "Military Ski Patrol"
         },
         {
          "medal_count": 4,
          "noc": "FRA",
          "season": "Winter",
          "season_color": "orange",
          "sport": "Military Ski Patrol"
         },
         {
          "medal_count": 4,
          "noc": "SUI",
          "season": "Winter",
          "season_color": "orange",
          "sport": "Military Ski Patrol"
         },
         {
          "medal_count": 1,
          "noc": "AUS",
          "season": "Summer",
          "season_color": "blue",
          "sport": "Modern Pentathlon"
         },
         {
          "medal_count": 1,
          "noc": "BLR",
          "season": "Summer",
          "season_color": "blue",
          "sport": "Modern Pentathlon"
         },
         {
          "medal_count": 1,
          "noc": "BRA",
          "season": "Summer",
          "season_color": "blue",
          "sport": "Modern Pentathlon"
         },
         {
          "medal_count": 1,
          "noc": "CHN",
          "season": "Summer",
          "season_color": "blue",
          "sport": "Modern Pentathlon"
         },
         {
          "medal_count": 2,
          "noc": "CZE",
          "season": "Summer",
          "season_color": "blue",
          "sport": "Modern Pentathlon"
         },
         {
          "medal_count": 4,
          "noc": "EUN",
          "season": "Summer",
          "season_color": "blue",
          "sport": "Modern Pentathlon"
         },
         {
          "medal_count": 11,
          "noc": "FIN",
          "season": "Summer",
          "season_color": "blue",
          "sport": "Modern Pentathlon"
         },
         {
          "medal_count": 7,
          "noc": "FRA",
          "season": "Summer",
          "season_color": "blue",
          "sport": "Modern Pentathlon"
         },
         {
          "medal_count": 11,
          "noc": "GBR",
          "season": "Summer",
          "season_color": "blue",
          "sport": "Modern Pentathlon"
         },
         {
          "medal_count": 3,
          "noc": "GER",
          "season": "Summer",
          "season_color": "blue",
          "sport": "Modern Pentathlon"
         },
         {
          "medal_count": 38,
          "noc": "HUN",
          "season": "Summer",
          "season_color": "blue",
          "sport": "Modern Pentathlon"
         },
         {
          "medal_count": 13,
          "noc": "ITA",
          "season": "Summer",
          "season_color": "blue",
          "sport": "Modern Pentathlon"
         },
         {
          "medal_count": 1,
          "noc": "KAZ",
          "season": "Summer",
          "season_color": "blue",
          "sport": "Modern Pentathlon"
         },
         {
          "medal_count": 1,
          "noc": "LAT",
          "season": "Summer",
          "season_color": "blue",
          "sport": "Modern Pentathlon"
         },
         {
          "medal_count": 4,
          "noc": "LTU",
          "season": "Summer",
          "season_color": "blue",
          "sport": "Modern Pentathlon"
         },
         {
          "medal_count": 1,
          "noc": "MEX",
          "season": "Summer",
          "season_color": "blue",
          "sport": "Modern Pentathlon"
         },
         {
          "medal_count": 6,
          "noc": "POL",
          "season": "Summer",
          "season_color": "blue",
          "sport": "Modern Pentathlon"
         },
         {
          "medal_count": 5,
          "noc": "RUS",
          "season": "Summer",
          "season_color": "blue",
          "sport": "Modern Pentathlon"
         },
         {
          "medal_count": 25,
          "noc": "SWE",
          "season": "Summer",
          "season_color": "blue",
          "sport": "Modern Pentathlon"
         },
         {
          "medal_count": 4,
          "noc": "TCH",
          "season": "Summer",
          "season_color": "blue",
          "sport": "Modern Pentathlon"
         },
         {
          "medal_count": 2,
          "noc": "UKR",
          "season": "Summer",
          "season_color": "blue",
          "sport": "Modern Pentathlon"
         },
         {
          "medal_count": 27,
          "noc": "URS",
          "season": "Summer",
          "season_color": "blue",
          "sport": "Modern Pentathlon"
         },
         {
          "medal_count": 17,
          "noc": "USA",
          "season": "Summer",
          "season_color": "blue",
          "sport": "Modern Pentathlon"
         },
         {
          "medal_count": 1,
          "noc": "FRA",
          "season": "Summer",
          "season_color": "blue",
          "sport": "Motorboating"
         },
         {
          "medal_count": 6,
          "noc": "GBR",
          "season": "Summer",
          "season_color": "blue",
          "sport": "Motorboating"
         },
         {
          "medal_count": 29,
          "noc": "AUT",
          "season": "Winter",
          "season_color": "orange",
          "sport": "Nordic Combined"
         },
         {
          "medal_count": 23,
          "noc": "FIN",
          "season": "Winter",
          "season_color": "orange",
          "sport": "Nordic Combined"
         },
         {
          "medal_count": 7,
          "noc": "FRA",
          "season": "Winter",
          "season_color": "orange",
          "sport": "Nordic Combined"
         },
         {
          "medal_count": 5,
          "noc": "FRG",
          "season": "Winter",
          "season_color": "orange",
          "sport": "Nordic Combined"
         },
         {
          "medal_count": 7,
          "noc": "GDR",
          "season": "Winter",
          "season_color": "orange",
          "sport": "Nordic Combined"
         },
         {
          "medal_count": 23,
          "noc": "GER",
          "season": "Winter",
          "season_color": "orange",
          "sport": "Nordic Combined"
         },
         {
          "medal_count": 1,
          "noc": "ITA",
          "season": "Winter",
          "season_color": "orange",
          "sport": "Nordic Combined"
         },
         {
          "medal_count": 8,
          "noc": "JPN",
          "season": "Winter",
          "season_color": "orange",
          "sport": "Nordic Combined"
         },
         {
          "medal_count": 40,
          "noc": "NOR",
          "season": "Winter",
          "season_color": "orange",
          "sport": "Nordic Combined"
         },
         {
          "medal_count": 1,
          "noc": "POL",
          "season": "Winter",
          "season_color": "orange",
          "sport": "Nordic Combined"
         },
         {
          "medal_count": 1,
          "noc": "RUS",
          "season": "Winter",
          "season_color": "orange",
          "sport": "Nordic Combined"
         },
         {
          "medal_count": 8,
          "noc": "SUI",
          "season": "Winter",
          "season_color": "orange",
          "sport": "Nordic Combined"
         },
         {
          "medal_count": 2,
          "noc": "SWE",
          "season": "Winter",
          "season_color": "orange",
          "sport": "Nordic Combined"
         },
         {
          "medal_count": 3,
          "noc": "URS",
          "season": "Winter",
          "season_color": "orange",
          "sport": "Nordic Combined"
         },
         {
          "medal_count": 7,
          "noc": "USA",
          "season": "Winter",
          "season_color": "orange",
          "sport": "Nordic Combined"
         },
         {
          "medal_count": 9,
          "noc": "ARG",
          "season": "Summer",
          "season_color": "blue",
          "sport": "Polo"
         },
         {
          "medal_count": 5,
          "noc": "ESP",
          "season": "Summer",
          "season_color": "blue",
          "sport": "Polo"
         },
         {
          "medal_count": 4,
          "noc": "FRA",
          "season": "Summer",
          "season_color": "blue",
          "sport": "Polo"
         },
         {
          "medal_count": 30,
          "noc": "GBR",
          "season": "Summer",
          "season_color": "blue",
          "sport": "Polo"
         },
         {
          "medal_count": 7,
          "noc": "MEX",
          "season": "Summer",
          "season_color": "blue",
          "sport": "Polo"
         },
         {
          "medal_count": 12,
          "noc": "USA",
          "season": "Summer",
          "season_color": "blue",
          "sport": "Polo"
         },
         {
          "medal_count": 10,
          "noc": "GBR",
          "season": "Summer",
          "season_color": "blue",
          "sport": "Racquets"
         },
         {
          "medal_count": 21,
          "noc": "BLR",
          "season": "Summer",
          "season_color": "blue",
          "sport": "Rhythmic Gymnastics"
         },
         {
          "medal_count": 18,
          "noc": "BUL",
          "season": "Summer",
          "season_color": "blue",
          "sport": "Rhythmic Gymnastics"
         },
         {
          "medal_count": 1,
          "noc": "CAN",
          "season": "Summer",
          "season_color": "blue",
          "sport": "Rhythmic Gymnastics"
         },
         {
          "medal_count": 6,
          "noc": "CHN",
          "season": "Summer",
          "season_color": "blue",
          "sport": "Rhythmic Gymnastics"
         },
         {
          "medal_count": 12,
          "noc": "ESP",
          "season": "Summer",
          "season_color": "blue",
          "sport": "Rhythmic Gymnastics"
         },
         {
          "medal_count": 2,
          "noc": "EUN",
          "season": "Summer",
          "season_color": "blue",
          "sport": "Rhythmic Gymnastics"
         },
         {
          "medal_count": 1,
          "noc": "FRG",
          "season": "Summer",
          "season_color": "blue",
          "sport": "Rhythmic Gymnastics"
         },
         {
          "medal_count": 6,
          "noc": "GRE",
          "season": "Summer",
          "season_color": "blue",
          "sport": "Rhythmic Gymnastics"
         },
         {
          "medal_count": 12,
          "noc": "ITA",
          "season": "Summer",
          "season_color": "blue",
          "sport": "Rhythmic Gymnastics"
         },
         {
          "medal_count": 1,
          "noc": "ROU",
          "season": "Summer",
          "season_color": "blue",
          "sport": "Rhythmic Gymnastics"
         },
         {
          "medal_count": 45,
          "noc": "RUS",
          "season": "Summer",
          "season_color": "blue",
          "sport": "Rhythmic Gymnastics"
         },
         {
          "medal_count": 5,
          "noc": "UKR",
          "season": "Summer",
          "season_color": "blue",
          "sport": "Rhythmic Gymnastics"
         },
         {
          "medal_count": 2,
          "noc": "URS",
          "season": "Summer",
          "season_color": "blue",
          "sport": "Rhythmic Gymnastics"
         },
         {
          "medal_count": 3,
          "noc": "USA",
          "season": "Summer",
          "season_color": "blue",
          "sport": "Roque"
         },
         {
          "medal_count": 6,
          "noc": "ARG",
          "season": "Summer",
          "season_color": "blue",
          "sport": "Rowing"
         },
         {
          "medal_count": 144,
          "noc": "AUS",
          "season": "Summer",
          "season_color": "blue",
          "sport": "Rowing"
         },
         {
          "medal_count": 9,
          "noc": "AUT",
          "season": "Summer",
          "season_color": "blue",
          "sport": "Rowing"
         },
         {
          "medal_count": 30,
          "noc": "BEL",
          "season": "Summer",
          "season_color": "blue",
          "sport": "Rowing"
         },
         {
          "medal_count": 17,
          "noc": "BLR",
          "season": "Summer",
          "season_color": "blue",
          "sport": "Rowing"
         },
         {
          "medal_count": 34,
          "noc": "BUL",
          "season": "Summer",
          "season_color": "blue",
          "sport": "Rowing"
         },
         {
          "medal_count": 203,
          "noc": "CAN",
          "season": "Summer",
          "season_color": "blue",
          "sport": "Rowing"
         },
         {
          "medal_count": 29,
          "noc": "CHN",
          "season": "Summer",
          "season_color": "blue",
          "sport": "Rowing"
         },
         {
          "medal_count": 18,
          "noc": "CRO",
          "season": "Summer",
          "season_color": "blue",
          "sport": "Rowing"
         },
         {
          "medal_count": 8,
          "noc": "CZE",
          "season": "Summer",
          "season_color": "blue",
          "sport": "Rowing"
         },
         {
          "medal_count": 79,
          "noc": "DEN",
          "season": "Summer",
          "season_color": "blue",
          "sport": "Rowing"
         },
         {
          "medal_count": 2,
          "noc": "ESP",
          "season": "Summer",
          "season_color": "blue",
          "sport": "Rowing"
         },
         {
          "medal_count": 7,
          "noc": "EST",
          "season": "Summer",
          "season_color": "blue",
          "sport": "Rowing"
         },
         {
          "medal_count": 4,
          "noc": "EUN",
          "season": "Summer",
          "season_color": "blue",
          "sport": "Rowing"
         },
         {
          "medal_count": 16,
          "noc": "FIN",
          "season": "Summer",
          "season_color": "blue",
          "sport": "Rowing"
         },
         {
          "medal_count": 119,
          "noc": "FRA",
          "season": "Summer",
          "season_color": "blue",
          "sport": "Rowing"
         },
         {
          "medal_count": 51,
          "noc": "FRG",
          "season": "Summer",
          "season_color": "blue",
          "sport": "Rowing"
         },
         {
          "medal_count": 270,
          "noc": "GBR",
          "season": "Summer",
          "season_color": "blue",
          "sport": "Rowing"
         },
         {
          "medal_count": 184,
          "noc": "GDR",
          "season": "Summer",
          "season_color": "blue",
          "sport": "Rowing"
         },
         {
          "medal_count": 236,
          "noc": "GER",
          "season": "Summer",
          "season_color": "blue",
          "sport": "Rowing"
         },
         {
          "medal_count": 55,
          "noc": "GRE",
          "season": "Summer",
          "season_color": "blue",
          "sport": "Rowing"
         },
         {
          "medal_count": 8,
          "noc": "HUN",
          "season": "Summer",
          "season_color": "blue",
          "sport": "Rowing"
         },
         {
          "medal_count": 2,
          "noc": "IRL",
          "season": "Summer",
          "season_color": "blue",
          "sport": "Rowing"
         },
         {
          "medal_count": 183,
          "noc": "ITA",
          "season": "Summer",
          "season_color": "blue",
          "sport": "Rowing"
         },
         {
          "medal_count": 6,
          "noc": "LTU",
          "season": "Summer",
          "season_color": "blue",
          "sport": "Rowing"
         },
         {
          "medal_count": 139,
          "noc": "NED",
          "season": "Summer",
          "season_color": "blue",
          "sport": "Rowing"
         },
         {
          "medal_count": 61,
          "noc": "NOR",
          "season": "Summer",
          "season_color": "blue",
          "sport": "Rowing"
         },
         {
          "medal_count": 69,
          "noc": "NZL",
          "season": "Summer",
          "season_color": "blue",
          "sport": "Rowing"
         },
         {
          "medal_count": 52,
          "noc": "POL",
          "season": "Summer",
          "season_color": "blue",
          "sport": "Rowing"
         },
         {
          "medal_count": 175,
          "noc": "ROU",
          "season": "Summer",
          "season_color": "blue",
          "sport": "Rowing"
         },
         {
          "medal_count": 8,
          "noc": "RSA",
          "season": "Summer",
          "season_color": "blue",
          "sport": "Rowing"
         },
         {
          "medal_count": 18,
          "noc": "RUS",
          "season": "Summer",
          "season_color": "blue",
          "sport": "Rowing"
         },
         {
          "medal_count": 12,
          "noc": "SLO",
          "season": "Summer",
          "season_color": "blue",
          "sport": "Rowing"
         },
         {
          "medal_count": 75,
          "noc": "SUI",
          "season": "Summer",
          "season_color": "blue",
          "sport": "Rowing"
         },
         {
          "medal_count": 10,
          "noc": "SWE",
          "season": "Summer",
          "season_color": "blue",
          "sport": "Rowing"
         },
         {
          "medal_count": 45,
          "noc": "TCH",
          "season": "Summer",
          "season_color": "blue",
          "sport": "Rowing"
         },
         {
          "medal_count": 12,
          "noc": "UKR",
          "season": "Summer",
          "season_color": "blue",
          "sport": "Rowing"
         },
         {
          "medal_count": 155,
          "noc": "URS",
          "season": "Summer",
          "season_color": "blue",
          "sport": "Rowing"
         },
         {
          "medal_count": 6,
          "noc": "URU",
          "season": "Summer",
          "season_color": "blue",
          "sport": "Rowing"
         },
         {
          "medal_count": 375,
          "noc": "USA",
          "season": "Summer",
          "season_color": "blue",
          "sport": "Rowing"
         },
         {
          "medal_count": 13,
          "noc": "YUG",
          "season": "Summer",
          "season_color": "blue",
          "sport": "Rowing"
         },
         {
          "medal_count": 15,
          "noc": "ANZ",
          "season": "Summer",
          "season_color": "blue",
          "sport": "Rugby"
         },
         {
          "medal_count": 49,
          "noc": "FRA",
          "season": "Summer",
          "season_color": "blue",
          "sport": "Rugby"
         },
         {
          "medal_count": 30,
          "noc": "GBR",
          "season": "Summer",
          "season_color": "blue",
          "sport": "Rugby"
         },
         {
          "medal_count": 15,
          "noc": "GER",
          "season": "Summer",
          "season_color": "blue",
          "sport": "Rugby"
         },
         {
          "medal_count": 1,
          "noc": "HAI",
          "season": "Summer",
          "season_color": "blue",
          "sport": "Rugby"
         },
         {
          "medal_count": 16,
          "noc": "ROU",
          "season": "Summer",
          "season_color": "blue",
          "sport": "Rugby"
         },
         {
          "medal_count": 36,
          "noc": "USA",
          "season": "Summer",
          "season_color": "blue",
          "sport": "Rugby"
         },
         {
          "medal_count": 12,
          "noc": "AUS",
          "season": "Summer",
          "season_color": "blue",
          "sport": "Rugby Sevens"
         },
         {
          "medal_count": 12,
          "noc": "CAN",
          "season": "Summer",
          "season_color": "blue",
          "sport": "Rugby Sevens"
         },
         {
          "medal_count": 13,
          "noc": "FIJ",
          "season": "Summer",
          "season_color": "blue",
          "sport": "Rugby Sevens"
         },
         {
          "medal_count": 12,
          "noc": "GBR",
          "season": "Summer",
          "season_color": "blue",
          "sport": "Rugby Sevens"
         },
         {
          "medal_count": 12,
          "noc": "NZL",
          "season": "Summer",
          "season_color": "blue",
          "sport": "Rugby Sevens"
         },
         {
          "medal_count": 13,
          "noc": "RSA",
          "season": "Summer",
          "season_color": "blue",
          "sport": "Rugby Sevens"
         },
         {
          "medal_count": 1,
          "noc": "AHO",
          "season": "Summer",
          "season_color": "blue",
          "sport": "Sailing"
         },
         {
          "medal_count": 21,
          "noc": "ARG",
          "season": "Summer",
          "season_color": "blue",
          "sport": "Sailing"
         },
         {
          "medal_count": 53,
          "noc": "AUS",
          "season": "Summer",
          "season_color": "blue",
          "sport": "Sailing"
         },
         {
          "medal_count": 12,
          "noc": "AUT",
          "season": "Summer",
          "season_color": "blue",
          "sport": "Sailing"
         },
         {
          "medal_count": 4,
          "noc": "BAH",
          "season": "Summer",
          "season_color": "blue",
          "sport": "Sailing"
         },
         {
          "medal_count": 19,
          "noc": "BEL",
          "season": "Summer",
          "season_color": "blue",
          "sport": "Sailing"
         },
         {
          "medal_count": 34,
          "noc": "BRA",
          "season": "Summer",
          "season_color": "blue",
          "sport": "Sailing"
         },
         {
          "medal_count": 25,
          "noc": "CAN",
          "season": "Summer",
          "season_color": "blue",
          "sport": "Sailing"
         },
         {
          "medal_count": 6,
          "noc": "CHN",
          "season": "Summer",
          "season_color": "blue",
          "sport": "Sailing"
         },
         {
          "medal_count": 3,
          "noc": "CRO",
          "season": "Summer",
          "season_color": "blue",
          "sport": "Sailing"
         },
         {
          "medal_count": 2,
          "noc": "CUB",
          "season": "Summer",
          "season_color": "blue",
          "sport": "Sailing"
         },
         {
          "medal_count": 1,
          "noc": "CYP",
          "season": "Summer",
          "season_color": "blue",
          "sport": "Sailing"
         },
         {
          "medal_count": 1,
          "noc": "CZE",
          "season": "Summer",
          "season_color": "blue",
          "sport": "Sailing"
         },
         {
          "medal_count": 66,
          "noc": "DEN",
          "season": "Summer",
          "season_color": "blue",
          "sport": "Sailing"
         },
         {
          "medal_count": 33,
          "noc": "ESP",
          "season": "Summer",
          "season_color": "blue",
          "sport": "Sailing"
         },
         {
          "medal_count": 7,
          "noc": "EST",
          "season": "Summer",
          "season_color": "blue",
          "sport": "Sailing"
         },
         {
          "medal_count": 35,
          "noc": "FIN",
          "season": "Summer",
          "season_color": "blue",
          "sport": "Sailing"
         },
         {
          "medal_count": 117,
          "noc": "FRA",
          "season": "Summer",
          "season_color": "blue",
          "sport": "Sailing"
         },
         {
          "medal_count": 14,
          "noc": "FRG",
          "season": "Summer",
          "season_color": "blue",
          "sport": "Sailing"
         },
         {
          "medal_count": 143,
          "noc": "GBR",
          "season": "Summer",
          "season_color": "blue",
          "sport": "Sailing"
         },
         {
          "medal_count": 15,
          "noc": "GDR",
          "season": "Summer",
          "season_color": "blue",
          "sport": "Sailing"
         },
         {
          "medal_count": 40,
          "noc": "GER",
          "season": "Summer",
          "season_color": "blue",
          "sport": "Sailing"
         },
         {
          "medal_count": 16,
          "noc": "GRE",
          "season": "Summer",
          "season_color": "blue",
          "sport": "Sailing"
         },
         {
          "medal_count": 1,
          "noc": "HKG",
          "season": "Summer",
          "season_color": "blue",
          "sport": "Sailing"
         },
         {
          "medal_count": 2,
          "noc": "HUN",
          "season": "Summer",
          "season_color": "blue",
          "sport": "Sailing"
         },
         {
          "medal_count": 3,
          "noc": "IRL",
          "season": "Summer",
          "season_color": "blue",
          "sport": "Sailing"
         },
         {
          "medal_count": 3,
          "noc": "ISR",
          "season": "Summer",
          "season_color": "blue",
          "sport": "Sailing"
         },
         {
          "medal_count": 1,
          "noc": "ISV",
          "season": "Summer",
          "season_color": "blue",
          "sport": "Sailing"
         },
         {
          "medal_count": 26,
          "noc": "ITA",
          "season": "Summer",
          "season_color": "blue",
          "sport": "Sailing"
         },
         {
          "medal_count": 4,
          "noc": "JPN",
          "season": "Summer",
          "season_color": "blue",
          "sport": "Sailing"
         },
         {
          "medal_count": 1,
          "noc": "LTU",
          "season": "Summer",
          "season_color": "blue",
          "sport": "Sailing"
         },
         {
          "medal_count": 43,
          "noc": "NED",
          "season": "Summer",
          "season_color": "blue",
          "sport": "Sailing"
         },
         {
          "medal_count": 125,
          "noc": "NOR",
          "season": "Summer",
          "season_color": "blue",
          "sport": "Sailing"
         },
         {
          "medal_count": 33,
          "noc": "NZL",
          "season": "Summer",
          "season_color": "blue",
          "sport": "Sailing"
         },
         {
          "medal_count": 4,
          "noc": "POL",
          "season": "Summer",
          "season_color": "blue",
          "sport": "Sailing"
         },
         {
          "medal_count": 8,
          "noc": "POR",
          "season": "Summer",
          "season_color": "blue",
          "sport": "Sailing"
         },
         {
          "medal_count": 11,
          "noc": "RUS",
          "season": "Summer",
          "season_color": "blue",
          "sport": "Sailing"
         },
         {
          "medal_count": 3,
          "noc": "SLO",
          "season": "Summer",
          "season_color": "blue",
          "sport": "Sailing"
         },
         {
          "medal_count": 12,
          "noc": "SUI",
          "season": "Summer",
          "season_color": "blue",
          "sport": "Sailing"
         },
         {
          "medal_count": 113,
          "noc": "SWE",
          "season": "Summer",
          "season_color": "blue",
          "sport": "Sailing"
         },
         {
          "medal_count": 11,
          "noc": "UKR",
          "season": "Summer",
          "season_color": "blue",
          "sport": "Sailing"
         },
         {
          "medal_count": 20,
          "noc": "URS",
          "season": "Summer",
          "season_color": "blue",
          "sport": "Sailing"
         },
         {
          "medal_count": 140,
          "noc": "USA",
          "season": "Summer",
          "season_color": "blue",
          "sport": "Sailing"
         },
         {
          "medal_count": 1,
          "noc": "ARG",
          "season": "Summer",
          "season_color": "blue",
          "sport": "Shooting"
         },
         {
          "medal_count": 11,
          "noc": "AUS",
          "season": "Summer",
          "season_color": "blue",
          "sport": "Shooting"
         },
         {
          "medal_count": 8,
          "noc": "AUT",
          "season": "Summer",
          "season_color": "blue",
          "sport": "Shooting"
         },
         {
          "medal_count": 3,
          "noc": "AZE",
          "season": "Summer",
          "season_color": "blue",
          "sport": "Shooting"
         },
         {
          "medal_count": 17,
          "noc": "BEL",
          "season": "Summer",
          "season_color": "blue",
          "sport": "Shooting"
         },
         {
          "medal_count": 7,
          "noc": "BLR",
          "season": "Summer",
          "season_color": "blue",
          "sport": "Shooting"
         },
         {
          "medal_count": 8,
          "noc": "BRA",
          "season": "Summer",
          "season_color": "blue",
          "sport": "Shooting"
         },
         {
          "medal_count": 16,
          "noc": "BUL",
          "season": "Summer",
          "season_color": "blue",
          "sport": "Shooting"
         },
         {
          "medal_count": 24,
          "noc": "CAN",
          "season": "Summer",
          "season_color": "blue",
          "sport": "Shooting"
         },
         {
          "medal_count": 1,
          "noc": "CHI",
          "season": "Summer",
          "season_color": "blue",
          "sport": "Shooting"
         },
         {
          "medal_count": 56,
          "noc": "CHN",
          "season": "Summer",
          "season_color": "blue",
          "sport": "Shooting"
         },
         {
          "medal_count": 2,
          "noc": "COL",
          "season": "Summer",
          "season_color": "blue",
          "sport": "Shooting"
         },
         {
          "medal_count": 3,
          "noc": "CRO",
          "season": "Summer",
          "season_color": "blue",
          "sport": "Shooting"
         },
         {
          "medal_count": 4,
          "noc": "CUB",
          "season": "Summer",
          "season_color": "blue",
          "sport": "Shooting"
         },
         {
          "medal_count": 9,
          "noc": "CZE",
          "season": "Summer",
          "season_color": "blue",
          "sport": "Shooting"
         },
         {
          "medal_count": 27,
          "noc": "DEN",
          "season": "Summer",
          "season_color": "blue",
          "sport": "Shooting"
         },
         {
          "medal_count": 3,
          "noc": "ESP",
          "season": "Summer",
          "season_color": "blue",
          "sport": "Shooting"
         },
         {
          "medal_count": 8,
          "noc": "EUN",
          "season": "Summer",
          "season_color": "blue",
          "sport": "Shooting"
         },
         {
          "medal_count": 41,
          "noc": "FIN",
          "season": "Summer",
          "season_color": "blue",
          "sport": "Shooting"
         },
         {
          "medal_count": 69,
          "noc": "FRA",
          "season": "Summer",
          "season_color": "blue",
          "sport": "Shooting"
         },
         {
          "medal_count": 11,
          "noc": "FRG",
          "season": "Summer",
          "season_color": "blue",
          "sport": "Shooting"
         },
         {
          "medal_count": 99,
          "noc": "GBR",
          "season": "Summer",
          "season_color": "blue",
          "sport": "Shooting"
         },
         {
          "medal_count": 16,
          "noc": "GDR",
          "season": "Summer",
          "season_color": "blue",
          "sport": "Shooting"
         },
         {
          "medal_count": 1,
          "noc": "GEO",
          "season": "Summer",
          "season_color": "blue",
          "sport": "Shooting"
         },
         {
          "medal_count": 31,
          "noc": "GER",
          "season": "Summer",
          "season_color": "blue",
          "sport": "Shooting"
         },
         {
          "medal_count": 25,
          "noc": "GRE",
          "season": "Summer",
          "season_color": "blue",
          "sport": "Shooting"
         },
         {
          "medal_count": 5,
          "noc": "HAI",
          "season": "Summer",
          "season_color": "blue",
          "sport": "Shooting"
         },
         {
          "medal_count": 17,
          "noc": "HUN",
          "season": "Summer",
          "season_color": "blue",
          "sport": "Shooting"
         },
         {
          "medal_count": 4,
          "noc": "IND",
          "season": "Summer",
          "season_color": "blue",
          "sport": "Shooting"
         },
         {
          "medal_count": 5,
          "noc": "IOA",
          "season": "Summer",
          "season_color": "blue",
          "sport": "Shooting"
         },
         {
          "medal_count": 43,
          "noc": "ITA",
          "season": "Summer",
          "season_color": "blue",
          "sport": "Shooting"
         },
         {
          "medal_count": 6,
          "noc": "JPN",
          "season": "Summer",
          "season_color": "blue",
          "sport": "Shooting"
         },
         {
          "medal_count": 3,
          "noc": "KAZ",
          "season": "Summer",
          "season_color": "blue",
          "sport": "Shooting"
         },
         {
          "medal_count": 16,
          "noc": "KOR",
          "season": "Summer",
          "season_color": "blue",
          "sport": "Shooting"
         },
         {
          "medal_count": 2,
          "noc": "KUW",
          "season": "Summer",
          "season_color": "blue",
          "sport": "Shooting"
         },
         {
          "medal_count": 1,
          "noc": "LAT",
          "season": "Summer",
          "season_color": "blue",
          "sport": "Shooting"
         },
         {
          "medal_count": 1,
          "noc": "LTU",
          "season": "Summer",
          "season_color": "blue",
          "sport": "Shooting"
         },
         {
          "medal_count": 1,
          "noc": "MDA",
          "season": "Summer",
          "season_color": "blue",
          "sport": "Shooting"
         },
         {
          "medal_count": 1,
          "noc": "MEX",
          "season": "Summer",
          "season_color": "blue",
          "sport": "Shooting"
         },
         {
          "medal_count": 2,
          "noc": "MGL",
          "season": "Summer",
          "season_color": "blue",
          "sport": "Shooting"
         },
         {
          "medal_count": 6,
          "noc": "NED",
          "season": "Summer",
          "season_color": "blue",
          "sport": "Shooting"
         },
         {
          "medal_count": 77,
          "noc": "NOR",
          "season": "Summer",
          "season_color": "blue",
          "sport": "Shooting"
         },
         {
          "medal_count": 2,
          "noc": "NZL",
          "season": "Summer",
          "season_color": "blue",
          "sport": "Shooting"
         },
         {
          "medal_count": 3,
          "noc": "PER",
          "season": "Summer",
          "season_color": "blue",
          "sport": "Shooting"
         },
         {
          "medal_count": 12,
          "noc": "POL",
          "season": "Summer",
          "season_color": "blue",
          "sport": "Shooting"
         },
         {
          "medal_count": 1,
          "noc": "POR",
          "season": "Summer",
          "season_color": "blue",
          "sport": "Shooting"
         },
         {
          "medal_count": 3,
          "noc": "PRK",
          "season": "Summer",
          "season_color": "blue",
          "sport": "Shooting"
         },
         {
          "medal_count": 1,
          "noc": "QAT",
          "season": "Summer",
          "season_color": "blue",
          "sport": "Shooting"
         },
         {
          "medal_count": 15,
          "noc": "ROU",
          "season": "Summer",
          "season_color": "blue",
          "sport": "Shooting"
         },
         {
          "medal_count": 5,
          "noc": "RSA",
          "season": "Summer",
          "season_color": "blue",
          "sport": "Shooting"
         },
         {
          "medal_count": 36,
          "noc": "RUS",
          "season": "Summer",
          "season_color": "blue",
          "sport": "Shooting"
         },
         {
          "medal_count": 4,
          "noc": "SCG",
          "season": "Summer",
          "season_color": "blue",
          "sport": "Shooting"
         },
         {
          "medal_count": 3,
          "noc": "SLO",
          "season": "Summer",
          "season_color": "blue",
          "sport": "Shooting"
         },
         {
          "medal_count": 2,
          "noc": "SRB",
          "season": "Summer",
          "season_color": "blue",
          "sport": "Shooting"
         },
         {
          "medal_count": 53,
          "noc": "SUI",
          "season": "Summer",
          "season_color": "blue",
          "sport": "Shooting"
         },
         {
          "medal_count": 5,
          "noc": "SVK",
          "season": "Summer",
          "season_color": "blue",
          "sport": "Shooting"
         },
         {
          "medal_count": 126,
          "noc": "SWE",
          "season": "Summer",
          "season_color": "blue",
          "sport": "Shooting"
         },
         {
          "medal_count": 9,
          "noc": "TCH",
          "season": "Summer",
          "season_color": "blue",
          "sport": "Shooting"
         },
         {
          "medal_count": 1,
          "noc": "UAE",
          "season": "Summer",
          "season_color": "blue",
          "sport": "Shooting"
         },
         {
          "medal_count": 8,
          "noc": "UKR",
          "season": "Summer",
          "season_color": "blue",
          "sport": "Shooting"
         },
         {
          "medal_count": 49,
          "noc": "URS",
          "season": "Summer",
          "season_color": "blue",
          "sport": "Shooting"
         },
         {
          "medal_count": 193,
          "noc": "USA",
          "season": "Summer",
          "season_color": "blue",
          "sport": "Shooting"
         },
         {
          "medal_count": 1,
          "noc": "VEN",
          "season": "Summer",
          "season_color": "blue",
          "sport": "Shooting"
         },
         {
          "medal_count": 2,
          "noc": "VIE",
          "season": "Summer",
          "season_color": "blue",
          "sport": "Shooting"
         },
         {
          "medal_count": 3,
          "noc": "YUG",
          "season": "Summer",
          "season_color": "blue",
          "sport": "Shooting"
         },
         {
          "medal_count": 5,
          "noc": "AUS",
          "season": "Winter",
          "season_color": "orange",
          "sport": "Short Track Speed Skating"
         },
         {
          "medal_count": 3,
          "noc": "BUL",
          "season": "Winter",
          "season_color": "orange",
          "sport": "Short Track Speed Skating"
         },
         {
          "medal_count": 70,
          "noc": "CAN",
          "season": "Winter",
          "season_color": "orange",
          "sport": "Short Track Speed Skating"
         },
         {
          "medal_count": 49,
          "noc": "CHN",
          "season": "Winter",
          "season_color": "orange",
          "sport": "Short Track Speed Skating"
         },
         {
          "medal_count": 4,
          "noc": "EUN",
          "season": "Winter",
          "season_color": "orange",
          "sport": "Short Track Speed Skating"
         },
         {
          "medal_count": 1,
          "noc": "GBR",
          "season": "Winter",
          "season_color": "orange",
          "sport": "Short Track Speed Skating"
         },
         {
          "medal_count": 21,
          "noc": "ITA",
          "season": "Winter",
          "season_color": "orange",
          "sport": "Short Track Speed Skating"
         },
         {
          "medal_count": 6,
          "noc": "JPN",
          "season": "Winter",
          "season_color": "orange",
          "sport": "Short Track Speed Skating"
         },
         {
          "medal_count": 73,
          "noc": "KOR",
          "season": "Winter",
          "season_color": "orange",
          "sport": "Short Track Speed Skating"
         },
         {
          "medal_count": 1,
          "noc": "NED",
          "season": "Winter",
          "season_color": "orange",
          "sport": "Short Track Speed Skating"
         },
         {
          "medal_count": 1,
          "noc": "PRK",
          "season": "Winter",
          "season_color": "orange",
          "sport": "Short Track Speed Skating"
         },
         {
          "medal_count": 8,
          "noc": "RUS",
          "season": "Winter",
          "season_color": "orange",
          "sport": "Short Track Speed Skating"
         },
         {
          "medal_count": 42,
          "noc": "USA",
          "season": "Winter",
          "season_color": "orange",
          "sport": "Short Track Speed Skating"
         },
         {
          "medal_count": 1,
          "noc": "AUT",
          "season": "Winter",
          "season_color": "orange",
          "sport": "Skeleton"
         },
         {
          "medal_count": 4,
          "noc": "CAN",
          "season": "Winter",
          "season_color": "orange",
          "sport": "Skeleton"
         },
         {
          "medal_count": 6,
          "noc": "GBR",
          "season": "Winter",
          "season_color": "orange",
          "sport": "Skeleton"
         },
         {
          "medal_count": 2,
          "noc": "GER",
          "season": "Winter",
          "season_color": "orange",
          "sport": "Skeleton"
         },
         {
          "medal_count": 1,
          "noc": "ITA",
          "season": "Winter",
          "season_color": "orange",
          "sport": "Skeleton"
         },
         {
          "medal_count": 2,
          "noc": "LAT",
          "season": "Winter",
          "season_color": "orange",
          "sport": "Skeleton"
         },
         {
          "medal_count": 3,
          "noc": "RUS",
          "season": "Winter",
          "season_color": "orange",
          "sport": "Skeleton"
         },
         {
          "medal_count": 3,
          "noc": "SUI",
          "season": "Winter",
          "season_color": "orange",
          "sport": "Skeleton"
         },
         {
          "medal_count": 8,
          "noc": "USA",
          "season": "Winter",
          "season_color": "orange",
          "sport": "Skeleton"
         },
         {
          "medal_count": 43,
          "noc": "AUT",
          "season": "Winter",
          "season_color": "orange",
          "sport": "Ski Jumping"
         },
         {
          "medal_count": 34,
          "noc": "FIN",
          "season": "Winter",
          "season_color": "orange",
          "sport": "Ski Jumping"
         },
         {
          "medal_count": 1,
          "noc": "FRA",
          "season": "Winter",
          "season_color": "orange",
          "sport": "Ski Jumping"
         },
         {
          "medal_count": 7,
          "noc": "GDR",
          "season": "Winter",
          "season_color": "orange",
          "sport": "Ski Jumping"
         },
         {
          "medal_count": 26,
          "noc": "GER",
          "season": "Winter",
          "season_color": "orange",
          "sport": "Ski Jumping"
         },
         {
          "medal_count": 20,
          "noc": "JPN",
          "season": "Winter",
          "season_color": "orange",
          "sport": "Ski Jumping"
         },
         {
          "medal_count": 39,
          "noc": "NOR",
          "season": "Winter",
          "season_color": "orange",
          "sport": "Ski Jumping"
         },
         {
          "medal_count": 7,
          "noc": "POL",
          "season": "Winter",
          "season_color": "orange",
          "sport": "Ski Jumping"
         },
         {
          "medal_count": 6,
          "noc": "SLO",
          "season": "Winter",
          "season_color": "orange",
          "sport": "Ski Jumping"
         },
         {
          "medal_count": 5,
          "noc": "SUI",
          "season": "Winter",
          "season_color": "orange",
          "sport": "Ski Jumping"
         },
         {
          "medal_count": 2,
          "noc": "SWE",
          "season": "Winter",
          "season_color": "orange",
          "sport": "Ski Jumping"
         },
         {
          "medal_count": 10,
          "noc": "TCH",
          "season": "Winter",
          "season_color": "orange",
          "sport": "Ski Jumping"
         },
         {
          "medal_count": 1,
          "noc": "URS",
          "season": "Winter",
          "season_color": "orange",
          "sport": "Ski Jumping"
         },
         {
          "medal_count": 1,
          "noc": "USA",
          "season": "Winter",
          "season_color": "orange",
          "sport": "Ski Jumping"
         },
         {
          "medal_count": 5,
          "noc": "YUG",
          "season": "Winter",
          "season_color": "orange",
          "sport": "Ski Jumping"
         },
         {
          "medal_count": 2,
          "noc": "AUS",
          "season": "Winter",
          "season_color": "orange",
          "sport": "Snowboarding"
         },
         {
          "medal_count": 6,
          "noc": "AUT",
          "season": "Winter",
          "season_color": "orange",
          "sport": "Snowboarding"
         },
         {
          "medal_count": 7,
          "noc": "CAN",
          "season": "Winter",
          "season_color": "orange",
          "sport": "Snowboarding"
         },
         {
          "medal_count": 1,
          "noc": "CZE",
          "season": "Winter",
          "season_color": "orange",
          "sport": "Snowboarding"
         },
         {
          "medal_count": 3,
          "noc": "FIN",
          "season": "Winter",
          "season_color": "orange",
          "sport": "Snowboarding"
         },
         {
          "medal_count": 10,
          "noc": "FRA",
          "season": "Winter",
          "season_color": "orange",
          "sport": "Snowboarding"
         },
         {
          "medal_count": 1,
          "noc": "GBR",
          "season": "Winter",
          "season_color": "orange",
          "sport": "Snowboarding"
         },
         {
          "medal_count": 5,
          "noc": "GER",
          "season": "Winter",
          "season_color": "orange",
          "sport": "Snowboarding"
         },
         {
          "medal_count": 2,
          "noc": "ITA",
          "season": "Winter",
          "season_color": "orange",
          "sport": "Snowboarding"
         },
         {
          "medal_count": 3,
          "noc": "JPN",
          "season": "Winter",
          "season_color": "orange",
          "sport": "Snowboarding"
         },
         {
          "medal_count": 1,
          "noc": "NED",
          "season": "Winter",
          "season_color": "orange",
          "sport": "Snowboarding"
         },
         {
          "medal_count": 4,
          "noc": "NOR",
          "season": "Winter",
          "season_color": "orange",
          "sport": "Snowboarding"
         },
         {
          "medal_count": 5,
          "noc": "RUS",
          "season": "Winter",
          "season_color": "orange",
          "sport": "Snowboarding"
         },
         {
          "medal_count": 2,
          "noc": "SLO",
          "season": "Winter",
          "season_color": "orange",
          "sport": "Snowboarding"
         },
         {
          "medal_count": 12,
          "noc": "SUI",
          "season": "Winter",
          "season_color": "orange",
          "sport": "Snowboarding"
         },
         {
          "medal_count": 1,
          "noc": "SVK",
          "season": "Winter",
          "season_color": "orange",
          "sport": "Snowboarding"
         },
         {
          "medal_count": 1,
          "noc": "SWE",
          "season": "Winter",
          "season_color": "orange",
          "sport": "Snowboarding"
         },
         {
          "medal_count": 24,
          "noc": "USA",
          "season": "Winter",
          "season_color": "orange",
          "sport": "Snowboarding"
         },
         {
          "medal_count": 60,
          "noc": "AUS",
          "season": "Summer",
          "season_color": "blue",
          "sport": "Softball"
         },
         {
          "medal_count": 15,
          "noc": "CHN",
          "season": "Summer",
          "season_color": "blue",
          "sport": "Softball"
         },
         {
          "medal_count": 44,
          "noc": "JPN",
          "season": "Summer",
          "season_color": "blue",
          "sport": "Softball"
         },
         {
          "medal_count": 60,
          "noc": "USA",
          "season": "Summer",
          "season_color": "blue",
          "sport": "Softball"
         },
         {
          "medal_count": 6,
          "noc": "AUT",
          "season": "Winter",
          "season_color": "orange",
          "sport": "Speed Skating"
         },
         {
          "medal_count": 1,
          "noc": "BEL",
          "season": "Winter",
          "season_color": "orange",
          "sport": "Speed Skating"
         },
         {
          "medal_count": 1,
          "noc": "BLR",
          "season": "Winter",
          "season_color": "orange",
          "sport": "Speed Skating"
         },
         {
          "medal_count": 45,
          "noc": "CAN",
          "season": "Winter",
          "season_color": "orange",
          "sport": "Speed Skating"
         },
         {
          "medal_count": 7,
          "noc": "CHN",
          "season": "Winter",
          "season_color": "orange",
          "sport": "Speed Skating"
         },
         {
          "medal_count": 5,
          "noc": "CZE",
          "season": "Winter",
          "season_color": "orange",
          "sport": "Speed Skating"
         },
         {
          "medal_count": 24,
          "noc": "FIN",
          "season": "Winter",
          "season_color": "orange",
          "sport": "Speed Skating"
         },
         {
          "medal_count": 3,
          "noc": "FRG",
          "season": "Winter",
          "season_color": "orange",
          "sport": "Speed Skating"
         },
         {
          "medal_count": 29,
          "noc": "GDR",
          "season": "Winter",
          "season_color": "orange",
          "sport": "Speed Skating"
         },
         {
          "medal_count": 47,
          "noc": "GER",
          "season": "Winter",
          "season_color": "orange",
          "sport": "Speed Skating"
         },
         {
          "medal_count": 6,
          "noc": "ITA",
          "season": "Winter",
          "season_color": "orange",
          "sport": "Speed Skating"
         },
         {
          "medal_count": 17,
          "noc": "JPN",
          "season": "Winter",
          "season_color": "orange",
          "sport": "Speed Skating"
         },
         {
          "medal_count": 1,
          "noc": "KAZ",
          "season": "Winter",
          "season_color": "orange",
          "sport": "Speed Skating"
         },
         {
          "medal_count": 11,
          "noc": "KOR",
          "season": "Winter",
          "season_color": "orange",
          "sport": "Speed Skating"
         },
         {
          "medal_count": 117,
          "noc": "NED",
          "season": "Winter",
          "season_color": "orange",
          "sport": "Speed Skating"
         },
         {
          "medal_count": 80,
          "noc": "NOR",
          "season": "Winter",
          "season_color": "orange",
          "sport": "Speed Skating"
         },
         {
          "medal_count": 13,
          "noc": "POL",
          "season": "Winter",
          "season_color": "orange",
          "sport": "Speed Skating"
         },
         {
          "medal_count": 1,
          "noc": "PRK",
          "season": "Winter",
          "season_color": "orange",
          "sport": "Speed Skating"
         },
         {
          "medal_count": 20,
          "noc": "RUS",
          "season": "Winter",
          "season_color": "orange",
          "sport": "Speed Skating"
         },
         {
          "medal_count": 16,
          "noc": "SWE",
          "season": "Winter",
          "season_color": "orange",
          "sport": "Speed Skating"
         },
         {
          "medal_count": 60,
          "noc": "URS",
          "season": "Winter",
          "season_color": "orange",
          "sport": "Speed Skating"
         },
         {
          "medal_count": 70,
          "noc": "USA",
          "season": "Winter",
          "season_color": "orange",
          "sport": "Speed Skating"
         },
         {
          "medal_count": 11,
          "noc": "ANZ",
          "season": "Summer",
          "season_color": "blue",
          "sport": "Swimming"
         },
         {
          "medal_count": 3,
          "noc": "ARG",
          "season": "Summer",
          "season_color": "blue",
          "sport": "Swimming"
         },
         {
          "medal_count": 401,
          "noc": "AUS",
          "season": "Summer",
          "season_color": "blue",
          "sport": "Swimming"
         },
         {
          "medal_count": 17,
          "noc": "AUT",
          "season": "Summer",
          "season_color": "blue",
          "sport": "Swimming"
         },
         {
          "medal_count": 5,
          "noc": "BEL",
          "season": "Summer",
          "season_color": "blue",
          "sport": "Swimming"
         },
         {
          "medal_count": 3,
          "noc": "BLR",
          "season": "Summer",
          "season_color": "blue",
          "sport": "Swimming"
         },
         {
          "medal_count": 20,
          "noc": "BRA",
          "season": "Summer",
          "season_color": "blue",
          "sport": "Swimming"
         },
         {
          "medal_count": 3,
          "noc": "BUL",
          "season": "Summer",
          "season_color": "blue",
          "sport": "Swimming"
         },
         {
          "medal_count": 98,
          "noc": "CAN",
          "season": "Summer",
          "season_color": "blue",
          "sport": "Swimming"
         },
         {
          "medal_count": 70,
          "noc": "CHN",
          "season": "Summer",
          "season_color": "blue",
          "sport": "Swimming"
         },
         {
          "medal_count": 4,
          "noc": "CRC",
          "season": "Summer",
          "season_color": "blue",
          "sport": "Swimming"
         },
         {
          "medal_count": 1,
          "noc": "CRO",
          "season": "Summer",
          "season_color": "blue",
          "sport": "Swimming"
         },
         {
          "medal_count": 2,
          "noc": "CUB",
          "season": "Summer",
          "season_color": "blue",
          "sport": "Swimming"
         },
         {
          "medal_count": 21,
          "noc": "DEN",
          "season": "Summer",
          "season_color": "blue",
          "sport": "Swimming"
         },
         {
          "medal_count": 8,
          "noc": "ESP",
          "season": "Summer",
          "season_color": "blue",
          "sport": "Swimming"
         },
         {
          "medal_count": 30,
          "noc": "EUN",
          "season": "Summer",
          "season_color": "blue",
          "sport": "Swimming"
         },
         {
          "medal_count": 4,
          "noc": "FIN",
          "season": "Summer",
          "season_color": "blue",
          "sport": "Swimming"
         },
         {
          "medal_count": 80,
          "noc": "FRA",
          "season": "Summer",
          "season_color": "blue",
          "sport": "Swimming"
         },
         {
          "medal_count": 59,
          "noc": "FRG",
          "season": "Summer",
          "season_color": "blue",
          "sport": "Swimming"
         },
         {
          "medal_count": 127,
          "noc": "GBR",
          "season": "Summer",
          "season_color": "blue",
          "sport": "Swimming"
         },
         {
          "medal_count": 152,
          "noc": "GDR",
          "season": "Summer",
          "season_color": "blue",
          "sport": "Swimming"
         },
         {
          "medal_count": 156,
          "noc": "GER",
          "season": "Summer",
          "season_color": "blue",
          "sport": "Swimming"
         },
         {
          "medal_count": 7,
          "noc": "GRE",
          "season": "Summer",
          "season_color": "blue",
          "sport": "Swimming"
         },
         {
          "medal_count": 94,
          "noc": "HUN",
          "season": "Summer",
          "season_color": "blue",
          "sport": "Swimming"
         },
         {
          "medal_count": 4,
          "noc": "IRL",
          "season": "Summer",
          "season_color": "blue",
          "sport": "Swimming"
         },
         {
          "medal_count": 27,
          "noc": "ITA",
          "season": "Summer",
          "season_color": "blue",
          "sport": "Swimming"
         },
         {
          "medal_count": 123,
          "noc": "JPN",
          "season": "Summer",
          "season_color": "blue",
          "sport": "Swimming"
         },
         {
          "medal_count": 1,
          "noc": "KAZ",
          "season": "Summer",
          "season_color": "blue",
          "sport": "Swimming"
         },
         {
          "medal_count": 4,
          "noc": "KOR",
          "season": "Summer",
          "season_color": "blue",
          "sport": "Swimming"
         },
         {
          "medal_count": 1,
          "noc": "LTU",
          "season": "Summer",
          "season_color": "blue",
          "sport": "Swimming"
         },
         {
          "medal_count": 2,
          "noc": "MEX",
          "season": "Summer",
          "season_color": "blue",
          "sport": "Swimming"
         },
         {
          "medal_count": 114,
          "noc": "NED",
          "season": "Summer",
          "season_color": "blue",
          "sport": "Swimming"
         },
         {
          "medal_count": 2,
          "noc": "NOR",
          "season": "Summer",
          "season_color": "blue",
          "sport": "Swimming"
         },
         {
          "medal_count": 6,
          "noc": "NZL",
          "season": "Summer",
          "season_color": "blue",
          "sport": "Swimming"
         },
         {
          "medal_count": 2,
          "noc": "PHI",
          "season": "Summer",
          "season_color": "blue",
          "sport": "Swimming"
         },
         {
          "medal_count": 6,
          "noc": "POL",
          "season": "Summer",
          "season_color": "blue",
          "sport": "Swimming"
         },
         {
          "medal_count": 9,
          "noc": "ROU",
          "season": "Summer",
          "season_color": "blue",
          "sport": "Swimming"
         },
         {
          "medal_count": 27,
          "noc": "RSA",
          "season": "Summer",
          "season_color": "blue",
          "sport": "Swimming"
         },
         {
          "medal_count": 43,
          "noc": "RUS",
          "season": "Summer",
          "season_color": "blue",
          "sport": "Swimming"
         },
         {
          "medal_count": 1,
          "noc": "SGP",
          "season": "Summer",
          "season_color": "blue",
          "sport": "Swimming"
         },
         {
          "medal_count": 1,
          "noc": "SLO",
          "season": "Summer",
          "season_color": "blue",
          "sport": "Swimming"
         },
         {
          "medal_count": 1,
          "noc": "SRB",
          "season": "Summer",
          "season_color": "blue",
          "sport": "Swimming"
         },
         {
          "medal_count": 1,
          "noc": "SUI",
          "season": "Summer",
          "season_color": "blue",
          "sport": "Swimming"
         },
         {
          "medal_count": 2,
          "noc": "SUR",
          "season": "Summer",
          "season_color": "blue",
          "sport": "Swimming"
         },
         {
          "medal_count": 2,
          "noc": "SVK",
          "season": "Summer",
          "season_color": "blue",
          "sport": "Swimming"
         },
         {
          "medal_count": 70,
          "noc": "SWE",
          "season": "Summer",
          "season_color": "blue",
          "sport": "Swimming"
         },
         {
          "medal_count": 1,
          "noc": "TTO",
          "season": "Summer",
          "season_color": "blue",
          "sport": "Swimming"
         },
         {
          "medal_count": 3,
          "noc": "TUN",
          "season": "Summer",
          "season_color": "blue",
          "sport": "Swimming"
         },
         {
          "medal_count": 7,
          "noc": "UKR",
          "season": "Summer",
          "season_color": "blue",
          "sport": "Swimming"
         },
         {
          "medal_count": 124,
          "noc": "URS",
          "season": "Summer",
          "season_color": "blue",
          "sport": "Swimming"
         },
         {
          "medal_count": 1078,
          "noc": "USA",
          "season": "Summer",
          "season_color": "blue",
          "sport": "Swimming"
         },
         {
          "medal_count": 1,
          "noc": "VEN",
          "season": "Summer",
          "season_color": "blue",
          "sport": "Swimming"
         },
         {
          "medal_count": 2,
          "noc": "YUG",
          "season": "Summer",
          "season_color": "blue",
          "sport": "Swimming"
         },
         {
          "medal_count": 7,
          "noc": "ZIM",
          "season": "Summer",
          "season_color": "blue",
          "sport": "Swimming"
         },
         {
          "medal_count": 26,
          "noc": "CAN",
          "season": "Summer",
          "season_color": "blue",
          "sport": "Synchronized Swimming"
         },
         {
          "medal_count": 31,
          "noc": "CHN",
          "season": "Summer",
          "season_color": "blue",
          "sport": "Synchronized Swimming"
         },
         {
          "medal_count": 20,
          "noc": "ESP",
          "season": "Summer",
          "season_color": "blue",
          "sport": "Synchronized Swimming"
         },
         {
          "medal_count": 2,
          "noc": "FRA",
          "season": "Summer",
          "season_color": "blue",
          "sport": "Synchronized Swimming"
         },
         {
          "medal_count": 52,
          "noc": "JPN",
          "season": "Summer",
          "season_color": "blue",
          "sport": "Synchronized Swimming"
         },
         {
          "medal_count": 54,
          "noc": "RUS",
          "season": "Summer",
          "season_color": "blue",
          "sport": "Synchronized Swimming"
         },
         {
          "medal_count": 30,
          "noc": "USA",
          "season": "Summer",
          "season_color": "blue",
          "sport": "Synchronized Swimming"
         },
         {
          "medal_count": 81,
          "noc": "CHN",
          "season": "Summer",
          "season_color": "blue",
          "sport": "Table Tennis"
         },
         {
          "medal_count": 2,
          "noc": "DEN",
          "season": "Summer",
          "season_color": "blue",
          "sport": "Table Tennis"
         },
         {
          "medal_count": 3,
          "noc": "FRA",
          "season": "Summer",
          "season_color": "blue",
          "sport": "Table Tennis"
         },
         {
          "medal_count": 16,
          "noc": "GER",
          "season": "Summer",
          "season_color": "blue",
          "sport": "Table Tennis"
         },
         {
          "medal_count": 2,
          "noc": "HKG",
          "season": "Summer",
          "season_color": "blue",
          "sport": "Table Tennis"
         },
         {
          "medal_count": 10,
          "noc": "JPN",
          "season": "Summer",
          "season_color": "blue",
          "sport": "Table Tennis"
         },
         {
          "medal_count": 33,
          "noc": "KOR",
          "season": "Summer",
          "season_color": "blue",
          "sport": "Table Tennis"
         },
         {
          "medal_count": 5,
          "noc": "PRK",
          "season": "Summer",
          "season_color": "blue",
          "sport": "Table Tennis"
         },
         {
          "medal_count": 7,
          "noc": "SGP",
          "season": "Summer",
          "season_color": "blue",
          "sport": "Table Tennis"
         },
         {
          "medal_count": 3,
          "noc": "SWE",
          "season": "Summer",
          "season_color": "blue",
          "sport": "Table Tennis"
         },
         {
          "medal_count": 2,
          "noc": "TPE",
          "season": "Summer",
          "season_color": "blue",
          "sport": "Table Tennis"
         },
         {
          "medal_count": 4,
          "noc": "YUG",
          "season": "Summer",
          "season_color": "blue",
          "sport": "Table Tennis"
         },
         {
          "medal_count": 2,
          "noc": "AFG",
          "season": "Summer",
          "season_color": "blue",
          "sport": "Taekwondo"
         },
         {
          "medal_count": 1,
          "noc": "ARG",
          "season": "Summer",
          "season_color": "blue",
          "sport": "Taekwondo"
         },
         {
          "medal_count": 2,
          "noc": "AUS",
          "season": "Summer",
          "season_color": "blue",
          "sport": "Taekwondo"
         },
         {
          "medal_count": 3,
          "noc": "AZE",
          "season": "Summer",
          "season_color": "blue",
          "sport": "Taekwondo"
         },
         {
          "medal_count": 2,
          "noc": "BRA",
          "season": "Summer",
          "season_color": "blue",
          "sport": "Taekwondo"
         },
         {
          "medal_count": 2,
          "noc": "CAN",
          "season": "Summer",
          "season_color": "blue",
          "sport": "Taekwondo"
         },
         {
          "medal_count": 10,
          "noc": "CHN",
          "season": "Summer",
          "season_color": "blue",
          "sport": "Taekwondo"
         },
         {
          "medal_count": 2,
          "noc": "CIV",
          "season": "Summer",
          "season_color": "blue",
          "sport": "Taekwondo"
         },
         {
          "medal_count": 1,
          "noc": "COL",
          "season": "Summer",
          "season_color": "blue",
          "sport": "Taekwondo"
         },
         {
          "medal_count": 3,
          "noc": "CRO",
          "season": "Summer",
          "season_color": "blue",
          "sport": "Taekwondo"
         },
         {
          "medal_count": 5,
          "noc": "CUB",
          "season": "Summer",
          "season_color": "blue",
          "sport": "Taekwondo"
         },
         {
          "medal_count": 2,
          "noc": "DOM",
          "season": "Summer",
          "season_color": "blue",
          "sport": "Taekwondo"
         },
         {
          "medal_count": 2,
          "noc": "EGY",
          "season": "Summer",
          "season_color": "blue",
          "sport": "Taekwondo"
         },
         {
          "medal_count": 6,
          "noc": "ESP",
          "season": "Summer",
          "season_color": "blue",
          "sport": "Taekwondo"
         },
         {
          "medal_count": 7,
          "noc": "FRA",
          "season": "Summer",
          "season_color": "blue",
          "sport": "Taekwondo"
         },
         {
          "medal_count": 1,
          "noc": "GAB",
          "season": "Summer",
          "season_color": "blue",
          "sport": "Taekwondo"
         },
         {
          "medal_count": 6,
          "noc": "GBR",
          "season": "Summer",
          "season_color": "blue",
          "sport": "Taekwondo"
         },
         {
          "medal_count": 2,
          "noc": "GER",
          "season": "Summer",
          "season_color": "blue",
          "sport": "Taekwondo"
         },
         {
          "medal_count": 4,
          "noc": "GRE",
          "season": "Summer",
          "season_color": "blue",
          "sport": "Taekwondo"
         },
         {
          "medal_count": 6,
          "noc": "IRI",
          "season": "Summer",
          "season_color": "blue",
          "sport": "Taekwondo"
         },
         {
          "medal_count": 3,
          "noc": "ITA",
          "season": "Summer",
          "season_color": "blue",
          "sport": "Taekwondo"
         },
         {
          "medal_count": 1,
          "noc": "JOR",
          "season": "Summer",
          "season_color": "blue",
          "sport": "Taekwondo"
         },
         {
          "medal_count": 1,
          "noc": "JPN",
          "season": "Summer",
          "season_color": "blue",
          "sport": "Taekwondo"
         },
         {
          "medal_count": 1,
          "noc": "KAZ",
          "season": "Summer",
          "season_color": "blue",
          "sport": "Taekwondo"
         },
         {
          "medal_count": 19,
          "noc": "KOR",
          "season": "Summer",
          "season_color": "blue",
          "sport": "Taekwondo"
         },
         {
          "medal_count": 7,
          "noc": "MEX",
          "season": "Summer",
          "season_color": "blue",
          "sport": "Taekwondo"
         },
         {
          "medal_count": 1,
          "noc": "NGR",
          "season": "Summer",
          "season_color": "blue",
          "sport": "Taekwondo"
         },
         {
          "medal_count": 1,
          "noc": "NIG",
          "season": "Summer",
          "season_color": "blue",
          "sport": "Taekwondo"
         },
         {
          "medal_count": 2,
          "noc": "NOR",
          "season": "Summer",
          "season_color": "blue",
          "sport": "Taekwondo"
         },
         {
          "medal_count": 4,
          "noc": "RUS",
          "season": "Summer",
          "season_color": "blue",
          "sport": "Taekwondo"
         },
         {
          "medal_count": 2,
          "noc": "SRB",
          "season": "Summer",
          "season_color": "blue",
          "sport": "Taekwondo"
         },
         {
          "medal_count": 5,
          "noc": "THA",
          "season": "Summer",
          "season_color": "blue",
          "sport": "Taekwondo"
         },
         {
          "medal_count": 8,
          "noc": "TPE",
          "season": "Summer",
          "season_color": "blue",
          "sport": "Taekwondo"
         },
         {
          "medal_count": 1,
          "noc": "TUN",
          "season": "Summer",
          "season_color": "blue",
          "sport": "Taekwondo"
         },
         {
          "medal_count": 7,
          "noc": "TUR",
          "season": "Summer",
          "season_color": "blue",
          "sport": "Taekwondo"
         },
         {
          "medal_count": 9,
          "noc": "USA",
          "season": "Summer",
          "season_color": "blue",
          "sport": "Taekwondo"
         },
         {
          "medal_count": 2,
          "noc": "VEN",
          "season": "Summer",
          "season_color": "blue",
          "sport": "Taekwondo"
         },
         {
          "medal_count": 1,
          "noc": "VIE",
          "season": "Summer",
          "season_color": "blue",
          "sport": "Taekwondo"
         },
         {
          "medal_count": 1,
          "noc": "ANZ",
          "season": "Summer",
          "season_color": "blue",
          "sport": "Tennis"
         },
         {
          "medal_count": 7,
          "noc": "ARG",
          "season": "Summer",
          "season_color": "blue",
          "sport": "Tennis"
         },
         {
          "medal_count": 10,
          "noc": "AUS",
          "season": "Summer",
          "season_color": "blue",
          "sport": "Tennis"
         },
         {
          "medal_count": 2,
          "noc": "AUT",
          "season": "Summer",
          "season_color": "blue",
          "sport": "Tennis"
         },
         {
          "medal_count": 3,
          "noc": "BEL",
          "season": "Summer",
          "season_color": "blue",
          "sport": "Tennis"
         },
         {
          "medal_count": 3,
          "noc": "BLR",
          "season": "Summer",
          "season_color": "blue",
          "sport": "Tennis"
         },
         {
          "medal_count": 5,
          "noc": "BOH",
          "season": "Summer",
          "season_color": "blue",
          "sport": "Tennis"
         },
         {
          "medal_count": 1,
          "noc": "BUL",
          "season": "Summer",
          "season_color": "blue",
          "sport": "Tennis"
         },
         {
          "medal_count": 2,
          "noc": "CAN",
          "season": "Summer",
          "season_color": "blue",
          "sport": "Tennis"
         },
         {
          "medal_count": 5,
          "noc": "CHI",
          "season": "Summer",
          "season_color": "blue",
          "sport": "Tennis"
         },
         {
          "medal_count": 4,
          "noc": "CHN",
          "season": "Summer",
          "season_color": "blue",
          "sport": "Tennis"
         },
         {
          "medal_count": 5,
          "noc": "CRO",
          "season": "Summer",
          "season_color": "blue",
          "sport": "Tennis"
         },
         {
          "medal_count": 10,
          "noc": "CZE",
          "season": "Summer",
          "season_color": "blue",
          "sport": "Tennis"
         },
         {
          "medal_count": 1,
          "noc": "DEN",
          "season": "Summer",
          "season_color": "blue",
          "sport": "Tennis"
         },
         {
          "medal_count": 19,
          "noc": "ESP",
          "season": "Summer",
          "season_color": "blue",
          "sport": "Tennis"
         },
         {
          "medal_count": 3,
          "noc": "EUN",
          "season": "Summer",
          "season_color": "blue",
          "sport": "Tennis"
         },
         {
          "medal_count": 38,
          "noc": "FRA",
          "season": "Summer",
          "season_color": "blue",
          "sport": "Tennis"
         },
         {
          "medal_count": 3,
          "noc": "FRG",
          "season": "Summer",
          "season_color": "blue",
          "sport": "Tennis"
         },
         {
          "medal_count": 67,
          "noc": "GBR",
          "season": "Summer",
          "season_color": "blue",
          "sport": "Tennis"
         },
         {
          "medal_count": 15,
          "noc": "GER",
          "season": "Summer",
          "season_color": "blue",
          "sport": "Tennis"
         },
         {
          "medal_count": 13,
          "noc": "GRE",
          "season": "Summer",
          "season_color": "blue",
          "sport": "Tennis"
         },
         {
          "medal_count": 1,
          "noc": "HUN",
          "season": "Summer",
          "season_color": "blue",
          "sport": "Tennis"
         },
         {
          "medal_count": 1,
          "noc": "IND",
          "season": "Summer",
          "season_color": "blue",
          "sport": "Tennis"
         },
         {
          "medal_count": 1,
          "noc": "ITA",
          "season": "Summer",
          "season_color": "blue",
          "sport": "Tennis"
         },
         {
          "medal_count": 4,
          "noc": "JPN",
          "season": "Summer",
          "season_color": "blue",
          "sport": "Tennis"
         },
         {
          "medal_count": 4,
          "noc": "NED",
          "season": "Summer",
          "season_color": "blue",
          "sport": "Tennis"
         },
         {
          "medal_count": 1,
          "noc": "NOR",
          "season": "Summer",
          "season_color": "blue",
          "sport": "Tennis"
         },
         {
          "medal_count": 1,
          "noc": "PUR",
          "season": "Summer",
          "season_color": "blue",
          "sport": "Tennis"
         },
         {
          "medal_count": 2,
          "noc": "ROU",
          "season": "Summer",
          "season_color": "blue",
          "sport": "Tennis"
         },
         {
          "medal_count": 8,
          "noc": "RSA",
          "season": "Summer",
          "season_color": "blue",
          "sport": "Tennis"
         },
         {
          "medal_count": 10,
          "noc": "RUS",
          "season": "Summer",
          "season_color": "blue",
          "sport": "Tennis"
         },
         {
          "medal_count": 1,
          "noc": "SRB",
          "season": "Summer",
          "season_color": "blue",
          "sport": "Tennis"
         },
         {
          "medal_count": 6,
          "noc": "SUI",
          "season": "Summer",
          "season_color": "blue",
          "sport": "Tennis"
         },
         {
          "medal_count": 14,
          "noc": "SWE",
          "season": "Summer",
          "season_color": "blue",
          "sport": "Tennis"
         },
         {
          "medal_count": 7,
          "noc": "TCH",
          "season": "Summer",
          "season_color": "blue",
          "sport": "Tennis"
         },
         {
          "medal_count": 62,
          "noc": "USA",
          "season": "Summer",
          "season_color": "blue",
          "sport": "Tennis"
         },
         {
          "medal_count": 1,
          "noc": "AUS",
          "season": "Summer",
          "season_color": "blue",
          "sport": "Trampolining"
         },
         {
          "medal_count": 1,
          "noc": "BLR",
          "season": "Summer",
          "season_color": "blue",
          "sport": "Trampolining"
         },
         {
          "medal_count": 7,
          "noc": "CAN",
          "season": "Summer",
          "season_color": "blue",
          "sport": "Trampolining"
         },
         {
          "medal_count": 11,
          "noc": "CHN",
          "season": "Summer",
          "season_color": "blue",
          "sport": "Trampolining"
         },
         {
          "medal_count": 1,
          "noc": "GBR",
          "season": "Summer",
          "season_color": "blue",
          "sport": "Trampolining"
         },
         {
          "medal_count": 2,
          "noc": "GER",
          "season": "Summer",
          "season_color": "blue",
          "sport": "Trampolining"
         },
         {
          "medal_count": 4,
          "noc": "RUS",
          "season": "Summer",
          "season_color": "blue",
          "sport": "Trampolining"
         },
         {
          "medal_count": 2,
          "noc": "UKR",
          "season": "Summer",
          "season_color": "blue",
          "sport": "Trampolining"
         },
         {
          "medal_count": 1,
          "noc": "UZB",
          "season": "Summer",
          "season_color": "blue",
          "sport": "Trampolining"
         },
         {
          "medal_count": 5,
          "noc": "AUS",
          "season": "Summer",
          "season_color": "blue",
          "sport": "Triathlon"
         },
         {
          "medal_count": 1,
          "noc": "AUT",
          "season": "Summer",
          "season_color": "blue",
          "sport": "Triathlon"
         },
         {
          "medal_count": 2,
          "noc": "CAN",
          "season": "Summer",
          "season_color": "blue",
          "sport": "Triathlon"
         },
         {
          "medal_count": 1,
          "noc": "CZE",
          "season": "Summer",
          "season_color": "blue",
          "sport": "Triathlon"
         },
         {
          "medal_count": 1,
          "noc": "ESP",
          "season": "Summer",
          "season_color": "blue",
          "sport": "Triathlon"
         },
         {
          "medal_count": 5,
          "noc": "GBR",
          "season": "Summer",
          "season_color": "blue",
          "sport": "Triathlon"
         },
         {
          "medal_count": 2,
          "noc": "GER",
          "season": "Summer",
          "season_color": "blue",
          "sport": "Triathlon"
         },
         {
          "medal_count": 3,
          "noc": "NZL",
          "season": "Summer",
          "season_color": "blue",
          "sport": "Triathlon"
         },
         {
          "medal_count": 1,
          "noc": "POR",
          "season": "Summer",
          "season_color": "blue",
          "sport": "Triathlon"
         },
         {
          "medal_count": 1,
          "noc": "RSA",
          "season": "Summer",
          "season_color": "blue",
          "sport": "Triathlon"
         },
         {
          "medal_count": 5,
          "noc": "SUI",
          "season": "Summer",
          "season_color": "blue",
          "sport": "Triathlon"
         },
         {
          "medal_count": 1,
          "noc": "SWE",
          "season": "Summer",
          "season_color": "blue",
          "sport": "Triathlon"
         },
         {
          "medal_count": 2,
          "noc": "USA",
          "season": "Summer",
          "season_color": "blue",
          "sport": "Triathlon"
         },
         {
          "medal_count": 8,
          "noc": "BEL",
          "season": "Summer",
          "season_color": "blue",
          "sport": "Tug-Of-War"
         },
         {
          "medal_count": 1,
          "noc": "COL",
          "season": "Summer",
          "season_color": "blue",
          "sport": "Tug-Of-War"
         },
         {
          "medal_count": 3,
          "noc": "DEN",
          "season": "Summer",
          "season_color": "blue",
          "sport": "Tug-Of-War"
         },
         {
          "medal_count": 5,
          "noc": "FRA",
          "season": "Summer",
          "season_color": "blue",
          "sport": "Tug-Of-War"
         },
         {
          "medal_count": 40,
          "noc": "GBR",
          "season": "Summer",
          "season_color": "blue",
          "sport": "Tug-Of-War"
         },
         {
          "medal_count": 9,
          "noc": "GER",
          "season": "Summer",
          "season_color": "blue",
          "sport": "Tug-Of-War"
         },
         {
          "medal_count": 8,
          "noc": "GRE",
          "season": "Summer",
          "season_color": "blue",
          "sport": "Tug-Of-War"
         },
         {
          "medal_count": 8,
          "noc": "NED",
          "season": "Summer",
          "season_color": "blue",
          "sport": "Tug-Of-War"
         },
         {
          "medal_count": 19,
          "noc": "SWE",
          "season": "Summer",
          "season_color": "blue",
          "sport": "Tug-Of-War"
         },
         {
          "medal_count": 14,
          "noc": "USA",
          "season": "Summer",
          "season_color": "blue",
          "sport": "Tug-Of-War"
         },
         {
          "medal_count": 12,
          "noc": "ARG",
          "season": "Summer",
          "season_color": "blue",
          "sport": "Volleyball"
         },
         {
          "medal_count": 120,
          "noc": "BRA",
          "season": "Summer",
          "season_color": "blue",
          "sport": "Volleyball"
         },
         {
          "medal_count": 22,
          "noc": "BUL",
          "season": "Summer",
          "season_color": "blue",
          "sport": "Volleyball"
         },
         {
          "medal_count": 66,
          "noc": "CHN",
          "season": "Summer",
          "season_color": "blue",
          "sport": "Volleyball"
         },
         {
          "medal_count": 52,
          "noc": "CUB",
          "season": "Summer",
          "season_color": "blue",
          "sport": "Volleyball"
         },
         {
          "medal_count": 8,
          "noc": "EUN",
          "season": "Summer",
          "season_color": "blue",
          "sport": "Volleyball"
         },
         {
          "medal_count": 24,
          "noc": "GDR",
          "season": "Summer",
          "season_color": "blue",
          "sport": "Volleyball"
         },
         {
          "medal_count": 72,
          "noc": "ITA",
          "season": "Summer",
          "season_color": "blue",
          "sport": "Volleyball"
         },
         {
          "medal_count": 101,
          "noc": "JPN",
          "season": "Summer",
          "season_color": "blue",
          "sport": "Volleyball"
         },
         {
          "medal_count": 12,
          "noc": "KOR",
          "season": "Summer",
          "season_color": "blue",
          "sport": "Volleyball"
         },
         {
          "medal_count": 24,
          "noc": "NED",
          "season": "Summer",
          "season_color": "blue",
          "sport": "Volleyball"
         },
         {
          "medal_count": 12,
          "noc": "PER",
          "season": "Summer",
          "season_color": "blue",
          "sport": "Volleyball"
         },
         {
          "medal_count": 34,
          "noc": "POL",
          "season": "Summer",
          "season_color": "blue",
          "sport": "Volleyball"
         },
         {
          "medal_count": 11,
          "noc": "PRK",
          "season": "Summer",
          "season_color": "blue",
          "sport": "Volleyball"
         },
         {
          "medal_count": 10,
          "noc": "ROU",
          "season": "Summer",
          "season_color": "blue",
          "sport": "Volleyball"
         },
         {
          "medal_count": 70,
          "noc": "RUS",
          "season": "Summer",
          "season_color": "blue",
          "sport": "Volleyball"
         },
         {
          "medal_count": 23,
          "noc": "SCG",
          "season": "Summer",
          "season_color": "blue",
          "sport": "Volleyball"
         },
         {
          "medal_count": 12,
          "noc": "SRB",
          "season": "Summer",
          "season_color": "blue",
          "sport": "Volleyball"
         },
         {
          "medal_count": 23,
          "noc": "TCH",
          "season": "Summer",
          "season_color": "blue",
          "sport": "Volleyball"
         },
         {
          "medal_count": 141,
          "noc": "URS",
          "season": "Summer",
          "season_color": "blue",
          "sport": "Volleyball"
         },
         {
          "medal_count": 120,
          "noc": "USA",
          "season": "Summer",
          "season_color": "blue",
          "sport": "Volleyball"
         },
         {
          "medal_count": 39,
          "noc": "AUS",
          "season": "Summer",
          "season_color": "blue",
          "sport": "Water Polo"
         },
         {
          "medal_count": 54,
          "noc": "BEL",
          "season": "Summer",
          "season_color": "blue",
          "sport": "Water Polo"
         },
         {
          "medal_count": 38,
          "noc": "CRO",
          "season": "Summer",
          "season_color": "blue",
          "sport": "Water Polo"
         },
         {
          "medal_count": 36,
          "noc": "ESP",
          "season": "Summer",
          "season_color": "blue",
          "sport": "Water Polo"
         },
         {
          "medal_count": 13,
          "noc": "EUN",
          "season": "Summer",
          "season_color": "blue",
          "sport": "Water Polo"
         },
         {
          "medal_count": 30,
          "noc": "FRA",
          "season": "Summer",
          "season_color": "blue",
          "sport": "Water Polo"
         },
         {
          "medal_count": 12,
          "noc": "FRG",
          "season": "Summer",
          "season_color": "blue",
          "sport": "Water Polo"
         },
         {
          "medal_count": 28,
          "noc": "GBR",
          "season": "Summer",
          "season_color": "blue",
          "sport": "Water Polo"
         },
         {
          "medal_count": 27,
          "noc": "GER",
          "season": "Summer",
          "season_color": "blue",
          "sport": "Water Polo"
         },
         {
          "medal_count": 13,
          "noc": "GRE",
          "season": "Summer",
          "season_color": "blue",
          "sport": "Water Polo"
         },
         {
          "medal_count": 172,
          "noc": "HUN",
          "season": "Summer",
          "season_color": "blue",
          "sport": "Water Polo"
         },
         {
          "medal_count": 120,
          "noc": "ITA",
          "season": "Summer",
          "season_color": "blue",
          "sport": "Water Polo"
         },
         {
          "medal_count": 31,
          "noc": "NED",
          "season": "Summer",
          "season_color": "blue",
          "sport": "Water Polo"
         },
         {
          "medal_count": 1,
          "noc": "NZL",
          "season": "Summer",
          "season_color": "blue",
          "sport": "Water Polo"
         },
         {
          "medal_count": 51,
          "noc": "RUS",
          "season": "Summer",
          "season_color": "blue",
          "sport": "Water Polo"
         },
         {
          "medal_count": 25,
          "noc": "SCG",
          "season": "Summer",
          "season_color": "blue",
          "sport": "Water Polo"
         },
         {
          "medal_count": 39,
          "noc": "SRB",
          "season": "Summer",
          "season_color": "blue",
          "sport": "Water Polo"
         },
         {
          "medal_count": 24,
          "noc": "SWE",
          "season": "Summer",
          "season_color": "blue",
          "sport": "Water Polo"
         },
         {
          "medal_count": 78,
          "noc": "URS",
          "season": "Summer",
          "season_color": "blue",
          "sport": "Water Polo"
         },
         {
          "medal_count": 150,
          "noc": "USA",
          "season": "Summer",
          "season_color": "blue",
          "sport": "Water Polo"
         },
         {
          "medal_count": 76,
          "noc": "YUG",
          "season": "Summer",
          "season_color": "blue",
          "sport": "Water Polo"
         },
         {
          "medal_count": 2,
          "noc": "ARG",
          "season": "Summer",
          "season_color": "blue",
          "sport": "Weightlifting"
         },
         {
          "medal_count": 7,
          "noc": "ARM",
          "season": "Summer",
          "season_color": "blue",
          "sport": "Weightlifting"
         },
         {
          "medal_count": 4,
          "noc": "AUS",
          "season": "Summer",
          "season_color": "blue",
          "sport": "Weightlifting"
         },
         {
          "medal_count": 11,
          "noc": "AUT",
          "season": "Summer",
          "season_color": "blue",
          "sport": "Weightlifting"
         },
         {
          "medal_count": 1,
          "noc": "AZE",
          "season": "Summer",
          "season_color": "blue",
          "sport": "Weightlifting"
         },
         {
          "medal_count": 4,
          "noc": "BEL",
          "season": "Summer",
          "season_color": "blue",
          "sport": "Weightlifting"
         },
         {
          "medal_count": 12,
          "noc": "BLR",
          "season": "Summer",
          "season_color": "blue",
          "sport": "Weightlifting"
         },
         {
          "medal_count": 36,
          "noc": "BUL",
          "season": "Summer",
          "season_color": "blue",
          "sport": "Weightlifting"
         },
         {
          "medal_count": 3,
          "noc": "CAN",
          "season": "Summer",
          "season_color": "blue",
          "sport": "Weightlifting"
         },
         {
          "medal_count": 57,
          "noc": "CHN",
          "season": "Summer",
          "season_color": "blue",
          "sport": "Weightlifting"
         },
         {
          "medal_count": 6,
          "noc": "COL",
          "season": "Summer",
          "season_color": "blue",
          "sport": "Weightlifting"
         },
         {
          "medal_count": 2,
          "noc": "CRO",
          "season": "Summer",
          "season_color": "blue",
          "sport": "Weightlifting"
         },
         {
          "medal_count": 5,
          "noc": "CUB",
          "season": "Summer",
          "season_color": "blue",
          "sport": "Weightlifting"
         },
         {
          "medal_count": 3,
          "noc": "DEN",
          "season": "Summer",
          "season_color": "blue",
          "sport": "Weightlifting"
         },
         {
          "medal_count": 11,
          "noc": "EGY",
          "season": "Summer",
          "season_color": "blue",
          "sport": "Weightlifting"
         },
         {
          "medal_count": 1,
          "noc": "ESP",
          "season": "Summer",
          "season_color": "blue",
          "sport": "Weightlifting"
         },
         {
          "medal_count": 7,
          "noc": "EST",
          "season": "Summer",
          "season_color": "blue",
          "sport": "Weightlifting"
         },
         {
          "medal_count": 9,
          "noc": "EUN",
          "season": "Summer",
          "season_color": "blue",
          "sport": "Weightlifting"
         },
         {
          "medal_count": 3,
          "noc": "FIN",
          "season": "Summer",
          "season_color": "blue",
          "sport": "Weightlifting"
         },
         {
          "medal_count": 16,
          "noc": "FRA",
          "season": "Summer",
          "season_color": "blue",
          "sport": "Weightlifting"
         },
         {
          "medal_count": 7,
          "noc": "FRG",
          "season": "Summer",
          "season_color": "blue",
          "sport": "Weightlifting"
         },
         {
          "medal_count": 7,
          "noc": "GBR",
          "season": "Summer",
          "season_color": "blue",
          "sport": "Weightlifting"
         },
         {
          "medal_count": 11,
          "noc": "GDR",
          "season": "Summer",
          "season_color": "blue",
          "sport": "Weightlifting"
         },
         {
          "medal_count": 4,
          "noc": "GEO",
          "season": "Summer",
          "season_color": "blue",
          "sport": "Weightlifting"
         },
         {
          "medal_count": 25,
          "noc": "GER",
          "season": "Summer",
          "season_color": "blue",
          "sport": "Weightlifting"
         },
         {
          "medal_count": 16,
          "noc": "GRE",
          "season": "Summer",
          "season_color": "blue",
          "sport": "Weightlifting"
         },
         {
          "medal_count": 20,
          "noc": "HUN",
          "season": "Summer",
          "season_color": "blue",
          "sport": "Weightlifting"
         },
         {
          "medal_count": 10,
          "noc": "INA",
          "season": "Summer",
          "season_color": "blue",
          "sport": "Weightlifting"
         },
         {
          "medal_count": 1,
          "noc": "IND",
          "season": "Summer",
          "season_color": "blue",
          "sport": "Weightlifting"
         },
         {
          "medal_count": 18,
          "noc": "IRI",
          "season": "Summer",
          "season_color": "blue",
          "sport": "Weightlifting"
         },
         {
          "medal_count": 1,
          "noc": "IRQ",
          "season": "Summer",
          "season_color": "blue",
          "sport": "Weightlifting"
         },
         {
          "medal_count": 15,
          "noc": "ITA",
          "season": "Summer",
          "season_color": "blue",
          "sport": "Weightlifting"
         },
         {
          "medal_count": 14,
          "noc": "JPN",
          "season": "Summer",
          "season_color": "blue",
          "sport": "Weightlifting"
         },
         {
          "medal_count": 16,
          "noc": "KAZ",
          "season": "Summer",
          "season_color": "blue",
          "sport": "Weightlifting"
         },
         {
          "medal_count": 12,
          "noc": "KOR",
          "season": "Summer",
          "season_color": "blue",
          "sport": "Weightlifting"
         },
         {
          "medal_count": 2,
          "noc": "LAT",
          "season": "Summer",
          "season_color": "blue",
          "sport": "Weightlifting"
         },
         {
          "medal_count": 1,
          "noc": "LIB",
          "season": "Summer",
          "season_color": "blue",
          "sport": "Weightlifting"
         },
         {
          "medal_count": 1,
          "noc": "LTU",
          "season": "Summer",
          "season_color": "blue",
          "sport": "Weightlifting"
         },
         {
          "medal_count": 1,
          "noc": "LUX",
          "season": "Summer",
          "season_color": "blue",
          "sport": "Weightlifting"
         },
         {
          "medal_count": 2,
          "noc": "MDA",
          "season": "Summer",
          "season_color": "blue",
          "sport": "Weightlifting"
         },
         {
          "medal_count": 1,
          "noc": "MEX",
          "season": "Summer",
          "season_color": "blue",
          "sport": "Weightlifting"
         },
         {
          "medal_count": 3,
          "noc": "NED",
          "season": "Summer",
          "season_color": "blue",
          "sport": "Weightlifting"
         },
         {
          "medal_count": 1,
          "noc": "NGR",
          "season": "Summer",
          "season_color": "blue",
          "sport": "Weightlifting"
         },
         {
          "medal_count": 1,
          "noc": "NOR",
          "season": "Summer",
          "season_color": "blue",
          "sport": "Weightlifting"
         },
         {
          "medal_count": 1,
          "noc": "PHI",
          "season": "Summer",
          "season_color": "blue",
          "sport": "Weightlifting"
         },
         {
          "medal_count": 32,
          "noc": "POL",
          "season": "Summer",
          "season_color": "blue",
          "sport": "Weightlifting"
         },
         {
          "medal_count": 17,
          "noc": "PRK",
          "season": "Summer",
          "season_color": "blue",
          "sport": "Weightlifting"
         },
         {
          "medal_count": 1,
          "noc": "QAT",
          "season": "Summer",
          "season_color": "blue",
          "sport": "Weightlifting"
         },
         {
          "medal_count": 13,
          "noc": "ROU",
          "season": "Summer",
          "season_color": "blue",
          "sport": "Weightlifting"
         },
         {
          "medal_count": 26,
          "noc": "RUS",
          "season": "Summer",
          "season_color": "blue",
          "sport": "Weightlifting"
         },
         {
          "medal_count": 1,
          "noc": "SGP",
          "season": "Summer",
          "season_color": "blue",
          "sport": "Weightlifting"
         },
         {
          "medal_count": 4,
          "noc": "SUI",
          "season": "Summer",
          "season_color": "blue",
          "sport": "Weightlifting"
         },
         {
          "medal_count": 4,
          "noc": "SWE",
          "season": "Summer",
          "season_color": "blue",
          "sport": "Weightlifting"
         },
         {
          "medal_count": 8,
          "noc": "TCH",
          "season": "Summer",
          "season_color": "blue",
          "sport": "Weightlifting"
         },
         {
          "medal_count": 11,
          "noc": "THA",
          "season": "Summer",
          "season_color": "blue",
          "sport": "Weightlifting"
         },
         {
          "medal_count": 8,
          "noc": "TPE",
          "season": "Summer",
          "season_color": "blue",
          "sport": "Weightlifting"
         },
         {
          "medal_count": 3,
          "noc": "TTO",
          "season": "Summer",
          "season_color": "blue",
          "sport": "Weightlifting"
         },
         {
          "medal_count": 12,
          "noc": "TUR",
          "season": "Summer",
          "season_color": "blue",
          "sport": "Weightlifting"
         },
         {
          "medal_count": 8,
          "noc": "UKR",
          "season": "Summer",
          "season_color": "blue",
          "sport": "Weightlifting"
         },
         {
          "medal_count": 62,
          "noc": "URS",
          "season": "Summer",
          "season_color": "blue",
          "sport": "Weightlifting"
         },
         {
          "medal_count": 42,
          "noc": "USA",
          "season": "Summer",
          "season_color": "blue",
          "sport": "Weightlifting"
         },
         {
          "medal_count": 1,
          "noc": "UZB",
          "season": "Summer",
          "season_color": "blue",
          "sport": "Weightlifting"
         },
         {
          "medal_count": 1,
          "noc": "VEN",
          "season": "Summer",
          "season_color": "blue",
          "sport": "Weightlifting"
         },
         {
          "medal_count": 1,
          "noc": "VIE",
          "season": "Summer",
          "season_color": "blue",
          "sport": "Weightlifting"
         },
         {
          "medal_count": 8,
          "noc": "ARM",
          "season": "Summer",
          "season_color": "blue",
          "sport": "Wrestling"
         },
         {
          "medal_count": 3,
          "noc": "AUS",
          "season": "Summer",
          "season_color": "blue",
          "sport": "Wrestling"
         },
         {
          "medal_count": 6,
          "noc": "AUT",
          "season": "Summer",
          "season_color": "blue",
          "sport": "Wrestling"
         },
         {
          "medal_count": 23,
          "noc": "AZE",
          "season": "Summer",
          "season_color": "blue",
          "sport": "Wrestling"
         },
         {
          "medal_count": 4,
          "noc": "BEL",
          "season": "Summer",
          "season_color": "blue",
          "sport": "Wrestling"
         },
         {
          "medal_count": 11,
          "noc": "BLR",
          "season": "Summer",
          "season_color": "blue",
          "sport": "Wrestling"
         },
         {
          "medal_count": 69,
          "noc": "BUL",
          "season": "Summer",
          "season_color": "blue",
          "sport": "Wrestling"
         },
         {
          "medal_count": 17,
          "noc": "CAN",
          "season": "Summer",
          "season_color": "blue",
          "sport": "Wrestling"
         },
         {
          "medal_count": 10,
          "noc": "CHN",
          "season": "Summer",
          "season_color": "blue",
          "sport": "Wrestling"
         },
         {
          "medal_count": 2,
          "noc": "COL",
          "season": "Summer",
          "season_color": "blue",
          "sport": "Wrestling"
         },
         {
          "medal_count": 22,
          "noc": "CUB",
          "season": "Summer",
          "season_color": "blue",
          "sport": "Wrestling"
         },
         {
          "medal_count": 13,
          "noc": "DEN",
          "season": "Summer",
          "season_color": "blue",
          "sport": "Wrestling"
         },
         {
          "medal_count": 6,
          "noc": "EGY",
          "season": "Summer",
          "season_color": "blue",
          "sport": "Wrestling"
         },
         {
          "medal_count": 1,
          "noc": "ESP",
          "season": "Summer",
          "season_color": "blue",
          "sport": "Wrestling"
         },
         {
          "medal_count": 11,
          "noc": "EST",
          "season": "Summer",
          "season_color": "blue",
          "sport": "Wrestling"
         },
         {
          "medal_count": 16,
          "noc": "EUN",
          "season": "Summer",
          "season_color": "blue",
          "sport": "Wrestling"
         },
         {
          "medal_count": 85,
          "noc": "FIN",
          "season": "Summer",
          "season_color": "blue",
          "sport": "Wrestling"
         },
         {
          "medal_count": 17,
          "noc": "FRA",
          "season": "Summer",
          "season_color": "blue",
          "sport": "Wrestling"
         },
         {
          "medal_count": 9,
          "noc": "FRG",
          "season": "Summer",
          "season_color": "blue",
          "sport": "Wrestling"
         },
         {
          "medal_count": 17,
          "noc": "GBR",
          "season": "Summer",
          "season_color": "blue",
          "sport": "Wrestling"
         },
         {
          "medal_count": 7,
          "noc": "GDR",
          "season": "Summer",
          "season_color": "blue",
          "sport": "Wrestling"
         },
         {
          "medal_count": 18,
          "noc": "GEO",
          "season": "Summer",
          "season_color": "blue",
          "sport": "Wrestling"
         },
         {
          "medal_count": 35,
          "noc": "GER",
          "season": "Summer",
          "season_color": "blue",
          "sport": "Wrestling"
         },
         {
          "medal_count": 11,
          "noc": "GRE",
          "season": "Summer",
          "season_color": "blue",
          "sport": "Wrestling"
         },
         {
          "medal_count": 55,
          "noc": "HUN",
          "season": "Summer",
          "season_color": "blue",
          "sport": "Wrestling"
         },
         {
          "medal_count": 5,
          "noc": "IND",
          "season": "Summer",
          "season_color": "blue",
          "sport": "Wrestling"
         },
         {
          "medal_count": 43,
          "noc": "IRI",
          "season": "Summer",
          "season_color": "blue",
          "sport": "Wrestling"
         },
         {
          "medal_count": 21,
          "noc": "ITA",
          "season": "Summer",
          "season_color": "blue",
          "sport": "Wrestling"
         },
         {
          "medal_count": 69,
          "noc": "JPN",
          "season": "Summer",
          "season_color": "blue",
          "sport": "Wrestling"
         },
         {
          "medal_count": 17,
          "noc": "KAZ",
          "season": "Summer",
          "season_color": "blue",
          "sport": "Wrestling"
         },
         {
          "medal_count": 2,
          "noc": "KGZ",
          "season": "Summer",
          "season_color": "blue",
          "sport": "Wrestling"
         },
         {
          "medal_count": 36,
          "noc": "KOR",
          "season": "Summer",
          "season_color": "blue",
          "sport": "Wrestling"
         },
         {
          "medal_count": 1,
          "noc": "LAT",
          "season": "Summer",
          "season_color": "blue",
          "sport": "Wrestling"
         },
         {
          "medal_count": 3,
          "noc": "LIB",
          "season": "Summer",
          "season_color": "blue",
          "sport": "Wrestling"
         },
         {
          "medal_count": 2,
          "noc": "LTU",
          "season": "Summer",
          "season_color": "blue",
          "sport": "Wrestling"
         },
         {
          "medal_count": 1,
          "noc": "MDA",
          "season": "Summer",
          "season_color": "blue",
          "sport": "Wrestling"
         },
         {
          "medal_count": 1,
          "noc": "MEX",
          "season": "Summer",
          "season_color": "blue",
          "sport": "Wrestling"
         },
         {
          "medal_count": 9,
          "noc": "MGL",
          "season": "Summer",
          "season_color": "blue",
          "sport": "Wrestling"
         },
         {
          "medal_count": 1,
          "noc": "MKD",
          "season": "Summer",
          "season_color": "blue",
          "sport": "Wrestling"
         },
         {
          "medal_count": 8,
          "noc": "NOR",
          "season": "Summer",
          "season_color": "blue",
          "sport": "Wrestling"
         },
         {
          "medal_count": 1,
          "noc": "PAK",
          "season": "Summer",
          "season_color": "blue",
          "sport": "Wrestling"
         },
         {
          "medal_count": 26,
          "noc": "POL",
          "season": "Summer",
          "season_color": "blue",
          "sport": "Wrestling"
         },
         {
          "medal_count": 10,
          "noc": "PRK",
          "season": "Summer",
          "season_color": "blue",
          "sport": "Wrestling"
         },
         {
          "medal_count": 1,
          "noc": "PUR",
          "season": "Summer",
          "season_color": "blue",
          "sport": "Wrestling"
         },
         {
          "medal_count": 33,
          "noc": "ROU",
          "season": "Summer",
          "season_color": "blue",
          "sport": "Wrestling"
         },
         {
          "medal_count": 60,
          "noc": "RUS",
          "season": "Summer",
          "season_color": "blue",
          "sport": "Wrestling"
         },
         {
          "medal_count": 1,
          "noc": "SRB",
          "season": "Summer",
          "season_color": "blue",
          "sport": "Wrestling"
         },
         {
          "medal_count": 15,
          "noc": "SUI",
          "season": "Summer",
          "season_color": "blue",
          "sport": "Wrestling"
         },
         {
          "medal_count": 1,
          "noc": "SVK",
          "season": "Summer",
          "season_color": "blue",
          "sport": "Wrestling"
         },
         {
          "medal_count": 86,
          "noc": "SWE",
          "season": "Summer",
          "season_color": "blue",
          "sport": "Wrestling"
         },
         {
          "medal_count": 1,
          "noc": "SYR",
          "season": "Summer",
          "season_color": "blue",
          "sport": "Wrestling"
         },
         {
          "medal_count": 15,
          "noc": "TCH",
          "season": "Summer",
          "season_color": "blue",
          "sport": "Wrestling"
         },
         {
          "medal_count": 1,
          "noc": "TJK",
          "season": "Summer",
          "season_color": "blue",
          "sport": "Wrestling"
         },
         {
          "medal_count": 1,
          "noc": "TUN",
          "season": "Summer",
          "season_color": "blue",
          "sport": "Wrestling"
         },
         {
          "medal_count": 63,
          "noc": "TUR",
          "season": "Summer",
          "season_color": "blue",
          "sport": "Wrestling"
         },
         {
          "medal_count": 1,
          "noc": "UAR",
          "season": "Summer",
          "season_color": "blue",
          "sport": "Wrestling"
         },
         {
          "medal_count": 15,
          "noc": "UKR",
          "season": "Summer",
          "season_color": "blue",
          "sport": "Wrestling"
         },
         {
          "medal_count": 116,
          "noc": "URS",
          "season": "Summer",
          "season_color": "blue",
          "sport": "Wrestling"
         },
         {
          "medal_count": 128,
          "noc": "USA",
          "season": "Summer",
          "season_color": "blue",
          "sport": "Wrestling"
         },
         {
          "medal_count": 10,
          "noc": "UZB",
          "season": "Summer",
          "season_color": "blue",
          "sport": "Wrestling"
         },
         {
          "medal_count": 16,
          "noc": "YUG",
          "season": "Summer",
          "season_color": "blue",
          "sport": "Wrestling"
         }
        ]
       },
       "encoding": {
        "color": {
         "field": "medal_count",
         "scale": {
          "domainMid": 0,
          "scheme": "blueorange"
         },
         "title": "Number of Medals",
         "type": "quantitative"
        },
        "tooltip": [
         {
          "field": "sport",
          "type": "nominal"
         },
         {
          "field": "noc",
          "type": "nominal"
         },
         {
          "field": "season",
          "type": "nominal"
         },
         {
          "field": "medal_count",
          "type": "quantitative"
         }
        ],
        "x": {
         "field": "sport",
         "sort": null,
         "title": "Sport",
         "type": "nominal"
        },
        "y": {
         "field": "noc",
         "sort": null,
         "title": "Nation",
         "type": "nominal"
        }
       },
       "height": 1200,
       "mark": {
        "type": "rect"
       },
       "title": "Olympic Medals Heatmap: Sports vs Nations",
       "width": 1600
      },
      "text/plain": [
       "<VegaLite 5 object>\n",
       "\n",
       "If you see this message, it means the renderer has not been properly enabled\n",
       "for the frontend that you are using. For more information, see\n",
       "https://altair-viz.github.io/user_guide/display_frontends.html#troubleshooting\n"
      ]
     },
     "execution_count": 6,
     "metadata": {},
     "output_type": "execute_result"
    }
   ],
   "source": [
    "# Importing necessary libraries and installing dependencies\n",
    "%pip install pandas\n",
    "%pip install altair\n",
    "\n",
    "import pandas as pd\n",
    "import altair as alt\n",
    "\n",
    "# Enabling Altair's mimetype renderer for interactive visualization\n",
    "alt.renderers.enable('mimetype')\n",
    "\n",
    "# Reading the dataset\n",
    "url = 'https://raw.githubusercontent.com/rfordatascience/tidytuesday/master/data/2021/2021-07-27/olympics.csv'\n",
    "df = pd.read_csv(url)\n",
    "\n",
    "# Data Preparation for the Heatmap\n",
    "# Aggregating medal counts by Sport, Nation, and Season\n",
    "medal_counts = (\n",
    "    df[df['medal'].notna()]  # Exclude rows without medals\n",
    "    .groupby(['sport', 'noc', 'season'])  # Group by Sport, Nation, and Season\n",
    "    .size()\n",
    "    .reset_index(name='medal_count')  # Count medals\n",
    ")\n",
    "\n",
    "# Adding a column to distinguish between Summer and Winter for coloring\n",
    "medal_counts['season_color'] = medal_counts['season'].apply(\n",
    "    lambda x: 'blue' if x == 'Summer' else 'orange'\n",
    ")\n",
    "\n",
    "# Creating the heatmap\n",
    "heatmap = alt.Chart(medal_counts).mark_rect().encode(\n",
    "    x=alt.X('sport:N', title='Sport', sort=None),\n",
    "    y=alt.Y('noc:N', title='Nation', sort=None),\n",
    "    color=alt.Color(\n",
    "        'medal_count:Q',\n",
    "        scale=alt.Scale(scheme='blueorange', domainMid=0),\n",
    "        title='Number of Medals'\n",
    "    ),\n",
    "    tooltip=['sport', 'noc', 'season', 'medal_count']\n",
    ").properties(\n",
    "    width=1600,\n",
    "    height=1200,\n",
    "    title='Olympic Medals Heatmap: Sports vs Nations'\n",
    ")\n",
    "\n",
    "heatmap\n"
   ]
  },
  {
   "cell_type": "code",
   "execution_count": 19,
   "metadata": {},
   "outputs": [
    {
     "ename": "KeyError",
     "evalue": "'properties'",
     "output_type": "error",
     "traceback": [
      "\u001b[0;31m---------------------------------------------------------------------------\u001b[0m",
      "\u001b[0;31mKeyError\u001b[0m                                  Traceback (most recent call last)",
      "Cell \u001b[0;32mIn[19], line 17\u001b[0m\n\u001b[1;32m     11\u001b[0m     topojson \u001b[38;5;241m=\u001b[39m json\u001b[38;5;241m.\u001b[39mload(response)\n\u001b[1;32m     13\u001b[0m \u001b[38;5;66;03m# Inspect structure (if needed)\u001b[39;00m\n\u001b[1;32m     14\u001b[0m \u001b[38;5;66;03m# print(json.dumps(topojson, indent=2))\u001b[39;00m\n\u001b[1;32m     15\u001b[0m \n\u001b[1;32m     16\u001b[0m \u001b[38;5;66;03m# Extract mappings of numeric IDs and ISO3 codes\u001b[39;00m\n\u001b[0;32m---> 17\u001b[0m country_mappings \u001b[38;5;241m=\u001b[39m [\n\u001b[1;32m     18\u001b[0m     {\n\u001b[1;32m     19\u001b[0m         \u001b[38;5;124m\"\u001b[39m\u001b[38;5;124mid\u001b[39m\u001b[38;5;124m\"\u001b[39m: feature[\u001b[38;5;124m\"\u001b[39m\u001b[38;5;124mid\u001b[39m\u001b[38;5;124m\"\u001b[39m],\n\u001b[1;32m     20\u001b[0m         \u001b[38;5;124m\"\u001b[39m\u001b[38;5;124miso_alpha3\u001b[39m\u001b[38;5;124m\"\u001b[39m: feature[\u001b[38;5;124m\"\u001b[39m\u001b[38;5;124mproperties\u001b[39m\u001b[38;5;124m\"\u001b[39m][\u001b[38;5;124m\"\u001b[39m\u001b[38;5;124mISO_A3\u001b[39m\u001b[38;5;124m\"\u001b[39m]  \u001b[38;5;66;03m# Adjust the key based on actual structure\u001b[39;00m\n\u001b[1;32m     21\u001b[0m     }\n\u001b[1;32m     22\u001b[0m     \u001b[38;5;28;01mfor\u001b[39;00m feature \u001b[38;5;129;01min\u001b[39;00m topojson[\u001b[38;5;124m\"\u001b[39m\u001b[38;5;124mobjects\u001b[39m\u001b[38;5;124m\"\u001b[39m][\u001b[38;5;124m\"\u001b[39m\u001b[38;5;124mcountries\u001b[39m\u001b[38;5;124m\"\u001b[39m][\u001b[38;5;124m\"\u001b[39m\u001b[38;5;124mgeometries\u001b[39m\u001b[38;5;124m\"\u001b[39m]\n\u001b[1;32m     23\u001b[0m ]\n\u001b[1;32m     24\u001b[0m countries \u001b[38;5;241m=\u001b[39m pd\u001b[38;5;241m.\u001b[39mDataFrame(country_mappings)\n\u001b[1;32m     26\u001b[0m \u001b[38;5;66;03m# Load the Olympic dataset\u001b[39;00m\n",
      "Cell \u001b[0;32mIn[19], line 20\u001b[0m, in \u001b[0;36m<listcomp>\u001b[0;34m(.0)\u001b[0m\n\u001b[1;32m     11\u001b[0m     topojson \u001b[38;5;241m=\u001b[39m json\u001b[38;5;241m.\u001b[39mload(response)\n\u001b[1;32m     13\u001b[0m \u001b[38;5;66;03m# Inspect structure (if needed)\u001b[39;00m\n\u001b[1;32m     14\u001b[0m \u001b[38;5;66;03m# print(json.dumps(topojson, indent=2))\u001b[39;00m\n\u001b[1;32m     15\u001b[0m \n\u001b[1;32m     16\u001b[0m \u001b[38;5;66;03m# Extract mappings of numeric IDs and ISO3 codes\u001b[39;00m\n\u001b[1;32m     17\u001b[0m country_mappings \u001b[38;5;241m=\u001b[39m [\n\u001b[1;32m     18\u001b[0m     {\n\u001b[1;32m     19\u001b[0m         \u001b[38;5;124m\"\u001b[39m\u001b[38;5;124mid\u001b[39m\u001b[38;5;124m\"\u001b[39m: feature[\u001b[38;5;124m\"\u001b[39m\u001b[38;5;124mid\u001b[39m\u001b[38;5;124m\"\u001b[39m],\n\u001b[0;32m---> 20\u001b[0m         \u001b[38;5;124m\"\u001b[39m\u001b[38;5;124miso_alpha3\u001b[39m\u001b[38;5;124m\"\u001b[39m: \u001b[43mfeature\u001b[49m\u001b[43m[\u001b[49m\u001b[38;5;124;43m\"\u001b[39;49m\u001b[38;5;124;43mproperties\u001b[39;49m\u001b[38;5;124;43m\"\u001b[39;49m\u001b[43m]\u001b[49m[\u001b[38;5;124m\"\u001b[39m\u001b[38;5;124mISO_A3\u001b[39m\u001b[38;5;124m\"\u001b[39m]  \u001b[38;5;66;03m# Adjust the key based on actual structure\u001b[39;00m\n\u001b[1;32m     21\u001b[0m     }\n\u001b[1;32m     22\u001b[0m     \u001b[38;5;28;01mfor\u001b[39;00m feature \u001b[38;5;129;01min\u001b[39;00m topojson[\u001b[38;5;124m\"\u001b[39m\u001b[38;5;124mobjects\u001b[39m\u001b[38;5;124m\"\u001b[39m][\u001b[38;5;124m\"\u001b[39m\u001b[38;5;124mcountries\u001b[39m\u001b[38;5;124m\"\u001b[39m][\u001b[38;5;124m\"\u001b[39m\u001b[38;5;124mgeometries\u001b[39m\u001b[38;5;124m\"\u001b[39m]\n\u001b[1;32m     23\u001b[0m ]\n\u001b[1;32m     24\u001b[0m countries \u001b[38;5;241m=\u001b[39m pd\u001b[38;5;241m.\u001b[39mDataFrame(country_mappings)\n\u001b[1;32m     26\u001b[0m \u001b[38;5;66;03m# Load the Olympic dataset\u001b[39;00m\n",
      "\u001b[0;31mKeyError\u001b[0m: 'properties'"
     ]
    }
   ],
   "source": [
    "import altair as alt\n",
    "import pandas as pd\n",
    "import json\n",
    "import pycountry\n",
    "import urllib.request\n",
    "from vega_datasets import data\n",
    "\n",
    "# Load the TopoJSON file\n",
    "topojson_url = data.world_110m.url\n",
    "with urllib.request.urlopen(topojson_url) as response:\n",
    "    topojson = json.load(response)\n",
    "\n",
    "# Inspect structure (if needed)\n",
    "# print(json.dumps(topojson, indent=2))\n",
    "\n",
    "# Extract mappings of numeric IDs and ISO3 codes\n",
    "country_mappings = [\n",
    "    {\n",
    "        \"id\": feature[\"id\"],\n",
    "        \"iso_alpha3\": feature[\"properties\"][\"ISO_A3\"]  # Adjust the key based on actual structure\n",
    "    }\n",
    "    for feature in topojson[\"objects\"][\"countries\"][\"geometries\"]\n",
    "]\n",
    "countries = pd.DataFrame(country_mappings)\n",
    "\n",
    "# Load the Olympic dataset\n",
    "url = 'https://raw.githubusercontent.com/rfordatascience/tidytuesday/master/data/2021/2021-07-27/olympics.csv'\n",
    "df = pd.read_csv(url)\n",
    "\n",
    "# Function to map NOC to ISO3 using pycountry\n",
    "def noc_to_iso3(noc):\n",
    "    try:\n",
    "        country = pycountry.countries.lookup(noc)\n",
    "        return country.alpha_3\n",
    "    except LookupError:\n",
    "        return None\n",
    "\n",
    "# Aggregate medal counts by nation\n",
    "medal_counts_by_nation = (\n",
    "    df[df['medal'].notna()]\n",
    "    .groupby('noc')\n",
    "    .size()\n",
    "    .reset_index(name='medal_count')\n",
    ")\n",
    "\n",
    "# Manual mapping for missing NOC to ISO3 codes\n",
    "manual_mapping = {\n",
    "    'AHO': 'ANT',  # Netherlands Antilles\n",
    "    'ALG': 'DZA',  # Algeria\n",
    "    'ANZ': None,   # Australasia (no ISO3 code, not a country)\n",
    "    'BOH': 'CZE',  # Bohemia (Czech Republic)\n",
    "    'BWI': None,   # British West Indies (no ISO3 code)\n",
    "    'YUG': 'SRB',  # Yugoslavia -> Serbia\n",
    "    'SCG': 'SRB',  # Serbia and Montenegro -> Serbia\n",
    "    'URS': 'RUS',  # Soviet Union -> Russia\n",
    "    'TCH': 'CZE',  # Czechoslovakia -> Czech Republic\n",
    "    'FRG': 'DEU',  # West Germany -> Germany\n",
    "    'GDR': 'DEU',  # East Germany -> Germany\n",
    "    # Add additional mappings if needed\n",
    "}\n",
    "\n",
    "# Function to handle both automatic and manual ISO3 mapping\n",
    "def handle_missing_iso3(noc):\n",
    "    if pd.isna(noc_to_iso3(noc)):\n",
    "        return manual_mapping.get(noc, None)\n",
    "    return noc_to_iso3(noc)\n",
    "\n",
    "# Apply the function to map NOC to ISO3 codes\n",
    "medal_counts_by_nation['iso_alpha3'] = medal_counts_by_nation['noc'].apply(handle_missing_iso3)\n",
    "\n",
    "# Drop rows with missing ISO3 codes\n",
    "medal_counts_by_nation = medal_counts_by_nation.dropna(subset=['iso_alpha3'])\n",
    "\n",
    "# Merge medal data with numeric country IDs\n",
    "medal_counts_with_ids = pd.merge(\n",
    "    medal_counts_by_nation,\n",
    "    countries,\n",
    "    on='iso_alpha3',\n",
    "    how='inner'\n",
    ")\n",
    "\n",
    "# Visualize the data on a world map\n",
    "world = alt.topo_feature(data.world_110m.url, 'countries')\n",
    "\n",
    "world_map = alt.Chart(world).mark_geoshape().encode(\n",
    "    color=alt.Color(\n",
    "        'medal_count:Q', \n",
    "        scale=alt.Scale(scheme='goldred'), \n",
    "        title='Number of Medals'\n",
    "    ),\n",
    "    tooltip=[\n",
    "        alt.Tooltip('noc:N', title='NOC'),\n",
    "        alt.Tooltip('medal_count:Q', title='Medal Count')\n",
    "    ]\n",
    ").transform_lookup(\n",
    "    lookup='id',  # Use numeric country IDs for the lookup\n",
    "    from_=alt.LookupData(medal_counts_with_ids, 'id', ['medal_count', 'noc'])\n",
    ").properties(\n",
    "    width=1000,\n",
    "    height=600,\n",
    "    title='Olympic Medals by Country'\n",
    ").project(\n",
    "    type='equirectangular'  # Equirectangular projection for better world map display\n",
    ")\n",
    "\n",
    "world_map\n"
   ]
  },
  {
   "cell_type": "code",
   "execution_count": null,
   "metadata": {},
   "outputs": [],
   "source": []
  },
  {
   "cell_type": "code",
   "execution_count": 25,
   "metadata": {},
   "outputs": [
    {
     "name": "stdout",
     "output_type": "stream",
     "text": [
      "Unique IDs in TopoJSON: [  4  24   8 784  32  51  10 260  36  40  31 108  56 204 854  50 100  44\n",
      "  70 112  84  68  76  96  64  72 140 124 756 152 156 384 120 180 178 170\n",
      " 188 192 -99 196 203 276 262 208 214  12 218 818 232 724 233 231 246 242\n",
      " 238 250 266 826 268 288 324 270 624 226 300 304 320 328 340 191 332 348\n",
      " 360 356 372 364 368 352 376 380 388 400 392 398 404 417 116 410 414 418\n",
      " 422 430 434 144 426 440 442 428 504 498 450 484 807 466 104 499 496 508\n",
      " 478 454 458 516 540 562 566 558 528 578 524 554 512 586 591 604 608 598\n",
      " 616 630 408 620 600 275 634 642 643 646 732 682 729 728 686  90 694 222\n",
      " 706 688 740 703 705 752 748 760 148 768 764 762 795 626 780 788 792 158\n",
      " 834 800 804 858 840 860 862 704 548 887 710 894 716]\n",
      "Unique IDs in Medal Data: []\n",
      "Empty DataFrame\n",
      "Columns: [noc, medal_count, iso_alpha3, id]\n",
      "Index: []\n",
      "UrlData({\n",
      "  format: TopoDataFormat({\n",
      "    feature: 'countries',\n",
      "    type: 'topojson'\n",
      "  }),\n",
      "  url: 'https://vega.github.io/vega-datasets/data/world-110m.json'\n",
      "})\n",
      "Unique iso_alpha3 in Medal Data: ['AFG' 'ANT' 'DZA' 'None' 'ARG' 'ARM' 'AUS' 'AUT' 'AZE' 'BDI' 'BEL' 'BLR'\n",
      " 'CZE' 'BRA' 'BRN' 'CAN' 'CHN' 'CIV' 'CMR' 'COL' 'CUB' 'CYP' 'DJI' 'DOM'\n",
      " 'ECU' 'EGY' 'ERI' 'ESP' 'EST' 'ETH' 'FIN' 'FRA' 'DEU' 'GAB' 'GBR' 'GEO'\n",
      " 'GHA' 'GUY' 'HKG' 'HUN' 'IND' 'IRL' 'IRQ' 'ISL' 'ISR' 'ITA' 'JAM' 'JOR'\n",
      " 'JPN' 'KAZ' 'KEN' 'KGZ' 'KOR' 'LIE' 'LTU' 'LUX' 'MAR' 'MDA' 'MEX' 'MKD'\n",
      " 'MNE' 'MOZ' 'NAM' 'NOR' 'NZL' 'PAK' 'PAN' 'PER' 'POL' 'PRK' 'QAT' 'ROU'\n",
      " 'RUS' 'SRB' 'SEN' 'SGP' 'SUR' 'SVK' 'SWE' 'SYR' 'THA' 'TJK' 'TTO' 'TUN'\n",
      " 'TUR' 'UGA' 'UKR' 'USA' 'UZB' 'VEN']\n",
      "Unique iso_alpha3 in Countries Data: ['4' '24' '8' '784' '32' '51' '10' '260' '36' '40' '31' '108' '56' '204'\n",
      " '854' '50' '100' '44' '70' '112' '84' '68' '76' '96' '64' '72' '140'\n",
      " '124' '756' '152' '156' '384' '120' '180' '178' '170' '188' '192' '-99'\n",
      " '196' '203' '276' '262' '208' '214' '12' '218' '818' '232' '724' '233'\n",
      " '231' '246' '242' '238' '250' '266' '826' '268' '288' '324' '270' '624'\n",
      " '226' '300' '304' '320' '328' '340' '191' '332' '348' '360' '356' '372'\n",
      " '364' '368' '352' '376' '380' '388' '400' '392' '398' '404' '417' '116'\n",
      " '410' '414' '418' '422' '430' '434' '144' '426' '440' '442' '428' '504'\n",
      " '498' '450' '484' '807' '466' '104' '499' '496' '508' '478' '454' '458'\n",
      " '516' '540' '562' '566' '558' '528' '578' '524' '554' '512' '586' '591'\n",
      " '604' '608' '598' '616' '630' '408' '620' '600' '275' '634' '642' '643'\n",
      " '646' '732' '682' '729' '728' '686' '90' '694' '222' '706' '688' '740'\n",
      " '703' '705' '752' '748' '760' '148' '768' '764' '762' '795' '626' '780'\n",
      " '788' '792' '158' '834' '800' '804' '858' '840' '860' '862' '704' '548'\n",
      " '887' '710' '894' '716']\n",
      "Type of iso_alpha3 in Medal Data: object\n",
      "Type of iso_alpha3 in Countries Data: object\n"
     ]
    }
   ],
   "source": [
    "import altair as alt\n",
    "import pandas as pd\n",
    "import json\n",
    "import pycountry\n",
    "import urllib.request\n",
    "\n",
    "# Load the TopoJSON file from the provided URL\n",
    "topojson_url = \"https://vega.github.io/vega-datasets/data/world-110m.json\"\n",
    "with urllib.request.urlopen(topojson_url) as response:\n",
    "    topojson = json.load(response)\n",
    "\n",
    "# Extract mappings of numeric IDs and ISO3 codes\n",
    "# Note: The 'id' in the TopoJSON file is numeric.\n",
    "country_mappings = [\n",
    "    {\"id\": int(feature[\"id\"]), \"iso_alpha3\": str(feature[\"id\"])}\n",
    "    for feature in topojson[\"objects\"][\"countries\"][\"geometries\"]\n",
    "    if \"id\" in feature\n",
    "]\n",
    "countries = pd.DataFrame(country_mappings)\n",
    "\n",
    "# Function to map NOC to ISO3 using pycountry\n",
    "def noc_to_iso3(noc):\n",
    "    try:\n",
    "        country = pycountry.countries.lookup(noc)\n",
    "        return country.alpha_3\n",
    "    except LookupError:\n",
    "        return None\n",
    "\n",
    "# Load the Olympic dataset\n",
    "url = \"https://raw.githubusercontent.com/rfordatascience/tidytuesday/master/data/2021/2021-07-27/olympics.csv\"\n",
    "df = pd.read_csv(url)\n",
    "\n",
    "# Aggregate medal counts by nation\n",
    "medal_counts_by_nation = (\n",
    "    df[df[\"medal\"].notna()]\n",
    "    .groupby(\"noc\")\n",
    "    .size()\n",
    "    .reset_index(name=\"medal_count\")\n",
    ")\n",
    "\n",
    "# Manual mapping for missing NOC to ISO3 codes\n",
    "manual_mapping = {\n",
    "    \"AHO\": \"ANT\",  # Netherlands Antilles\n",
    "    \"ALG\": \"DZA\",  # Algeria\n",
    "    \"ANZ\": None,  # Australasia (no ISO3 code, not a country)\n",
    "    \"BOH\": \"CZE\",  # Bohemia (Czech Republic)\n",
    "    \"BWI\": None,  # British West Indies (no ISO3 code)\n",
    "    \"YUG\": \"SRB\",  # Yugoslavia -> Serbia\n",
    "    \"SCG\": \"SRB\",  # Serbia and Montenegro -> Serbia\n",
    "    \"URS\": \"RUS\",  # Soviet Union -> Russia\n",
    "    \"TCH\": \"CZE\",  # Czechoslovakia -> Czech Republic\n",
    "    \"FRG\": \"DEU\",  # West Germany -> Germany\n",
    "    \"GDR\": \"DEU\",  # East Germany -> Germany\n",
    "    # Add additional mappings if needed\n",
    "}\n",
    "\n",
    "# Function to handle both automatic and manual ISO3 mapping\n",
    "def handle_missing_iso3(noc):\n",
    "    if pd.isna(noc_to_iso3(noc)):\n",
    "        return manual_mapping.get(noc, None)\n",
    "    return noc_to_iso3(noc)\n",
    "\n",
    "# Apply the function to map NOC to ISO3 codes\n",
    "medal_counts_by_nation[\"iso_alpha3\"] = medal_counts_by_nation[\"noc\"].apply(handle_missing_iso3)\n",
    "\n",
    "# Convert iso_alpha3 column to string for compatibility\n",
    "medal_counts_by_nation[\"iso_alpha3\"] = medal_counts_by_nation[\"iso_alpha3\"].astype(str)\n",
    "countries[\"iso_alpha3\"] = countries[\"iso_alpha3\"].astype(str)\n",
    "\n",
    "# Drop rows with missing ISO3 codes\n",
    "medal_counts_by_nation = medal_counts_by_nation.dropna(subset=[\"iso_alpha3\"])\n",
    "\n",
    "# Merge medal data with numeric country IDs\n",
    "medal_counts_with_ids = pd.merge(\n",
    "    medal_counts_by_nation,\n",
    "    countries,\n",
    "    on=\"iso_alpha3\",\n",
    "    how=\"inner\"\n",
    ")\n",
    "\n",
    "# Visualize the data on a world map\n",
    "world = alt.topo_feature(topojson_url, \"countries\")\n",
    "\n",
    "world_map = alt.Chart(world).mark_geoshape().encode(\n",
    "    color=alt.Color(\n",
    "        \"medal_count:Q\",\n",
    "        scale=alt.Scale(scheme=\"goldred\"),\n",
    "        title=\"Number of Medals\"\n",
    "    ),\n",
    "    tooltip=[\n",
    "        alt.Tooltip(\"noc:N\", title=\"NOC\"),\n",
    "        alt.Tooltip(\"medal_count:Q\", title=\"Medal Count\")\n",
    "    ]\n",
    ").transform_lookup(\n",
    "    lookup=\"id\",  # Use numeric country IDs for the lookup\n",
    "    from_=alt.LookupData(medal_counts_with_ids, \"id\", [\"medal_count\", \"noc\"])\n",
    ").properties(\n",
    "    width=1000,\n",
    "    height=600,\n",
    "    title=\"Olympic Medals by Country\"\n",
    ").project(\n",
    "    type=\"equirectangular\"  # Equirectangular projection for better world map display\n",
    ")\n",
    "\n",
    "world_map\n",
    "world_map.save('olympic_medals_map.html')\n",
    "\n",
    "print(\"Unique IDs in TopoJSON:\", countries[\"id\"].unique())\n",
    "print(\"Unique IDs in Medal Data:\", medal_counts_with_ids[\"id\"].unique())\n",
    "print(medal_counts_with_ids.head())\n",
    "print(world)\n",
    "\n",
    "print(\"Unique iso_alpha3 in Medal Data:\", medal_counts_by_nation[\"iso_alpha3\"].unique())\n",
    "print(\"Unique iso_alpha3 in Countries Data:\", countries[\"iso_alpha3\"].unique())\n",
    "\n",
    "print(\"Type of iso_alpha3 in Medal Data:\", medal_counts_by_nation[\"iso_alpha3\"].dtype)\n",
    "print(\"Type of iso_alpha3 in Countries Data:\", countries[\"iso_alpha3\"].dtype)\n",
    "\n"
   ]
  },
  {
   "cell_type": "code",
   "execution_count": 27,
   "metadata": {},
   "outputs": [
    {
     "name": "stdout",
     "output_type": "stream",
     "text": [
      "Merged Data Sample:\n",
      "Empty DataFrame\n",
      "Columns: [noc, medal_count, iso_alpha3, id]\n",
      "Index: []\n"
     ]
    },
    {
     "data": {
      "application/vnd.vegalite.v5+json": {
       "$schema": "https://vega.github.io/schema/vega-lite/v5.20.1.json",
       "config": {
        "view": {
         "continuousHeight": 300,
         "continuousWidth": 300
        }
       },
       "data": {
        "format": {
         "feature": "countries",
         "type": "topojson"
        },
        "url": "https://vega.github.io/vega-datasets/data/world-110m.json"
       },
       "datasets": {
        "data-4f53cda18c2baa0c0354bb5f9a3ecbe5": []
       },
       "encoding": {
        "color": {
         "field": "medal_count",
         "scale": {
          "scheme": "goldred"
         },
         "title": "Number of Medals",
         "type": "quantitative"
        },
        "tooltip": [
         {
          "field": "noc",
          "title": "NOC",
          "type": "nominal"
         },
         {
          "field": "medal_count",
          "title": "Medal Count",
          "type": "quantitative"
         }
        ]
       },
       "height": 600,
       "mark": {
        "type": "geoshape"
       },
       "projection": {
        "type": "equirectangular"
       },
       "title": "Olympic Medals by Country",
       "transform": [
        {
         "from": {
          "data": {
           "name": "data-4f53cda18c2baa0c0354bb5f9a3ecbe5"
          },
          "fields": [
           "medal_count",
           "noc"
          ],
          "key": "id"
         },
         "lookup": "id"
        }
       ],
       "width": 1000
      },
      "text/plain": [
       "<VegaLite 5 object>\n",
       "\n",
       "If you see this message, it means the renderer has not been properly enabled\n",
       "for the frontend that you are using. For more information, see\n",
       "https://altair-viz.github.io/user_guide/display_frontends.html#troubleshooting\n"
      ]
     },
     "execution_count": 27,
     "metadata": {},
     "output_type": "execute_result"
    }
   ],
   "source": [
    "import altair as alt\n",
    "import pandas as pd\n",
    "import json\n",
    "import pycountry\n",
    "import urllib.request\n",
    "\n",
    "# Load the TopoJSON file from the provided URL\n",
    "topojson_url = \"https://vega.github.io/vega-datasets/data/world-110m.json\"\n",
    "with urllib.request.urlopen(topojson_url) as response:\n",
    "    topojson = json.load(response)\n",
    "\n",
    "# Extract mappings of numeric IDs and ISO3 codes\n",
    "country_mappings = [\n",
    "    {\"id\": int(feature[\"id\"]), \"iso_alpha3\": str(feature[\"id\"])}\n",
    "    for feature in topojson[\"objects\"][\"countries\"][\"geometries\"]\n",
    "    if \"id\" in feature\n",
    "]\n",
    "countries = pd.DataFrame(country_mappings)\n",
    "\n",
    "# Function to map NOC to ISO3 using pycountry\n",
    "def noc_to_iso3(noc):\n",
    "    try:\n",
    "        country = pycountry.countries.lookup(noc)\n",
    "        return country.alpha_3\n",
    "    except LookupError:\n",
    "        return None\n",
    "\n",
    "# Load the Olympic dataset\n",
    "url = \"https://raw.githubusercontent.com/rfordatascience/tidytuesday/master/data/2021/2021-07-27/olympics.csv\"\n",
    "df = pd.read_csv(url)\n",
    "\n",
    "# Aggregate medal counts by nation\n",
    "medal_counts_by_nation = (\n",
    "    df[df[\"medal\"].notna()]\n",
    "    .groupby(\"noc\")\n",
    "    .size()\n",
    "    .reset_index(name=\"medal_count\")\n",
    ")\n",
    "\n",
    "# Manual mapping for missing NOC to ISO3 codes\n",
    "manual_mapping = {\n",
    "    \"AHO\": \"ANT\",  # Netherlands Antilles\n",
    "    \"ALG\": \"DZA\",  # Algeria\n",
    "    \"ANZ\": None,  # Australasia (no ISO3 code, not a country)\n",
    "    \"BOH\": \"CZE\",  # Bohemia (Czech Republic)\n",
    "    \"BWI\": None,  # British West Indies (no ISO3 code)\n",
    "    \"YUG\": \"SRB\",  # Yugoslavia -> Serbia\n",
    "    \"SCG\": \"SRB\",  # Serbia and Montenegro -> Serbia\n",
    "    \"URS\": \"RUS\",  # Soviet Union -> Russia\n",
    "    \"TCH\": \"CZE\",  # Czechoslovakia -> Czech Republic\n",
    "    \"FRG\": \"DEU\",  # West Germany -> Germany\n",
    "    \"GDR\": \"DEU\",  # East Germany -> Germany\n",
    "    # Add additional mappings if needed\n",
    "}\n",
    "\n",
    "# Function to handle both automatic and manual ISO3 mapping\n",
    "def handle_missing_iso3(noc):\n",
    "    if pd.isna(noc_to_iso3(noc)):\n",
    "        return manual_mapping.get(noc, None)\n",
    "    return noc_to_iso3(noc)\n",
    "\n",
    "# Apply the function to map NOC to ISO3 codes\n",
    "medal_counts_by_nation[\"iso_alpha3\"] = medal_counts_by_nation[\"noc\"].apply(handle_missing_iso3)\n",
    "\n",
    "# Convert iso_alpha3 columns to uppercase for consistency\n",
    "medal_counts_by_nation[\"iso_alpha3\"] = medal_counts_by_nation[\"iso_alpha3\"].str.upper()\n",
    "countries[\"iso_alpha3\"] = countries[\"iso_alpha3\"].str.upper()\n",
    "\n",
    "# Filter out invalid iso_alpha3 values\n",
    "valid_iso_alpha3 = countries[\"iso_alpha3\"].unique()\n",
    "medal_counts_by_nation = medal_counts_by_nation[\n",
    "    medal_counts_by_nation[\"iso_alpha3\"].isin(valid_iso_alpha3)\n",
    "]\n",
    "\n",
    "# Merge medal data with numeric country IDs\n",
    "medal_counts_with_ids = pd.merge(\n",
    "    medal_counts_by_nation,\n",
    "    countries,\n",
    "    on=\"iso_alpha3\",\n",
    "    how=\"inner\"\n",
    ")\n",
    "\n",
    "# Debugging step: Check merged data\n",
    "print(\"Merged Data Sample:\")\n",
    "print(medal_counts_with_ids.head())\n",
    "\n",
    "# Visualize the data on a world map\n",
    "world = alt.topo_feature(topojson_url, \"countries\")\n",
    "\n",
    "world_map = alt.Chart(world).mark_geoshape().encode(\n",
    "    color=alt.Color(\n",
    "        \"medal_count:Q\",\n",
    "        scale=alt.Scale(scheme=\"goldred\"),\n",
    "        title=\"Number of Medals\"\n",
    "    ),\n",
    "    tooltip=[\n",
    "        alt.Tooltip(\"noc:N\", title=\"NOC\"),\n",
    "        alt.Tooltip(\"medal_count:Q\", title=\"Medal Count\")\n",
    "    ]\n",
    ").transform_lookup(\n",
    "    lookup=\"id\",  # Use numeric country IDs for the lookup\n",
    "    from_=alt.LookupData(medal_counts_with_ids, \"id\", [\"medal_count\", \"noc\"])\n",
    ").properties(\n",
    "    width=1000,\n",
    "    height=600,\n",
    "    title=\"Olympic Medals by Country\"\n",
    ").project(\n",
    "    type=\"equirectangular\"  # Equirectangular projection for better world map display\n",
    ")\n",
    "\n",
    "world_map\n"
   ]
  },
  {
   "cell_type": "code",
   "execution_count": 29,
   "metadata": {},
   "outputs": [
    {
     "name": "stdout",
     "output_type": "stream",
     "text": [
      "Merged Data Sample:\n",
      "Empty DataFrame\n",
      "Columns: [noc, medal_count, iso_alpha3, id]\n",
      "Index: []\n",
      "Unique iso_alpha3 in Medal Data: []\n",
      "Unique iso_alpha3 in Countries Data: ['4' '24' '8' '784' '32' '51' '10' '260' '36' '40' '31' '108' '56' '204'\n",
      " '854' '50' '100' '44' '70' '112' '84' '68' '76' '96' '64' '72' '140'\n",
      " '124' '756' '152' '156' '384' '120' '180' '178' '170' '188' '192' '-99'\n",
      " '196' '203' '276' '262' '208' '214' '12' '218' '818' '232' '724' '233'\n",
      " '231' '246' '242' '238' '250' '266' '826' '268' '288' '324' '270' '624'\n",
      " '226' '300' '304' '320' '328' '340' '191' '332' '348' '360' '356' '372'\n",
      " '364' '368' '352' '376' '380' '388' '400' '392' '398' '404' '417' '116'\n",
      " '410' '414' '418' '422' '430' '434' '144' '426' '440' '442' '428' '504'\n",
      " '498' '450' '484' '807' '466' '104' '499' '496' '508' '478' '454' '458'\n",
      " '516' '540' '562' '566' '558' '528' '578' '524' '554' '512' '586' '591'\n",
      " '604' '608' '598' '616' '630' '408' '620' '600' '275' '634' '642' '643'\n",
      " '646' '732' '682' '729' '728' '686' '90' '694' '222' '706' '688' '740'\n",
      " '703' '705' '752' '748' '760' '148' '768' '764' '762' '795' '626' '780'\n",
      " '788' '792' '158' '834' '800' '804' '858' '840' '860' '862' '704' '548'\n",
      " '887' '710' '894' '716']\n",
      "Overlap: set()\n"
     ]
    }
   ],
   "source": [
    "import altair as alt\n",
    "import pandas as pd\n",
    "import json\n",
    "import pycountry\n",
    "import urllib.request\n",
    "\n",
    "# Load the TopoJSON file from the provided URL\n",
    "topojson_url = \"https://vega.github.io/vega-datasets/data/world-110m.json\"\n",
    "with urllib.request.urlopen(topojson_url) as response:\n",
    "    topojson = json.load(response)\n",
    "\n",
    "# Extract mappings of numeric IDs and ISO3 codes\n",
    "country_mappings = [\n",
    "    {\"id\": int(feature[\"id\"]), \"iso_alpha3\": str(feature[\"id\"])}\n",
    "    for feature in topojson[\"objects\"][\"countries\"][\"geometries\"]\n",
    "    if \"id\" in feature\n",
    "]\n",
    "countries = pd.DataFrame(country_mappings)\n",
    "\n",
    "# Function to map NOC to ISO3 using pycountry\n",
    "def noc_to_iso3(noc):\n",
    "    try:\n",
    "        country = pycountry.countries.lookup(noc)\n",
    "        return country.alpha_3\n",
    "    except LookupError:\n",
    "        return None\n",
    "\n",
    "# Load the Olympic dataset\n",
    "url = \"https://raw.githubusercontent.com/rfordatascience/tidytuesday/master/data/2021/2021-07-27/olympics.csv\"\n",
    "df = pd.read_csv(url)\n",
    "\n",
    "# Aggregate medal counts by nation\n",
    "medal_counts_by_nation = (\n",
    "    df[df[\"medal\"].notna()]\n",
    "    .groupby(\"noc\")\n",
    "    .size()\n",
    "    .reset_index(name=\"medal_count\")\n",
    ")\n",
    "\n",
    "# Manual mapping for missing NOC to ISO3 codes\n",
    "manual_mapping = {\n",
    "    \"AHO\": \"ANT\",  # Netherlands Antilles\n",
    "    \"ALG\": \"DZA\",  # Algeria\n",
    "    \"ANZ\": None,  # Australasia (no ISO3 code, not a country)\n",
    "    \"BOH\": \"CZE\",  # Bohemia (Czech Republic)\n",
    "    \"BWI\": None,  # British West Indies (no ISO3 code)\n",
    "    \"YUG\": \"SRB\",  # Yugoslavia -> Serbia\n",
    "    \"SCG\": \"SRB\",  # Serbia and Montenegro -> Serbia\n",
    "    \"URS\": \"RUS\",  # Soviet Union -> Russia\n",
    "    \"TCH\": \"CZE\",  # Czechoslovakia -> Czech Republic\n",
    "    \"FRG\": \"DEU\",  # West Germany -> Germany\n",
    "    \"GDR\": \"DEU\",  # East Germany -> Germany\n",
    "    # Add additional mappings if needed\n",
    "}\n",
    "\n",
    "# Function to handle both automatic and manual ISO3 mapping\n",
    "def handle_missing_iso3(noc):\n",
    "    if pd.isna(noc_to_iso3(noc)):\n",
    "        return manual_mapping.get(noc, None)\n",
    "    return noc_to_iso3(noc)\n",
    "\n",
    "# Apply the function to map NOC to ISO3 codes\n",
    "medal_counts_by_nation[\"iso_alpha3\"] = medal_counts_by_nation[\"noc\"].apply(handle_missing_iso3)\n",
    "\n",
    "# Convert iso_alpha3 columns to uppercase for consistency\n",
    "medal_counts_by_nation[\"iso_alpha3\"] = medal_counts_by_nation[\"iso_alpha3\"].str.upper()\n",
    "countries[\"iso_alpha3\"] = countries[\"iso_alpha3\"].str.upper()\n",
    "\n",
    "# Filter out invalid iso_alpha3 values\n",
    "valid_iso_alpha3 = countries[\"iso_alpha3\"].unique()\n",
    "medal_counts_by_nation = medal_counts_by_nation[\n",
    "    medal_counts_by_nation[\"iso_alpha3\"].isin(valid_iso_alpha3)\n",
    "]\n",
    "\n",
    "# Merge medal data with numeric country IDs\n",
    "medal_counts_with_ids = pd.merge(\n",
    "    medal_counts_by_nation,\n",
    "    countries,\n",
    "    on=\"iso_alpha3\",\n",
    "    how=\"inner\"\n",
    ")\n",
    "\n",
    "# Debugging step: Check merged data\n",
    "print(\"Merged Data Sample:\")\n",
    "print(medal_counts_with_ids.head())\n",
    "\n",
    "# Visualize the data on a world map\n",
    "world = alt.topo_feature(topojson_url, \"countries\")\n",
    "\n",
    "world_map = alt.Chart(world).mark_geoshape().encode(\n",
    "    color=alt.Color(\n",
    "        \"medal_count:Q\",\n",
    "        scale=alt.Scale(scheme=\"goldred\"),\n",
    "        title=\"Number of Medals\"\n",
    "    ),\n",
    "    tooltip=[\n",
    "        alt.Tooltip(\"noc:N\", title=\"NOC\"),\n",
    "        alt.Tooltip(\"medal_count:Q\", title=\"Medal Count\")\n",
    "    ]\n",
    ").transform_lookup(\n",
    "    lookup=\"id\",  # Use numeric country IDs for the lookup\n",
    "    from_=alt.LookupData(medal_counts_with_ids, \"id\", [\"medal_count\", \"noc\"])\n",
    ").properties(\n",
    "    width=1000,\n",
    "    height=600,\n",
    "    title=\"Olympic Medals by Country\"\n",
    ").project(\n",
    "    type=\"equirectangular\"  # Equirectangular projection for better world map display\n",
    ")\n",
    "\n",
    "world_map\n",
    "\n",
    "# Check unique iso_alpha3 in each dataset\n",
    "print(\"Unique iso_alpha3 in Medal Data:\", medal_counts_by_nation[\"iso_alpha3\"].unique())\n",
    "print(\"Unique iso_alpha3 in Countries Data:\", countries[\"iso_alpha3\"].unique())\n",
    "\n",
    "# Check for intersection\n",
    "overlap = set(medal_counts_by_nation[\"iso_alpha3\"]).intersection(set(countries[\"iso_alpha3\"]))\n",
    "print(\"Overlap:\", overlap)\n",
    "\n"
   ]
  },
  {
   "cell_type": "code",
   "execution_count": 30,
   "metadata": {},
   "outputs": [
    {
     "name": "stdout",
     "output_type": "stream",
     "text": [
      "Merged Data Sample:\n",
      "   noc  medal_count iso_alpha3  id\n",
      "0  AFG            2        AFG   4\n",
      "1  ARG          274        ARG  32\n",
      "2  ARM           16        ARM  51\n",
      "3  AUS         1320        AUS  36\n",
      "4  AUT          450        AUT  40\n",
      "Remaining Missing Nations (NOC Codes): {'SCG', 'HKG', 'IOA', 'NEP', 'SUI', 'SGP', 'VIE', 'BER', 'MAS', 'GDR', 'SRI', 'AHO', 'SLO', 'LAT', 'ZIM', 'NED', 'BAR', 'GUA', 'TGA', 'MGL', 'URS', 'UAR', 'MRI', 'SUD', 'URU', 'LIB', 'BOH', 'PAR', 'HAI', 'FIJ', 'FRG', 'ALG', 'BUL', 'ANZ', 'PHI', 'CHI', 'CRO', 'INA', 'BAH', 'IRI', 'MON', 'GRN', 'ZAM', 'NGR', 'LIE', 'KSA', 'POR', 'PUR', 'TPE', 'WIF', 'KOS', 'BOT', 'DEN', 'TCH', 'GER', 'UAE', 'ISV', 'TOG', 'YUG', 'KUW', 'NIG', 'TAN', 'RSA', 'EUN', 'CRC', 'GRE'}\n"
     ]
    },
    {
     "data": {
      "text/html": [
       "\n",
       "<style>\n",
       "  #altair-viz-1ee5179934164e39b329b1d61d474804.vega-embed {\n",
       "    width: 100%;\n",
       "    display: flex;\n",
       "  }\n",
       "\n",
       "  #altair-viz-1ee5179934164e39b329b1d61d474804.vega-embed details,\n",
       "  #altair-viz-1ee5179934164e39b329b1d61d474804.vega-embed details summary {\n",
       "    position: relative;\n",
       "  }\n",
       "</style>\n",
       "<div id=\"altair-viz-1ee5179934164e39b329b1d61d474804\"></div>\n",
       "<script type=\"text/javascript\">\n",
       "  var VEGA_DEBUG = (typeof VEGA_DEBUG == \"undefined\") ? {} : VEGA_DEBUG;\n",
       "  (function(spec, embedOpt){\n",
       "    let outputDiv = document.currentScript.previousElementSibling;\n",
       "    if (outputDiv.id !== \"altair-viz-1ee5179934164e39b329b1d61d474804\") {\n",
       "      outputDiv = document.getElementById(\"altair-viz-1ee5179934164e39b329b1d61d474804\");\n",
       "    }\n",
       "    const paths = {\n",
       "      \"vega\": \"https://cdn.jsdelivr.net/npm/vega@5?noext\",\n",
       "      \"vega-lib\": \"https://cdn.jsdelivr.net/npm/vega-lib?noext\",\n",
       "      \"vega-lite\": \"https://cdn.jsdelivr.net/npm/vega-lite@5.20.1?noext\",\n",
       "      \"vega-embed\": \"https://cdn.jsdelivr.net/npm/vega-embed@6?noext\",\n",
       "    };\n",
       "\n",
       "    function maybeLoadScript(lib, version) {\n",
       "      var key = `${lib.replace(\"-\", \"\")}_version`;\n",
       "      return (VEGA_DEBUG[key] == version) ?\n",
       "        Promise.resolve(paths[lib]) :\n",
       "        new Promise(function(resolve, reject) {\n",
       "          var s = document.createElement('script');\n",
       "          document.getElementsByTagName(\"head\")[0].appendChild(s);\n",
       "          s.async = true;\n",
       "          s.onload = () => {\n",
       "            VEGA_DEBUG[key] = version;\n",
       "            return resolve(paths[lib]);\n",
       "          };\n",
       "          s.onerror = () => reject(`Error loading script: ${paths[lib]}`);\n",
       "          s.src = paths[lib];\n",
       "        });\n",
       "    }\n",
       "\n",
       "    function showError(err) {\n",
       "      outputDiv.innerHTML = `<div class=\"error\" style=\"color:red;\">${err}</div>`;\n",
       "      throw err;\n",
       "    }\n",
       "\n",
       "    function displayChart(vegaEmbed) {\n",
       "      vegaEmbed(outputDiv, spec, embedOpt)\n",
       "        .catch(err => showError(`Javascript Error: ${err.message}<br>This usually means there's a typo in your chart specification. See the javascript console for the full traceback.`));\n",
       "    }\n",
       "\n",
       "    if(typeof define === \"function\" && define.amd) {\n",
       "      requirejs.config({paths});\n",
       "      require([\"vega-embed\"], displayChart, err => showError(`Error loading script: ${err.message}`));\n",
       "    } else {\n",
       "      maybeLoadScript(\"vega\", \"5\")\n",
       "        .then(() => maybeLoadScript(\"vega-lite\", \"5.20.1\"))\n",
       "        .then(() => maybeLoadScript(\"vega-embed\", \"6\"))\n",
       "        .catch(showError)\n",
       "        .then(() => displayChart(vegaEmbed));\n",
       "    }\n",
       "  })({\"config\": {\"view\": {\"continuousWidth\": 300, \"continuousHeight\": 300}}, \"data\": {\"url\": \"https://vega.github.io/vega-datasets/data/world-110m.json\", \"format\": {\"feature\": \"countries\", \"type\": \"topojson\"}}, \"mark\": {\"type\": \"geoshape\"}, \"encoding\": {\"color\": {\"field\": \"medal_count\", \"scale\": {\"scheme\": \"goldred\"}, \"title\": \"Number of Medals\", \"type\": \"quantitative\"}, \"tooltip\": [{\"field\": \"noc\", \"title\": \"NOC\", \"type\": \"nominal\"}, {\"field\": \"medal_count\", \"title\": \"Medal Count\", \"type\": \"quantitative\"}]}, \"height\": 600, \"projection\": {\"type\": \"equirectangular\"}, \"title\": \"Olympic Medals by Country\", \"transform\": [{\"lookup\": \"id\", \"from\": {\"data\": {\"name\": \"data-8c6e53636990178329388ed16801d100\"}, \"key\": \"id\", \"fields\": [\"medal_count\", \"noc\"]}}], \"width\": 1000, \"$schema\": \"https://vega.github.io/schema/vega-lite/v5.20.1.json\", \"datasets\": {\"data-8c6e53636990178329388ed16801d100\": [{\"noc\": \"AFG\", \"medal_count\": 2, \"iso_alpha3\": \"AFG\", \"id\": 4}, {\"noc\": \"ARG\", \"medal_count\": 274, \"iso_alpha3\": \"ARG\", \"id\": 32}, {\"noc\": \"ARM\", \"medal_count\": 16, \"iso_alpha3\": \"ARM\", \"id\": 51}, {\"noc\": \"AUS\", \"medal_count\": 1320, \"iso_alpha3\": \"AUS\", \"id\": 36}, {\"noc\": \"AUT\", \"medal_count\": 450, \"iso_alpha3\": \"AUT\", \"id\": 40}, {\"noc\": \"AZE\", \"medal_count\": 44, \"iso_alpha3\": \"AZE\", \"id\": 31}, {\"noc\": \"BDI\", \"medal_count\": 2, \"iso_alpha3\": \"BDI\", \"id\": 108}, {\"noc\": \"BEL\", \"medal_count\": 468, \"iso_alpha3\": \"BEL\", \"id\": 56}, {\"noc\": \"BLR\", \"medal_count\": 139, \"iso_alpha3\": \"BLR\", \"id\": 112}, {\"noc\": \"BRA\", \"medal_count\": 475, \"iso_alpha3\": \"BRA\", \"id\": 76}, {\"noc\": \"BRN\", \"medal_count\": 3, \"iso_alpha3\": \"BRN\", \"id\": 96}, {\"noc\": \"CAN\", \"medal_count\": 1352, \"iso_alpha3\": \"CAN\", \"id\": 124}, {\"noc\": \"CHN\", \"medal_count\": 989, \"iso_alpha3\": \"CHN\", \"id\": 156}, {\"noc\": \"CIV\", \"medal_count\": 3, \"iso_alpha3\": \"CIV\", \"id\": 384}, {\"noc\": \"CMR\", \"medal_count\": 22, \"iso_alpha3\": \"CMR\", \"id\": 120}, {\"noc\": \"COL\", \"medal_count\": 28, \"iso_alpha3\": \"COL\", \"id\": 170}, {\"noc\": \"CUB\", \"medal_count\": 409, \"iso_alpha3\": \"CUB\", \"id\": 192}, {\"noc\": \"CYP\", \"medal_count\": 1, \"iso_alpha3\": \"CYP\", \"id\": 196}, {\"noc\": \"CZE\", \"medal_count\": 144, \"iso_alpha3\": \"CZE\", \"id\": 203}, {\"noc\": \"DJI\", \"medal_count\": 1, \"iso_alpha3\": \"DJI\", \"id\": 262}, {\"noc\": \"DOM\", \"medal_count\": 7, \"iso_alpha3\": \"DOM\", \"id\": 214}, {\"noc\": \"ECU\", \"medal_count\": 2, \"iso_alpha3\": \"ECU\", \"id\": 218}, {\"noc\": \"EGY\", \"medal_count\": 27, \"iso_alpha3\": \"EGY\", \"id\": 818}, {\"noc\": \"ERI\", \"medal_count\": 1, \"iso_alpha3\": \"ERI\", \"id\": 232}, {\"noc\": \"ESP\", \"medal_count\": 489, \"iso_alpha3\": \"ESP\", \"id\": 724}, {\"noc\": \"EST\", \"medal_count\": 50, \"iso_alpha3\": \"EST\", \"id\": 233}, {\"noc\": \"ETH\", \"medal_count\": 53, \"iso_alpha3\": \"ETH\", \"id\": 231}, {\"noc\": \"FIN\", \"medal_count\": 900, \"iso_alpha3\": \"FIN\", \"id\": 246}, {\"noc\": \"FRA\", \"medal_count\": 1777, \"iso_alpha3\": \"FRA\", \"id\": 250}, {\"noc\": \"GAB\", \"medal_count\": 1, \"iso_alpha3\": \"GAB\", \"id\": 266}, {\"noc\": \"GBR\", \"medal_count\": 2068, \"iso_alpha3\": \"GBR\", \"id\": 826}, {\"noc\": \"GEO\", \"medal_count\": 32, \"iso_alpha3\": \"GEO\", \"id\": 268}, {\"noc\": \"GHA\", \"medal_count\": 23, \"iso_alpha3\": \"GHA\", \"id\": 288}, {\"noc\": \"GUY\", \"medal_count\": 1, \"iso_alpha3\": \"GUY\", \"id\": 328}, {\"noc\": \"HUN\", \"medal_count\": 1135, \"iso_alpha3\": \"HUN\", \"id\": 348}, {\"noc\": \"IND\", \"medal_count\": 197, \"iso_alpha3\": \"IND\", \"id\": 356}, {\"noc\": \"IRL\", \"medal_count\": 35, \"iso_alpha3\": \"IRL\", \"id\": 372}, {\"noc\": \"IRQ\", \"medal_count\": 1, \"iso_alpha3\": \"IRQ\", \"id\": 368}, {\"noc\": \"ISL\", \"medal_count\": 17, \"iso_alpha3\": \"ISL\", \"id\": 352}, {\"noc\": \"ISR\", \"medal_count\": 9, \"iso_alpha3\": \"ISR\", \"id\": 376}, {\"noc\": \"ITA\", \"medal_count\": 1637, \"iso_alpha3\": \"ITA\", \"id\": 380}, {\"noc\": \"JAM\", \"medal_count\": 157, \"iso_alpha3\": \"JAM\", \"id\": 388}, {\"noc\": \"JOR\", \"medal_count\": 1, \"iso_alpha3\": \"JOR\", \"id\": 400}, {\"noc\": \"JPN\", \"medal_count\": 913, \"iso_alpha3\": \"JPN\", \"id\": 392}, {\"noc\": \"KAZ\", \"medal_count\": 77, \"iso_alpha3\": \"KAZ\", \"id\": 398}, {\"noc\": \"KEN\", \"medal_count\": 106, \"iso_alpha3\": \"KEN\", \"id\": 404}, {\"noc\": \"KGZ\", \"medal_count\": 3, \"iso_alpha3\": \"KGZ\", \"id\": 417}, {\"noc\": \"KOR\", \"medal_count\": 638, \"iso_alpha3\": \"KOR\", \"id\": 410}, {\"noc\": \"LTU\", \"medal_count\": 61, \"iso_alpha3\": \"LTU\", \"id\": 440}, {\"noc\": \"LUX\", \"medal_count\": 8, \"iso_alpha3\": \"LUX\", \"id\": 442}, {\"noc\": \"MAR\", \"medal_count\": 23, \"iso_alpha3\": \"MAR\", \"id\": 504}, {\"noc\": \"MDA\", \"medal_count\": 8, \"iso_alpha3\": \"MDA\", \"id\": 498}, {\"noc\": \"MEX\", \"medal_count\": 110, \"iso_alpha3\": \"MEX\", \"id\": 484}, {\"noc\": \"MKD\", \"medal_count\": 1, \"iso_alpha3\": \"MKD\", \"id\": 807}, {\"noc\": \"MNE\", \"medal_count\": 14, \"iso_alpha3\": \"MNE\", \"id\": 499}, {\"noc\": \"MOZ\", \"medal_count\": 2, \"iso_alpha3\": \"MOZ\", \"id\": 508}, {\"noc\": \"NAM\", \"medal_count\": 4, \"iso_alpha3\": \"NAM\", \"id\": 516}, {\"noc\": \"NOR\", \"medal_count\": 1033, \"iso_alpha3\": \"NOR\", \"id\": 578}, {\"noc\": \"NZL\", \"medal_count\": 228, \"iso_alpha3\": \"NZL\", \"id\": 554}, {\"noc\": \"PAK\", \"medal_count\": 121, \"iso_alpha3\": \"PAK\", \"id\": 586}, {\"noc\": \"PAN\", \"medal_count\": 3, \"iso_alpha3\": \"PAN\", \"id\": 591}, {\"noc\": \"PER\", \"medal_count\": 15, \"iso_alpha3\": \"PER\", \"id\": 604}, {\"noc\": \"POL\", \"medal_count\": 565, \"iso_alpha3\": \"POL\", \"id\": 616}, {\"noc\": \"PRK\", \"medal_count\": 67, \"iso_alpha3\": \"PRK\", \"id\": 408}, {\"noc\": \"QAT\", \"medal_count\": 5, \"iso_alpha3\": \"QAT\", \"id\": 634}, {\"noc\": \"ROU\", \"medal_count\": 653, \"iso_alpha3\": \"ROU\", \"id\": 642}, {\"noc\": \"RUS\", \"medal_count\": 1165, \"iso_alpha3\": \"RUS\", \"id\": 643}, {\"noc\": \"SEN\", \"medal_count\": 1, \"iso_alpha3\": \"SEN\", \"id\": 686}, {\"noc\": \"SRB\", \"medal_count\": 85, \"iso_alpha3\": \"SRB\", \"id\": 688}, {\"noc\": \"SUR\", \"medal_count\": 2, \"iso_alpha3\": \"SUR\", \"id\": 740}, {\"noc\": \"SVK\", \"medal_count\": 47, \"iso_alpha3\": \"SVK\", \"id\": 703}, {\"noc\": \"SWE\", \"medal_count\": 1536, \"iso_alpha3\": \"SWE\", \"id\": 752}, {\"noc\": \"SYR\", \"medal_count\": 3, \"iso_alpha3\": \"SYR\", \"id\": 760}, {\"noc\": \"THA\", \"medal_count\": 30, \"iso_alpha3\": \"THA\", \"id\": 764}, {\"noc\": \"TJK\", \"medal_count\": 4, \"iso_alpha3\": \"TJK\", \"id\": 762}, {\"noc\": \"TTO\", \"medal_count\": 32, \"iso_alpha3\": \"TTO\", \"id\": 780}, {\"noc\": \"TUN\", \"medal_count\": 13, \"iso_alpha3\": \"TUN\", \"id\": 788}, {\"noc\": \"TUR\", \"medal_count\": 95, \"iso_alpha3\": \"TUR\", \"id\": 792}, {\"noc\": \"UGA\", \"medal_count\": 7, \"iso_alpha3\": \"UGA\", \"id\": 800}, {\"noc\": \"UKR\", \"medal_count\": 199, \"iso_alpha3\": \"UKR\", \"id\": 804}, {\"noc\": \"USA\", \"medal_count\": 5637, \"iso_alpha3\": \"USA\", \"id\": 840}, {\"noc\": \"UZB\", \"medal_count\": 34, \"iso_alpha3\": \"UZB\", \"id\": 860}, {\"noc\": \"VEN\", \"medal_count\": 15, \"iso_alpha3\": \"VEN\", \"id\": 862}]}}, {\"mode\": \"vega-lite\"});\n",
       "</script>"
      ],
      "text/plain": [
       "alt.Chart(...)"
      ]
     },
     "execution_count": 30,
     "metadata": {},
     "output_type": "execute_result"
    }
   ],
   "source": [
    "import altair as alt\n",
    "import pandas as pd\n",
    "import json\n",
    "import pycountry\n",
    "import urllib.request\n",
    "\n",
    "# Load the TopoJSON file from the provided URL\n",
    "topojson_url = \"https://vega.github.io/vega-datasets/data/world-110m.json\"\n",
    "with urllib.request.urlopen(topojson_url) as response:\n",
    "    topojson = json.load(response)\n",
    "\n",
    "# Extract mappings of numeric IDs\n",
    "country_mappings = [{\"id\": int(feature[\"id\"])} for feature in topojson[\"objects\"][\"countries\"][\"geometries\"]]\n",
    "countries = pd.DataFrame(country_mappings)\n",
    "\n",
    "# Manual mapping between numeric IDs and ISO3 codes\n",
    "id_to_iso3_mapping = {\n",
    "    4: \"AFG\",  # Afghanistan\n",
    "    8: \"ALB\",  # Albania\n",
    "    12: \"DZA\",  # Algeria\n",
    "    24: \"AGO\",  # Angola\n",
    "    32: \"ARG\",  # Argentina\n",
    "    36: \"AUS\",  # Australia\n",
    "    40: \"AUT\",  # Austria\n",
    "    51: \"ARM\",  # Armenia\n",
    "    56: \"BEL\",  # Belgium\n",
    "    70: \"BIH\",  # Bosnia and Herzegovina\n",
    "    100: \"BGR\",  # Bulgaria\n",
    "    124: \"CAN\",  # Canada\n",
    "    152: \"CHL\",  # Chile\n",
    "    156: \"CHN\",  # China\n",
    "    170: \"COL\",  # Colombia\n",
    "    191: \"HRV\",  # Croatia\n",
    "    203: \"CZE\",  # Czech Republic\n",
    "    208: \"DNK\",  # Denmark\n",
    "    214: \"DOM\",  # Dominican Republic\n",
    "    218: \"ECU\",  # Ecuador\n",
    "    233: \"EST\",  # Estonia\n",
    "    246: \"FIN\",  # Finland\n",
    "    250: \"FRA\",  # France\n",
    "    276: \"DEU\",  # Germany\n",
    "    300: \"GRC\",  # Greece\n",
    "    348: \"HUN\",  # Hungary\n",
    "    352: \"ISL\",  # Iceland\n",
    "    356: \"IND\",  # India\n",
    "    360: \"IDN\",  # Indonesia\n",
    "    364: \"IRN\",  # Iran\n",
    "    372: \"IRL\",  # Ireland\n",
    "    376: \"ISR\",  # Israel\n",
    "    380: \"ITA\",  # Italy\n",
    "    392: \"JPN\",  # Japan\n",
    "    398: \"KAZ\",  # Kazakhstan\n",
    "    410: \"KOR\",  # South Korea\n",
    "    428: \"LVA\",  # Latvia\n",
    "    440: \"LTU\",  # Lithuania\n",
    "    442: \"LUX\",  # Luxembourg\n",
    "    450: \"MDG\",  # Madagascar\n",
    "    484: \"MEX\",  # Mexico\n",
    "    499: \"MNE\",  # Montenegro\n",
    "    504: \"MAR\",  # Morocco\n",
    "    528: \"NLD\",  # Netherlands\n",
    "    554: \"NZL\",  # New Zealand\n",
    "    566: \"NGA\",  # Nigeria\n",
    "    578: \"NOR\",  # Norway\n",
    "    586: \"PAK\",  # Pakistan\n",
    "    616: \"POL\",  # Poland\n",
    "    620: \"PRT\",  # Portugal\n",
    "    642: \"ROU\",  # Romania\n",
    "    643: \"RUS\",  # Russia\n",
    "    703: \"SVK\",  # Slovakia\n",
    "    705: \"SVN\",  # Slovenia\n",
    "    710: \"ZAF\",  # South Africa\n",
    "    724: \"ESP\",  # Spain\n",
    "    752: \"SWE\",  # Sweden\n",
    "    756: \"CHE\",  # Switzerland\n",
    "    826: \"GBR\",  # United Kingdom\n",
    "    840: \"USA\",  # United States\n",
    "    860: \"UZB\",  # Uzbekistan\n",
    "    894: \"ZMB\",  # Zambia\n",
    "    784: \"ARE\",  # United Arab Emirates\n",
    "    10: \"ATA\",   # Antarctica (can be skipped if irrelevant)\n",
    "    260: \"MYT\",  # Mayotte\n",
    "    31: \"AZE\",   # Azerbaijan\n",
    "    108: \"BDI\",  # Burundi\n",
    "    204: \"BEN\",  # Benin\n",
    "    854: \"BFA\",  # Burkina Faso\n",
    "    50: \"BGD\",   # Bangladesh\n",
    "    44: \"BHS\",   # Bahamas\n",
    "    112: \"BLR\",  # Belarus\n",
    "    84: \"BLZ\",   # Belize\n",
    "    68: \"BOL\",   # Bolivia\n",
    "    76: \"BRA\",   # Brazil\n",
    "    96: \"BRN\",   # Brunei\n",
    "    64: \"BTN\",   # Bhutan\n",
    "    72: \"BWA\",   # Botswana\n",
    "    140: \"CAF\",  # Central African Republic\n",
    "    384: \"CIV\",  # Côte d'Ivoire\n",
    "    120: \"CMR\",  # Cameroon\n",
    "    180: \"COD\",  # Congo (Kinshasa)\n",
    "    178: \"COG\",  # Congo (Brazzaville)\n",
    "    188: \"CRI\",  # Costa Rica\n",
    "    192: \"CUB\",  # Cuba\n",
    "    -99: None,   # Unknown or undefined\n",
    "    196: \"CYP\",  # Cyprus\n",
    "    262: \"DJI\",  # Djibouti\n",
    "    818: \"EGY\",  # Egypt\n",
    "    232: \"ERI\",  # Eritrea\n",
    "    231: \"ETH\",  # Ethiopia\n",
    "    242: \"FJI\",  # Fiji\n",
    "    238: \"FLK\",  # Falkland Islands (skipped if irrelevant)\n",
    "    266: \"GAB\",  # Gabon\n",
    "    268: \"GEO\",  # Georgia\n",
    "    288: \"GHA\",  # Ghana\n",
    "    324: \"GIN\",  # Guinea\n",
    "    270: \"GMB\",  # Gambia\n",
    "    624: \"GNB\",  # Guinea-Bissau\n",
    "    226: \"GNQ\",  # Equatorial Guinea\n",
    "    304: \"GRL\",  # Greenland\n",
    "    320: \"GTM\",  # Guatemala\n",
    "    328: \"GUY\",  # Guyana\n",
    "    340: \"HND\",  # Honduras\n",
    "    332: \"HTI\",  # Haiti\n",
    "    368: \"IRQ\",  # Iraq\n",
    "    388: \"JAM\",  # Jamaica\n",
    "    400: \"JOR\",  # Jordan\n",
    "    404: \"KEN\",  # Kenya\n",
    "    417: \"KGZ\",  # Kyrgyzstan\n",
    "    116: \"KHM\",  # Cambodia\n",
    "    414: \"KWT\",  # Kuwait\n",
    "    418: \"LAO\",  # Laos\n",
    "    422: \"LBN\",  # Lebanon\n",
    "    430: \"LBR\",  # Liberia\n",
    "    434: \"LBY\",  # Libya\n",
    "    144: \"LKA\",  # Sri Lanka\n",
    "    426: \"LSO\",  # Lesotho\n",
    "    498: \"MDA\",  # Moldova\n",
    "    807: \"MKD\",  # North Macedonia\n",
    "    466: \"MLI\",  # Mali\n",
    "    104: \"MMR\",  # Myanmar\n",
    "    496: \"MNG\",  # Mongolia\n",
    "    508: \"MOZ\",  # Mozambique\n",
    "    478: \"MRT\",  # Mauritania\n",
    "    454: \"MWI\",  # Malawi\n",
    "    458: \"MYS\",  # Malaysia\n",
    "    516: \"NAM\",  # Namibia\n",
    "    540: \"NCL\",  # New Caledonia\n",
    "    562: \"NER\",  # Niger\n",
    "    558: \"NIC\",  # Nicaragua\n",
    "    524: \"NPL\",  # Nepal\n",
    "    512: \"OMN\",  # Oman\n",
    "    591: \"PAN\",  # Panama\n",
    "    604: \"PER\",  # Peru\n",
    "    608: \"PHL\",  # Philippines\n",
    "    598: \"PNG\",  # Papua New Guinea\n",
    "    630: \"PRI\",  # Puerto Rico\n",
    "    408: \"PRK\",  # North Korea\n",
    "    600: \"PRY\",  # Paraguay\n",
    "    275: \"PSE\",  # Palestine\n",
    "    634: \"QAT\",  # Qatar\n",
    "    646: \"RWA\",  # Rwanda\n",
    "    732: \"ESH\",  # Western Sahara\n",
    "    682: \"SAU\",  # Saudi Arabia\n",
    "    729: \"SDN\",  # Sudan\n",
    "    728: \"SSD\",  # South Sudan\n",
    "    686: \"SEN\",  # Senegal\n",
    "    90: \"SLB\",   # Solomon Islands\n",
    "    694: \"SLE\",  # Sierra Leone\n",
    "    222: \"SLV\",  # El Salvador\n",
    "    706: \"SOM\",  # Somalia\n",
    "    688: \"SRB\",  # Serbia\n",
    "    740: \"SUR\",  # Suriname\n",
    "    748: \"SWZ\",  # Eswatini (Swaziland)\n",
    "    760: \"SYR\",  # Syria\n",
    "    148: \"TCD\",  # Chad\n",
    "    768: \"TGO\",  # Togo\n",
    "    764: \"THA\",  # Thailand\n",
    "    762: \"TJK\",  # Tajikistan\n",
    "    795: \"TKM\",  # Turkmenistan\n",
    "    626: \"TLS\",  # Timor-Leste\n",
    "    780: \"TTO\",  # Trinidad and Tobago\n",
    "    788: \"TUN\",  # Tunisia\n",
    "    792: \"TUR\",  # Turkey\n",
    "    158: \"TWN\",  # Taiwan\n",
    "    834: \"TZA\",  # Tanzania\n",
    "    800: \"UGA\",  # Uganda\n",
    "    804: \"UKR\",  # Ukraine\n",
    "    858: \"URY\",  # Uruguay\n",
    "    862: \"VEN\",  # Venezuela\n",
    "    704: \"VNM\",  # Vietnam\n",
    "    548: \"VUT\",  # Vanuatu\n",
    "    887: \"YEM\",  # Yemen\n",
    "    716: \"ZWE\",  # Zimbabwe\n",
    "}\n",
    "manual_iso3_mapping = {\n",
    "    \"AHO\": \"ANT\",  # Netherlands Antilles\n",
    "    \"ALG\": \"DZA\",  # Algeria\n",
    "    \"ANZ\": \"AUS\",  # Australasia\n",
    "    \"BAH\": \"BHS\",  # Bahamas\n",
    "    \"BAR\": \"BRB\",  # Barbados\n",
    "    \"BER\": \"BMU\",  # Bermuda\n",
    "    \"BOH\": \"CZE\",  # Bohemia -> Czech Republic\n",
    "    \"BOT\": \"BWA\",  # Botswana\n",
    "    \"BUL\": \"BGR\",  # Bulgaria\n",
    "    \"CHI\": \"CHL\",  # Chile\n",
    "    \"CRC\": \"CRI\",  # Costa Rica\n",
    "    \"CRO\": \"HRV\",  # Croatia\n",
    "    \"DEN\": \"DNK\",  # Denmark\n",
    "    \"EUN\": \"RUS\",  # Unified Team → Russia\n",
    "    \"FIJ\": \"FJI\",  # Fiji\n",
    "    \"FRG\": \"DEU\",  # West Germany → Germany\n",
    "    \"GDR\": \"DEU\",  # East Germany → Germany\n",
    "    \"GER\": \"DEU\",  # Germany\n",
    "    \"GRE\": \"GRC\",  # Greece\n",
    "    \"GRN\": \"GRD\",  # Grenada\n",
    "    \"GUA\": \"GTM\",  # Guatemala\n",
    "    \"HAI\": \"HTI\",  # Haiti\n",
    "    \"HKG\": \"HKG\",  # Hong Kong\n",
    "    \"INA\": \"IDN\",  # Indonesia\n",
    "    \"IOA\": None,   # Independent Olympic Athletes → No ISO3 equivalent\n",
    "    \"IRI\": \"IRN\",  # Iran\n",
    "    \"ISV\": \"VIR\",  # U.S. Virgin Islands\n",
    "    \"KOS\": \"XKX\",  # Kosovo\n",
    "    \"KSA\": \"SAU\",  # Saudi Arabia\n",
    "    \"KUW\": \"KWT\",  # Kuwait\n",
    "    \"LAT\": \"LVA\",  # Latvia\n",
    "    \"LIB\": \"LBN\",  # Lebanon\n",
    "    \"LIE\": \"LIE\",  # Liechtenstein\n",
    "    \"MAS\": \"MYS\",  # Malaysia\n",
    "    \"MGL\": \"MNG\",  # Mongolia\n",
    "    \"MON\": \"MCO\",  # Monaco\n",
    "    \"MRI\": \"MUS\",  # Mauritius\n",
    "    \"NED\": \"NLD\",  # Netherlands\n",
    "    \"NEP\": \"NPL\",  # Nepal\n",
    "    \"NGR\": \"NGA\",  # Nigeria\n",
    "    \"NIG\": \"NER\",  # Niger\n",
    "    \"PAR\": \"PRY\",  # Paraguay\n",
    "    \"PHI\": \"PHL\",  # Philippines\n",
    "    \"POR\": \"PRT\",  # Portugal\n",
    "    \"PUR\": \"PRI\",  # Puerto Rico\n",
    "    \"RSA\": \"ZAF\",  # South Africa\n",
    "    \"SCG\": \"SRB\",  # Serbia and Montenegro\n",
    "    \"SGP\": \"SGP\",  # Singapore\n",
    "    \"SLO\": \"SVN\",  # Slovenia\n",
    "    \"SRI\": \"LKA\",  # Sri Lanka\n",
    "    \"SUD\": \"SDN\",  # Sudan\n",
    "    \"SUI\": \"CHE\",  # Switzerland\n",
    "    \"TAN\": \"TZA\",  # Tanzania\n",
    "    \"TCH\": \"CZE\",  # Czechoslovakia → Czech Republic\n",
    "    \"TGA\": \"TON\",  # Tonga\n",
    "    \"TOG\": \"TGO\",  # Togo\n",
    "    \"TPE\": \"TWN\",  # Chinese Taipei → Taiwan\n",
    "    \"UAE\": \"ARE\",  # United Arab Emirates\n",
    "    \"UAR\": \"EGY\",  # United Arab Republic → Egypt\n",
    "    \"URS\": \"RUS\",  # Soviet Union → Russia\n",
    "    \"URU\": \"URY\",  # Uruguay\n",
    "    \"VIE\": \"VNM\",  # Vietnam\n",
    "    \"WIF\": None,   # West Indies Federation → No ISO3 equivalent\n",
    "    \"YUG\": \"SRB\",  # Yugoslavia → Serbia\n",
    "    \"ZAM\": \"ZMB\",  # Zambia\n",
    "    \"ZIM\": \"ZWE\",  # Zimbabwe\n",
    "}\n",
    "# Apply manual mappings to medal_counts_by_nation\n",
    "medal_counts_by_nation[\"iso_alpha3\"] = medal_counts_by_nation[\"iso_alpha3\"].replace(manual_iso3_mapping)\n",
    "\n",
    "# Add ISO3 codes to countries DataFrame\n",
    "countries[\"iso_alpha3\"] = countries[\"id\"].map(id_to_iso3_mapping)\n",
    "# Filter out any remaining invalid ISO3 codes\n",
    "medal_counts_by_nation = medal_counts_by_nation[medal_counts_by_nation[\"iso_alpha3\"].notnull()]\n",
    "\n",
    "\n",
    "\n",
    "\n",
    "\n",
    "\n",
    "# Load the Olympic dataset\n",
    "url = \"https://raw.githubusercontent.com/rfordatascience/tidytuesday/master/data/2021/2021-07-27/olympics.csv\"\n",
    "df = pd.read_csv(url)\n",
    "\n",
    "# Aggregate medal counts by nation\n",
    "medal_counts_by_nation = (\n",
    "    df[df[\"medal\"].notna()]\n",
    "    .groupby(\"noc\")\n",
    "    .size()\n",
    "    .reset_index(name=\"medal_count\")\n",
    ")\n",
    "\n",
    "# Convert iso_alpha3 columns to uppercase for consistency\n",
    "medal_counts_by_nation[\"iso_alpha3\"] = medal_counts_by_nation[\"noc\"].str.upper()\n",
    "countries[\"iso_alpha3\"] = countries[\"iso_alpha3\"].str.upper()\n",
    "\n",
    "# Merge medal data with numeric country IDs\n",
    "medal_counts_with_ids = pd.merge(\n",
    "    medal_counts_by_nation,\n",
    "    countries,\n",
    "    on=\"iso_alpha3\",\n",
    "    how=\"inner\"\n",
    ")\n",
    "\n",
    "# Debugging step: Check merged data\n",
    "print(\"Merged Data Sample:\")\n",
    "print(medal_counts_with_ids.head())\n",
    "\n",
    "# Visualize the data on a world map\n",
    "world = alt.topo_feature(topojson_url, \"countries\")\n",
    "\n",
    "world_map = alt.Chart(world).mark_geoshape().encode(\n",
    "    color=alt.Color(\n",
    "        \"medal_count:Q\",\n",
    "        scale=alt.Scale(scheme=\"goldred\"),\n",
    "        title=\"Number of Medals\"\n",
    "    ),\n",
    "    tooltip=[\n",
    "        alt.Tooltip(\"noc:N\", title=\"NOC\"),\n",
    "        alt.Tooltip(\"medal_count:Q\", title=\"Medal Count\")\n",
    "    ]\n",
    ").transform_lookup(\n",
    "    lookup=\"id\",  # Use numeric country IDs for the lookup\n",
    "    from_=alt.LookupData(medal_counts_with_ids, \"id\", [\"medal_count\", \"noc\"])\n",
    ").properties(\n",
    "    width=1000,\n",
    "    height=600,\n",
    "    title=\"Olympic Medals by Country\"\n",
    ").project(\n",
    "    type=\"equirectangular\"  # Equirectangular projection for better world map display\n",
    ")\n",
    "remaining_missing_nations = set(medal_counts_by_nation[\"noc\"]) - set(medal_counts_with_ids[\"noc\"])\n",
    "print(\"Remaining Missing Nations (NOC Codes):\", remaining_missing_nations)\n",
    "\n",
    "world_map\n",
    "\n",
    "\n",
    "\n",
    "\n"
   ]
  },
  {
   "cell_type": "code",
   "execution_count": null,
   "metadata": {},
   "outputs": [],
   "source": []
  },
  {
   "cell_type": "code",
   "execution_count": null,
   "metadata": {},
   "outputs": [],
   "source": []
  },
  {
   "cell_type": "code",
   "execution_count": 31,
   "metadata": {},
   "outputs": [
    {
     "data": {
      "text/html": [
       "\n",
       "<style>\n",
       "  #altair-viz-f8b8dcf1a6694bb3bee3731bd6bb2a56.vega-embed {\n",
       "    width: 100%;\n",
       "    display: flex;\n",
       "  }\n",
       "\n",
       "  #altair-viz-f8b8dcf1a6694bb3bee3731bd6bb2a56.vega-embed details,\n",
       "  #altair-viz-f8b8dcf1a6694bb3bee3731bd6bb2a56.vega-embed details summary {\n",
       "    position: relative;\n",
       "  }\n",
       "</style>\n",
       "<div id=\"altair-viz-f8b8dcf1a6694bb3bee3731bd6bb2a56\"></div>\n",
       "<script type=\"text/javascript\">\n",
       "  var VEGA_DEBUG = (typeof VEGA_DEBUG == \"undefined\") ? {} : VEGA_DEBUG;\n",
       "  (function(spec, embedOpt){\n",
       "    let outputDiv = document.currentScript.previousElementSibling;\n",
       "    if (outputDiv.id !== \"altair-viz-f8b8dcf1a6694bb3bee3731bd6bb2a56\") {\n",
       "      outputDiv = document.getElementById(\"altair-viz-f8b8dcf1a6694bb3bee3731bd6bb2a56\");\n",
       "    }\n",
       "    const paths = {\n",
       "      \"vega\": \"https://cdn.jsdelivr.net/npm/vega@5?noext\",\n",
       "      \"vega-lib\": \"https://cdn.jsdelivr.net/npm/vega-lib?noext\",\n",
       "      \"vega-lite\": \"https://cdn.jsdelivr.net/npm/vega-lite@5.20.1?noext\",\n",
       "      \"vega-embed\": \"https://cdn.jsdelivr.net/npm/vega-embed@6?noext\",\n",
       "    };\n",
       "\n",
       "    function maybeLoadScript(lib, version) {\n",
       "      var key = `${lib.replace(\"-\", \"\")}_version`;\n",
       "      return (VEGA_DEBUG[key] == version) ?\n",
       "        Promise.resolve(paths[lib]) :\n",
       "        new Promise(function(resolve, reject) {\n",
       "          var s = document.createElement('script');\n",
       "          document.getElementsByTagName(\"head\")[0].appendChild(s);\n",
       "          s.async = true;\n",
       "          s.onload = () => {\n",
       "            VEGA_DEBUG[key] = version;\n",
       "            return resolve(paths[lib]);\n",
       "          };\n",
       "          s.onerror = () => reject(`Error loading script: ${paths[lib]}`);\n",
       "          s.src = paths[lib];\n",
       "        });\n",
       "    }\n",
       "\n",
       "    function showError(err) {\n",
       "      outputDiv.innerHTML = `<div class=\"error\" style=\"color:red;\">${err}</div>`;\n",
       "      throw err;\n",
       "    }\n",
       "\n",
       "    function displayChart(vegaEmbed) {\n",
       "      vegaEmbed(outputDiv, spec, embedOpt)\n",
       "        .catch(err => showError(`Javascript Error: ${err.message}<br>This usually means there's a typo in your chart specification. See the javascript console for the full traceback.`));\n",
       "    }\n",
       "\n",
       "    if(typeof define === \"function\" && define.amd) {\n",
       "      requirejs.config({paths});\n",
       "      require([\"vega-embed\"], displayChart, err => showError(`Error loading script: ${err.message}`));\n",
       "    } else {\n",
       "      maybeLoadScript(\"vega\", \"5\")\n",
       "        .then(() => maybeLoadScript(\"vega-lite\", \"5.20.1\"))\n",
       "        .then(() => maybeLoadScript(\"vega-embed\", \"6\"))\n",
       "        .catch(showError)\n",
       "        .then(() => displayChart(vegaEmbed));\n",
       "    }\n",
       "  })({\"config\": {\"view\": {\"continuousWidth\": 300, \"continuousHeight\": 300}, \"legend\": {\"labelFontSize\": 13, \"titleFontSize\": 15}}, \"hconcat\": [{\"data\": {\"name\": \"data-20f9ebe775dee24ba7653ba9b8a80c13\"}, \"mark\": {\"type\": \"bar\"}, \"encoding\": {\"color\": {\"field\": \"season\", \"scale\": {\"domain\": [\"Summer\", \"Winter\"], \"range\": [\"orange\", \"blue\"]}, \"type\": \"nominal\"}, \"fillOpacity\": {\"condition\": {\"param\": \"season_select\", \"value\": 1}, \"value\": 0.3}, \"x\": {\"aggregate\": \"sum\", \"field\": \"medal_count\", \"title\": \"Number of Medals\", \"type\": \"quantitative\"}, \"y\": {\"axis\": {\"title\": null}, \"field\": \"noc\", \"type\": \"nominal\"}}, \"height\": 505, \"transform\": [{\"filter\": {\"param\": \"season_select\"}}], \"width\": 100}, {\"data\": {\"url\": \"https://vega.github.io/vega-datasets/data/world-110m.json\", \"format\": {\"feature\": \"countries\", \"type\": \"topojson\"}}, \"mark\": {\"type\": \"geoshape\"}, \"encoding\": {\"color\": {\"aggregate\": \"sum\", \"field\": \"medal_count\", \"scale\": {\"domain\": [0, 10, 100], \"scheme\": \"goldred\"}, \"title\": \"Number of Medals\", \"type\": \"quantitative\"}, \"tooltip\": [{\"field\": \"iso_alpha3\", \"title\": \"Country\", \"type\": \"nominal\"}, {\"aggregate\": \"sum\", \"field\": \"medal_count\", \"title\": \"Medal Count\", \"type\": \"quantitative\"}]}, \"height\": 350, \"projection\": {\"type\": \"equirectangular\"}, \"title\": \"Olympic Medals Map\", \"transform\": [{\"lookup\": \"id\", \"from\": {\"data\": {\"name\": \"data-20f9ebe775dee24ba7653ba9b8a80c13\"}, \"key\": \"id\", \"fields\": [\"medal_count\", \"noc\", \"season\"]}}, {\"filter\": {\"param\": \"season_select\"}}], \"width\": 400}], \"params\": [{\"name\": \"season_select\", \"bind\": {\"input\": \"radio\", \"options\": [\"Summer\", \"Winter\"], \"name\": \"Season: \"}, \"value\": \"Summer\"}], \"title\": {\"text\": \"Olympic Medals Explorer\", \"anchor\": \"middle\", \"fontSize\": 20, \"fontWeight\": 800}, \"$schema\": \"https://vega.github.io/schema/vega-lite/v5.20.1.json\", \"datasets\": {\"data-20f9ebe775dee24ba7653ba9b8a80c13\": [{\"noc\": \"AFG\", \"season\": \"Summer\", \"medal_count\": 2, \"iso_alpha3\": \"AFG\", \"id\": 4}, {\"noc\": \"ARG\", \"season\": \"Summer\", \"medal_count\": 274, \"iso_alpha3\": \"ARG\", \"id\": 32}, {\"noc\": \"ARM\", \"season\": \"Summer\", \"medal_count\": 16, \"iso_alpha3\": \"ARM\", \"id\": 51}, {\"noc\": \"AUS\", \"season\": \"Summer\", \"medal_count\": 1304, \"iso_alpha3\": \"AUS\", \"id\": 36}, {\"noc\": \"AUS\", \"season\": \"Winter\", \"medal_count\": 16, \"iso_alpha3\": \"AUS\", \"id\": 36}, {\"noc\": \"AUT\", \"season\": \"Summer\", \"medal_count\": 170, \"iso_alpha3\": \"AUT\", \"id\": 40}, {\"noc\": \"AUT\", \"season\": \"Winter\", \"medal_count\": 280, \"iso_alpha3\": \"AUT\", \"id\": 40}, {\"noc\": \"BEL\", \"season\": \"Summer\", \"medal_count\": 455, \"iso_alpha3\": \"BEL\", \"id\": 56}, {\"noc\": \"BEL\", \"season\": \"Winter\", \"medal_count\": 13, \"iso_alpha3\": \"BEL\", \"id\": 56}, {\"noc\": \"CAN\", \"season\": \"Summer\", \"medal_count\": 741, \"iso_alpha3\": \"CAN\", \"id\": 124}, {\"noc\": \"CAN\", \"season\": \"Winter\", \"medal_count\": 611, \"iso_alpha3\": \"CAN\", \"id\": 124}, {\"noc\": \"CHN\", \"season\": \"Summer\", \"medal_count\": 909, \"iso_alpha3\": \"CHN\", \"id\": 156}, {\"noc\": \"CHN\", \"season\": \"Winter\", \"medal_count\": 80, \"iso_alpha3\": \"CHN\", \"id\": 156}, {\"noc\": \"COL\", \"season\": \"Summer\", \"medal_count\": 28, \"iso_alpha3\": \"COL\", \"id\": 170}, {\"noc\": \"CZE\", \"season\": \"Summer\", \"medal_count\": 71, \"iso_alpha3\": \"CZE\", \"id\": 203}, {\"noc\": \"CZE\", \"season\": \"Winter\", \"medal_count\": 73, \"iso_alpha3\": \"CZE\", \"id\": 203}, {\"noc\": \"DOM\", \"season\": \"Summer\", \"medal_count\": 7, \"iso_alpha3\": \"DOM\", \"id\": 214}, {\"noc\": \"ECU\", \"season\": \"Summer\", \"medal_count\": 2, \"iso_alpha3\": \"ECU\", \"id\": 218}, {\"noc\": \"ESP\", \"season\": \"Summer\", \"medal_count\": 487, \"iso_alpha3\": \"ESP\", \"id\": 724}, {\"noc\": \"ESP\", \"season\": \"Winter\", \"medal_count\": 2, \"iso_alpha3\": \"ESP\", \"id\": 724}, {\"noc\": \"EST\", \"season\": \"Summer\", \"medal_count\": 43, \"iso_alpha3\": \"EST\", \"id\": 233}, {\"noc\": \"EST\", \"season\": \"Winter\", \"medal_count\": 7, \"iso_alpha3\": \"EST\", \"id\": 233}, {\"noc\": \"FIN\", \"season\": \"Summer\", \"medal_count\": 474, \"iso_alpha3\": \"FIN\", \"id\": 246}, {\"noc\": \"FIN\", \"season\": \"Winter\", \"medal_count\": 426, \"iso_alpha3\": \"FIN\", \"id\": 246}, {\"noc\": \"FRA\", \"season\": \"Summer\", \"medal_count\": 1627, \"iso_alpha3\": \"FRA\", \"id\": 250}, {\"noc\": \"FRA\", \"season\": \"Winter\", \"medal_count\": 150, \"iso_alpha3\": \"FRA\", \"id\": 250}, {\"noc\": \"GBR\", \"season\": \"Summer\", \"medal_count\": 1985, \"iso_alpha3\": \"GBR\", \"id\": 826}, {\"noc\": \"GBR\", \"season\": \"Winter\", \"medal_count\": 83, \"iso_alpha3\": \"GBR\", \"id\": 826}, {\"noc\": \"HUN\", \"season\": \"Summer\", \"medal_count\": 1123, \"iso_alpha3\": \"HUN\", \"id\": 348}, {\"noc\": \"HUN\", \"season\": \"Winter\", \"medal_count\": 12, \"iso_alpha3\": \"HUN\", \"id\": 348}, {\"noc\": \"IND\", \"season\": \"Summer\", \"medal_count\": 190, \"iso_alpha3\": \"IND\", \"id\": 356}, {\"noc\": \"IND\", \"season\": \"Winter\", \"medal_count\": 7, \"iso_alpha3\": \"IND\", \"id\": 356}, {\"noc\": \"IRL\", \"season\": \"Summer\", \"medal_count\": 35, \"iso_alpha3\": \"IRL\", \"id\": 372}, {\"noc\": \"ISL\", \"season\": \"Summer\", \"medal_count\": 17, \"iso_alpha3\": \"ISL\", \"id\": 352}, {\"noc\": \"ISR\", \"season\": \"Summer\", \"medal_count\": 9, \"iso_alpha3\": \"ISR\", \"id\": 376}, {\"noc\": \"ITA\", \"season\": \"Summer\", \"medal_count\": 1446, \"iso_alpha3\": \"ITA\", \"id\": 380}, {\"noc\": \"ITA\", \"season\": \"Winter\", \"medal_count\": 191, \"iso_alpha3\": \"ITA\", \"id\": 380}, {\"noc\": \"JPN\", \"season\": \"Summer\", \"medal_count\": 850, \"iso_alpha3\": \"JPN\", \"id\": 392}, {\"noc\": \"JPN\", \"season\": \"Winter\", \"medal_count\": 63, \"iso_alpha3\": \"JPN\", \"id\": 392}, {\"noc\": \"KAZ\", \"season\": \"Summer\", \"medal_count\": 70, \"iso_alpha3\": \"KAZ\", \"id\": 398}, {\"noc\": \"KAZ\", \"season\": \"Winter\", \"medal_count\": 7, \"iso_alpha3\": \"KAZ\", \"id\": 398}, {\"noc\": \"KOR\", \"season\": \"Summer\", \"medal_count\": 552, \"iso_alpha3\": \"KOR\", \"id\": 410}, {\"noc\": \"KOR\", \"season\": \"Winter\", \"medal_count\": 86, \"iso_alpha3\": \"KOR\", \"id\": 410}, {\"noc\": \"LTU\", \"season\": \"Summer\", \"medal_count\": 61, \"iso_alpha3\": \"LTU\", \"id\": 440}, {\"noc\": \"LUX\", \"season\": \"Summer\", \"medal_count\": 6, \"iso_alpha3\": \"LUX\", \"id\": 442}, {\"noc\": \"LUX\", \"season\": \"Winter\", \"medal_count\": 2, \"iso_alpha3\": \"LUX\", \"id\": 442}, {\"noc\": \"MAR\", \"season\": \"Summer\", \"medal_count\": 23, \"iso_alpha3\": \"MAR\", \"id\": 504}, {\"noc\": \"MEX\", \"season\": \"Summer\", \"medal_count\": 110, \"iso_alpha3\": \"MEX\", \"id\": 484}, {\"noc\": \"MNE\", \"season\": \"Summer\", \"medal_count\": 14, \"iso_alpha3\": \"MNE\", \"id\": 499}, {\"noc\": \"NOR\", \"season\": \"Summer\", \"medal_count\": 590, \"iso_alpha3\": \"NOR\", \"id\": 578}, {\"noc\": \"NOR\", \"season\": \"Winter\", \"medal_count\": 443, \"iso_alpha3\": \"NOR\", \"id\": 578}, {\"noc\": \"NZL\", \"season\": \"Summer\", \"medal_count\": 227, \"iso_alpha3\": \"NZL\", \"id\": 554}, {\"noc\": \"NZL\", \"season\": \"Winter\", \"medal_count\": 1, \"iso_alpha3\": \"NZL\", \"id\": 554}, {\"noc\": \"PAK\", \"season\": \"Summer\", \"medal_count\": 121, \"iso_alpha3\": \"PAK\", \"id\": 586}, {\"noc\": \"POL\", \"season\": \"Summer\", \"medal_count\": 538, \"iso_alpha3\": \"POL\", \"id\": 616}, {\"noc\": \"POL\", \"season\": \"Winter\", \"medal_count\": 27, \"iso_alpha3\": \"POL\", \"id\": 616}, {\"noc\": \"ROU\", \"season\": \"Summer\", \"medal_count\": 651, \"iso_alpha3\": \"ROU\", \"id\": 642}, {\"noc\": \"ROU\", \"season\": \"Winter\", \"medal_count\": 2, \"iso_alpha3\": \"ROU\", \"id\": 642}, {\"noc\": \"RUS\", \"season\": \"Summer\", \"medal_count\": 905, \"iso_alpha3\": \"RUS\", \"id\": 643}, {\"noc\": \"RUS\", \"season\": \"Winter\", \"medal_count\": 260, \"iso_alpha3\": \"RUS\", \"id\": 643}, {\"noc\": \"SVK\", \"season\": \"Summer\", \"medal_count\": 42, \"iso_alpha3\": \"SVK\", \"id\": 703}, {\"noc\": \"SVK\", \"season\": \"Winter\", \"medal_count\": 5, \"iso_alpha3\": \"SVK\", \"id\": 703}, {\"noc\": \"SWE\", \"season\": \"Summer\", \"medal_count\": 1108, \"iso_alpha3\": \"SWE\", \"id\": 752}, {\"noc\": \"SWE\", \"season\": \"Winter\", \"medal_count\": 428, \"iso_alpha3\": \"SWE\", \"id\": 752}, {\"noc\": \"USA\", \"season\": \"Summer\", \"medal_count\": 5002, \"iso_alpha3\": \"USA\", \"id\": 840}, {\"noc\": \"USA\", \"season\": \"Winter\", \"medal_count\": 635, \"iso_alpha3\": \"USA\", \"id\": 840}, {\"noc\": \"UZB\", \"season\": \"Summer\", \"medal_count\": 33, \"iso_alpha3\": \"UZB\", \"id\": 860}, {\"noc\": \"UZB\", \"season\": \"Winter\", \"medal_count\": 1, \"iso_alpha3\": \"UZB\", \"id\": 860}]}}, {\"mode\": \"vega-lite\"});\n",
       "</script>"
      ],
      "text/plain": [
       "alt.HConcatChart(...)"
      ]
     },
     "execution_count": 31,
     "metadata": {},
     "output_type": "execute_result"
    }
   ],
   "source": [
    "import altair as alt\n",
    "import pandas as pd\n",
    "import json\n",
    "import urllib.request\n",
    "\n",
    "# Load the TopoJSON file from the provided URL\n",
    "topojson_url = \"https://vega.github.io/vega-datasets/data/world-110m.json\"\n",
    "with urllib.request.urlopen(topojson_url) as response:\n",
    "    topojson = json.load(response)\n",
    "\n",
    "# Load the Olympic dataset\n",
    "url = \"https://raw.githubusercontent.com/rfordatascience/tidytuesday/master/data/2021/2021-07-27/olympics.csv\"\n",
    "df = pd.read_csv(url)\n",
    "\n",
    "# Aggregate medal counts by nation\n",
    "medal_counts_by_nation = (\n",
    "    df[df[\"medal\"].notna()]\n",
    "    .groupby([\"noc\", \"season\"])\n",
    "    .size()\n",
    "    .reset_index(name=\"medal_count\")\n",
    ")\n",
    "\n",
    "# Manual mapping between numeric IDs and ISO3 codes\n",
    "id_to_iso3_mapping = {\n",
    "    4: \"AFG\", 8: \"ALB\", 12: \"DZA\", 24: \"AGO\", 32: \"ARG\", 36: \"AUS\", 40: \"AUT\", 51: \"ARM\",\n",
    "    56: \"BEL\", 70: \"BIH\", 100: \"BGR\", 124: \"CAN\", 152: \"CHL\", 156: \"CHN\", 170: \"COL\",\n",
    "    191: \"HRV\", 203: \"CZE\", 208: \"DNK\", 214: \"DOM\", 218: \"ECU\", 233: \"EST\", 246: \"FIN\",\n",
    "    250: \"FRA\", 276: \"DEU\", 300: \"GRC\", 348: \"HUN\", 352: \"ISL\", 356: \"IND\", 360: \"IDN\",\n",
    "    364: \"IRN\", 372: \"IRL\", 376: \"ISR\", 380: \"ITA\", 392: \"JPN\", 398: \"KAZ\", 410: \"KOR\",\n",
    "    428: \"LVA\", 440: \"LTU\", 442: \"LUX\", 450: \"MDG\", 484: \"MEX\", 499: \"MNE\", 504: \"MAR\",\n",
    "    528: \"NLD\", 554: \"NZL\", 566: \"NGA\", 578: \"NOR\", 586: \"PAK\", 616: \"POL\", 620: \"PRT\",\n",
    "    642: \"ROU\", 643: \"RUS\", 703: \"SVK\", 705: \"SVN\", 710: \"ZAF\", 724: \"ESP\", 752: \"SWE\",\n",
    "    756: \"CHE\", 826: \"GBR\", 840: \"USA\", 860: \"UZB\", 894: \"ZMB\"\n",
    "}\n",
    "\n",
    "# Prepare country mapping DataFrame\n",
    "country_mappings = [{\"id\": int(feature[\"id\"])} for feature in topojson[\"objects\"][\"countries\"][\"geometries\"]]\n",
    "countries = pd.DataFrame(country_mappings)\n",
    "countries[\"iso_alpha3\"] = countries[\"id\"].map(id_to_iso3_mapping)\n",
    "\n",
    "# Merge medal data with numeric country IDs\n",
    "medal_counts_by_nation[\"iso_alpha3\"] = medal_counts_by_nation[\"noc\"]\n",
    "medal_counts_with_ids = pd.merge(\n",
    "    medal_counts_by_nation,\n",
    "    countries,\n",
    "    on=\"iso_alpha3\",\n",
    "    how=\"inner\"\n",
    ")\n",
    "\n",
    "# Create a parameter for selecting the season\n",
    "season_selector = alt.param(\n",
    "    name=\"season_select\",\n",
    "    bind=alt.binding_radio(options=[\"Summer\", \"Winter\"], name=\"Season: \"),\n",
    "    value=\"Summer\"\n",
    ")\n",
    "\n",
    "# Define the bar chart\n",
    "bar_chart = alt.Chart(medal_counts_with_ids).mark_bar().encode(\n",
    "    y=alt.Y(\"noc:N\", axis=alt.Axis(title=None)),\n",
    "    x=alt.X(\"sum(medal_count):Q\", title=\"Number of Medals\"),\n",
    "    color=alt.Color(\n",
    "        \"season:N\",\n",
    "        scale=alt.Scale(domain=[\"Summer\", \"Winter\"], range=[\"orange\", \"blue\"]),\n",
    "    ),\n",
    "    fillOpacity=alt.condition(season_selector, alt.value(1), alt.value(0.3))\n",
    ").transform_filter(season_selector).add_params(season_selector).properties(\n",
    "    width=100,\n",
    "    height=505\n",
    ")\n",
    "\n",
    "# Define the map chart\n",
    "world = alt.topo_feature(topojson_url, \"countries\")\n",
    "\n",
    "map_chart = alt.Chart(world).mark_geoshape().encode(\n",
    "    color=alt.Color(\n",
    "        \"sum(medal_count):Q\",\n",
    "        scale=alt.Scale(domain=[0, 10, 100], scheme=\"goldred\"),\n",
    "        title=\"Number of Medals\"\n",
    "    ),\n",
    "    tooltip=[\n",
    "        alt.Tooltip(\"iso_alpha3:N\", title=\"Country\"),\n",
    "        alt.Tooltip(\"sum(medal_count):Q\", title=\"Medal Count\")\n",
    "    ]\n",
    ").transform_lookup(\n",
    "    lookup=\"id\",\n",
    "    from_=alt.LookupData(medal_counts_with_ids, \"id\", [\"medal_count\", \"noc\", \"season\"])\n",
    ").transform_filter(season_selector).properties(\n",
    "    width=400,\n",
    "    height=350,\n",
    "    title=\"Olympic Medals Map\"\n",
    ").project(\"equirectangular\")\n",
    "\n",
    "# Combine the bar chart and map chart\n",
    "final_chart = alt.hconcat(bar_chart, map_chart).configure_legend(\n",
    "    titleFontSize=15,\n",
    "    labelFontSize=13\n",
    ").properties(\n",
    "    title=alt.TitleParams(\n",
    "        text=\"Olympic Medals Explorer\", anchor=\"middle\", fontSize=20, fontWeight=800\n",
    "    )\n",
    ")\n",
    "\n",
    "final_chart\n"
   ]
  },
  {
   "cell_type": "code",
   "execution_count": null,
   "metadata": {},
   "outputs": [],
   "source": []
  },
  {
   "cell_type": "code",
   "execution_count": 35,
   "metadata": {},
   "outputs": [
    {
     "data": {
      "text/html": [
       "\n",
       "<style>\n",
       "  #altair-viz-e519232021df462aa6bea5203fd10338.vega-embed {\n",
       "    width: 100%;\n",
       "    display: flex;\n",
       "  }\n",
       "\n",
       "  #altair-viz-e519232021df462aa6bea5203fd10338.vega-embed details,\n",
       "  #altair-viz-e519232021df462aa6bea5203fd10338.vega-embed details summary {\n",
       "    position: relative;\n",
       "  }\n",
       "</style>\n",
       "<div id=\"altair-viz-e519232021df462aa6bea5203fd10338\"></div>\n",
       "<script type=\"text/javascript\">\n",
       "  var VEGA_DEBUG = (typeof VEGA_DEBUG == \"undefined\") ? {} : VEGA_DEBUG;\n",
       "  (function(spec, embedOpt){\n",
       "    let outputDiv = document.currentScript.previousElementSibling;\n",
       "    if (outputDiv.id !== \"altair-viz-e519232021df462aa6bea5203fd10338\") {\n",
       "      outputDiv = document.getElementById(\"altair-viz-e519232021df462aa6bea5203fd10338\");\n",
       "    }\n",
       "    const paths = {\n",
       "      \"vega\": \"https://cdn.jsdelivr.net/npm/vega@5?noext\",\n",
       "      \"vega-lib\": \"https://cdn.jsdelivr.net/npm/vega-lib?noext\",\n",
       "      \"vega-lite\": \"https://cdn.jsdelivr.net/npm/vega-lite@5.20.1?noext\",\n",
       "      \"vega-embed\": \"https://cdn.jsdelivr.net/npm/vega-embed@6?noext\",\n",
       "    };\n",
       "\n",
       "    function maybeLoadScript(lib, version) {\n",
       "      var key = `${lib.replace(\"-\", \"\")}_version`;\n",
       "      return (VEGA_DEBUG[key] == version) ?\n",
       "        Promise.resolve(paths[lib]) :\n",
       "        new Promise(function(resolve, reject) {\n",
       "          var s = document.createElement('script');\n",
       "          document.getElementsByTagName(\"head\")[0].appendChild(s);\n",
       "          s.async = true;\n",
       "          s.onload = () => {\n",
       "            VEGA_DEBUG[key] = version;\n",
       "            return resolve(paths[lib]);\n",
       "          };\n",
       "          s.onerror = () => reject(`Error loading script: ${paths[lib]}`);\n",
       "          s.src = paths[lib];\n",
       "        });\n",
       "    }\n",
       "\n",
       "    function showError(err) {\n",
       "      outputDiv.innerHTML = `<div class=\"error\" style=\"color:red;\">${err}</div>`;\n",
       "      throw err;\n",
       "    }\n",
       "\n",
       "    function displayChart(vegaEmbed) {\n",
       "      vegaEmbed(outputDiv, spec, embedOpt)\n",
       "        .catch(err => showError(`Javascript Error: ${err.message}<br>This usually means there's a typo in your chart specification. See the javascript console for the full traceback.`));\n",
       "    }\n",
       "\n",
       "    if(typeof define === \"function\" && define.amd) {\n",
       "      requirejs.config({paths});\n",
       "      require([\"vega-embed\"], displayChart, err => showError(`Error loading script: ${err.message}`));\n",
       "    } else {\n",
       "      maybeLoadScript(\"vega\", \"5\")\n",
       "        .then(() => maybeLoadScript(\"vega-lite\", \"5.20.1\"))\n",
       "        .then(() => maybeLoadScript(\"vega-embed\", \"6\"))\n",
       "        .catch(showError)\n",
       "        .then(() => displayChart(vegaEmbed));\n",
       "    }\n",
       "  })({\"config\": {\"view\": {\"continuousWidth\": 300, \"continuousHeight\": 300}}, \"data\": {\"url\": \"https://vega.github.io/vega-datasets/data/world-110m.json\", \"format\": {\"feature\": \"countries\", \"type\": \"topojson\"}}, \"mark\": {\"type\": \"geoshape\"}, \"encoding\": {\"color\": {\"field\": \"medal_count\", \"scale\": {\"domain\": [0, 5002.0], \"range\": [\"lightblue\", \"darkblue\"]}, \"title\": \"Number of Medals\", \"type\": \"quantitative\"}, \"tooltip\": [{\"field\": \"noc\", \"title\": \"NOC\", \"type\": \"nominal\"}, {\"field\": \"medal_count\", \"title\": \"Medal Count\", \"type\": \"quantitative\"}, {\"field\": \"season\", \"title\": \"Season\", \"type\": \"nominal\"}]}, \"height\": 400, \"params\": [{\"name\": \"season_select\", \"bind\": {\"input\": \"radio\", \"options\": [\"Summer\", \"Winter\"], \"name\": \"Season\"}, \"value\": \"Summer\"}], \"projection\": {\"type\": \"equirectangular\"}, \"title\": \"Olympic Medals by Country (Switchable by Season)\", \"transform\": [{\"lookup\": \"id\", \"from\": {\"data\": {\"name\": \"data-20f9ebe775dee24ba7653ba9b8a80c13\"}, \"key\": \"id\", \"fields\": [\"medal_count\", \"noc\", \"season\"]}}, {\"filter\": \"(datum.season === season_select)\"}], \"width\": 800, \"$schema\": \"https://vega.github.io/schema/vega-lite/v5.20.1.json\", \"datasets\": {\"data-20f9ebe775dee24ba7653ba9b8a80c13\": [{\"noc\": \"AFG\", \"season\": \"Summer\", \"medal_count\": 2, \"iso_alpha3\": \"AFG\", \"id\": 4}, {\"noc\": \"ARG\", \"season\": \"Summer\", \"medal_count\": 274, \"iso_alpha3\": \"ARG\", \"id\": 32}, {\"noc\": \"ARM\", \"season\": \"Summer\", \"medal_count\": 16, \"iso_alpha3\": \"ARM\", \"id\": 51}, {\"noc\": \"AUS\", \"season\": \"Summer\", \"medal_count\": 1304, \"iso_alpha3\": \"AUS\", \"id\": 36}, {\"noc\": \"AUS\", \"season\": \"Winter\", \"medal_count\": 16, \"iso_alpha3\": \"AUS\", \"id\": 36}, {\"noc\": \"AUT\", \"season\": \"Summer\", \"medal_count\": 170, \"iso_alpha3\": \"AUT\", \"id\": 40}, {\"noc\": \"AUT\", \"season\": \"Winter\", \"medal_count\": 280, \"iso_alpha3\": \"AUT\", \"id\": 40}, {\"noc\": \"BEL\", \"season\": \"Summer\", \"medal_count\": 455, \"iso_alpha3\": \"BEL\", \"id\": 56}, {\"noc\": \"BEL\", \"season\": \"Winter\", \"medal_count\": 13, \"iso_alpha3\": \"BEL\", \"id\": 56}, {\"noc\": \"CAN\", \"season\": \"Summer\", \"medal_count\": 741, \"iso_alpha3\": \"CAN\", \"id\": 124}, {\"noc\": \"CAN\", \"season\": \"Winter\", \"medal_count\": 611, \"iso_alpha3\": \"CAN\", \"id\": 124}, {\"noc\": \"CHN\", \"season\": \"Summer\", \"medal_count\": 909, \"iso_alpha3\": \"CHN\", \"id\": 156}, {\"noc\": \"CHN\", \"season\": \"Winter\", \"medal_count\": 80, \"iso_alpha3\": \"CHN\", \"id\": 156}, {\"noc\": \"COL\", \"season\": \"Summer\", \"medal_count\": 28, \"iso_alpha3\": \"COL\", \"id\": 170}, {\"noc\": \"CZE\", \"season\": \"Summer\", \"medal_count\": 71, \"iso_alpha3\": \"CZE\", \"id\": 203}, {\"noc\": \"CZE\", \"season\": \"Winter\", \"medal_count\": 73, \"iso_alpha3\": \"CZE\", \"id\": 203}, {\"noc\": \"DOM\", \"season\": \"Summer\", \"medal_count\": 7, \"iso_alpha3\": \"DOM\", \"id\": 214}, {\"noc\": \"ECU\", \"season\": \"Summer\", \"medal_count\": 2, \"iso_alpha3\": \"ECU\", \"id\": 218}, {\"noc\": \"ESP\", \"season\": \"Summer\", \"medal_count\": 487, \"iso_alpha3\": \"ESP\", \"id\": 724}, {\"noc\": \"ESP\", \"season\": \"Winter\", \"medal_count\": 2, \"iso_alpha3\": \"ESP\", \"id\": 724}, {\"noc\": \"EST\", \"season\": \"Summer\", \"medal_count\": 43, \"iso_alpha3\": \"EST\", \"id\": 233}, {\"noc\": \"EST\", \"season\": \"Winter\", \"medal_count\": 7, \"iso_alpha3\": \"EST\", \"id\": 233}, {\"noc\": \"FIN\", \"season\": \"Summer\", \"medal_count\": 474, \"iso_alpha3\": \"FIN\", \"id\": 246}, {\"noc\": \"FIN\", \"season\": \"Winter\", \"medal_count\": 426, \"iso_alpha3\": \"FIN\", \"id\": 246}, {\"noc\": \"FRA\", \"season\": \"Summer\", \"medal_count\": 1627, \"iso_alpha3\": \"FRA\", \"id\": 250}, {\"noc\": \"FRA\", \"season\": \"Winter\", \"medal_count\": 150, \"iso_alpha3\": \"FRA\", \"id\": 250}, {\"noc\": \"GBR\", \"season\": \"Summer\", \"medal_count\": 1985, \"iso_alpha3\": \"GBR\", \"id\": 826}, {\"noc\": \"GBR\", \"season\": \"Winter\", \"medal_count\": 83, \"iso_alpha3\": \"GBR\", \"id\": 826}, {\"noc\": \"HUN\", \"season\": \"Summer\", \"medal_count\": 1123, \"iso_alpha3\": \"HUN\", \"id\": 348}, {\"noc\": \"HUN\", \"season\": \"Winter\", \"medal_count\": 12, \"iso_alpha3\": \"HUN\", \"id\": 348}, {\"noc\": \"IND\", \"season\": \"Summer\", \"medal_count\": 190, \"iso_alpha3\": \"IND\", \"id\": 356}, {\"noc\": \"IND\", \"season\": \"Winter\", \"medal_count\": 7, \"iso_alpha3\": \"IND\", \"id\": 356}, {\"noc\": \"IRL\", \"season\": \"Summer\", \"medal_count\": 35, \"iso_alpha3\": \"IRL\", \"id\": 372}, {\"noc\": \"ISL\", \"season\": \"Summer\", \"medal_count\": 17, \"iso_alpha3\": \"ISL\", \"id\": 352}, {\"noc\": \"ISR\", \"season\": \"Summer\", \"medal_count\": 9, \"iso_alpha3\": \"ISR\", \"id\": 376}, {\"noc\": \"ITA\", \"season\": \"Summer\", \"medal_count\": 1446, \"iso_alpha3\": \"ITA\", \"id\": 380}, {\"noc\": \"ITA\", \"season\": \"Winter\", \"medal_count\": 191, \"iso_alpha3\": \"ITA\", \"id\": 380}, {\"noc\": \"JPN\", \"season\": \"Summer\", \"medal_count\": 850, \"iso_alpha3\": \"JPN\", \"id\": 392}, {\"noc\": \"JPN\", \"season\": \"Winter\", \"medal_count\": 63, \"iso_alpha3\": \"JPN\", \"id\": 392}, {\"noc\": \"KAZ\", \"season\": \"Summer\", \"medal_count\": 70, \"iso_alpha3\": \"KAZ\", \"id\": 398}, {\"noc\": \"KAZ\", \"season\": \"Winter\", \"medal_count\": 7, \"iso_alpha3\": \"KAZ\", \"id\": 398}, {\"noc\": \"KOR\", \"season\": \"Summer\", \"medal_count\": 552, \"iso_alpha3\": \"KOR\", \"id\": 410}, {\"noc\": \"KOR\", \"season\": \"Winter\", \"medal_count\": 86, \"iso_alpha3\": \"KOR\", \"id\": 410}, {\"noc\": \"LTU\", \"season\": \"Summer\", \"medal_count\": 61, \"iso_alpha3\": \"LTU\", \"id\": 440}, {\"noc\": \"LUX\", \"season\": \"Summer\", \"medal_count\": 6, \"iso_alpha3\": \"LUX\", \"id\": 442}, {\"noc\": \"LUX\", \"season\": \"Winter\", \"medal_count\": 2, \"iso_alpha3\": \"LUX\", \"id\": 442}, {\"noc\": \"MAR\", \"season\": \"Summer\", \"medal_count\": 23, \"iso_alpha3\": \"MAR\", \"id\": 504}, {\"noc\": \"MEX\", \"season\": \"Summer\", \"medal_count\": 110, \"iso_alpha3\": \"MEX\", \"id\": 484}, {\"noc\": \"MNE\", \"season\": \"Summer\", \"medal_count\": 14, \"iso_alpha3\": \"MNE\", \"id\": 499}, {\"noc\": \"NOR\", \"season\": \"Summer\", \"medal_count\": 590, \"iso_alpha3\": \"NOR\", \"id\": 578}, {\"noc\": \"NOR\", \"season\": \"Winter\", \"medal_count\": 443, \"iso_alpha3\": \"NOR\", \"id\": 578}, {\"noc\": \"NZL\", \"season\": \"Summer\", \"medal_count\": 227, \"iso_alpha3\": \"NZL\", \"id\": 554}, {\"noc\": \"NZL\", \"season\": \"Winter\", \"medal_count\": 1, \"iso_alpha3\": \"NZL\", \"id\": 554}, {\"noc\": \"PAK\", \"season\": \"Summer\", \"medal_count\": 121, \"iso_alpha3\": \"PAK\", \"id\": 586}, {\"noc\": \"POL\", \"season\": \"Summer\", \"medal_count\": 538, \"iso_alpha3\": \"POL\", \"id\": 616}, {\"noc\": \"POL\", \"season\": \"Winter\", \"medal_count\": 27, \"iso_alpha3\": \"POL\", \"id\": 616}, {\"noc\": \"ROU\", \"season\": \"Summer\", \"medal_count\": 651, \"iso_alpha3\": \"ROU\", \"id\": 642}, {\"noc\": \"ROU\", \"season\": \"Winter\", \"medal_count\": 2, \"iso_alpha3\": \"ROU\", \"id\": 642}, {\"noc\": \"RUS\", \"season\": \"Summer\", \"medal_count\": 905, \"iso_alpha3\": \"RUS\", \"id\": 643}, {\"noc\": \"RUS\", \"season\": \"Winter\", \"medal_count\": 260, \"iso_alpha3\": \"RUS\", \"id\": 643}, {\"noc\": \"SVK\", \"season\": \"Summer\", \"medal_count\": 42, \"iso_alpha3\": \"SVK\", \"id\": 703}, {\"noc\": \"SVK\", \"season\": \"Winter\", \"medal_count\": 5, \"iso_alpha3\": \"SVK\", \"id\": 703}, {\"noc\": \"SWE\", \"season\": \"Summer\", \"medal_count\": 1108, \"iso_alpha3\": \"SWE\", \"id\": 752}, {\"noc\": \"SWE\", \"season\": \"Winter\", \"medal_count\": 428, \"iso_alpha3\": \"SWE\", \"id\": 752}, {\"noc\": \"USA\", \"season\": \"Summer\", \"medal_count\": 5002, \"iso_alpha3\": \"USA\", \"id\": 840}, {\"noc\": \"USA\", \"season\": \"Winter\", \"medal_count\": 635, \"iso_alpha3\": \"USA\", \"id\": 840}, {\"noc\": \"UZB\", \"season\": \"Summer\", \"medal_count\": 33, \"iso_alpha3\": \"UZB\", \"id\": 860}, {\"noc\": \"UZB\", \"season\": \"Winter\", \"medal_count\": 1, \"iso_alpha3\": \"UZB\", \"id\": 860}]}}, {\"mode\": \"vega-lite\"});\n",
       "</script>"
      ],
      "text/plain": [
       "alt.Chart(...)"
      ]
     },
     "execution_count": 35,
     "metadata": {},
     "output_type": "execute_result"
    }
   ],
   "source": [
    "import altair as alt\n",
    "import pandas as pd\n",
    "import json\n",
    "import urllib.request\n",
    "\n",
    "# Load the TopoJSON file from the provided URL\n",
    "topojson_url = \"https://vega.github.io/vega-datasets/data/world-110m.json\"\n",
    "with urllib.request.urlopen(topojson_url) as response:\n",
    "    topojson = json.load(response)\n",
    "\n",
    "# Load the Olympic dataset\n",
    "url = \"https://raw.githubusercontent.com/rfordatascience/tidytuesday/master/data/2021/2021-07-27/olympics.csv\"\n",
    "df = pd.read_csv(url)\n",
    "\n",
    "# Aggregate medal counts by nation and season\n",
    "medal_counts_by_nation = (\n",
    "    df[df[\"medal\"].notna()]\n",
    "    .groupby([\"noc\", \"season\"])\n",
    "    .size()\n",
    "    .reset_index(name=\"medal_count\")\n",
    ")\n",
    "\n",
    "# Mapping between numeric IDs and ISO3 codes\n",
    "id_to_iso3_mapping = {\n",
    "    4: \"AFG\", 8: \"ALB\", 12: \"DZA\", 24: \"AGO\", 32: \"ARG\", 36: \"AUS\", 40: \"AUT\",\n",
    "    51: \"ARM\", 56: \"BEL\", 70: \"BIH\", 100: \"BGR\", 124: \"CAN\", 152: \"CHL\",\n",
    "    156: \"CHN\", 170: \"COL\", 191: \"HRV\", 203: \"CZE\", 208: \"DNK\", 214: \"DOM\",\n",
    "    218: \"ECU\", 233: \"EST\", 246: \"FIN\", 250: \"FRA\", 276: \"DEU\", 300: \"GRC\",\n",
    "    348: \"HUN\", 352: \"ISL\", 356: \"IND\", 360: \"IDN\", 364: \"IRN\", 372: \"IRL\",\n",
    "    376: \"ISR\", 380: \"ITA\", 392: \"JPN\", 398: \"KAZ\", 410: \"KOR\", 428: \"LVA\",\n",
    "    440: \"LTU\", 442: \"LUX\", 450: \"MDG\", 484: \"MEX\", 499: \"MNE\", 504: \"MAR\",\n",
    "    528: \"NLD\", 554: \"NZL\", 566: \"NGA\", 578: \"NOR\", 586: \"PAK\", 616: \"POL\",\n",
    "    620: \"PRT\", 642: \"ROU\", 643: \"RUS\", 703: \"SVK\", 705: \"SVN\", 710: \"ZAF\",\n",
    "    724: \"ESP\", 752: \"SWE\", 756: \"CHE\", 826: \"GBR\", 840: \"USA\", 860: \"UZB\",\n",
    "    894: \"ZMB\", 784: \"ARE\"\n",
    "}\n",
    "\n",
    "# Add numeric IDs to the medal dataset\n",
    "medal_counts_by_nation[\"iso_alpha3\"] = medal_counts_by_nation[\"noc\"].str.upper()\n",
    "countries = pd.DataFrame.from_dict(id_to_iso3_mapping, orient='index', columns=[\"iso_alpha3\"]).reset_index().rename(columns={\"index\": \"id\"})\n",
    "\n",
    "medal_counts_with_ids = pd.merge(\n",
    "    medal_counts_by_nation,\n",
    "    countries,\n",
    "    on=\"iso_alpha3\",\n",
    "    how=\"inner\"\n",
    ")\n",
    "\n",
    "# Load world map\n",
    "world = alt.topo_feature(topojson_url, \"countries\")\n",
    "\n",
    "# Create a parameter for selecting the season (Summer/Winter)\n",
    "season_selector = alt.param(\n",
    "    name=\"season_select\",\n",
    "    bind=alt.binding_radio(name=\"Season\", options=[\"Summer\", \"Winter\"]),\n",
    "    value=\"Summer\"  # Default selection\n",
    ")\n",
    "\n",
    "# Create the map chart with a season filter\n",
    "world_map = alt.Chart(world).mark_geoshape().encode(\n",
    "    color=alt.Color(\n",
    "        \"medal_count:Q\",\n",
    "        scale=alt.Scale(\n",
    "            domain=[0, medal_counts_with_ids[\"medal_count\"].max()],\n",
    "            range=[\"lightblue\", \"darkblue\"]\n",
    "        ),\n",
    "        title=\"Number of Medals\"\n",
    "    ),\n",
    "    tooltip=[\n",
    "        alt.Tooltip(\"noc:N\", title=\"NOC\"),\n",
    "        alt.Tooltip(\"medal_count:Q\", title=\"Medal Count\"),\n",
    "        alt.Tooltip(\"season:N\", title=\"Season\")\n",
    "    ]\n",
    ").transform_lookup(\n",
    "    lookup=\"id\",\n",
    "    from_=alt.LookupData(medal_counts_with_ids, \"id\", [\"medal_count\", \"noc\", \"season\"])\n",
    ").transform_filter(\n",
    "    alt.datum.season == season_selector  # Filter for the selected season\n",
    ").properties(\n",
    "    width=800,\n",
    "    height=400,\n",
    "    title=\"Olympic Medals by Country (Switchable by Season)\"\n",
    ").project(\n",
    "    type=\"equirectangular\"\n",
    ").add_params(\n",
    "    season_selector\n",
    ")\n",
    "\n",
    "world_map\n"
   ]
  },
  {
   "cell_type": "code",
   "execution_count": 50,
   "metadata": {},
   "outputs": [
    {
     "data": {
      "text/html": [
       "\n",
       "<style>\n",
       "  #altair-viz-222e2199dc5e4ad88cfabae084a50d27.vega-embed {\n",
       "    width: 100%;\n",
       "    display: flex;\n",
       "  }\n",
       "\n",
       "  #altair-viz-222e2199dc5e4ad88cfabae084a50d27.vega-embed details,\n",
       "  #altair-viz-222e2199dc5e4ad88cfabae084a50d27.vega-embed details summary {\n",
       "    position: relative;\n",
       "  }\n",
       "</style>\n",
       "<div id=\"altair-viz-222e2199dc5e4ad88cfabae084a50d27\"></div>\n",
       "<script type=\"text/javascript\">\n",
       "  var VEGA_DEBUG = (typeof VEGA_DEBUG == \"undefined\") ? {} : VEGA_DEBUG;\n",
       "  (function(spec, embedOpt){\n",
       "    let outputDiv = document.currentScript.previousElementSibling;\n",
       "    if (outputDiv.id !== \"altair-viz-222e2199dc5e4ad88cfabae084a50d27\") {\n",
       "      outputDiv = document.getElementById(\"altair-viz-222e2199dc5e4ad88cfabae084a50d27\");\n",
       "    }\n",
       "    const paths = {\n",
       "      \"vega\": \"https://cdn.jsdelivr.net/npm/vega@5?noext\",\n",
       "      \"vega-lib\": \"https://cdn.jsdelivr.net/npm/vega-lib?noext\",\n",
       "      \"vega-lite\": \"https://cdn.jsdelivr.net/npm/vega-lite@5.20.1?noext\",\n",
       "      \"vega-embed\": \"https://cdn.jsdelivr.net/npm/vega-embed@6?noext\",\n",
       "    };\n",
       "\n",
       "    function maybeLoadScript(lib, version) {\n",
       "      var key = `${lib.replace(\"-\", \"\")}_version`;\n",
       "      return (VEGA_DEBUG[key] == version) ?\n",
       "        Promise.resolve(paths[lib]) :\n",
       "        new Promise(function(resolve, reject) {\n",
       "          var s = document.createElement('script');\n",
       "          document.getElementsByTagName(\"head\")[0].appendChild(s);\n",
       "          s.async = true;\n",
       "          s.onload = () => {\n",
       "            VEGA_DEBUG[key] = version;\n",
       "            return resolve(paths[lib]);\n",
       "          };\n",
       "          s.onerror = () => reject(`Error loading script: ${paths[lib]}`);\n",
       "          s.src = paths[lib];\n",
       "        });\n",
       "    }\n",
       "\n",
       "    function showError(err) {\n",
       "      outputDiv.innerHTML = `<div class=\"error\" style=\"color:red;\">${err}</div>`;\n",
       "      throw err;\n",
       "    }\n",
       "\n",
       "    function displayChart(vegaEmbed) {\n",
       "      vegaEmbed(outputDiv, spec, embedOpt)\n",
       "        .catch(err => showError(`Javascript Error: ${err.message}<br>This usually means there's a typo in your chart specification. See the javascript console for the full traceback.`));\n",
       "    }\n",
       "\n",
       "    if(typeof define === \"function\" && define.amd) {\n",
       "      requirejs.config({paths});\n",
       "      require([\"vega-embed\"], displayChart, err => showError(`Error loading script: ${err.message}`));\n",
       "    } else {\n",
       "      maybeLoadScript(\"vega\", \"5\")\n",
       "        .then(() => maybeLoadScript(\"vega-lite\", \"5.20.1\"))\n",
       "        .then(() => maybeLoadScript(\"vega-embed\", \"6\"))\n",
       "        .catch(showError)\n",
       "        .then(() => displayChart(vegaEmbed));\n",
       "    }\n",
       "  })({\"config\": {\"view\": {\"continuousWidth\": 300, \"continuousHeight\": 300}}, \"data\": {\"url\": \"https://vega.github.io/vega-datasets/data/world-110m.json\", \"format\": {\"feature\": \"countries\", \"type\": \"topojson\"}}, \"mark\": {\"type\": \"geoshape\"}, \"encoding\": {\"color\": {\"field\": \"Total_Medals\", \"scale\": {\"scheme\": \"goldred\"}, \"title\": \"Total Medals\", \"type\": \"quantitative\"}, \"tooltip\": [{\"field\": \"noc\", \"title\": \"NOC\", \"type\": \"nominal\"}, {\"field\": \"season\", \"title\": \"Season\", \"type\": \"nominal\"}, {\"field\": \"Total_Medals\", \"title\": \"Total Medals\", \"type\": \"quantitative\"}]}, \"height\": 400, \"params\": [{\"name\": \"season\", \"bind\": {\"input\": \"radio\", \"options\": [\"Summer\", \"Winter\"], \"name\": \"season: \"}, \"value\": \"Summer\"}], \"projection\": {\"type\": \"equirectangular\"}, \"title\": \"Olympic Medals by Country\", \"transform\": [{\"lookup\": \"id\", \"from\": {\"data\": {\"name\": \"data-58cf260c2627be2971269f66fd610cbd\"}, \"key\": \"numeric_id\", \"fields\": [\"noc\", \"season\", \"Total_Medals\"]}}, {\"filter\": \"(datum.season === season)\"}], \"width\": 800, \"$schema\": \"https://vega.github.io/schema/vega-lite/v5.20.1.json\", \"datasets\": {\"data-58cf260c2627be2971269f66fd610cbd\": [{\"noc\": \"AFG\", \"numeric_id\": 4, \"season\": \"Summer\", \"Total_Medals\": 2009}, {\"noc\": \"AFG\", \"numeric_id\": 4, \"season\": \"Summer\", \"Total_Medals\": 2013}, {\"noc\": \"AHO\", \"numeric_id\": 0, \"season\": \"Summer\", \"Total_Medals\": 1989}, {\"noc\": \"ALG\", \"numeric_id\": 0, \"season\": \"Summer\", \"Total_Medals\": 1986}, {\"noc\": \"ALG\", \"numeric_id\": 0, \"season\": \"Summer\", \"Total_Medals\": 1994}, {\"noc\": \"ALG\", \"numeric_id\": 0, \"season\": \"Summer\", \"Total_Medals\": 1999}, {\"noc\": \"ALG\", \"numeric_id\": 0, \"season\": \"Summer\", \"Total_Medals\": 2005}, {\"noc\": \"ALG\", \"numeric_id\": 0, \"season\": \"Summer\", \"Total_Medals\": 2010}, {\"noc\": \"ALG\", \"numeric_id\": 0, \"season\": \"Summer\", \"Total_Medals\": 2013}, {\"noc\": \"ALG\", \"numeric_id\": 0, \"season\": \"Summer\", \"Total_Medals\": 2018}, {\"noc\": \"ANZ\", \"numeric_id\": 0, \"season\": \"Summer\", \"Total_Medals\": 1927}, {\"noc\": \"ANZ\", \"numeric_id\": 0, \"season\": \"Summer\", \"Total_Medals\": 1922}, {\"noc\": \"ARG\", \"numeric_id\": 32, \"season\": \"Summer\", \"Total_Medals\": 1934}, {\"noc\": \"ARG\", \"numeric_id\": 32, \"season\": \"Summer\", \"Total_Medals\": 1954}, {\"noc\": \"ARG\", \"numeric_id\": 32, \"season\": \"Summer\", \"Total_Medals\": 1936}, {\"noc\": \"ARG\", \"numeric_id\": 32, \"season\": \"Summer\", \"Total_Medals\": 1947}, {\"noc\": \"ARG\", \"numeric_id\": 32, \"season\": \"Summer\", \"Total_Medals\": 1959}, {\"noc\": \"ARG\", \"numeric_id\": 32, \"season\": \"Summer\", \"Total_Medals\": 1958}, {\"noc\": \"ARG\", \"numeric_id\": 32, \"season\": \"Summer\", \"Total_Medals\": 1958}, {\"noc\": \"ARG\", \"numeric_id\": 32, \"season\": \"Summer\", \"Total_Medals\": 1964}, {\"noc\": \"ARG\", \"numeric_id\": 32, \"season\": \"Summer\", \"Total_Medals\": 1965}, {\"noc\": \"ARG\", \"numeric_id\": 32, \"season\": \"Summer\", \"Total_Medals\": 1970}, {\"noc\": \"ARG\", \"numeric_id\": 32, \"season\": \"Summer\", \"Total_Medals\": 1973}, {\"noc\": \"ARG\", \"numeric_id\": 32, \"season\": \"Summer\", \"Total_Medals\": 2001}, {\"noc\": \"ARG\", \"numeric_id\": 32, \"season\": \"Summer\", \"Total_Medals\": 1994}, {\"noc\": \"ARG\", \"numeric_id\": 32, \"season\": \"Summer\", \"Total_Medals\": 2016}, {\"noc\": \"ARG\", \"numeric_id\": 32, \"season\": \"Summer\", \"Total_Medals\": 2020}, {\"noc\": \"ARG\", \"numeric_id\": 32, \"season\": \"Summer\", \"Total_Medals\": 2053}, {\"noc\": \"ARG\", \"numeric_id\": 32, \"season\": \"Summer\", \"Total_Medals\": 2059}, {\"noc\": \"ARG\", \"numeric_id\": 32, \"season\": \"Summer\", \"Total_Medals\": 2031}, {\"noc\": \"ARG\", \"numeric_id\": 32, \"season\": \"Summer\", \"Total_Medals\": 2038}, {\"noc\": \"ARM\", \"numeric_id\": 51, \"season\": \"Summer\", \"Total_Medals\": 1998}, {\"noc\": \"ARM\", \"numeric_id\": 51, \"season\": \"Summer\", \"Total_Medals\": 2001}, {\"noc\": \"ARM\", \"numeric_id\": 51, \"season\": \"Summer\", \"Total_Medals\": 2014}, {\"noc\": \"ARM\", \"numeric_id\": 51, \"season\": \"Summer\", \"Total_Medals\": 2015}, {\"noc\": \"ARM\", \"numeric_id\": 51, \"season\": \"Summer\", \"Total_Medals\": 2020}, {\"noc\": \"AUS\", \"numeric_id\": 36, \"season\": \"Summer\", \"Total_Medals\": 1899}, {\"noc\": \"AUS\", \"numeric_id\": 36, \"season\": \"Summer\", \"Total_Medals\": 1906}, {\"noc\": \"AUS\", \"numeric_id\": 36, \"season\": \"Summer\", \"Total_Medals\": 1908}, {\"noc\": \"AUS\", \"numeric_id\": 36, \"season\": \"Summer\", \"Total_Medals\": 1909}, {\"noc\": \"AUS\", \"numeric_id\": 36, \"season\": \"Summer\", \"Total_Medals\": 1927}, {\"noc\": \"AUS\", \"numeric_id\": 36, \"season\": \"Summer\", \"Total_Medals\": 1934}, {\"noc\": \"AUS\", \"numeric_id\": 36, \"season\": \"Summer\", \"Total_Medals\": 1932}, {\"noc\": \"AUS\", \"numeric_id\": 36, \"season\": \"Summer\", \"Total_Medals\": 1937}, {\"noc\": \"AUS\", \"numeric_id\": 36, \"season\": \"Summer\", \"Total_Medals\": 1937}, {\"noc\": \"AUS\", \"numeric_id\": 36, \"season\": \"Summer\", \"Total_Medals\": 1964}, {\"noc\": \"AUS\", \"numeric_id\": 36, \"season\": \"Summer\", \"Total_Medals\": 1972}, {\"noc\": \"AUS\", \"numeric_id\": 36, \"season\": \"Summer\", \"Total_Medals\": 2023}, {\"noc\": \"AUS\", \"numeric_id\": 36, \"season\": \"Summer\", \"Total_Medals\": 2006}, {\"noc\": \"AUS\", \"numeric_id\": 36, \"season\": \"Summer\", \"Total_Medals\": 2008}, {\"noc\": \"AUS\", \"numeric_id\": 36, \"season\": \"Summer\", \"Total_Medals\": 2019}, {\"noc\": \"AUS\", \"numeric_id\": 36, \"season\": \"Summer\", \"Total_Medals\": 1992}, {\"noc\": \"AUS\", \"numeric_id\": 36, \"season\": \"Summer\", \"Total_Medals\": 1999}, {\"noc\": \"AUS\", \"numeric_id\": 36, \"season\": \"Summer\", \"Total_Medals\": 1993}, {\"noc\": \"AUS\", \"numeric_id\": 36, \"season\": \"Summer\", \"Total_Medals\": 2036}, {\"noc\": \"AUS\", \"numeric_id\": 36, \"season\": \"Summer\", \"Total_Medals\": 2023}, {\"noc\": \"AUS\", \"numeric_id\": 36, \"season\": \"Summer\", \"Total_Medals\": 2049}, {\"noc\": \"AUS\", \"numeric_id\": 36, \"season\": \"Summer\", \"Total_Medals\": 2128}, {\"noc\": \"AUS\", \"numeric_id\": 36, \"season\": \"Summer\", \"Total_Medals\": 2183}, {\"noc\": \"AUS\", \"numeric_id\": 36, \"season\": \"Summer\", \"Total_Medals\": 2161}, {\"noc\": \"AUS\", \"numeric_id\": 36, \"season\": \"Summer\", \"Total_Medals\": 2157}, {\"noc\": \"AUS\", \"numeric_id\": 36, \"season\": \"Summer\", \"Total_Medals\": 2126}, {\"noc\": \"AUS\", \"numeric_id\": 36, \"season\": \"Summer\", \"Total_Medals\": 2098}, {\"noc\": \"AUS\", \"numeric_id\": 36, \"season\": \"Winter\", \"Total_Medals\": 1925}, {\"noc\": \"AUS\", \"numeric_id\": 36, \"season\": \"Winter\", \"Total_Medals\": 1998}, {\"noc\": \"AUS\", \"numeric_id\": 36, \"season\": \"Winter\", \"Total_Medals\": 1999}, {\"noc\": \"AUS\", \"numeric_id\": 36, \"season\": \"Winter\", \"Total_Medals\": 2004}, {\"noc\": \"AUS\", \"numeric_id\": 36, \"season\": \"Winter\", \"Total_Medals\": 2008}, {\"noc\": \"AUS\", \"numeric_id\": 36, \"season\": \"Winter\", \"Total_Medals\": 2013}, {\"noc\": \"AUS\", \"numeric_id\": 36, \"season\": \"Winter\", \"Total_Medals\": 2017}, {\"noc\": \"AUT\", \"numeric_id\": 40, \"season\": \"Summer\", \"Total_Medals\": 1901}, {\"noc\": \"AUT\", \"numeric_id\": 40, \"season\": \"Summer\", \"Total_Medals\": 1906}, {\"noc\": \"AUT\", \"numeric_id\": 40, \"season\": \"Summer\", \"Total_Medals\": 1908}, {\"noc\": \"AUT\", \"numeric_id\": 40, \"season\": \"Summer\", \"Total_Medals\": 1915}, {\"noc\": \"AUT\", \"numeric_id\": 40, \"season\": \"Summer\", \"Total_Medals\": 1909}, {\"noc\": \"AUT\", \"numeric_id\": 40, \"season\": \"Summer\", \"Total_Medals\": 1926}, {\"noc\": \"AUT\", \"numeric_id\": 40, \"season\": \"Summer\", \"Total_Medals\": 1928}, {\"noc\": \"AUT\", \"numeric_id\": 40, \"season\": \"Summer\", \"Total_Medals\": 1933}, {\"noc\": \"AUT\", \"numeric_id\": 40, \"season\": \"Summer\", \"Total_Medals\": 1937}, {\"noc\": \"AUT\", \"numeric_id\": 40, \"season\": \"Summer\", \"Total_Medals\": 1991}, {\"noc\": \"AUT\", \"numeric_id\": 40, \"season\": \"Summer\", \"Total_Medals\": 1956}, {\"noc\": \"AUT\", \"numeric_id\": 40, \"season\": \"Summer\", \"Total_Medals\": 1955}, {\"noc\": \"AUT\", \"numeric_id\": 40, \"season\": \"Summer\", \"Total_Medals\": 1960}, {\"noc\": \"AUT\", \"numeric_id\": 40, \"season\": \"Summer\", \"Total_Medals\": 1963}, {\"noc\": \"AUT\", \"numeric_id\": 40, \"season\": \"Summer\", \"Total_Medals\": 1973}, {\"noc\": \"AUT\", \"numeric_id\": 40, \"season\": \"Summer\", \"Total_Medals\": 1975}, {\"noc\": \"AUT\", \"numeric_id\": 40, \"season\": \"Summer\", \"Total_Medals\": 1977}, {\"noc\": \"AUT\", \"numeric_id\": 40, \"season\": \"Summer\", \"Total_Medals\": 1985}, {\"noc\": \"AUT\", \"numeric_id\": 40, \"season\": \"Summer\", \"Total_Medals\": 1987}, {\"noc\": \"AUT\", \"numeric_id\": 40, \"season\": \"Summer\", \"Total_Medals\": 1989}, {\"noc\": \"AUT\", \"numeric_id\": 40, \"season\": \"Summer\", \"Total_Medals\": 1998}, {\"noc\": \"AUT\", \"numeric_id\": 40, \"season\": \"Summer\", \"Total_Medals\": 1999}, {\"noc\": \"AUT\", \"numeric_id\": 40, \"season\": \"Summer\", \"Total_Medals\": 2004}, {\"noc\": \"AUT\", \"numeric_id\": 40, \"season\": \"Summer\", \"Total_Medals\": 2012}, {\"noc\": \"AUT\", \"numeric_id\": 40, \"season\": \"Summer\", \"Total_Medals\": 2011}, {\"noc\": \"AUT\", \"numeric_id\": 40, \"season\": \"Summer\", \"Total_Medals\": 2018}, {\"noc\": \"AUT\", \"numeric_id\": 40, \"season\": \"Winter\", \"Total_Medals\": 1928}, {\"noc\": \"AUT\", \"numeric_id\": 40, \"season\": \"Winter\", \"Total_Medals\": 1934}, {\"noc\": \"AUT\", \"numeric_id\": 40, \"season\": \"Winter\", \"Total_Medals\": 1934}, {\"noc\": \"AUT\", \"numeric_id\": 40, \"season\": \"Winter\", \"Total_Medals\": 1941}, {\"noc\": \"AUT\", \"numeric_id\": 40, \"season\": \"Winter\", \"Total_Medals\": 1956}, {\"noc\": \"AUT\", \"numeric_id\": 40, \"season\": \"Winter\", \"Total_Medals\": 1960}, {\"noc\": \"AUT\", \"numeric_id\": 40, \"season\": \"Winter\", \"Total_Medals\": 1968}, {\"noc\": \"AUT\", \"numeric_id\": 40, \"season\": \"Winter\", \"Total_Medals\": 1966}, {\"noc\": \"AUT\", \"numeric_id\": 40, \"season\": \"Winter\", \"Total_Medals\": 1981}, {\"noc\": \"AUT\", \"numeric_id\": 40, \"season\": \"Winter\", \"Total_Medals\": 1983}, {\"noc\": \"AUT\", \"numeric_id\": 40, \"season\": \"Winter\", \"Total_Medals\": 1977}, {\"noc\": \"AUT\", \"numeric_id\": 40, \"season\": \"Winter\", \"Total_Medals\": 1983}, {\"noc\": \"AUT\", \"numeric_id\": 40, \"season\": \"Winter\", \"Total_Medals\": 1988}, {\"noc\": \"AUT\", \"numeric_id\": 40, \"season\": \"Winter\", \"Total_Medals\": 1985}, {\"noc\": \"AUT\", \"numeric_id\": 40, \"season\": \"Winter\", \"Total_Medals\": 2000}, {\"noc\": \"AUT\", \"numeric_id\": 40, \"season\": \"Winter\", \"Total_Medals\": 2021}, {\"noc\": \"AUT\", \"numeric_id\": 40, \"season\": \"Winter\", \"Total_Medals\": 2006}, {\"noc\": \"AUT\", \"numeric_id\": 40, \"season\": \"Winter\", \"Total_Medals\": 2018}, {\"noc\": \"AUT\", \"numeric_id\": 40, \"season\": \"Winter\", \"Total_Medals\": 2022}, {\"noc\": \"AUT\", \"numeric_id\": 40, \"season\": \"Winter\", \"Total_Medals\": 2036}, {\"noc\": \"AUT\", \"numeric_id\": 40, \"season\": \"Winter\", \"Total_Medals\": 2036}, {\"noc\": \"AUT\", \"numeric_id\": 40, \"season\": \"Winter\", \"Total_Medals\": 2041}, {\"noc\": \"AZE\", \"numeric_id\": 31, \"season\": \"Summer\", \"Total_Medals\": 1997}, {\"noc\": \"AZE\", \"numeric_id\": 31, \"season\": \"Summer\", \"Total_Medals\": 2003}, {\"noc\": \"AZE\", \"numeric_id\": 31, \"season\": \"Summer\", \"Total_Medals\": 2009}, {\"noc\": \"AZE\", \"numeric_id\": 31, \"season\": \"Summer\", \"Total_Medals\": 2015}, {\"noc\": \"AZE\", \"numeric_id\": 31, \"season\": \"Summer\", \"Total_Medals\": 2022}, {\"noc\": \"AZE\", \"numeric_id\": 31, \"season\": \"Summer\", \"Total_Medals\": 2034}, {\"noc\": \"BAH\", \"numeric_id\": 0, \"season\": \"Summer\", \"Total_Medals\": 1958}, {\"noc\": \"BAH\", \"numeric_id\": 0, \"season\": \"Summer\", \"Total_Medals\": 1966}, {\"noc\": \"BAH\", \"numeric_id\": 0, \"season\": \"Summer\", \"Total_Medals\": 1993}, {\"noc\": \"BAH\", \"numeric_id\": 0, \"season\": \"Summer\", \"Total_Medals\": 2001}, {\"noc\": \"BAH\", \"numeric_id\": 0, \"season\": \"Summer\", \"Total_Medals\": 2011}, {\"noc\": \"BAH\", \"numeric_id\": 0, \"season\": \"Summer\", \"Total_Medals\": 2006}, {\"noc\": \"BAH\", \"numeric_id\": 0, \"season\": \"Summer\", \"Total_Medals\": 2015}, {\"noc\": \"BAH\", \"numeric_id\": 0, \"season\": \"Summer\", \"Total_Medals\": 2016}, {\"noc\": \"BAH\", \"numeric_id\": 0, \"season\": \"Summer\", \"Total_Medals\": 2022}, {\"noc\": \"BAR\", \"numeric_id\": 0, \"season\": \"Summer\", \"Total_Medals\": 2001}, {\"noc\": \"BDI\", \"numeric_id\": 108, \"season\": \"Summer\", \"Total_Medals\": 1997}, {\"noc\": \"BDI\", \"numeric_id\": 108, \"season\": \"Summer\", \"Total_Medals\": 2017}, {\"noc\": \"BEL\", \"numeric_id\": 56, \"season\": \"Summer\", \"Total_Medals\": 1943}, {\"noc\": \"BEL\", \"numeric_id\": 56, \"season\": \"Summer\", \"Total_Medals\": 1917}, {\"noc\": \"BEL\", \"numeric_id\": 56, \"season\": \"Summer\", \"Total_Medals\": 1941}, {\"noc\": \"BEL\", \"numeric_id\": 56, \"season\": \"Summer\", \"Total_Medals\": 1931}, {\"noc\": \"BEL\", \"numeric_id\": 56, \"season\": \"Summer\", \"Total_Medals\": 2108}, {\"noc\": \"BEL\", \"numeric_id\": 56, \"season\": \"Summer\", \"Total_Medals\": 1963}, {\"noc\": \"BEL\", \"numeric_id\": 56, \"season\": \"Summer\", \"Total_Medals\": 1933}, {\"noc\": \"BEL\", \"numeric_id\": 56, \"season\": \"Summer\", \"Total_Medals\": 1933}, {\"noc\": \"BEL\", \"numeric_id\": 56, \"season\": \"Summer\", \"Total_Medals\": 1950}, {\"noc\": \"BEL\", \"numeric_id\": 56, \"season\": \"Summer\", \"Total_Medals\": 1963}, {\"noc\": \"BEL\", \"numeric_id\": 56, \"season\": \"Summer\", \"Total_Medals\": 1960}, {\"noc\": \"BEL\", \"numeric_id\": 56, \"season\": \"Summer\", \"Total_Medals\": 1958}, {\"noc\": \"BEL\", \"numeric_id\": 56, \"season\": \"Summer\", \"Total_Medals\": 1964}, {\"noc\": \"BEL\", \"numeric_id\": 56, \"season\": \"Summer\", \"Total_Medals\": 1967}, {\"noc\": \"BEL\", \"numeric_id\": 56, \"season\": \"Summer\", \"Total_Medals\": 1971}, {\"noc\": \"BEL\", \"numeric_id\": 56, \"season\": \"Summer\", \"Total_Medals\": 1974}, {\"noc\": \"BEL\", \"numeric_id\": 56, \"season\": \"Summer\", \"Total_Medals\": 1985}, {\"noc\": \"BEL\", \"numeric_id\": 56, \"season\": \"Summer\", \"Total_Medals\": 1981}, {\"noc\": \"BEL\", \"numeric_id\": 56, \"season\": \"Summer\", \"Total_Medals\": 1989}, {\"noc\": \"BEL\", \"numeric_id\": 56, \"season\": \"Summer\", \"Total_Medals\": 1990}, {\"noc\": \"BEL\", \"numeric_id\": 56, \"season\": \"Summer\", \"Total_Medals\": 1995}, {\"noc\": \"BEL\", \"numeric_id\": 56, \"season\": \"Summer\", \"Total_Medals\": 2002}, {\"noc\": \"BEL\", \"numeric_id\": 56, \"season\": \"Summer\", \"Total_Medals\": 2007}, {\"noc\": \"BEL\", \"numeric_id\": 56, \"season\": \"Summer\", \"Total_Medals\": 2007}, {\"noc\": \"BEL\", \"numeric_id\": 56, \"season\": \"Summer\", \"Total_Medals\": 2013}, {\"noc\": \"BEL\", \"numeric_id\": 56, \"season\": \"Summer\", \"Total_Medals\": 2015}, {\"noc\": \"BEL\", \"numeric_id\": 56, \"season\": \"Summer\", \"Total_Medals\": 2037}, {\"noc\": \"BEL\", \"numeric_id\": 56, \"season\": \"Winter\", \"Total_Medals\": 1929}, {\"noc\": \"BEL\", \"numeric_id\": 56, \"season\": \"Winter\", \"Total_Medals\": 1929}, {\"noc\": \"BEL\", \"numeric_id\": 56, \"season\": \"Winter\", \"Total_Medals\": 1954}, {\"noc\": \"BEL\", \"numeric_id\": 56, \"season\": \"Winter\", \"Total_Medals\": 1999}, {\"noc\": \"BER\", \"numeric_id\": 0, \"season\": \"Summer\", \"Total_Medals\": 1977}, {\"noc\": \"BLR\", \"numeric_id\": 112, \"season\": \"Summer\", \"Total_Medals\": 2019}, {\"noc\": \"BLR\", \"numeric_id\": 112, \"season\": \"Summer\", \"Total_Medals\": 2022}, {\"noc\": \"BLR\", \"numeric_id\": 112, \"season\": \"Summer\", \"Total_Medals\": 2019}, {\"noc\": \"BLR\", \"numeric_id\": 112, \"season\": \"Summer\", \"Total_Medals\": 2037}, {\"noc\": \"BLR\", \"numeric_id\": 112, \"season\": \"Summer\", \"Total_Medals\": 2035}, {\"noc\": \"BLR\", \"numeric_id\": 112, \"season\": \"Summer\", \"Total_Medals\": 2028}, {\"noc\": \"BLR\", \"numeric_id\": 112, \"season\": \"Winter\", \"Total_Medals\": 1996}, {\"noc\": \"BLR\", \"numeric_id\": 112, \"season\": \"Winter\", \"Total_Medals\": 2000}, {\"noc\": \"BLR\", \"numeric_id\": 112, \"season\": \"Winter\", \"Total_Medals\": 2003}, {\"noc\": \"BLR\", \"numeric_id\": 112, \"season\": \"Winter\", \"Total_Medals\": 2007}, {\"noc\": \"BLR\", \"numeric_id\": 112, \"season\": \"Winter\", \"Total_Medals\": 2013}, {\"noc\": \"BLR\", \"numeric_id\": 112, \"season\": \"Winter\", \"Total_Medals\": 2020}, {\"noc\": \"BOH\", \"numeric_id\": 0, \"season\": \"Summer\", \"Total_Medals\": 1903}, {\"noc\": \"BOH\", \"numeric_id\": 0, \"season\": \"Summer\", \"Total_Medals\": 1909}, {\"noc\": \"BOH\", \"numeric_id\": 0, \"season\": \"Summer\", \"Total_Medals\": 1914}, {\"noc\": \"BOT\", \"numeric_id\": 0, \"season\": \"Summer\", \"Total_Medals\": 2013}, {\"noc\": \"BRA\", \"numeric_id\": 76, \"season\": \"Summer\", \"Total_Medals\": 1927}, {\"noc\": \"BRA\", \"numeric_id\": 76, \"season\": \"Summer\", \"Total_Medals\": 1958}, {\"noc\": \"BRA\", \"numeric_id\": 76, \"season\": \"Summer\", \"Total_Medals\": 1955}, {\"noc\": \"BRA\", \"numeric_id\": 76, \"season\": \"Summer\", \"Total_Medals\": 1957}, {\"noc\": \"BRA\", \"numeric_id\": 76, \"season\": \"Summer\", \"Total_Medals\": 1973}, {\"noc\": \"BRA\", \"numeric_id\": 76, \"season\": \"Summer\", \"Total_Medals\": 1976}, {\"noc\": \"BRA\", \"numeric_id\": 76, \"season\": \"Summer\", \"Total_Medals\": 1972}, {\"noc\": \"BRA\", \"numeric_id\": 76, \"season\": \"Summer\", \"Total_Medals\": 1974}, {\"noc\": \"BRA\", \"numeric_id\": 76, \"season\": \"Summer\", \"Total_Medals\": 1979}, {\"noc\": \"BRA\", \"numeric_id\": 76, \"season\": \"Summer\", \"Total_Medals\": 1989}, {\"noc\": \"BRA\", \"numeric_id\": 76, \"season\": \"Summer\", \"Total_Medals\": 2020}, {\"noc\": \"BRA\", \"numeric_id\": 76, \"season\": \"Summer\", \"Total_Medals\": 2011}, {\"noc\": \"BRA\", \"numeric_id\": 76, \"season\": \"Summer\", \"Total_Medals\": 2006}, {\"noc\": \"BRA\", \"numeric_id\": 76, \"season\": \"Summer\", \"Total_Medals\": 2059}, {\"noc\": \"BRA\", \"numeric_id\": 76, \"season\": \"Summer\", \"Total_Medals\": 2048}, {\"noc\": \"BRA\", \"numeric_id\": 76, \"season\": \"Summer\", \"Total_Medals\": 2044}, {\"noc\": \"BRA\", \"numeric_id\": 76, \"season\": \"Summer\", \"Total_Medals\": 2086}, {\"noc\": \"BRA\", \"numeric_id\": 76, \"season\": \"Summer\", \"Total_Medals\": 2071}, {\"noc\": \"BRA\", \"numeric_id\": 76, \"season\": \"Summer\", \"Total_Medals\": 2066}, {\"noc\": \"BRN\", \"numeric_id\": 96, \"season\": \"Summer\", \"Total_Medals\": 2013}, {\"noc\": \"BRN\", \"numeric_id\": 96, \"season\": \"Summer\", \"Total_Medals\": 2018}, {\"noc\": \"BUL\", \"numeric_id\": 0, \"season\": \"Summer\", \"Total_Medals\": 1953}, {\"noc\": \"BUL\", \"numeric_id\": 0, \"season\": \"Summer\", \"Total_Medals\": 1974}, {\"noc\": \"BUL\", \"numeric_id\": 0, \"season\": \"Summer\", \"Total_Medals\": 1967}, {\"noc\": \"BUL\", \"numeric_id\": 0, \"season\": \"Summer\", \"Total_Medals\": 1974}, {\"noc\": \"BUL\", \"numeric_id\": 0, \"season\": \"Summer\", \"Total_Medals\": 1994}, {\"noc\": \"BUL\", \"numeric_id\": 0, \"season\": \"Summer\", \"Total_Medals\": 1994}, {\"noc\": \"BUL\", \"numeric_id\": 0, \"season\": \"Summer\", \"Total_Medals\": 2015}, {\"noc\": \"BUL\", \"numeric_id\": 0, \"season\": \"Summer\", \"Total_Medals\": 2070}, {\"noc\": \"BUL\", \"numeric_id\": 0, \"season\": \"Summer\", \"Total_Medals\": 2029}, {\"noc\": \"BUL\", \"numeric_id\": 0, \"season\": \"Summer\", \"Total_Medals\": 2009}, {\"noc\": \"BUL\", \"numeric_id\": 0, \"season\": \"Summer\", \"Total_Medals\": 2017}, {\"noc\": \"BUL\", \"numeric_id\": 0, \"season\": \"Summer\", \"Total_Medals\": 2013}, {\"noc\": \"BUL\", \"numeric_id\": 0, \"season\": \"Summer\", \"Total_Medals\": 2021}, {\"noc\": \"BUL\", \"numeric_id\": 0, \"season\": \"Summer\", \"Total_Medals\": 2013}, {\"noc\": \"BUL\", \"numeric_id\": 0, \"season\": \"Summer\", \"Total_Medals\": 2014}, {\"noc\": \"BUL\", \"numeric_id\": 0, \"season\": \"Summer\", \"Total_Medals\": 2023}, {\"noc\": \"BUL\", \"numeric_id\": 0, \"season\": \"Winter\", \"Total_Medals\": 1981}, {\"noc\": \"BUL\", \"numeric_id\": 0, \"season\": \"Winter\", \"Total_Medals\": 1999}, {\"noc\": \"BUL\", \"numeric_id\": 0, \"season\": \"Winter\", \"Total_Medals\": 2005}, {\"noc\": \"BUL\", \"numeric_id\": 0, \"season\": \"Winter\", \"Total_Medals\": 2007}, {\"noc\": \"CAN\", \"numeric_id\": 124, \"season\": \"Summer\", \"Total_Medals\": 1902}, {\"noc\": \"CAN\", \"numeric_id\": 124, \"season\": \"Summer\", \"Total_Medals\": 1952}, {\"noc\": \"CAN\", \"numeric_id\": 124, \"season\": \"Summer\", \"Total_Medals\": 1908}, {\"noc\": \"CAN\", \"numeric_id\": 124, \"season\": \"Summer\", \"Total_Medals\": 1960}, {\"noc\": \"CAN\", \"numeric_id\": 124, \"season\": \"Summer\", \"Total_Medals\": 1920}, {\"noc\": \"CAN\", \"numeric_id\": 124, \"season\": \"Summer\", \"Total_Medals\": 1936}, {\"noc\": \"CAN\", \"numeric_id\": 124, \"season\": \"Summer\", \"Total_Medals\": 1944}, {\"noc\": \"CAN\", \"numeric_id\": 124, \"season\": \"Summer\", \"Total_Medals\": 1961}, {\"noc\": \"CAN\", \"numeric_id\": 124, \"season\": \"Summer\", \"Total_Medals\": 1971}, {\"noc\": \"CAN\", \"numeric_id\": 124, \"season\": \"Summer\", \"Total_Medals\": 1958}, {\"noc\": \"CAN\", \"numeric_id\": 124, \"season\": \"Summer\", \"Total_Medals\": 1955}, {\"noc\": \"CAN\", \"numeric_id\": 124, \"season\": \"Summer\", \"Total_Medals\": 1956}, {\"noc\": \"CAN\", \"numeric_id\": 124, \"season\": \"Summer\", \"Total_Medals\": 1975}, {\"noc\": \"CAN\", \"numeric_id\": 124, \"season\": \"Summer\", \"Total_Medals\": 1969}, {\"noc\": \"CAN\", \"numeric_id\": 124, \"season\": \"Summer\", \"Total_Medals\": 1969}, {\"noc\": \"CAN\", \"numeric_id\": 124, \"season\": \"Summer\", \"Total_Medals\": 1978}, {\"noc\": \"CAN\", \"numeric_id\": 124, \"season\": \"Summer\", \"Total_Medals\": 1983}, {\"noc\": \"CAN\", \"numeric_id\": 124, \"season\": \"Summer\", \"Total_Medals\": 1999}, {\"noc\": \"CAN\", \"numeric_id\": 124, \"season\": \"Summer\", \"Total_Medals\": 2071}, {\"noc\": \"CAN\", \"numeric_id\": 124, \"season\": \"Summer\", \"Total_Medals\": 2011}, {\"noc\": \"CAN\", \"numeric_id\": 124, \"season\": \"Summer\", \"Total_Medals\": 2036}, {\"noc\": \"CAN\", \"numeric_id\": 124, \"season\": \"Summer\", \"Total_Medals\": 2046}, {\"noc\": \"CAN\", \"numeric_id\": 124, \"season\": \"Summer\", \"Total_Medals\": 2031}, {\"noc\": \"CAN\", \"numeric_id\": 124, \"season\": \"Summer\", \"Total_Medals\": 2021}, {\"noc\": \"CAN\", \"numeric_id\": 124, \"season\": \"Summer\", \"Total_Medals\": 2043}, {\"noc\": \"CAN\", \"numeric_id\": 124, \"season\": \"Summer\", \"Total_Medals\": 2067}, {\"noc\": \"CAN\", \"numeric_id\": 124, \"season\": \"Summer\", \"Total_Medals\": 2085}, {\"noc\": \"CAN\", \"numeric_id\": 124, \"season\": \"Winter\", \"Total_Medals\": 1933}, {\"noc\": \"CAN\", \"numeric_id\": 124, \"season\": \"Winter\", \"Total_Medals\": 1940}, {\"noc\": \"CAN\", \"numeric_id\": 124, \"season\": \"Winter\", \"Total_Medals\": 1952}, {\"noc\": \"CAN\", \"numeric_id\": 124, \"season\": \"Winter\", \"Total_Medals\": 1949}, {\"noc\": \"CAN\", \"numeric_id\": 124, \"season\": \"Winter\", \"Total_Medals\": 1963}, {\"noc\": \"CAN\", \"numeric_id\": 124, \"season\": \"Winter\", \"Total_Medals\": 1969}, {\"noc\": \"CAN\", \"numeric_id\": 124, \"season\": \"Winter\", \"Total_Medals\": 1976}, {\"noc\": \"CAN\", \"numeric_id\": 124, \"season\": \"Winter\", \"Total_Medals\": 1981}, {\"noc\": \"CAN\", \"numeric_id\": 124, \"season\": \"Winter\", \"Total_Medals\": 1971}, {\"noc\": \"CAN\", \"numeric_id\": 124, \"season\": \"Winter\", \"Total_Medals\": 1988}, {\"noc\": \"CAN\", \"numeric_id\": 124, \"season\": \"Winter\", \"Total_Medals\": 1973}, {\"noc\": \"CAN\", \"numeric_id\": 124, \"season\": \"Winter\", \"Total_Medals\": 1979}, {\"noc\": \"CAN\", \"numeric_id\": 124, \"season\": \"Winter\", \"Total_Medals\": 1982}, {\"noc\": \"CAN\", \"numeric_id\": 124, \"season\": \"Winter\", \"Total_Medals\": 1988}, {\"noc\": \"CAN\", \"numeric_id\": 124, \"season\": \"Winter\", \"Total_Medals\": 1994}, {\"noc\": \"CAN\", \"numeric_id\": 124, \"season\": \"Winter\", \"Total_Medals\": 2028}, {\"noc\": \"CAN\", \"numeric_id\": 124, \"season\": \"Winter\", \"Total_Medals\": 2031}, {\"noc\": \"CAN\", \"numeric_id\": 124, \"season\": \"Winter\", \"Total_Medals\": 2047}, {\"noc\": \"CAN\", \"numeric_id\": 124, \"season\": \"Winter\", \"Total_Medals\": 2076}, {\"noc\": \"CAN\", \"numeric_id\": 124, \"season\": \"Winter\", \"Total_Medals\": 2075}, {\"noc\": \"CAN\", \"numeric_id\": 124, \"season\": \"Winter\", \"Total_Medals\": 2100}, {\"noc\": \"CAN\", \"numeric_id\": 124, \"season\": \"Winter\", \"Total_Medals\": 2100}, {\"noc\": \"CHI\", \"numeric_id\": 0, \"season\": \"Summer\", \"Total_Medals\": 1929}, {\"noc\": \"CHI\", \"numeric_id\": 0, \"season\": \"Summer\", \"Total_Medals\": 1956}, {\"noc\": \"CHI\", \"numeric_id\": 0, \"season\": \"Summer\", \"Total_Medals\": 1960}, {\"noc\": \"CHI\", \"numeric_id\": 0, \"season\": \"Summer\", \"Total_Medals\": 1989}, {\"noc\": \"CHI\", \"numeric_id\": 0, \"season\": \"Summer\", \"Total_Medals\": 2017}, {\"noc\": \"CHI\", \"numeric_id\": 0, \"season\": \"Summer\", \"Total_Medals\": 2008}, {\"noc\": \"CHI\", \"numeric_id\": 0, \"season\": \"Summer\", \"Total_Medals\": 2009}, {\"noc\": \"CHN\", \"numeric_id\": 156, \"season\": \"Summer\", \"Total_Medals\": 2058}, {\"noc\": \"CHN\", \"numeric_id\": 156, \"season\": \"Summer\", \"Total_Medals\": 2040}, {\"noc\": \"CHN\", \"numeric_id\": 156, \"season\": \"Summer\", \"Total_Medals\": 2074}, {\"noc\": \"CHN\", \"numeric_id\": 156, \"season\": \"Summer\", \"Total_Medals\": 2102}, {\"noc\": \"CHN\", \"numeric_id\": 156, \"season\": \"Summer\", \"Total_Medals\": 2079}, {\"noc\": \"CHN\", \"numeric_id\": 156, \"season\": \"Summer\", \"Total_Medals\": 2098}, {\"noc\": \"CHN\", \"numeric_id\": 156, \"season\": \"Summer\", \"Total_Medals\": 2192}, {\"noc\": \"CHN\", \"numeric_id\": 156, \"season\": \"Summer\", \"Total_Medals\": 2137}, {\"noc\": \"CHN\", \"numeric_id\": 156, \"season\": \"Summer\", \"Total_Medals\": 2129}, {\"noc\": \"CHN\", \"numeric_id\": 156, \"season\": \"Winter\", \"Total_Medals\": 1995}, {\"noc\": \"CHN\", \"numeric_id\": 156, \"season\": \"Winter\", \"Total_Medals\": 1997}, {\"noc\": \"CHN\", \"numeric_id\": 156, \"season\": \"Winter\", \"Total_Medals\": 2012}, {\"noc\": \"CHN\", \"numeric_id\": 156, \"season\": \"Winter\", \"Total_Medals\": 2018}, {\"noc\": \"CHN\", \"numeric_id\": 156, \"season\": \"Winter\", \"Total_Medals\": 2019}, {\"noc\": \"CHN\", \"numeric_id\": 156, \"season\": \"Winter\", \"Total_Medals\": 2029}, {\"noc\": \"CHN\", \"numeric_id\": 156, \"season\": \"Winter\", \"Total_Medals\": 2026}, {\"noc\": \"CIV\", \"numeric_id\": 384, \"season\": \"Summer\", \"Total_Medals\": 1985}, {\"noc\": \"CIV\", \"numeric_id\": 384, \"season\": \"Summer\", \"Total_Medals\": 2018}, {\"noc\": \"CMR\", \"numeric_id\": 120, \"season\": \"Summer\", \"Total_Medals\": 1969}, {\"noc\": \"CMR\", \"numeric_id\": 120, \"season\": \"Summer\", \"Total_Medals\": 1985}, {\"noc\": \"CMR\", \"numeric_id\": 120, \"season\": \"Summer\", \"Total_Medals\": 2018}, {\"noc\": \"CMR\", \"numeric_id\": 120, \"season\": \"Summer\", \"Total_Medals\": 2005}, {\"noc\": \"CMR\", \"numeric_id\": 120, \"season\": \"Summer\", \"Total_Medals\": 2009}, {\"noc\": \"COL\", \"numeric_id\": 170, \"season\": \"Summer\", \"Total_Medals\": 1901}, {\"noc\": \"COL\", \"numeric_id\": 170, \"season\": \"Summer\", \"Total_Medals\": 1975}, {\"noc\": \"COL\", \"numeric_id\": 170, \"season\": \"Summer\", \"Total_Medals\": 1985}, {\"noc\": \"COL\", \"numeric_id\": 170, \"season\": \"Summer\", \"Total_Medals\": 1989}, {\"noc\": \"COL\", \"numeric_id\": 170, \"season\": \"Summer\", \"Total_Medals\": 1993}, {\"noc\": \"COL\", \"numeric_id\": 170, \"season\": \"Summer\", \"Total_Medals\": 2001}, {\"noc\": \"COL\", \"numeric_id\": 170, \"season\": \"Summer\", \"Total_Medals\": 2006}, {\"noc\": \"COL\", \"numeric_id\": 170, \"season\": \"Summer\", \"Total_Medals\": 2010}, {\"noc\": \"COL\", \"numeric_id\": 170, \"season\": \"Summer\", \"Total_Medals\": 2020}, {\"noc\": \"COL\", \"numeric_id\": 170, \"season\": \"Summer\", \"Total_Medals\": 2024}, {\"noc\": \"CRC\", \"numeric_id\": 0, \"season\": \"Summer\", \"Total_Medals\": 1989}, {\"noc\": \"CRC\", \"numeric_id\": 0, \"season\": \"Summer\", \"Total_Medals\": 1997}, {\"noc\": \"CRC\", \"numeric_id\": 0, \"season\": \"Summer\", \"Total_Medals\": 2002}, {\"noc\": \"CRO\", \"numeric_id\": 0, \"season\": \"Summer\", \"Total_Medals\": 2007}, {\"noc\": \"CRO\", \"numeric_id\": 0, \"season\": \"Summer\", \"Total_Medals\": 2024}, {\"noc\": \"CRO\", \"numeric_id\": 0, \"season\": \"Summer\", \"Total_Medals\": 2010}, {\"noc\": \"CRO\", \"numeric_id\": 0, \"season\": \"Summer\", \"Total_Medals\": 2025}, {\"noc\": \"CRO\", \"numeric_id\": 0, \"season\": \"Summer\", \"Total_Medals\": 2013}, {\"noc\": \"CRO\", \"numeric_id\": 0, \"season\": \"Summer\", \"Total_Medals\": 2047}, {\"noc\": \"CRO\", \"numeric_id\": 0, \"season\": \"Summer\", \"Total_Medals\": 2040}, {\"noc\": \"CRO\", \"numeric_id\": 0, \"season\": \"Winter\", \"Total_Medals\": 2006}, {\"noc\": \"CRO\", \"numeric_id\": 0, \"season\": \"Winter\", \"Total_Medals\": 2009}, {\"noc\": \"CRO\", \"numeric_id\": 0, \"season\": \"Winter\", \"Total_Medals\": 2013}, {\"noc\": \"CRO\", \"numeric_id\": 0, \"season\": \"Winter\", \"Total_Medals\": 2015}, {\"noc\": \"CUB\", \"numeric_id\": 192, \"season\": \"Summer\", \"Total_Medals\": 1902}, {\"noc\": \"CUB\", \"numeric_id\": 192, \"season\": \"Summer\", \"Total_Medals\": 1909}, {\"noc\": \"CUB\", \"numeric_id\": 192, \"season\": \"Summer\", \"Total_Medals\": 1950}, {\"noc\": \"CUB\", \"numeric_id\": 192, \"season\": \"Summer\", \"Total_Medals\": 1965}, {\"noc\": \"CUB\", \"numeric_id\": 192, \"season\": \"Summer\", \"Total_Medals\": 1978}, {\"noc\": \"CUB\", \"numeric_id\": 192, \"season\": \"Summer\", \"Total_Medals\": 1994}, {\"noc\": \"CUB\", \"numeric_id\": 192, \"season\": \"Summer\", \"Total_Medals\": 2000}, {\"noc\": \"CUB\", \"numeric_id\": 192, \"season\": \"Summer\", \"Total_Medals\": 2000}, {\"noc\": \"CUB\", \"numeric_id\": 192, \"season\": \"Summer\", \"Total_Medals\": 2061}, {\"noc\": \"CUB\", \"numeric_id\": 192, \"season\": \"Summer\", \"Total_Medals\": 2051}, {\"noc\": \"CUB\", \"numeric_id\": 192, \"season\": \"Summer\", \"Total_Medals\": 2065}, {\"noc\": \"CUB\", \"numeric_id\": 192, \"season\": \"Summer\", \"Total_Medals\": 2066}, {\"noc\": \"CUB\", \"numeric_id\": 192, \"season\": \"Summer\", \"Total_Medals\": 2055}, {\"noc\": \"CUB\", \"numeric_id\": 192, \"season\": \"Summer\", \"Total_Medals\": 2026}, {\"noc\": \"CUB\", \"numeric_id\": 192, \"season\": \"Summer\", \"Total_Medals\": 2027}, {\"noc\": \"CYP\", \"numeric_id\": 196, \"season\": \"Summer\", \"Total_Medals\": 2013}, {\"noc\": \"CZE\", \"numeric_id\": 203, \"season\": \"Summer\", \"Total_Medals\": 2009}, {\"noc\": \"CZE\", \"numeric_id\": 203, \"season\": \"Summer\", \"Total_Medals\": 2009}, {\"noc\": \"CZE\", \"numeric_id\": 203, \"season\": \"Summer\", \"Total_Medals\": 2017}, {\"noc\": \"CZE\", \"numeric_id\": 203, \"season\": \"Summer\", \"Total_Medals\": 2015}, {\"noc\": \"CZE\", \"numeric_id\": 203, \"season\": \"Summer\", \"Total_Medals\": 2026}, {\"noc\": \"CZE\", \"numeric_id\": 203, \"season\": \"Summer\", \"Total_Medals\": 2031}, {\"noc\": \"CZE\", \"numeric_id\": 203, \"season\": \"Winter\", \"Total_Medals\": 2021}, {\"noc\": \"CZE\", \"numeric_id\": 203, \"season\": \"Winter\", \"Total_Medals\": 2005}, {\"noc\": \"CZE\", \"numeric_id\": 203, \"season\": \"Winter\", \"Total_Medals\": 2033}, {\"noc\": \"CZE\", \"numeric_id\": 203, \"season\": \"Winter\", \"Total_Medals\": 2019}, {\"noc\": \"CZE\", \"numeric_id\": 203, \"season\": \"Winter\", \"Total_Medals\": 2025}, {\"noc\": \"DEN\", \"numeric_id\": 0, \"season\": \"Summer\", \"Total_Medals\": 1902}, {\"noc\": \"DEN\", \"numeric_id\": 0, \"season\": \"Summer\", \"Total_Medals\": 1909}, {\"noc\": \"DEN\", \"numeric_id\": 0, \"season\": \"Summer\", \"Total_Medals\": 1940}, {\"noc\": \"DEN\", \"numeric_id\": 0, \"season\": \"Summer\", \"Total_Medals\": 1925}, {\"noc\": \"DEN\", \"numeric_id\": 0, \"season\": \"Summer\", \"Total_Medals\": 1999}, {\"noc\": \"DEN\", \"numeric_id\": 0, \"season\": \"Summer\", \"Total_Medals\": 1991}, {\"noc\": \"DEN\", \"numeric_id\": 0, \"season\": \"Summer\", \"Total_Medals\": 1938}, {\"noc\": \"DEN\", \"numeric_id\": 0, \"season\": \"Summer\", \"Total_Medals\": 1943}, {\"noc\": \"DEN\", \"numeric_id\": 0, \"season\": \"Summer\", \"Total_Medals\": 1943}, {\"noc\": \"DEN\", \"numeric_id\": 0, \"season\": \"Summer\", \"Total_Medals\": 1942}, {\"noc\": \"DEN\", \"numeric_id\": 0, \"season\": \"Summer\", \"Total_Medals\": 1999}, {\"noc\": \"DEN\", \"numeric_id\": 0, \"season\": \"Summer\", \"Total_Medals\": 1961}, {\"noc\": \"DEN\", \"numeric_id\": 0, \"season\": \"Summer\", \"Total_Medals\": 1962}, {\"noc\": \"DEN\", \"numeric_id\": 0, \"season\": \"Summer\", \"Total_Medals\": 1983}, {\"noc\": \"DEN\", \"numeric_id\": 0, \"season\": \"Summer\", \"Total_Medals\": 1976}, {\"noc\": \"DEN\", \"numeric_id\": 0, \"season\": \"Summer\", \"Total_Medals\": 1985}, {\"noc\": \"DEN\", \"numeric_id\": 0, \"season\": \"Summer\", \"Total_Medals\": 1973}, {\"noc\": \"DEN\", \"numeric_id\": 0, \"season\": \"Summer\", \"Total_Medals\": 1984}, {\"noc\": \"DEN\", \"numeric_id\": 0, \"season\": \"Summer\", \"Total_Medals\": 1988}, {\"noc\": \"DEN\", \"numeric_id\": 0, \"season\": \"Summer\", \"Total_Medals\": 1997}, {\"noc\": \"DEN\", \"numeric_id\": 0, \"season\": \"Summer\", \"Total_Medals\": 1995}, {\"noc\": \"DEN\", \"numeric_id\": 0, \"season\": \"Summer\", \"Total_Medals\": 2006}, {\"noc\": \"DEN\", \"numeric_id\": 0, \"season\": \"Summer\", \"Total_Medals\": 2019}, {\"noc\": \"DEN\", \"numeric_id\": 0, \"season\": \"Summer\", \"Total_Medals\": 2025}, {\"noc\": \"DEN\", \"numeric_id\": 0, \"season\": \"Summer\", \"Total_Medals\": 2033}, {\"noc\": \"DEN\", \"numeric_id\": 0, \"season\": \"Summer\", \"Total_Medals\": 2027}, {\"noc\": \"DEN\", \"numeric_id\": 0, \"season\": \"Summer\", \"Total_Medals\": 2028}, {\"noc\": \"DEN\", \"numeric_id\": 0, \"season\": \"Summer\", \"Total_Medals\": 2057}, {\"noc\": \"DEN\", \"numeric_id\": 0, \"season\": \"Winter\", \"Total_Medals\": 2003}, {\"noc\": \"DJI\", \"numeric_id\": 262, \"season\": \"Summer\", \"Total_Medals\": 1989}, {\"noc\": \"DOM\", \"numeric_id\": 214, \"season\": \"Summer\", \"Total_Medals\": 1985}, {\"noc\": \"DOM\", \"numeric_id\": 214, \"season\": \"Summer\", \"Total_Medals\": 2005}, {\"noc\": \"DOM\", \"numeric_id\": 214, \"season\": \"Summer\", \"Total_Medals\": 2010}, {\"noc\": \"DOM\", \"numeric_id\": 214, \"season\": \"Summer\", \"Total_Medals\": 2014}, {\"noc\": \"DOM\", \"numeric_id\": 214, \"season\": \"Summer\", \"Total_Medals\": 2017}, {\"noc\": \"ECU\", \"numeric_id\": 218, \"season\": \"Summer\", \"Total_Medals\": 1997}, {\"noc\": \"ECU\", \"numeric_id\": 218, \"season\": \"Summer\", \"Total_Medals\": 2009}, {\"noc\": \"EGY\", \"numeric_id\": 818, \"season\": \"Summer\", \"Total_Medals\": 1932}, {\"noc\": \"EGY\", \"numeric_id\": 818, \"season\": \"Summer\", \"Total_Medals\": 1941}, {\"noc\": \"EGY\", \"numeric_id\": 818, \"season\": \"Summer\", \"Total_Medals\": 1953}, {\"noc\": \"EGY\", \"numeric_id\": 818, \"season\": \"Summer\", \"Total_Medals\": 1953}, {\"noc\": \"EGY\", \"numeric_id\": 818, \"season\": \"Summer\", \"Total_Medals\": 1985}, {\"noc\": \"EGY\", \"numeric_id\": 818, \"season\": \"Summer\", \"Total_Medals\": 2009}, {\"noc\": \"EGY\", \"numeric_id\": 818, \"season\": \"Summer\", \"Total_Medals\": 2009}, {\"noc\": \"EGY\", \"numeric_id\": 818, \"season\": \"Summer\", \"Total_Medals\": 2014}, {\"noc\": \"EGY\", \"numeric_id\": 818, \"season\": \"Summer\", \"Total_Medals\": 2019}, {\"noc\": \"ERI\", \"numeric_id\": 232, \"season\": \"Summer\", \"Total_Medals\": 2005}, {\"noc\": \"ESP\", \"numeric_id\": 724, \"season\": \"Summer\", \"Total_Medals\": 1902}, {\"noc\": \"ESP\", \"numeric_id\": 724, \"season\": \"Summer\", \"Total_Medals\": 1943}, {\"noc\": \"ESP\", \"numeric_id\": 724, \"season\": \"Summer\", \"Total_Medals\": 1931}, {\"noc\": \"ESP\", \"numeric_id\": 724, \"season\": \"Summer\", \"Total_Medals\": 1933}, {\"noc\": \"ESP\", \"numeric_id\": 724, \"season\": \"Summer\", \"Total_Medals\": 1951}, {\"noc\": \"ESP\", \"numeric_id\": 724, \"season\": \"Summer\", \"Total_Medals\": 1953}, {\"noc\": \"ESP\", \"numeric_id\": 724, \"season\": \"Summer\", \"Total_Medals\": 1974}, {\"noc\": \"ESP\", \"numeric_id\": 724, \"season\": \"Summer\", \"Total_Medals\": 1973}, {\"noc\": \"ESP\", \"numeric_id\": 724, \"season\": \"Summer\", \"Total_Medals\": 1982}, {\"noc\": \"ESP\", \"numeric_id\": 724, \"season\": \"Summer\", \"Total_Medals\": 2004}, {\"noc\": \"ESP\", \"numeric_id\": 724, \"season\": \"Summer\", \"Total_Medals\": 2003}, {\"noc\": \"ESP\", \"numeric_id\": 724, \"season\": \"Summer\", \"Total_Medals\": 1993}, {\"noc\": \"ESP\", \"numeric_id\": 724, \"season\": \"Summer\", \"Total_Medals\": 2061}, {\"noc\": \"ESP\", \"numeric_id\": 724, \"season\": \"Summer\", \"Total_Medals\": 2062}, {\"noc\": \"ESP\", \"numeric_id\": 724, \"season\": \"Summer\", \"Total_Medals\": 2042}, {\"noc\": \"ESP\", \"numeric_id\": 724, \"season\": \"Summer\", \"Total_Medals\": 2034}, {\"noc\": \"ESP\", \"numeric_id\": 724, \"season\": \"Summer\", \"Total_Medals\": 2078}, {\"noc\": \"ESP\", \"numeric_id\": 724, \"season\": \"Summer\", \"Total_Medals\": 2075}, {\"noc\": \"ESP\", \"numeric_id\": 724, \"season\": \"Summer\", \"Total_Medals\": 2061}, {\"noc\": \"ESP\", \"numeric_id\": 724, \"season\": \"Winter\", \"Total_Medals\": 1973}, {\"noc\": \"ESP\", \"numeric_id\": 724, \"season\": \"Winter\", \"Total_Medals\": 1993}, {\"noc\": \"EST\", \"numeric_id\": 233, \"season\": \"Summer\", \"Total_Medals\": 1923}, {\"noc\": \"EST\", \"numeric_id\": 233, \"season\": \"Summer\", \"Total_Medals\": 1930}, {\"noc\": \"EST\", \"numeric_id\": 233, \"season\": \"Summer\", \"Total_Medals\": 1937}, {\"noc\": \"EST\", \"numeric_id\": 233, \"season\": \"Summer\", \"Total_Medals\": 1943}, {\"noc\": \"EST\", \"numeric_id\": 233, \"season\": \"Summer\", \"Total_Medals\": 1995}, {\"noc\": \"EST\", \"numeric_id\": 233, \"season\": \"Summer\", \"Total_Medals\": 2003}, {\"noc\": \"EST\", \"numeric_id\": 233, \"season\": \"Summer\", \"Total_Medals\": 2007}, {\"noc\": \"EST\", \"numeric_id\": 233, \"season\": \"Summer\", \"Total_Medals\": 2011}, {\"noc\": \"EST\", \"numeric_id\": 233, \"season\": \"Summer\", \"Total_Medals\": 2014}, {\"noc\": \"EST\", \"numeric_id\": 233, \"season\": \"Summer\", \"Total_Medals\": 2020}, {\"noc\": \"EST\", \"numeric_id\": 233, \"season\": \"Winter\", \"Total_Medals\": 2005}, {\"noc\": \"EST\", \"numeric_id\": 233, \"season\": \"Winter\", \"Total_Medals\": 2009}, {\"noc\": \"EST\", \"numeric_id\": 233, \"season\": \"Winter\", \"Total_Medals\": 2011}, {\"noc\": \"ETH\", \"numeric_id\": 231, \"season\": \"Summer\", \"Total_Medals\": 1961}, {\"noc\": \"ETH\", \"numeric_id\": 231, \"season\": \"Summer\", \"Total_Medals\": 1965}, {\"noc\": \"ETH\", \"numeric_id\": 231, \"season\": \"Summer\", \"Total_Medals\": 1970}, {\"noc\": \"ETH\", \"numeric_id\": 231, \"season\": \"Summer\", \"Total_Medals\": 1974}, {\"noc\": \"ETH\", \"numeric_id\": 231, \"season\": \"Summer\", \"Total_Medals\": 1984}, {\"noc\": \"ETH\", \"numeric_id\": 231, \"season\": \"Summer\", \"Total_Medals\": 1995}, {\"noc\": \"ETH\", \"numeric_id\": 231, \"season\": \"Summer\", \"Total_Medals\": 1999}, {\"noc\": \"ETH\", \"numeric_id\": 231, \"season\": \"Summer\", \"Total_Medals\": 2008}, {\"noc\": \"ETH\", \"numeric_id\": 231, \"season\": \"Summer\", \"Total_Medals\": 2011}, {\"noc\": \"ETH\", \"numeric_id\": 231, \"season\": \"Summer\", \"Total_Medals\": 2015}, {\"noc\": \"ETH\", \"numeric_id\": 231, \"season\": \"Summer\", \"Total_Medals\": 2019}, {\"noc\": \"ETH\", \"numeric_id\": 231, \"season\": \"Summer\", \"Total_Medals\": 2024}, {\"noc\": \"EUN\", \"numeric_id\": 0, \"season\": \"Summer\", \"Total_Medals\": 2212}, {\"noc\": \"EUN\", \"numeric_id\": 0, \"season\": \"Winter\", \"Total_Medals\": 2051}, {\"noc\": \"FIJ\", \"numeric_id\": 0, \"season\": \"Summer\", \"Total_Medals\": 2029}, {\"noc\": \"FIN\", \"numeric_id\": 246, \"season\": \"Summer\", \"Total_Medals\": 1910}, {\"noc\": \"FIN\", \"numeric_id\": 246, \"season\": \"Summer\", \"Total_Medals\": 1938}, {\"noc\": \"FIN\", \"numeric_id\": 246, \"season\": \"Summer\", \"Total_Medals\": 1983}, {\"noc\": \"FIN\", \"numeric_id\": 246, \"season\": \"Summer\", \"Total_Medals\": 1972}, {\"noc\": \"FIN\", \"numeric_id\": 246, \"season\": \"Summer\", \"Total_Medals\": 1976}, {\"noc\": \"FIN\", \"numeric_id\": 246, \"season\": \"Summer\", \"Total_Medals\": 1953}, {\"noc\": \"FIN\", \"numeric_id\": 246, \"season\": \"Summer\", \"Total_Medals\": 1961}, {\"noc\": \"FIN\", \"numeric_id\": 246, \"season\": \"Summer\", \"Total_Medals\": 1963}, {\"noc\": \"FIN\", \"numeric_id\": 246, \"season\": \"Summer\", \"Total_Medals\": 1981}, {\"noc\": \"FIN\", \"numeric_id\": 246, \"season\": \"Summer\", \"Total_Medals\": 1992}, {\"noc\": \"FIN\", \"numeric_id\": 246, \"season\": \"Summer\", \"Total_Medals\": 1982}, {\"noc\": \"FIN\", \"numeric_id\": 246, \"season\": \"Summer\", \"Total_Medals\": 1966}, {\"noc\": \"FIN\", \"numeric_id\": 246, \"season\": \"Summer\", \"Total_Medals\": 1969}, {\"noc\": \"FIN\", \"numeric_id\": 246, \"season\": \"Summer\", \"Total_Medals\": 1972}, {\"noc\": \"FIN\", \"numeric_id\": 246, \"season\": \"Summer\", \"Total_Medals\": 1982}, {\"noc\": \"FIN\", \"numeric_id\": 246, \"season\": \"Summer\", \"Total_Medals\": 1982}, {\"noc\": \"FIN\", \"numeric_id\": 246, \"season\": \"Summer\", \"Total_Medals\": 1989}, {\"noc\": \"FIN\", \"numeric_id\": 246, \"season\": \"Summer\", \"Total_Medals\": 1996}, {\"noc\": \"FIN\", \"numeric_id\": 246, \"season\": \"Summer\", \"Total_Medals\": 1992}, {\"noc\": \"FIN\", \"numeric_id\": 246, \"season\": \"Summer\", \"Total_Medals\": 1999}, {\"noc\": \"FIN\", \"numeric_id\": 246, \"season\": \"Summer\", \"Total_Medals\": 2000}, {\"noc\": \"FIN\", \"numeric_id\": 246, \"season\": \"Summer\", \"Total_Medals\": 2005}, {\"noc\": \"FIN\", \"numeric_id\": 246, \"season\": \"Summer\", \"Total_Medals\": 2006}, {\"noc\": \"FIN\", \"numeric_id\": 246, \"season\": \"Summer\", \"Total_Medals\": 2013}, {\"noc\": \"FIN\", \"numeric_id\": 246, \"season\": \"Summer\", \"Total_Medals\": 2017}, {\"noc\": \"FIN\", \"numeric_id\": 246, \"season\": \"Summer\", \"Total_Medals\": 2017}, {\"noc\": \"FIN\", \"numeric_id\": 246, \"season\": \"Winter\", \"Total_Medals\": 1939}, {\"noc\": \"FIN\", \"numeric_id\": 246, \"season\": \"Winter\", \"Total_Medals\": 1932}, {\"noc\": \"FIN\", \"numeric_id\": 246, \"season\": \"Winter\", \"Total_Medals\": 1935}, {\"noc\": \"FIN\", \"numeric_id\": 246, \"season\": \"Winter\", \"Total_Medals\": 1945}, {\"noc\": \"FIN\", \"numeric_id\": 246, \"season\": \"Winter\", \"Total_Medals\": 1957}, {\"noc\": \"FIN\", \"numeric_id\": 246, \"season\": \"Winter\", \"Total_Medals\": 1964}, {\"noc\": \"FIN\", \"numeric_id\": 246, \"season\": \"Winter\", \"Total_Medals\": 1968}, {\"noc\": \"FIN\", \"numeric_id\": 246, \"season\": \"Winter\", \"Total_Medals\": 1973}, {\"noc\": \"FIN\", \"numeric_id\": 246, \"season\": \"Winter\", \"Total_Medals\": 1979}, {\"noc\": \"FIN\", \"numeric_id\": 246, \"season\": \"Winter\", \"Total_Medals\": 1976}, {\"noc\": \"FIN\", \"numeric_id\": 246, \"season\": \"Winter\", \"Total_Medals\": 1982}, {\"noc\": \"FIN\", \"numeric_id\": 246, \"season\": \"Winter\", \"Total_Medals\": 1992}, {\"noc\": \"FIN\", \"numeric_id\": 246, \"season\": \"Winter\", \"Total_Medals\": 1992}, {\"noc\": \"FIN\", \"numeric_id\": 246, \"season\": \"Winter\", \"Total_Medals\": 2003}, {\"noc\": \"FIN\", \"numeric_id\": 246, \"season\": \"Winter\", \"Total_Medals\": 2022}, {\"noc\": \"FIN\", \"numeric_id\": 246, \"season\": \"Winter\", \"Total_Medals\": 2005}, {\"noc\": \"FIN\", \"numeric_id\": 246, \"season\": \"Winter\", \"Total_Medals\": 2024}, {\"noc\": \"FIN\", \"numeric_id\": 246, \"season\": \"Winter\", \"Total_Medals\": 2056}, {\"noc\": \"FIN\", \"numeric_id\": 246, \"season\": \"Winter\", \"Total_Medals\": 2015}, {\"noc\": \"FIN\", \"numeric_id\": 246, \"season\": \"Winter\", \"Total_Medals\": 2047}, {\"noc\": \"FIN\", \"numeric_id\": 246, \"season\": \"Winter\", \"Total_Medals\": 2057}, {\"noc\": \"FIN\", \"numeric_id\": 246, \"season\": \"Winter\", \"Total_Medals\": 2047}, {\"noc\": \"FRA\", \"numeric_id\": 250, \"season\": \"Summer\", \"Total_Medals\": 1907}, {\"noc\": \"FRA\", \"numeric_id\": 250, \"season\": \"Summer\", \"Total_Medals\": 2135}, {\"noc\": \"FRA\", \"numeric_id\": 250, \"season\": \"Summer\", \"Total_Medals\": 1906}, {\"noc\": \"FRA\", \"numeric_id\": 250, \"season\": \"Summer\", \"Total_Medals\": 1970}, {\"noc\": \"FRA\", \"numeric_id\": 250, \"season\": \"Summer\", \"Total_Medals\": 1948}, {\"noc\": \"FRA\", \"numeric_id\": 250, \"season\": \"Summer\", \"Total_Medals\": 1938}, {\"noc\": \"FRA\", \"numeric_id\": 250, \"season\": \"Summer\", \"Total_Medals\": 2061}, {\"noc\": \"FRA\", \"numeric_id\": 250, \"season\": \"Summer\", \"Total_Medals\": 2034}, {\"noc\": \"FRA\", \"numeric_id\": 250, \"season\": \"Summer\", \"Total_Medals\": 1978}, {\"noc\": \"FRA\", \"numeric_id\": 250, \"season\": \"Summer\", \"Total_Medals\": 1972}, {\"noc\": \"FRA\", \"numeric_id\": 250, \"season\": \"Summer\", \"Total_Medals\": 1980}, {\"noc\": \"FRA\", \"numeric_id\": 250, \"season\": \"Summer\", \"Total_Medals\": 2020}, {\"noc\": \"FRA\", \"numeric_id\": 250, \"season\": \"Summer\", \"Total_Medals\": 1992}, {\"noc\": \"FRA\", \"numeric_id\": 250, \"season\": \"Summer\", \"Total_Medals\": 1989}, {\"noc\": \"FRA\", \"numeric_id\": 250, \"season\": \"Summer\", \"Total_Medals\": 1972}, {\"noc\": \"FRA\", \"numeric_id\": 250, \"season\": \"Summer\", \"Total_Medals\": 1995}, {\"noc\": \"FRA\", \"numeric_id\": 250, \"season\": \"Summer\", \"Total_Medals\": 1995}, {\"noc\": \"FRA\", \"numeric_id\": 250, \"season\": \"Summer\", \"Total_Medals\": 1994}, {\"noc\": \"FRA\", \"numeric_id\": 250, \"season\": \"Summer\", \"Total_Medals\": 1996}, {\"noc\": \"FRA\", \"numeric_id\": 250, \"season\": \"Summer\", \"Total_Medals\": 2009}, {\"noc\": \"FRA\", \"numeric_id\": 250, \"season\": \"Summer\", \"Total_Medals\": 2051}, {\"noc\": \"FRA\", \"numeric_id\": 250, \"season\": \"Summer\", \"Total_Medals\": 2017}, {\"noc\": \"FRA\", \"numeric_id\": 250, \"season\": \"Summer\", \"Total_Medals\": 2049}, {\"noc\": \"FRA\", \"numeric_id\": 250, \"season\": \"Summer\", \"Total_Medals\": 2047}, {\"noc\": \"FRA\", \"numeric_id\": 250, \"season\": \"Summer\", \"Total_Medals\": 2066}, {\"noc\": \"FRA\", \"numeric_id\": 250, \"season\": \"Summer\", \"Total_Medals\": 2057}, {\"noc\": \"FRA\", \"numeric_id\": 250, \"season\": \"Summer\", \"Total_Medals\": 2085}, {\"noc\": \"FRA\", \"numeric_id\": 250, \"season\": \"Summer\", \"Total_Medals\": 2094}, {\"noc\": \"FRA\", \"numeric_id\": 250, \"season\": \"Summer\", \"Total_Medals\": 2112}, {\"noc\": \"FRA\", \"numeric_id\": 250, \"season\": \"Winter\", \"Total_Medals\": 1934}, {\"noc\": \"FRA\", \"numeric_id\": 250, \"season\": \"Winter\", \"Total_Medals\": 1930}, {\"noc\": \"FRA\", \"numeric_id\": 250, \"season\": \"Winter\", \"Total_Medals\": 1934}, {\"noc\": \"FRA\", \"numeric_id\": 250, \"season\": \"Winter\", \"Total_Medals\": 1937}, {\"noc\": \"FRA\", \"numeric_id\": 250, \"season\": \"Winter\", \"Total_Medals\": 1953}, {\"noc\": \"FRA\", \"numeric_id\": 250, \"season\": \"Winter\", \"Total_Medals\": 1953}, {\"noc\": \"FRA\", \"numeric_id\": 250, \"season\": \"Winter\", \"Total_Medals\": 1963}, {\"noc\": \"FRA\", \"numeric_id\": 250, \"season\": \"Winter\", \"Total_Medals\": 1971}, {\"noc\": \"FRA\", \"numeric_id\": 250, \"season\": \"Winter\", \"Total_Medals\": 1977}, {\"noc\": \"FRA\", \"numeric_id\": 250, \"season\": \"Winter\", \"Total_Medals\": 1975}, {\"noc\": \"FRA\", \"numeric_id\": 250, \"season\": \"Winter\", \"Total_Medals\": 1977}, {\"noc\": \"FRA\", \"numeric_id\": 250, \"season\": \"Winter\", \"Total_Medals\": 1981}, {\"noc\": \"FRA\", \"numeric_id\": 250, \"season\": \"Winter\", \"Total_Medals\": 1987}, {\"noc\": \"FRA\", \"numeric_id\": 250, \"season\": \"Winter\", \"Total_Medals\": 1990}, {\"noc\": \"FRA\", \"numeric_id\": 250, \"season\": \"Winter\", \"Total_Medals\": 2004}, {\"noc\": \"FRA\", \"numeric_id\": 250, \"season\": \"Winter\", \"Total_Medals\": 2005}, {\"noc\": \"FRA\", \"numeric_id\": 250, \"season\": \"Winter\", \"Total_Medals\": 2013}, {\"noc\": \"FRA\", \"numeric_id\": 250, \"season\": \"Winter\", \"Total_Medals\": 2017}, {\"noc\": \"FRA\", \"numeric_id\": 250, \"season\": \"Winter\", \"Total_Medals\": 2021}, {\"noc\": \"FRA\", \"numeric_id\": 250, \"season\": \"Winter\", \"Total_Medals\": 2024}, {\"noc\": \"FRA\", \"numeric_id\": 250, \"season\": \"Winter\", \"Total_Medals\": 2032}, {\"noc\": \"FRG\", \"numeric_id\": 0, \"season\": \"Summer\", \"Total_Medals\": 2019}, {\"noc\": \"FRG\", \"numeric_id\": 0, \"season\": \"Summer\", \"Total_Medals\": 2074}, {\"noc\": \"FRG\", \"numeric_id\": 0, \"season\": \"Summer\", \"Total_Medals\": 2054}, {\"noc\": \"FRG\", \"numeric_id\": 0, \"season\": \"Summer\", \"Total_Medals\": 2142}, {\"noc\": \"FRG\", \"numeric_id\": 0, \"season\": \"Summer\", \"Total_Medals\": 2103}, {\"noc\": \"FRG\", \"numeric_id\": 0, \"season\": \"Winter\", \"Total_Medals\": 1978}, {\"noc\": \"FRG\", \"numeric_id\": 0, \"season\": \"Winter\", \"Total_Medals\": 1982}, {\"noc\": \"FRG\", \"numeric_id\": 0, \"season\": \"Winter\", \"Total_Medals\": 2008}, {\"noc\": \"FRG\", \"numeric_id\": 0, \"season\": \"Winter\", \"Total_Medals\": 1988}, {\"noc\": \"FRG\", \"numeric_id\": 0, \"season\": \"Winter\", \"Total_Medals\": 1992}, {\"noc\": \"FRG\", \"numeric_id\": 0, \"season\": \"Winter\", \"Total_Medals\": 2002}, {\"noc\": \"GAB\", \"numeric_id\": 266, \"season\": \"Summer\", \"Total_Medals\": 2013}, {\"noc\": \"GBR\", \"numeric_id\": 826, \"season\": \"Summer\", \"Total_Medals\": 1905}, {\"noc\": \"GBR\", \"numeric_id\": 826, \"season\": \"Summer\", \"Total_Medals\": 2008}, {\"noc\": \"GBR\", \"numeric_id\": 826, \"season\": \"Summer\", \"Total_Medals\": 1906}, {\"noc\": \"GBR\", \"numeric_id\": 826, \"season\": \"Summer\", \"Total_Medals\": 1945}, {\"noc\": \"GBR\", \"numeric_id\": 826, \"season\": \"Summer\", \"Total_Medals\": 2276}, {\"noc\": \"GBR\", \"numeric_id\": 826, \"season\": \"Summer\", \"Total_Medals\": 2082}, {\"noc\": \"GBR\", \"numeric_id\": 826, \"season\": \"Summer\", \"Total_Medals\": 2031}, {\"noc\": \"GBR\", \"numeric_id\": 826, \"season\": \"Summer\", \"Total_Medals\": 1988}, {\"noc\": \"GBR\", \"numeric_id\": 826, \"season\": \"Summer\", \"Total_Medals\": 1986}, {\"noc\": \"GBR\", \"numeric_id\": 826, \"season\": \"Summer\", \"Total_Medals\": 1967}, {\"noc\": \"GBR\", \"numeric_id\": 826, \"season\": \"Summer\", \"Total_Medals\": 1972}, {\"noc\": \"GBR\", \"numeric_id\": 826, \"season\": \"Summer\", \"Total_Medals\": 2009}, {\"noc\": \"GBR\", \"numeric_id\": 826, \"season\": \"Summer\", \"Total_Medals\": 1983}, {\"noc\": \"GBR\", \"numeric_id\": 826, \"season\": \"Summer\", \"Total_Medals\": 2002}, {\"noc\": \"GBR\", \"numeric_id\": 826, \"season\": \"Summer\", \"Total_Medals\": 1988}, {\"noc\": \"GBR\", \"numeric_id\": 826, \"season\": \"Summer\", \"Total_Medals\": 1992}, {\"noc\": \"GBR\", \"numeric_id\": 826, \"season\": \"Summer\", \"Total_Medals\": 1987}, {\"noc\": \"GBR\", \"numeric_id\": 826, \"season\": \"Summer\", \"Total_Medals\": 2001}, {\"noc\": \"GBR\", \"numeric_id\": 826, \"season\": \"Summer\", \"Total_Medals\": 2008}, {\"noc\": \"GBR\", \"numeric_id\": 826, \"season\": \"Summer\", \"Total_Medals\": 2027}, {\"noc\": \"GBR\", \"numeric_id\": 826, \"season\": \"Summer\", \"Total_Medals\": 2055}, {\"noc\": \"GBR\", \"numeric_id\": 826, \"season\": \"Summer\", \"Total_Medals\": 2042}, {\"noc\": \"GBR\", \"numeric_id\": 826, \"season\": \"Summer\", \"Total_Medals\": 2042}, {\"noc\": \"GBR\", \"numeric_id\": 826, \"season\": \"Summer\", \"Total_Medals\": 2022}, {\"noc\": \"GBR\", \"numeric_id\": 826, \"season\": \"Summer\", \"Total_Medals\": 2054}, {\"noc\": \"GBR\", \"numeric_id\": 826, \"season\": \"Summer\", \"Total_Medals\": 2061}, {\"noc\": \"GBR\", \"numeric_id\": 826, \"season\": \"Summer\", \"Total_Medals\": 2089}, {\"noc\": \"GBR\", \"numeric_id\": 826, \"season\": \"Summer\", \"Total_Medals\": 2138}, {\"noc\": \"GBR\", \"numeric_id\": 826, \"season\": \"Summer\", \"Total_Medals\": 2161}, {\"noc\": \"GBR\", \"numeric_id\": 826, \"season\": \"Winter\", \"Total_Medals\": 1955}, {\"noc\": \"GBR\", \"numeric_id\": 826, \"season\": \"Winter\", \"Total_Medals\": 1929}, {\"noc\": \"GBR\", \"numeric_id\": 826, \"season\": \"Winter\", \"Total_Medals\": 1953}, {\"noc\": \"GBR\", \"numeric_id\": 826, \"season\": \"Winter\", \"Total_Medals\": 1950}, {\"noc\": \"GBR\", \"numeric_id\": 826, \"season\": \"Winter\", \"Total_Medals\": 1953}, {\"noc\": \"GBR\", \"numeric_id\": 826, \"season\": \"Winter\", \"Total_Medals\": 1966}, {\"noc\": \"GBR\", \"numeric_id\": 826, \"season\": \"Winter\", \"Total_Medals\": 1977}, {\"noc\": \"GBR\", \"numeric_id\": 826, \"season\": \"Winter\", \"Total_Medals\": 1981}, {\"noc\": \"GBR\", \"numeric_id\": 826, \"season\": \"Winter\", \"Total_Medals\": 1986}, {\"noc\": \"GBR\", \"numeric_id\": 826, \"season\": \"Winter\", \"Total_Medals\": 1997}, {\"noc\": \"GBR\", \"numeric_id\": 826, \"season\": \"Winter\", \"Total_Medals\": 2002}, {\"noc\": \"GBR\", \"numeric_id\": 826, \"season\": \"Winter\", \"Total_Medals\": 2008}, {\"noc\": \"GBR\", \"numeric_id\": 826, \"season\": \"Winter\", \"Total_Medals\": 2007}, {\"noc\": \"GBR\", \"numeric_id\": 826, \"season\": \"Winter\", \"Total_Medals\": 2011}, {\"noc\": \"GBR\", \"numeric_id\": 826, \"season\": \"Winter\", \"Total_Medals\": 2024}, {\"noc\": \"GDR\", \"numeric_id\": 0, \"season\": \"Summer\", \"Total_Medals\": 2020}, {\"noc\": \"GDR\", \"numeric_id\": 0, \"season\": \"Summer\", \"Total_Medals\": 2123}, {\"noc\": \"GDR\", \"numeric_id\": 0, \"season\": \"Summer\", \"Total_Medals\": 2171}, {\"noc\": \"GDR\", \"numeric_id\": 0, \"season\": \"Summer\", \"Total_Medals\": 2244}, {\"noc\": \"GDR\", \"numeric_id\": 0, \"season\": \"Summer\", \"Total_Medals\": 2169}, {\"noc\": \"GDR\", \"numeric_id\": 0, \"season\": \"Winter\", \"Total_Medals\": 1974}, {\"noc\": \"GDR\", \"numeric_id\": 0, \"season\": \"Winter\", \"Total_Medals\": 1992}, {\"noc\": \"GDR\", \"numeric_id\": 0, \"season\": \"Winter\", \"Total_Medals\": 2008}, {\"noc\": \"GDR\", \"numeric_id\": 0, \"season\": \"Winter\", \"Total_Medals\": 2019}, {\"noc\": \"GDR\", \"numeric_id\": 0, \"season\": \"Winter\", \"Total_Medals\": 2017}, {\"noc\": \"GDR\", \"numeric_id\": 0, \"season\": \"Winter\", \"Total_Medals\": 2020}, {\"noc\": \"GEO\", \"numeric_id\": 268, \"season\": \"Summer\", \"Total_Medals\": 1998}, {\"noc\": \"GEO\", \"numeric_id\": 268, \"season\": \"Summer\", \"Total_Medals\": 2006}, {\"noc\": \"GEO\", \"numeric_id\": 268, \"season\": \"Summer\", \"Total_Medals\": 2008}, {\"noc\": \"GEO\", \"numeric_id\": 268, \"season\": \"Summer\", \"Total_Medals\": 2014}, {\"noc\": \"GEO\", \"numeric_id\": 268, \"season\": \"Summer\", \"Total_Medals\": 2019}, {\"noc\": \"GEO\", \"numeric_id\": 268, \"season\": \"Summer\", \"Total_Medals\": 2023}, {\"noc\": \"GER\", \"numeric_id\": 0, \"season\": \"Summer\", \"Total_Medals\": 1928}, {\"noc\": \"GER\", \"numeric_id\": 0, \"season\": \"Summer\", \"Total_Medals\": 1945}, {\"noc\": \"GER\", \"numeric_id\": 0, \"season\": \"Summer\", \"Total_Medals\": 1920}, {\"noc\": \"GER\", \"numeric_id\": 0, \"season\": \"Summer\", \"Total_Medals\": 1936}, {\"noc\": \"GER\", \"numeric_id\": 0, \"season\": \"Summer\", \"Total_Medals\": 1929}, {\"noc\": \"GER\", \"numeric_id\": 0, \"season\": \"Summer\", \"Total_Medals\": 1965}, {\"noc\": \"GER\", \"numeric_id\": 0, \"season\": \"Summer\", \"Total_Medals\": 2005}, {\"noc\": \"GER\", \"numeric_id\": 0, \"season\": \"Summer\", \"Total_Medals\": 1975}, {\"noc\": \"GER\", \"numeric_id\": 0, \"season\": \"Summer\", \"Total_Medals\": 2160}, {\"noc\": \"GER\", \"numeric_id\": 0, \"season\": \"Summer\", \"Total_Medals\": 1992}, {\"noc\": \"GER\", \"numeric_id\": 0, \"season\": \"Summer\", \"Total_Medals\": 2008}, {\"noc\": \"GER\", \"numeric_id\": 0, \"season\": \"Summer\", \"Total_Medals\": 2049}, {\"noc\": \"GER\", \"numeric_id\": 0, \"season\": \"Summer\", \"Total_Medals\": 2080}, {\"noc\": \"GER\", \"numeric_id\": 0, \"season\": \"Summer\", \"Total_Medals\": 2190}, {\"noc\": \"GER\", \"numeric_id\": 0, \"season\": \"Summer\", \"Total_Medals\": 2120}, {\"noc\": \"GER\", \"numeric_id\": 0, \"season\": \"Summer\", \"Total_Medals\": 2118}, {\"noc\": \"GER\", \"numeric_id\": 0, \"season\": \"Summer\", \"Total_Medals\": 2153}, {\"noc\": \"GER\", \"numeric_id\": 0, \"season\": \"Summer\", \"Total_Medals\": 2107}, {\"noc\": \"GER\", \"numeric_id\": 0, \"season\": \"Summer\", \"Total_Medals\": 2106}, {\"noc\": \"GER\", \"numeric_id\": 0, \"season\": \"Summer\", \"Total_Medals\": 2175}, {\"noc\": \"GER\", \"numeric_id\": 0, \"season\": \"Winter\", \"Total_Medals\": 1933}, {\"noc\": \"GER\", \"numeric_id\": 0, \"season\": \"Winter\", \"Total_Medals\": 1946}, {\"noc\": \"GER\", \"numeric_id\": 0, \"season\": \"Winter\", \"Total_Medals\": 1943}, {\"noc\": \"GER\", \"numeric_id\": 0, \"season\": \"Winter\", \"Total_Medals\": 1964}, {\"noc\": \"GER\", \"numeric_id\": 0, \"season\": \"Winter\", \"Total_Medals\": 1958}, {\"noc\": \"GER\", \"numeric_id\": 0, \"season\": \"Winter\", \"Total_Medals\": 1969}, {\"noc\": \"GER\", \"numeric_id\": 0, \"season\": \"Winter\", \"Total_Medals\": 1974}, {\"noc\": \"GER\", \"numeric_id\": 0, \"season\": \"Winter\", \"Total_Medals\": 2030}, {\"noc\": \"GER\", \"numeric_id\": 0, \"season\": \"Winter\", \"Total_Medals\": 2034}, {\"noc\": \"GER\", \"numeric_id\": 0, \"season\": \"Winter\", \"Total_Medals\": 2042}, {\"noc\": \"GER\", \"numeric_id\": 0, \"season\": \"Winter\", \"Total_Medals\": 2063}, {\"noc\": \"GER\", \"numeric_id\": 0, \"season\": \"Winter\", \"Total_Medals\": 2060}, {\"noc\": \"GER\", \"numeric_id\": 0, \"season\": \"Winter\", \"Total_Medals\": 2064}, {\"noc\": \"GER\", \"numeric_id\": 0, \"season\": \"Winter\", \"Total_Medals\": 2050}, {\"noc\": \"GHA\", \"numeric_id\": 288, \"season\": \"Summer\", \"Total_Medals\": 1961}, {\"noc\": \"GHA\", \"numeric_id\": 288, \"season\": \"Summer\", \"Total_Medals\": 1965}, {\"noc\": \"GHA\", \"numeric_id\": 288, \"season\": \"Summer\", \"Total_Medals\": 1973}, {\"noc\": \"GHA\", \"numeric_id\": 288, \"season\": \"Summer\", \"Total_Medals\": 2012}, {\"noc\": \"GRE\", \"numeric_id\": 0, \"season\": \"Summer\", \"Total_Medals\": 1944}, {\"noc\": \"GRE\", \"numeric_id\": 0, \"season\": \"Summer\", \"Total_Medals\": 1906}, {\"noc\": \"GRE\", \"numeric_id\": 0, \"season\": \"Summer\", \"Total_Medals\": 2008}, {\"noc\": \"GRE\", \"numeric_id\": 0, \"season\": \"Summer\", \"Total_Medals\": 1912}, {\"noc\": \"GRE\", \"numeric_id\": 0, \"season\": \"Summer\", \"Total_Medals\": 1914}, {\"noc\": \"GRE\", \"numeric_id\": 0, \"season\": \"Summer\", \"Total_Medals\": 1925}, {\"noc\": \"GRE\", \"numeric_id\": 0, \"season\": \"Summer\", \"Total_Medals\": 1925}, {\"noc\": \"GRE\", \"numeric_id\": 0, \"season\": \"Summer\", \"Total_Medals\": 1957}, {\"noc\": \"GRE\", \"numeric_id\": 0, \"season\": \"Summer\", \"Total_Medals\": 1963}, {\"noc\": \"GRE\", \"numeric_id\": 0, \"season\": \"Summer\", \"Total_Medals\": 1969}, {\"noc\": \"GRE\", \"numeric_id\": 0, \"season\": \"Summer\", \"Total_Medals\": 1974}, {\"noc\": \"GRE\", \"numeric_id\": 0, \"season\": \"Summer\", \"Total_Medals\": 1985}, {\"noc\": \"GRE\", \"numeric_id\": 0, \"season\": \"Summer\", \"Total_Medals\": 1986}, {\"noc\": \"GRE\", \"numeric_id\": 0, \"season\": \"Summer\", \"Total_Medals\": 1989}, {\"noc\": \"GRE\", \"numeric_id\": 0, \"season\": \"Summer\", \"Total_Medals\": 1994}, {\"noc\": \"GRE\", \"numeric_id\": 0, \"season\": \"Summer\", \"Total_Medals\": 2004}, {\"noc\": \"GRE\", \"numeric_id\": 0, \"season\": \"Summer\", \"Total_Medals\": 2018}, {\"noc\": \"GRE\", \"numeric_id\": 0, \"season\": \"Summer\", \"Total_Medals\": 2035}, {\"noc\": \"GRE\", \"numeric_id\": 0, \"season\": \"Summer\", \"Total_Medals\": 2015}, {\"noc\": \"GRE\", \"numeric_id\": 0, \"season\": \"Summer\", \"Total_Medals\": 2015}, {\"noc\": \"GRE\", \"numeric_id\": 0, \"season\": \"Summer\", \"Total_Medals\": 2023}, {\"noc\": \"GRN\", \"numeric_id\": 0, \"season\": \"Summer\", \"Total_Medals\": 2013}, {\"noc\": \"GRN\", \"numeric_id\": 0, \"season\": \"Summer\", \"Total_Medals\": 2017}, {\"noc\": \"GUA\", \"numeric_id\": 0, \"season\": \"Summer\", \"Total_Medals\": 2013}, {\"noc\": \"GUY\", \"numeric_id\": 328, \"season\": \"Summer\", \"Total_Medals\": 1981}, {\"noc\": \"HAI\", \"numeric_id\": 0, \"season\": \"Summer\", \"Total_Medals\": 1901}, {\"noc\": \"HAI\", \"numeric_id\": 0, \"season\": \"Summer\", \"Total_Medals\": 1929}, {\"noc\": \"HAI\", \"numeric_id\": 0, \"season\": \"Summer\", \"Total_Medals\": 1929}, {\"noc\": \"HKG\", \"numeric_id\": 0, \"season\": \"Summer\", \"Total_Medals\": 1997}, {\"noc\": \"HKG\", \"numeric_id\": 0, \"season\": \"Summer\", \"Total_Medals\": 2006}, {\"noc\": \"HKG\", \"numeric_id\": 0, \"season\": \"Summer\", \"Total_Medals\": 2013}, {\"noc\": \"HUN\", \"numeric_id\": 348, \"season\": \"Summer\", \"Total_Medals\": 1902}, {\"noc\": \"HUN\", \"numeric_id\": 348, \"season\": \"Summer\", \"Total_Medals\": 1905}, {\"noc\": \"HUN\", \"numeric_id\": 348, \"season\": \"Summer\", \"Total_Medals\": 1908}, {\"noc\": \"HUN\", \"numeric_id\": 348, \"season\": \"Summer\", \"Total_Medals\": 1919}, {\"noc\": \"HUN\", \"numeric_id\": 348, \"season\": \"Summer\", \"Total_Medals\": 1928}, {\"noc\": \"HUN\", \"numeric_id\": 348, \"season\": \"Summer\", \"Total_Medals\": 1942}, {\"noc\": \"HUN\", \"numeric_id\": 348, \"season\": \"Summer\", \"Total_Medals\": 1946}, {\"noc\": \"HUN\", \"numeric_id\": 348, \"season\": \"Summer\", \"Total_Medals\": 1949}, {\"noc\": \"HUN\", \"numeric_id\": 348, \"season\": \"Summer\", \"Total_Medals\": 1965}, {\"noc\": \"HUN\", \"numeric_id\": 348, \"season\": \"Summer\", \"Total_Medals\": 1977}, {\"noc\": \"HUN\", \"numeric_id\": 348, \"season\": \"Summer\", \"Total_Medals\": 2010}, {\"noc\": \"HUN\", \"numeric_id\": 348, \"season\": \"Summer\", \"Total_Medals\": 2054}, {\"noc\": \"HUN\", \"numeric_id\": 348, \"season\": \"Summer\", \"Total_Medals\": 2020}, {\"noc\": \"HUN\", \"numeric_id\": 348, \"season\": \"Summer\", \"Total_Medals\": 2026}, {\"noc\": \"HUN\", \"numeric_id\": 348, \"season\": \"Summer\", \"Total_Medals\": 2020}, {\"noc\": \"HUN\", \"numeric_id\": 348, \"season\": \"Summer\", \"Total_Medals\": 2049}, {\"noc\": \"HUN\", \"numeric_id\": 348, \"season\": \"Summer\", \"Total_Medals\": 2053}, {\"noc\": \"HUN\", \"numeric_id\": 348, \"season\": \"Summer\", \"Total_Medals\": 2031}, {\"noc\": \"HUN\", \"numeric_id\": 348, \"season\": \"Summer\", \"Total_Medals\": 2041}, {\"noc\": \"HUN\", \"numeric_id\": 348, \"season\": \"Summer\", \"Total_Medals\": 2032}, {\"noc\": \"HUN\", \"numeric_id\": 348, \"season\": \"Summer\", \"Total_Medals\": 2037}, {\"noc\": \"HUN\", \"numeric_id\": 348, \"season\": \"Summer\", \"Total_Medals\": 2039}, {\"noc\": \"HUN\", \"numeric_id\": 348, \"season\": \"Summer\", \"Total_Medals\": 2053}, {\"noc\": \"HUN\", \"numeric_id\": 348, \"season\": \"Summer\", \"Total_Medals\": 2044}, {\"noc\": \"HUN\", \"numeric_id\": 348, \"season\": \"Summer\", \"Total_Medals\": 2035}, {\"noc\": \"HUN\", \"numeric_id\": 348, \"season\": \"Summer\", \"Total_Medals\": 2038}, {\"noc\": \"HUN\", \"numeric_id\": 348, \"season\": \"Summer\", \"Total_Medals\": 2038}, {\"noc\": \"HUN\", \"numeric_id\": 348, \"season\": \"Winter\", \"Total_Medals\": 1934}, {\"noc\": \"HUN\", \"numeric_id\": 348, \"season\": \"Winter\", \"Total_Medals\": 1938}, {\"noc\": \"HUN\", \"numeric_id\": 348, \"season\": \"Winter\", \"Total_Medals\": 1950}, {\"noc\": \"HUN\", \"numeric_id\": 348, \"season\": \"Winter\", \"Total_Medals\": 1954}, {\"noc\": \"HUN\", \"numeric_id\": 348, \"season\": \"Winter\", \"Total_Medals\": 1958}, {\"noc\": \"HUN\", \"numeric_id\": 348, \"season\": \"Winter\", \"Total_Medals\": 1982}, {\"noc\": \"INA\", \"numeric_id\": 0, \"season\": \"Summer\", \"Total_Medals\": 1991}, {\"noc\": \"INA\", \"numeric_id\": 0, \"season\": \"Summer\", \"Total_Medals\": 1998}, {\"noc\": \"INA\", \"numeric_id\": 0, \"season\": \"Summer\", \"Total_Medals\": 2002}, {\"noc\": \"INA\", \"numeric_id\": 0, \"season\": \"Summer\", \"Total_Medals\": 2008}, {\"noc\": \"INA\", \"numeric_id\": 0, \"season\": \"Summer\", \"Total_Medals\": 2009}, {\"noc\": \"INA\", \"numeric_id\": 0, \"season\": \"Summer\", \"Total_Medals\": 2015}, {\"noc\": \"INA\", \"numeric_id\": 0, \"season\": \"Summer\", \"Total_Medals\": 2014}, {\"noc\": \"INA\", \"numeric_id\": 0, \"season\": \"Summer\", \"Total_Medals\": 2020}, {\"noc\": \"IND\", \"numeric_id\": 356, \"season\": \"Summer\", \"Total_Medals\": 1902}, {\"noc\": \"IND\", \"numeric_id\": 356, \"season\": \"Summer\", \"Total_Medals\": 1942}, {\"noc\": \"IND\", \"numeric_id\": 356, \"season\": \"Summer\", \"Total_Medals\": 1947}, {\"noc\": \"IND\", \"numeric_id\": 356, \"season\": \"Summer\", \"Total_Medals\": 1955}, {\"noc\": \"IND\", \"numeric_id\": 356, \"season\": \"Summer\", \"Total_Medals\": 1968}, {\"noc\": \"IND\", \"numeric_id\": 356, \"season\": \"Summer\", \"Total_Medals\": 1967}, {\"noc\": \"IND\", \"numeric_id\": 356, \"season\": \"Summer\", \"Total_Medals\": 1973}, {\"noc\": \"IND\", \"numeric_id\": 356, \"season\": \"Summer\", \"Total_Medals\": 1973}, {\"noc\": \"IND\", \"numeric_id\": 356, \"season\": \"Summer\", \"Total_Medals\": 1979}, {\"noc\": \"IND\", \"numeric_id\": 356, \"season\": \"Summer\", \"Total_Medals\": 1984}, {\"noc\": \"IND\", \"numeric_id\": 356, \"season\": \"Summer\", \"Total_Medals\": 1986}, {\"noc\": \"IND\", \"numeric_id\": 356, \"season\": \"Summer\", \"Total_Medals\": 1996}, {\"noc\": \"IND\", \"numeric_id\": 356, \"season\": \"Summer\", \"Total_Medals\": 1997}, {\"noc\": \"IND\", \"numeric_id\": 356, \"season\": \"Summer\", \"Total_Medals\": 2001}, {\"noc\": \"IND\", \"numeric_id\": 356, \"season\": \"Summer\", \"Total_Medals\": 2005}, {\"noc\": \"IND\", \"numeric_id\": 356, \"season\": \"Summer\", \"Total_Medals\": 2011}, {\"noc\": \"IND\", \"numeric_id\": 356, \"season\": \"Summer\", \"Total_Medals\": 2018}, {\"noc\": \"IND\", \"numeric_id\": 356, \"season\": \"Summer\", \"Total_Medals\": 2018}, {\"noc\": \"IND\", \"numeric_id\": 356, \"season\": \"Winter\", \"Total_Medals\": 1931}, {\"noc\": \"IOA\", \"numeric_id\": 0, \"season\": \"Summer\", \"Total_Medals\": 1995}, {\"noc\": \"IOA\", \"numeric_id\": 0, \"season\": \"Summer\", \"Total_Medals\": 2018}, {\"noc\": \"IRI\", \"numeric_id\": 0, \"season\": \"Summer\", \"Total_Medals\": 1949}, {\"noc\": \"IRI\", \"numeric_id\": 0, \"season\": \"Summer\", \"Total_Medals\": 1959}, {\"noc\": \"IRI\", \"numeric_id\": 0, \"season\": \"Summer\", \"Total_Medals\": 1961}, {\"noc\": \"IRI\", \"numeric_id\": 0, \"season\": \"Summer\", \"Total_Medals\": 1964}, {\"noc\": \"IRI\", \"numeric_id\": 0, \"season\": \"Summer\", \"Total_Medals\": 1966}, {\"noc\": \"IRI\", \"numeric_id\": 0, \"season\": \"Summer\", \"Total_Medals\": 1973}, {\"noc\": \"IRI\", \"numeric_id\": 0, \"season\": \"Summer\", \"Total_Medals\": 1975}, {\"noc\": \"IRI\", \"numeric_id\": 0, \"season\": \"Summer\", \"Total_Medals\": 1978}, {\"noc\": \"IRI\", \"numeric_id\": 0, \"season\": \"Summer\", \"Total_Medals\": 1989}, {\"noc\": \"IRI\", \"numeric_id\": 0, \"season\": \"Summer\", \"Total_Medals\": 1995}, {\"noc\": \"IRI\", \"numeric_id\": 0, \"season\": \"Summer\", \"Total_Medals\": 1999}, {\"noc\": \"IRI\", \"numeric_id\": 0, \"season\": \"Summer\", \"Total_Medals\": 2004}, {\"noc\": \"IRI\", \"numeric_id\": 0, \"season\": \"Summer\", \"Total_Medals\": 2010}, {\"noc\": \"IRI\", \"numeric_id\": 0, \"season\": \"Summer\", \"Total_Medals\": 2010}, {\"noc\": \"IRI\", \"numeric_id\": 0, \"season\": \"Summer\", \"Total_Medals\": 2024}, {\"noc\": \"IRI\", \"numeric_id\": 0, \"season\": \"Summer\", \"Total_Medals\": 2024}, {\"noc\": \"IRL\", \"numeric_id\": 372, \"season\": \"Summer\", \"Total_Medals\": 1926}, {\"noc\": \"IRL\", \"numeric_id\": 372, \"season\": \"Summer\", \"Total_Medals\": 1929}, {\"noc\": \"IRL\", \"numeric_id\": 372, \"season\": \"Summer\", \"Total_Medals\": 1934}, {\"noc\": \"IRL\", \"numeric_id\": 372, \"season\": \"Summer\", \"Total_Medals\": 1949}, {\"noc\": \"IRL\", \"numeric_id\": 372, \"season\": \"Summer\", \"Total_Medals\": 1953}, {\"noc\": \"IRL\", \"numeric_id\": 372, \"season\": \"Summer\", \"Total_Medals\": 1961}, {\"noc\": \"IRL\", \"numeric_id\": 372, \"season\": \"Summer\", \"Total_Medals\": 1965}, {\"noc\": \"IRL\", \"numeric_id\": 372, \"season\": \"Summer\", \"Total_Medals\": 1983}, {\"noc\": \"IRL\", \"numeric_id\": 372, \"season\": \"Summer\", \"Total_Medals\": 1985}, {\"noc\": \"IRL\", \"numeric_id\": 372, \"season\": \"Summer\", \"Total_Medals\": 1994}, {\"noc\": \"IRL\", \"numeric_id\": 372, \"season\": \"Summer\", \"Total_Medals\": 2000}, {\"noc\": \"IRL\", \"numeric_id\": 372, \"season\": \"Summer\", \"Total_Medals\": 2001}, {\"noc\": \"IRL\", \"numeric_id\": 372, \"season\": \"Summer\", \"Total_Medals\": 2011}, {\"noc\": \"IRL\", \"numeric_id\": 372, \"season\": \"Summer\", \"Total_Medals\": 2017}, {\"noc\": \"IRL\", \"numeric_id\": 372, \"season\": \"Summer\", \"Total_Medals\": 2019}, {\"noc\": \"IRQ\", \"numeric_id\": 368, \"season\": \"Summer\", \"Total_Medals\": 1961}, {\"noc\": \"ISL\", \"numeric_id\": 352, \"season\": \"Summer\", \"Total_Medals\": 1957}, {\"noc\": \"ISL\", \"numeric_id\": 352, \"season\": \"Summer\", \"Total_Medals\": 1985}, {\"noc\": \"ISL\", \"numeric_id\": 352, \"season\": \"Summer\", \"Total_Medals\": 2001}, {\"noc\": \"ISL\", \"numeric_id\": 352, \"season\": \"Summer\", \"Total_Medals\": 2022}, {\"noc\": \"ISR\", \"numeric_id\": 376, \"season\": \"Summer\", \"Total_Medals\": 1994}, {\"noc\": \"ISR\", \"numeric_id\": 376, \"season\": \"Summer\", \"Total_Medals\": 1997}, {\"noc\": \"ISR\", \"numeric_id\": 376, \"season\": \"Summer\", \"Total_Medals\": 2001}, {\"noc\": \"ISR\", \"numeric_id\": 376, \"season\": \"Summer\", \"Total_Medals\": 2006}, {\"noc\": \"ISR\", \"numeric_id\": 376, \"season\": \"Summer\", \"Total_Medals\": 2009}, {\"noc\": \"ISR\", \"numeric_id\": 376, \"season\": \"Summer\", \"Total_Medals\": 2018}, {\"noc\": \"ISV\", \"numeric_id\": 0, \"season\": \"Summer\", \"Total_Medals\": 1989}, {\"noc\": \"ITA\", \"numeric_id\": 380, \"season\": \"Summer\", \"Total_Medals\": 1905}, {\"noc\": \"ITA\", \"numeric_id\": 380, \"season\": \"Summer\", \"Total_Medals\": 1962}, {\"noc\": \"ITA\", \"numeric_id\": 380, \"season\": \"Summer\", \"Total_Medals\": 1916}, {\"noc\": \"ITA\", \"numeric_id\": 380, \"season\": \"Summer\", \"Total_Medals\": 1937}, {\"noc\": \"ITA\", \"numeric_id\": 380, \"season\": \"Summer\", \"Total_Medals\": 2004}, {\"noc\": \"ITA\", \"numeric_id\": 380, \"season\": \"Summer\", \"Total_Medals\": 1975}, {\"noc\": \"ITA\", \"numeric_id\": 380, \"season\": \"Summer\", \"Total_Medals\": 2000}, {\"noc\": \"ITA\", \"numeric_id\": 380, \"season\": \"Summer\", \"Total_Medals\": 2009}, {\"noc\": \"ITA\", \"numeric_id\": 380, \"season\": \"Summer\", \"Total_Medals\": 2012}, {\"noc\": \"ITA\", \"numeric_id\": 380, \"season\": \"Summer\", \"Total_Medals\": 2015}, {\"noc\": \"ITA\", \"numeric_id\": 380, \"season\": \"Summer\", \"Total_Medals\": 2006}, {\"noc\": \"ITA\", \"numeric_id\": 380, \"season\": \"Summer\", \"Total_Medals\": 2003}, {\"noc\": \"ITA\", \"numeric_id\": 380, \"season\": \"Summer\", \"Total_Medals\": 2048}, {\"noc\": \"ITA\", \"numeric_id\": 380, \"season\": \"Summer\", \"Total_Medals\": 2015}, {\"noc\": \"ITA\", \"numeric_id\": 380, \"season\": \"Summer\", \"Total_Medals\": 2001}, {\"noc\": \"ITA\", \"numeric_id\": 380, \"season\": \"Summer\", \"Total_Medals\": 1997}, {\"noc\": \"ITA\", \"numeric_id\": 380, \"season\": \"Summer\", \"Total_Medals\": 2007}, {\"noc\": \"ITA\", \"numeric_id\": 380, \"season\": \"Summer\", \"Total_Medals\": 2017}, {\"noc\": \"ITA\", \"numeric_id\": 380, \"season\": \"Summer\", \"Total_Medals\": 2047}, {\"noc\": \"ITA\", \"numeric_id\": 380, \"season\": \"Summer\", \"Total_Medals\": 2017}, {\"noc\": \"ITA\", \"numeric_id\": 380, \"season\": \"Summer\", \"Total_Medals\": 2037}, {\"noc\": \"ITA\", \"numeric_id\": 380, \"season\": \"Summer\", \"Total_Medals\": 2067}, {\"noc\": \"ITA\", \"numeric_id\": 380, \"season\": \"Summer\", \"Total_Medals\": 2065}, {\"noc\": \"ITA\", \"numeric_id\": 380, \"season\": \"Summer\", \"Total_Medals\": 2108}, {\"noc\": \"ITA\", \"numeric_id\": 380, \"season\": \"Summer\", \"Total_Medals\": 2050}, {\"noc\": \"ITA\", \"numeric_id\": 380, \"season\": \"Summer\", \"Total_Medals\": 2080}, {\"noc\": \"ITA\", \"numeric_id\": 380, \"season\": \"Summer\", \"Total_Medals\": 2088}, {\"noc\": \"ITA\", \"numeric_id\": 380, \"season\": \"Winter\", \"Total_Medals\": 1949}, {\"noc\": \"ITA\", \"numeric_id\": 380, \"season\": \"Winter\", \"Total_Medals\": 1954}, {\"noc\": \"ITA\", \"numeric_id\": 380, \"season\": \"Winter\", \"Total_Medals\": 1964}, {\"noc\": \"ITA\", \"numeric_id\": 380, \"season\": \"Winter\", \"Total_Medals\": 1961}, {\"noc\": \"ITA\", \"numeric_id\": 380, \"season\": \"Winter\", \"Total_Medals\": 1974}, {\"noc\": \"ITA\", \"numeric_id\": 380, \"season\": \"Winter\", \"Total_Medals\": 1976}, {\"noc\": \"ITA\", \"numeric_id\": 380, \"season\": \"Winter\", \"Total_Medals\": 1981}, {\"noc\": \"ITA\", \"numeric_id\": 380, \"season\": \"Winter\", \"Total_Medals\": 1980}, {\"noc\": \"ITA\", \"numeric_id\": 380, \"season\": \"Winter\", \"Total_Medals\": 1983}, {\"noc\": \"ITA\", \"numeric_id\": 380, \"season\": \"Winter\", \"Total_Medals\": 1986}, {\"noc\": \"ITA\", \"numeric_id\": 380, \"season\": \"Winter\", \"Total_Medals\": 1996}, {\"noc\": \"ITA\", \"numeric_id\": 380, \"season\": \"Winter\", \"Total_Medals\": 2013}, {\"noc\": \"ITA\", \"numeric_id\": 380, \"season\": \"Winter\", \"Total_Medals\": 2026}, {\"noc\": \"ITA\", \"numeric_id\": 380, \"season\": \"Winter\", \"Total_Medals\": 2015}, {\"noc\": \"ITA\", \"numeric_id\": 380, \"season\": \"Winter\", \"Total_Medals\": 2023}, {\"noc\": \"ITA\", \"numeric_id\": 380, \"season\": \"Winter\", \"Total_Medals\": 2031}, {\"noc\": \"ITA\", \"numeric_id\": 380, \"season\": \"Winter\", \"Total_Medals\": 2015}, {\"noc\": \"ITA\", \"numeric_id\": 380, \"season\": \"Winter\", \"Total_Medals\": 2028}, {\"noc\": \"JAM\", \"numeric_id\": 388, \"season\": \"Summer\", \"Total_Medals\": 1951}, {\"noc\": \"JAM\", \"numeric_id\": 388, \"season\": \"Summer\", \"Total_Medals\": 1960}, {\"noc\": \"JAM\", \"numeric_id\": 388, \"season\": \"Summer\", \"Total_Medals\": 1969}, {\"noc\": \"JAM\", \"numeric_id\": 388, \"season\": \"Summer\", \"Total_Medals\": 1973}, {\"noc\": \"JAM\", \"numeric_id\": 388, \"season\": \"Summer\", \"Total_Medals\": 1978}, {\"noc\": \"JAM\", \"numeric_id\": 388, \"season\": \"Summer\", \"Total_Medals\": 1983}, {\"noc\": \"JAM\", \"numeric_id\": 388, \"season\": \"Summer\", \"Total_Medals\": 1991}, {\"noc\": \"JAM\", \"numeric_id\": 388, \"season\": \"Summer\", \"Total_Medals\": 1995}, {\"noc\": \"JAM\", \"numeric_id\": 388, \"season\": \"Summer\", \"Total_Medals\": 1996}, {\"noc\": \"JAM\", \"numeric_id\": 388, \"season\": \"Summer\", \"Total_Medals\": 2012}, {\"noc\": \"JAM\", \"numeric_id\": 388, \"season\": \"Summer\", \"Total_Medals\": 2023}, {\"noc\": \"JAM\", \"numeric_id\": 388, \"season\": \"Summer\", \"Total_Medals\": 2017}, {\"noc\": \"JAM\", \"numeric_id\": 388, \"season\": \"Summer\", \"Total_Medals\": 2022}, {\"noc\": \"JAM\", \"numeric_id\": 388, \"season\": \"Summer\", \"Total_Medals\": 2037}, {\"noc\": \"JAM\", \"numeric_id\": 388, \"season\": \"Summer\", \"Total_Medals\": 2046}, {\"noc\": \"JOR\", \"numeric_id\": 400, \"season\": \"Summer\", \"Total_Medals\": 2017}, {\"noc\": \"JPN\", \"numeric_id\": 392, \"season\": \"Summer\", \"Total_Medals\": 1923}, {\"noc\": \"JPN\", \"numeric_id\": 392, \"season\": \"Summer\", \"Total_Medals\": 1925}, {\"noc\": \"JPN\", \"numeric_id\": 392, \"season\": \"Summer\", \"Total_Medals\": 1937}, {\"noc\": \"JPN\", \"numeric_id\": 392, \"season\": \"Summer\", \"Total_Medals\": 1963}, {\"noc\": \"JPN\", \"numeric_id\": 392, \"season\": \"Summer\", \"Total_Medals\": 1959}, {\"noc\": \"JPN\", \"numeric_id\": 392, \"season\": \"Summer\", \"Total_Medals\": 1964}, {\"noc\": \"JPN\", \"numeric_id\": 392, \"season\": \"Summer\", \"Total_Medals\": 1980}, {\"noc\": \"JPN\", \"numeric_id\": 392, \"season\": \"Summer\", \"Total_Medals\": 1991}, {\"noc\": \"JPN\", \"numeric_id\": 392, \"season\": \"Summer\", \"Total_Medals\": 2026}, {\"noc\": \"JPN\", \"numeric_id\": 392, \"season\": \"Summer\", \"Total_Medals\": 2031}, {\"noc\": \"JPN\", \"numeric_id\": 392, \"season\": \"Summer\", \"Total_Medals\": 2028}, {\"noc\": \"JPN\", \"numeric_id\": 392, \"season\": \"Summer\", \"Total_Medals\": 2017}, {\"noc\": \"JPN\", \"numeric_id\": 392, \"season\": \"Summer\", \"Total_Medals\": 2033}, {\"noc\": \"JPN\", \"numeric_id\": 392, \"season\": \"Summer\", \"Total_Medals\": 2008}, {\"noc\": \"JPN\", \"numeric_id\": 392, \"season\": \"Summer\", \"Total_Medals\": 2039}, {\"noc\": \"JPN\", \"numeric_id\": 392, \"season\": \"Summer\", \"Total_Medals\": 2038}, {\"noc\": \"JPN\", \"numeric_id\": 392, \"season\": \"Summer\", \"Total_Medals\": 2044}, {\"noc\": \"JPN\", \"numeric_id\": 392, \"season\": \"Summer\", \"Total_Medals\": 2097}, {\"noc\": \"JPN\", \"numeric_id\": 392, \"season\": \"Summer\", \"Total_Medals\": 2059}, {\"noc\": \"JPN\", \"numeric_id\": 392, \"season\": \"Summer\", \"Total_Medals\": 2096}, {\"noc\": \"JPN\", \"numeric_id\": 392, \"season\": \"Summer\", \"Total_Medals\": 2080}, {\"noc\": \"JPN\", \"numeric_id\": 392, \"season\": \"Winter\", \"Total_Medals\": 1957}, {\"noc\": \"JPN\", \"numeric_id\": 392, \"season\": \"Winter\", \"Total_Medals\": 1975}, {\"noc\": \"JPN\", \"numeric_id\": 392, \"season\": \"Winter\", \"Total_Medals\": 1981}, {\"noc\": \"JPN\", \"numeric_id\": 392, \"season\": \"Winter\", \"Total_Medals\": 1985}, {\"noc\": \"JPN\", \"numeric_id\": 392, \"season\": \"Winter\", \"Total_Medals\": 1989}, {\"noc\": \"JPN\", \"numeric_id\": 392, \"season\": \"Winter\", \"Total_Medals\": 2004}, {\"noc\": \"JPN\", \"numeric_id\": 392, \"season\": \"Winter\", \"Total_Medals\": 2004}, {\"noc\": \"JPN\", \"numeric_id\": 392, \"season\": \"Winter\", \"Total_Medals\": 2011}, {\"noc\": \"JPN\", \"numeric_id\": 392, \"season\": \"Winter\", \"Total_Medals\": 2004}, {\"noc\": \"JPN\", \"numeric_id\": 392, \"season\": \"Winter\", \"Total_Medals\": 2007}, {\"noc\": \"JPN\", \"numeric_id\": 392, \"season\": \"Winter\", \"Total_Medals\": 2017}, {\"noc\": \"JPN\", \"numeric_id\": 392, \"season\": \"Winter\", \"Total_Medals\": 2025}, {\"noc\": \"KAZ\", \"numeric_id\": 398, \"season\": \"Summer\", \"Total_Medals\": 2007}, {\"noc\": \"KAZ\", \"numeric_id\": 398, \"season\": \"Summer\", \"Total_Medals\": 2007}, {\"noc\": \"KAZ\", \"numeric_id\": 398, \"season\": \"Summer\", \"Total_Medals\": 2012}, {\"noc\": \"KAZ\", \"numeric_id\": 398, \"season\": \"Summer\", \"Total_Medals\": 2021}, {\"noc\": \"KAZ\", \"numeric_id\": 398, \"season\": \"Summer\", \"Total_Medals\": 2025}, {\"noc\": \"KAZ\", \"numeric_id\": 398, \"season\": \"Summer\", \"Total_Medals\": 2034}, {\"noc\": \"KAZ\", \"numeric_id\": 398, \"season\": \"Winter\", \"Total_Medals\": 1997}, {\"noc\": \"KAZ\", \"numeric_id\": 398, \"season\": \"Winter\", \"Total_Medals\": 2000}, {\"noc\": \"KAZ\", \"numeric_id\": 398, \"season\": \"Winter\", \"Total_Medals\": 2011}, {\"noc\": \"KAZ\", \"numeric_id\": 398, \"season\": \"Winter\", \"Total_Medals\": 2015}, {\"noc\": \"KEN\", \"numeric_id\": 404, \"season\": \"Summer\", \"Total_Medals\": 1965}, {\"noc\": \"KEN\", \"numeric_id\": 404, \"season\": \"Summer\", \"Total_Medals\": 1980}, {\"noc\": \"KEN\", \"numeric_id\": 404, \"season\": \"Summer\", \"Total_Medals\": 1984}, {\"noc\": \"KEN\", \"numeric_id\": 404, \"season\": \"Summer\", \"Total_Medals\": 1987}, {\"noc\": \"KEN\", \"numeric_id\": 404, \"season\": \"Summer\", \"Total_Medals\": 1997}, {\"noc\": \"KEN\", \"numeric_id\": 404, \"season\": \"Summer\", \"Total_Medals\": 2000}, {\"noc\": \"KEN\", \"numeric_id\": 404, \"season\": \"Summer\", \"Total_Medals\": 2004}, {\"noc\": \"KEN\", \"numeric_id\": 404, \"season\": \"Summer\", \"Total_Medals\": 2007}, {\"noc\": \"KEN\", \"numeric_id\": 404, \"season\": \"Summer\", \"Total_Medals\": 2011}, {\"noc\": \"KEN\", \"numeric_id\": 404, \"season\": \"Summer\", \"Total_Medals\": 2023}, {\"noc\": \"KEN\", \"numeric_id\": 404, \"season\": \"Summer\", \"Total_Medals\": 2023}, {\"noc\": \"KEN\", \"numeric_id\": 404, \"season\": \"Summer\", \"Total_Medals\": 2029}, {\"noc\": \"KGZ\", \"numeric_id\": 417, \"season\": \"Summer\", \"Total_Medals\": 2001}, {\"noc\": \"KGZ\", \"numeric_id\": 417, \"season\": \"Summer\", \"Total_Medals\": 2010}, {\"noc\": \"KOR\", \"numeric_id\": 410, \"season\": \"Summer\", \"Total_Medals\": 1950}, {\"noc\": \"KOR\", \"numeric_id\": 410, \"season\": \"Summer\", \"Total_Medals\": 1954}, {\"noc\": \"KOR\", \"numeric_id\": 410, \"season\": \"Summer\", \"Total_Medals\": 1958}, {\"noc\": \"KOR\", \"numeric_id\": 410, \"season\": \"Summer\", \"Total_Medals\": 1967}, {\"noc\": \"KOR\", \"numeric_id\": 410, \"season\": \"Summer\", \"Total_Medals\": 1970}, {\"noc\": \"KOR\", \"numeric_id\": 410, \"season\": \"Summer\", \"Total_Medals\": 1973}, {\"noc\": \"KOR\", \"numeric_id\": 410, \"season\": \"Summer\", \"Total_Medals\": 1993}, {\"noc\": \"KOR\", \"numeric_id\": 410, \"season\": \"Summer\", \"Total_Medals\": 2025}, {\"noc\": \"KOR\", \"numeric_id\": 410, \"season\": \"Summer\", \"Total_Medals\": 2065}, {\"noc\": \"KOR\", \"numeric_id\": 410, \"season\": \"Summer\", \"Total_Medals\": 2041}, {\"noc\": \"KOR\", \"numeric_id\": 410, \"season\": \"Summer\", \"Total_Medals\": 2062}, {\"noc\": \"KOR\", \"numeric_id\": 410, \"season\": \"Summer\", \"Total_Medals\": 2073}, {\"noc\": \"KOR\", \"numeric_id\": 410, \"season\": \"Summer\", \"Total_Medals\": 2056}, {\"noc\": \"KOR\", \"numeric_id\": 410, \"season\": \"Summer\", \"Total_Medals\": 2086}, {\"noc\": \"KOR\", \"numeric_id\": 410, \"season\": \"Summer\", \"Total_Medals\": 2073}, {\"noc\": \"KOR\", \"numeric_id\": 410, \"season\": \"Summer\", \"Total_Medals\": 2042}, {\"noc\": \"KOR\", \"numeric_id\": 410, \"season\": \"Winter\", \"Total_Medals\": 1999}, {\"noc\": \"KOR\", \"numeric_id\": 410, \"season\": \"Winter\", \"Total_Medals\": 2003}, {\"noc\": \"KOR\", \"numeric_id\": 410, \"season\": \"Winter\", \"Total_Medals\": 2010}, {\"noc\": \"KOR\", \"numeric_id\": 410, \"season\": \"Winter\", \"Total_Medals\": 2009}, {\"noc\": \"KOR\", \"numeric_id\": 410, \"season\": \"Winter\", \"Total_Medals\": 2025}, {\"noc\": \"KOR\", \"numeric_id\": 410, \"season\": \"Winter\", \"Total_Medals\": 2028}, {\"noc\": \"KOR\", \"numeric_id\": 410, \"season\": \"Winter\", \"Total_Medals\": 2028}, {\"noc\": \"KOS\", \"numeric_id\": 0, \"season\": \"Summer\", \"Total_Medals\": 2017}, {\"noc\": \"KSA\", \"numeric_id\": 0, \"season\": \"Summer\", \"Total_Medals\": 2002}, {\"noc\": \"KSA\", \"numeric_id\": 0, \"season\": \"Summer\", \"Total_Medals\": 2016}, {\"noc\": \"KUW\", \"numeric_id\": 0, \"season\": \"Summer\", \"Total_Medals\": 2001}, {\"noc\": \"KUW\", \"numeric_id\": 0, \"season\": \"Summer\", \"Total_Medals\": 2013}, {\"noc\": \"LAT\", \"numeric_id\": 0, \"season\": \"Summer\", \"Total_Medals\": 1933}, {\"noc\": \"LAT\", \"numeric_id\": 0, \"season\": \"Summer\", \"Total_Medals\": 1938}, {\"noc\": \"LAT\", \"numeric_id\": 0, \"season\": \"Summer\", \"Total_Medals\": 1995}, {\"noc\": \"LAT\", \"numeric_id\": 0, \"season\": \"Summer\", \"Total_Medals\": 1997}, {\"noc\": \"LAT\", \"numeric_id\": 0, \"season\": \"Summer\", \"Total_Medals\": 2003}, {\"noc\": \"LAT\", \"numeric_id\": 0, \"season\": \"Summer\", \"Total_Medals\": 2008}, {\"noc\": \"LAT\", \"numeric_id\": 0, \"season\": \"Summer\", \"Total_Medals\": 2011}, {\"noc\": \"LAT\", \"numeric_id\": 0, \"season\": \"Summer\", \"Total_Medals\": 2015}, {\"noc\": \"LAT\", \"numeric_id\": 0, \"season\": \"Winter\", \"Total_Medals\": 2007}, {\"noc\": \"LAT\", \"numeric_id\": 0, \"season\": \"Winter\", \"Total_Medals\": 2013}, {\"noc\": \"LAT\", \"numeric_id\": 0, \"season\": \"Winter\", \"Total_Medals\": 2025}, {\"noc\": \"LIB\", \"numeric_id\": 0, \"season\": \"Summer\", \"Total_Medals\": 1954}, {\"noc\": \"LIB\", \"numeric_id\": 0, \"season\": \"Summer\", \"Total_Medals\": 1973}, {\"noc\": \"LIB\", \"numeric_id\": 0, \"season\": \"Summer\", \"Total_Medals\": 1981}, {\"noc\": \"LIE\", \"numeric_id\": 0, \"season\": \"Winter\", \"Total_Medals\": 1978}, {\"noc\": \"LIE\", \"numeric_id\": 0, \"season\": \"Winter\", \"Total_Medals\": 1984}, {\"noc\": \"LIE\", \"numeric_id\": 0, \"season\": \"Winter\", \"Total_Medals\": 1986}, {\"noc\": \"LIE\", \"numeric_id\": 0, \"season\": \"Winter\", \"Total_Medals\": 1989}, {\"noc\": \"LTU\", \"numeric_id\": 440, \"season\": \"Summer\", \"Total_Medals\": 2005}, {\"noc\": \"LTU\", \"numeric_id\": 440, \"season\": \"Summer\", \"Total_Medals\": 2007}, {\"noc\": \"LTU\", \"numeric_id\": 440, \"season\": \"Summer\", \"Total_Medals\": 2017}, {\"noc\": \"LTU\", \"numeric_id\": 440, \"season\": \"Summer\", \"Total_Medals\": 2007}, {\"noc\": \"LTU\", \"numeric_id\": 440, \"season\": \"Summer\", \"Total_Medals\": 2013}, {\"noc\": \"LTU\", \"numeric_id\": 440, \"season\": \"Summer\", \"Total_Medals\": 2017}, {\"noc\": \"LTU\", \"numeric_id\": 440, \"season\": \"Summer\", \"Total_Medals\": 2023}, {\"noc\": \"LUX\", \"numeric_id\": 442, \"season\": \"Summer\", \"Total_Medals\": 1901}, {\"noc\": \"LUX\", \"numeric_id\": 442, \"season\": \"Summer\", \"Total_Medals\": 1921}, {\"noc\": \"LUX\", \"numeric_id\": 442, \"season\": \"Summer\", \"Total_Medals\": 1926}, {\"noc\": \"LUX\", \"numeric_id\": 442, \"season\": \"Summer\", \"Total_Medals\": 1929}, {\"noc\": \"LUX\", \"numeric_id\": 442, \"season\": \"Summer\", \"Total_Medals\": 1953}, {\"noc\": \"LUX\", \"numeric_id\": 442, \"season\": \"Winter\", \"Total_Medals\": 1994}, {\"noc\": \"MAR\", \"numeric_id\": 504, \"season\": \"Summer\", \"Total_Medals\": 1961}, {\"noc\": \"MAR\", \"numeric_id\": 504, \"season\": \"Summer\", \"Total_Medals\": 1986}, {\"noc\": \"MAR\", \"numeric_id\": 504, \"season\": \"Summer\", \"Total_Medals\": 1991}, {\"noc\": \"MAR\", \"numeric_id\": 504, \"season\": \"Summer\", \"Total_Medals\": 1995}, {\"noc\": \"MAR\", \"numeric_id\": 504, \"season\": \"Summer\", \"Total_Medals\": 1998}, {\"noc\": \"MAR\", \"numeric_id\": 504, \"season\": \"Summer\", \"Total_Medals\": 2005}, {\"noc\": \"MAR\", \"numeric_id\": 504, \"season\": \"Summer\", \"Total_Medals\": 2007}, {\"noc\": \"MAR\", \"numeric_id\": 504, \"season\": \"Summer\", \"Total_Medals\": 2010}, {\"noc\": \"MAR\", \"numeric_id\": 504, \"season\": \"Summer\", \"Total_Medals\": 2013}, {\"noc\": \"MAR\", \"numeric_id\": 504, \"season\": \"Summer\", \"Total_Medals\": 2017}, {\"noc\": \"MAS\", \"numeric_id\": 0, \"season\": \"Summer\", \"Total_Medals\": 1994}, {\"noc\": \"MAS\", \"numeric_id\": 0, \"season\": \"Summer\", \"Total_Medals\": 1999}, {\"noc\": \"MAS\", \"numeric_id\": 0, \"season\": \"Summer\", \"Total_Medals\": 2009}, {\"noc\": \"MAS\", \"numeric_id\": 0, \"season\": \"Summer\", \"Total_Medals\": 2014}, {\"noc\": \"MAS\", \"numeric_id\": 0, \"season\": \"Summer\", \"Total_Medals\": 2024}, {\"noc\": \"MDA\", \"numeric_id\": 498, \"season\": \"Summer\", \"Total_Medals\": 1999}, {\"noc\": \"MDA\", \"numeric_id\": 498, \"season\": \"Summer\", \"Total_Medals\": 2002}, {\"noc\": \"MDA\", \"numeric_id\": 498, \"season\": \"Summer\", \"Total_Medals\": 2009}, {\"noc\": \"MDA\", \"numeric_id\": 498, \"season\": \"Summer\", \"Total_Medals\": 2014}, {\"noc\": \"MEX\", \"numeric_id\": 484, \"season\": \"Summer\", \"Total_Medals\": 1903}, {\"noc\": \"MEX\", \"numeric_id\": 484, \"season\": \"Summer\", \"Total_Medals\": 1934}, {\"noc\": \"MEX\", \"numeric_id\": 484, \"season\": \"Summer\", \"Total_Medals\": 1952}, {\"noc\": \"MEX\", \"numeric_id\": 484, \"season\": \"Summer\", \"Total_Medals\": 1957}, {\"noc\": \"MEX\", \"numeric_id\": 484, \"season\": \"Summer\", \"Total_Medals\": 1953}, {\"noc\": \"MEX\", \"numeric_id\": 484, \"season\": \"Summer\", \"Total_Medals\": 1958}, {\"noc\": \"MEX\", \"numeric_id\": 484, \"season\": \"Summer\", \"Total_Medals\": 1961}, {\"noc\": \"MEX\", \"numeric_id\": 484, \"season\": \"Summer\", \"Total_Medals\": 1965}, {\"noc\": \"MEX\", \"numeric_id\": 484, \"season\": \"Summer\", \"Total_Medals\": 1977}, {\"noc\": \"MEX\", \"numeric_id\": 484, \"season\": \"Summer\", \"Total_Medals\": 1973}, {\"noc\": \"MEX\", \"numeric_id\": 484, \"season\": \"Summer\", \"Total_Medals\": 1978}, {\"noc\": \"MEX\", \"numeric_id\": 484, \"season\": \"Summer\", \"Total_Medals\": 1990}, {\"noc\": \"MEX\", \"numeric_id\": 484, \"season\": \"Summer\", \"Total_Medals\": 1990}, {\"noc\": \"MEX\", \"numeric_id\": 484, \"season\": \"Summer\", \"Total_Medals\": 1990}, {\"noc\": \"MEX\", \"numeric_id\": 484, \"season\": \"Summer\", \"Total_Medals\": 1993}, {\"noc\": \"MEX\", \"numeric_id\": 484, \"season\": \"Summer\", \"Total_Medals\": 1997}, {\"noc\": \"MEX\", \"numeric_id\": 484, \"season\": \"Summer\", \"Total_Medals\": 2006}, {\"noc\": \"MEX\", \"numeric_id\": 484, \"season\": \"Summer\", \"Total_Medals\": 2008}, {\"noc\": \"MEX\", \"numeric_id\": 484, \"season\": \"Summer\", \"Total_Medals\": 2012}, {\"noc\": \"MEX\", \"numeric_id\": 484, \"season\": \"Summer\", \"Total_Medals\": 2036}, {\"noc\": \"MEX\", \"numeric_id\": 484, \"season\": \"Summer\", \"Total_Medals\": 2021}, {\"noc\": \"MGL\", \"numeric_id\": 0, \"season\": \"Summer\", \"Total_Medals\": 1972}, {\"noc\": \"MGL\", \"numeric_id\": 0, \"season\": \"Summer\", \"Total_Medals\": 1973}, {\"noc\": \"MGL\", \"numeric_id\": 0, \"season\": \"Summer\", \"Total_Medals\": 1977}, {\"noc\": \"MGL\", \"numeric_id\": 0, \"season\": \"Summer\", \"Total_Medals\": 1984}, {\"noc\": \"MGL\", \"numeric_id\": 0, \"season\": \"Summer\", \"Total_Medals\": 1989}, {\"noc\": \"MGL\", \"numeric_id\": 0, \"season\": \"Summer\", \"Total_Medals\": 1994}, {\"noc\": \"MGL\", \"numeric_id\": 0, \"season\": \"Summer\", \"Total_Medals\": 1997}, {\"noc\": \"MGL\", \"numeric_id\": 0, \"season\": \"Summer\", \"Total_Medals\": 2005}, {\"noc\": \"MGL\", \"numeric_id\": 0, \"season\": \"Summer\", \"Total_Medals\": 2012}, {\"noc\": \"MGL\", \"numeric_id\": 0, \"season\": \"Summer\", \"Total_Medals\": 2017}, {\"noc\": \"MGL\", \"numeric_id\": 0, \"season\": \"Summer\", \"Total_Medals\": 2018}, {\"noc\": \"MKD\", \"numeric_id\": 807, \"season\": \"Summer\", \"Total_Medals\": 2001}, {\"noc\": \"MNE\", \"numeric_id\": 499, \"season\": \"Summer\", \"Total_Medals\": 2026}, {\"noc\": \"MON\", \"numeric_id\": 0, \"season\": \"Summer\", \"Total_Medals\": 1925}, {\"noc\": \"MOZ\", \"numeric_id\": 508, \"season\": \"Summer\", \"Total_Medals\": 1997}, {\"noc\": \"MOZ\", \"numeric_id\": 508, \"season\": \"Summer\", \"Total_Medals\": 2001}, {\"noc\": \"MRI\", \"numeric_id\": 0, \"season\": \"Summer\", \"Total_Medals\": 2009}, {\"noc\": \"NAM\", \"numeric_id\": 516, \"season\": \"Summer\", \"Total_Medals\": 1994}, {\"noc\": \"NAM\", \"numeric_id\": 516, \"season\": \"Summer\", \"Total_Medals\": 1998}, {\"noc\": \"NED\", \"numeric_id\": 0, \"season\": \"Summer\", \"Total_Medals\": 1927}, {\"noc\": \"NED\", \"numeric_id\": 0, \"season\": \"Summer\", \"Total_Medals\": 1912}, {\"noc\": \"NED\", \"numeric_id\": 0, \"season\": \"Summer\", \"Total_Medals\": 1924}, {\"noc\": \"NED\", \"numeric_id\": 0, \"season\": \"Summer\", \"Total_Medals\": 1938}, {\"noc\": \"NED\", \"numeric_id\": 0, \"season\": \"Summer\", \"Total_Medals\": 1970}, {\"noc\": \"NED\", \"numeric_id\": 0, \"season\": \"Summer\", \"Total_Medals\": 1951}, {\"noc\": \"NED\", \"numeric_id\": 0, \"season\": \"Summer\", \"Total_Medals\": 1985}, {\"noc\": \"NED\", \"numeric_id\": 0, \"season\": \"Summer\", \"Total_Medals\": 1945}, {\"noc\": \"NED\", \"numeric_id\": 0, \"season\": \"Summer\", \"Total_Medals\": 1973}, {\"noc\": \"NED\", \"numeric_id\": 0, \"season\": \"Summer\", \"Total_Medals\": 1990}, {\"noc\": \"NED\", \"numeric_id\": 0, \"season\": \"Summer\", \"Total_Medals\": 1970}, {\"noc\": \"NED\", \"numeric_id\": 0, \"season\": \"Summer\", \"Total_Medals\": 1963}, {\"noc\": \"NED\", \"numeric_id\": 0, \"season\": \"Summer\", \"Total_Medals\": 1995}, {\"noc\": \"NED\", \"numeric_id\": 0, \"season\": \"Summer\", \"Total_Medals\": 1982}, {\"noc\": \"NED\", \"numeric_id\": 0, \"season\": \"Summer\", \"Total_Medals\": 1978}, {\"noc\": \"NED\", \"numeric_id\": 0, \"season\": \"Summer\", \"Total_Medals\": 1990}, {\"noc\": \"NED\", \"numeric_id\": 0, \"season\": \"Summer\", \"Total_Medals\": 1986}, {\"noc\": \"NED\", \"numeric_id\": 0, \"season\": \"Summer\", \"Total_Medals\": 2025}, {\"noc\": \"NED\", \"numeric_id\": 0, \"season\": \"Summer\", \"Total_Medals\": 2033}, {\"noc\": \"NED\", \"numeric_id\": 0, \"season\": \"Summer\", \"Total_Medals\": 2025}, {\"noc\": \"NED\", \"numeric_id\": 0, \"season\": \"Summer\", \"Total_Medals\": 2069}, {\"noc\": \"NED\", \"numeric_id\": 0, \"season\": \"Summer\", \"Total_Medals\": 2079}, {\"noc\": \"NED\", \"numeric_id\": 0, \"season\": \"Summer\", \"Total_Medals\": 2081}, {\"noc\": \"NED\", \"numeric_id\": 0, \"season\": \"Summer\", \"Total_Medals\": 2069}, {\"noc\": \"NED\", \"numeric_id\": 0, \"season\": \"Summer\", \"Total_Medals\": 2081}, {\"noc\": \"NED\", \"numeric_id\": 0, \"season\": \"Summer\", \"Total_Medals\": 2063}, {\"noc\": \"NED\", \"numeric_id\": 0, \"season\": \"Winter\", \"Total_Medals\": 1955}, {\"noc\": \"NED\", \"numeric_id\": 0, \"season\": \"Winter\", \"Total_Medals\": 1962}, {\"noc\": \"NED\", \"numeric_id\": 0, \"season\": \"Winter\", \"Total_Medals\": 1966}, {\"noc\": \"NED\", \"numeric_id\": 0, \"season\": \"Winter\", \"Total_Medals\": 1977}, {\"noc\": \"NED\", \"numeric_id\": 0, \"season\": \"Winter\", \"Total_Medals\": 1981}, {\"noc\": \"NED\", \"numeric_id\": 0, \"season\": \"Winter\", \"Total_Medals\": 1982}, {\"noc\": \"NED\", \"numeric_id\": 0, \"season\": \"Winter\", \"Total_Medals\": 1984}, {\"noc\": \"NED\", \"numeric_id\": 0, \"season\": \"Winter\", \"Total_Medals\": 1995}, {\"noc\": \"NED\", \"numeric_id\": 0, \"season\": \"Winter\", \"Total_Medals\": 1996}, {\"noc\": \"NED\", \"numeric_id\": 0, \"season\": \"Winter\", \"Total_Medals\": 1998}, {\"noc\": \"NED\", \"numeric_id\": 0, \"season\": \"Winter\", \"Total_Medals\": 2009}, {\"noc\": \"NED\", \"numeric_id\": 0, \"season\": \"Winter\", \"Total_Medals\": 2010}, {\"noc\": \"NED\", \"numeric_id\": 0, \"season\": \"Winter\", \"Total_Medals\": 2019}, {\"noc\": \"NED\", \"numeric_id\": 0, \"season\": \"Winter\", \"Total_Medals\": 2021}, {\"noc\": \"NED\", \"numeric_id\": 0, \"season\": \"Winter\", \"Total_Medals\": 2043}, {\"noc\": \"NEP\", \"numeric_id\": 0, \"season\": \"Winter\", \"Total_Medals\": 1925}, {\"noc\": \"NGR\", \"numeric_id\": 0, \"season\": \"Summer\", \"Total_Medals\": 1965}, {\"noc\": \"NGR\", \"numeric_id\": 0, \"season\": \"Summer\", \"Total_Medals\": 1973}, {\"noc\": \"NGR\", \"numeric_id\": 0, \"season\": \"Summer\", \"Total_Medals\": 1989}, {\"noc\": \"NGR\", \"numeric_id\": 0, \"season\": \"Summer\", \"Total_Medals\": 2003}, {\"noc\": \"NGR\", \"numeric_id\": 0, \"season\": \"Summer\", \"Total_Medals\": 2020}, {\"noc\": \"NGR\", \"numeric_id\": 0, \"season\": \"Summer\", \"Total_Medals\": 2008}, {\"noc\": \"NGR\", \"numeric_id\": 0, \"season\": \"Summer\", \"Total_Medals\": 2012}, {\"noc\": \"NGR\", \"numeric_id\": 0, \"season\": \"Summer\", \"Total_Medals\": 2031}, {\"noc\": \"NGR\", \"numeric_id\": 0, \"season\": \"Summer\", \"Total_Medals\": 2034}, {\"noc\": \"NIG\", \"numeric_id\": 0, \"season\": \"Summer\", \"Total_Medals\": 1973}, {\"noc\": \"NIG\", \"numeric_id\": 0, \"season\": \"Summer\", \"Total_Medals\": 2017}, {\"noc\": \"NOR\", \"numeric_id\": 578, \"season\": \"Summer\", \"Total_Medals\": 1909}, {\"noc\": \"NOR\", \"numeric_id\": 578, \"season\": \"Summer\", \"Total_Medals\": 1906}, {\"noc\": \"NOR\", \"numeric_id\": 578, \"season\": \"Summer\", \"Total_Medals\": 1931}, {\"noc\": \"NOR\", \"numeric_id\": 578, \"season\": \"Summer\", \"Total_Medals\": 1950}, {\"noc\": \"NOR\", \"numeric_id\": 578, \"season\": \"Summer\", \"Total_Medals\": 1992}, {\"noc\": \"NOR\", \"numeric_id\": 578, \"season\": \"Summer\", \"Total_Medals\": 2057}, {\"noc\": \"NOR\", \"numeric_id\": 578, \"season\": \"Summer\", \"Total_Medals\": 1946}, {\"noc\": \"NOR\", \"numeric_id\": 578, \"season\": \"Summer\", \"Total_Medals\": 1937}, {\"noc\": \"NOR\", \"numeric_id\": 578, \"season\": \"Summer\", \"Total_Medals\": 1964}, {\"noc\": \"NOR\", \"numeric_id\": 578, \"season\": \"Summer\", \"Total_Medals\": 1966}, {\"noc\": \"NOR\", \"numeric_id\": 578, \"season\": \"Summer\", \"Total_Medals\": 1965}, {\"noc\": \"NOR\", \"numeric_id\": 578, \"season\": \"Summer\", \"Total_Medals\": 1959}, {\"noc\": \"NOR\", \"numeric_id\": 578, \"season\": \"Summer\", \"Total_Medals\": 1962}, {\"noc\": \"NOR\", \"numeric_id\": 578, \"season\": \"Summer\", \"Total_Medals\": 1974}, {\"noc\": \"NOR\", \"numeric_id\": 578, \"season\": \"Summer\", \"Total_Medals\": 1980}, {\"noc\": \"NOR\", \"numeric_id\": 578, \"season\": \"Summer\", \"Total_Medals\": 1982}, {\"noc\": \"NOR\", \"numeric_id\": 578, \"season\": \"Summer\", \"Total_Medals\": 1988}, {\"noc\": \"NOR\", \"numeric_id\": 578, \"season\": \"Summer\", \"Total_Medals\": 2010}, {\"noc\": \"NOR\", \"numeric_id\": 578, \"season\": \"Summer\", \"Total_Medals\": 2015}, {\"noc\": \"NOR\", \"numeric_id\": 578, \"season\": \"Summer\", \"Total_Medals\": 2019}, {\"noc\": \"NOR\", \"numeric_id\": 578, \"season\": \"Summer\", \"Total_Medals\": 2043}, {\"noc\": \"NOR\", \"numeric_id\": 578, \"season\": \"Summer\", \"Total_Medals\": 2011}, {\"noc\": \"NOR\", \"numeric_id\": 578, \"season\": \"Summer\", \"Total_Medals\": 2030}, {\"noc\": \"NOR\", \"numeric_id\": 578, \"season\": \"Summer\", \"Total_Medals\": 2029}, {\"noc\": \"NOR\", \"numeric_id\": 578, \"season\": \"Summer\", \"Total_Medals\": 2035}, {\"noc\": \"NOR\", \"numeric_id\": 578, \"season\": \"Winter\", \"Total_Medals\": 1941}, {\"noc\": \"NOR\", \"numeric_id\": 578, \"season\": \"Winter\", \"Total_Medals\": 1943}, {\"noc\": \"NOR\", \"numeric_id\": 578, \"season\": \"Winter\", \"Total_Medals\": 1942}, {\"noc\": \"NOR\", \"numeric_id\": 578, \"season\": \"Winter\", \"Total_Medals\": 1954}, {\"noc\": \"NOR\", \"numeric_id\": 578, \"season\": \"Winter\", \"Total_Medals\": 1961}, {\"noc\": \"NOR\", \"numeric_id\": 578, \"season\": \"Winter\", \"Total_Medals\": 1971}, {\"noc\": \"NOR\", \"numeric_id\": 578, \"season\": \"Winter\", \"Total_Medals\": 1960}, {\"noc\": \"NOR\", \"numeric_id\": 578, \"season\": \"Winter\", \"Total_Medals\": 1969}, {\"noc\": \"NOR\", \"numeric_id\": 578, \"season\": \"Winter\", \"Total_Medals\": 1979}, {\"noc\": \"NOR\", \"numeric_id\": 578, \"season\": \"Winter\", \"Total_Medals\": 1990}, {\"noc\": \"NOR\", \"numeric_id\": 578, \"season\": \"Winter\", \"Total_Medals\": 1989}, {\"noc\": \"NOR\", \"numeric_id\": 578, \"season\": \"Winter\", \"Total_Medals\": 1986}, {\"noc\": \"NOR\", \"numeric_id\": 578, \"season\": \"Winter\", \"Total_Medals\": 1995}, {\"noc\": \"NOR\", \"numeric_id\": 578, \"season\": \"Winter\", \"Total_Medals\": 1999}, {\"noc\": \"NOR\", \"numeric_id\": 578, \"season\": \"Winter\", \"Total_Medals\": 1999}, {\"noc\": \"NOR\", \"numeric_id\": 578, \"season\": \"Winter\", \"Total_Medals\": 2016}, {\"noc\": \"NOR\", \"numeric_id\": 578, \"season\": \"Winter\", \"Total_Medals\": 2024}, {\"noc\": \"NOR\", \"numeric_id\": 578, \"season\": \"Winter\", \"Total_Medals\": 2038}, {\"noc\": \"NOR\", \"numeric_id\": 578, \"season\": \"Winter\", \"Total_Medals\": 2043}, {\"noc\": \"NOR\", \"numeric_id\": 578, \"season\": \"Winter\", \"Total_Medals\": 2029}, {\"noc\": \"NOR\", \"numeric_id\": 578, \"season\": \"Winter\", \"Total_Medals\": 2049}, {\"noc\": \"NOR\", \"numeric_id\": 578, \"season\": \"Winter\", \"Total_Medals\": 2050}, {\"noc\": \"NZL\", \"numeric_id\": 554, \"season\": \"Summer\", \"Total_Medals\": 1901}, {\"noc\": \"NZL\", \"numeric_id\": 554, \"season\": \"Summer\", \"Total_Medals\": 1921}, {\"noc\": \"NZL\", \"numeric_id\": 554, \"season\": \"Summer\", \"Total_Medals\": 1925}, {\"noc\": \"NZL\", \"numeric_id\": 554, \"season\": \"Summer\", \"Total_Medals\": 1929}, {\"noc\": \"NZL\", \"numeric_id\": 554, \"season\": \"Summer\", \"Total_Medals\": 1934}, {\"noc\": \"NZL\", \"numeric_id\": 554, \"season\": \"Summer\", \"Total_Medals\": 1937}, {\"noc\": \"NZL\", \"numeric_id\": 554, \"season\": \"Summer\", \"Total_Medals\": 1955}, {\"noc\": \"NZL\", \"numeric_id\": 554, \"season\": \"Summer\", \"Total_Medals\": 1959}, {\"noc\": \"NZL\", \"numeric_id\": 554, \"season\": \"Summer\", \"Total_Medals\": 1963}, {\"noc\": \"NZL\", \"numeric_id\": 554, \"season\": \"Summer\", \"Total_Medals\": 1970}, {\"noc\": \"NZL\", \"numeric_id\": 554, \"season\": \"Summer\", \"Total_Medals\": 1975}, {\"noc\": \"NZL\", \"numeric_id\": 554, \"season\": \"Summer\", \"Total_Medals\": 1986}, {\"noc\": \"NZL\", \"numeric_id\": 554, \"season\": \"Summer\", \"Total_Medals\": 2001}, {\"noc\": \"NZL\", \"numeric_id\": 554, \"season\": \"Summer\", \"Total_Medals\": 2007}, {\"noc\": \"NZL\", \"numeric_id\": 554, \"season\": \"Summer\", \"Total_Medals\": 2012}, {\"noc\": \"NZL\", \"numeric_id\": 554, \"season\": \"Summer\", \"Total_Medals\": 2007}, {\"noc\": \"NZL\", \"numeric_id\": 554, \"season\": \"Summer\", \"Total_Medals\": 2005}, {\"noc\": \"NZL\", \"numeric_id\": 554, \"season\": \"Summer\", \"Total_Medals\": 2004}, {\"noc\": \"NZL\", \"numeric_id\": 554, \"season\": \"Summer\", \"Total_Medals\": 2010}, {\"noc\": \"NZL\", \"numeric_id\": 554, \"season\": \"Summer\", \"Total_Medals\": 2023}, {\"noc\": \"NZL\", \"numeric_id\": 554, \"season\": \"Summer\", \"Total_Medals\": 2039}, {\"noc\": \"NZL\", \"numeric_id\": 554, \"season\": \"Summer\", \"Total_Medals\": 2052}, {\"noc\": \"NZL\", \"numeric_id\": 554, \"season\": \"Winter\", \"Total_Medals\": 1993}, {\"noc\": \"PAK\", \"numeric_id\": 586, \"season\": \"Summer\", \"Total_Medals\": 1970}, {\"noc\": \"PAK\", \"numeric_id\": 586, \"season\": \"Summer\", \"Total_Medals\": 1974}, {\"noc\": \"PAK\", \"numeric_id\": 586, \"season\": \"Summer\", \"Total_Medals\": 1980}, {\"noc\": \"PAK\", \"numeric_id\": 586, \"season\": \"Summer\", \"Total_Medals\": 1981}, {\"noc\": \"PAK\", \"numeric_id\": 586, \"season\": \"Summer\", \"Total_Medals\": 1987}, {\"noc\": \"PAK\", \"numeric_id\": 586, \"season\": \"Summer\", \"Total_Medals\": 1992}, {\"noc\": \"PAK\", \"numeric_id\": 586, \"season\": \"Summer\", \"Total_Medals\": 2000}, {\"noc\": \"PAK\", \"numeric_id\": 586, \"season\": \"Summer\", \"Total_Medals\": 1989}, {\"noc\": \"PAK\", \"numeric_id\": 586, \"season\": \"Summer\", \"Total_Medals\": 2008}, {\"noc\": \"PAN\", \"numeric_id\": 591, \"season\": \"Summer\", \"Total_Medals\": 1950}, {\"noc\": \"PAN\", \"numeric_id\": 591, \"season\": \"Summer\", \"Total_Medals\": 2009}, {\"noc\": \"PAR\", \"numeric_id\": 0, \"season\": \"Summer\", \"Total_Medals\": 2021}, {\"noc\": \"PER\", \"numeric_id\": 604, \"season\": \"Summer\", \"Total_Medals\": 1949}, {\"noc\": \"PER\", \"numeric_id\": 604, \"season\": \"Summer\", \"Total_Medals\": 1985}, {\"noc\": \"PER\", \"numeric_id\": 604, \"season\": \"Summer\", \"Total_Medals\": 2000}, {\"noc\": \"PER\", \"numeric_id\": 604, \"season\": \"Summer\", \"Total_Medals\": 1993}, {\"noc\": \"PHI\", \"numeric_id\": 0, \"season\": \"Summer\", \"Total_Medals\": 1929}, {\"noc\": \"PHI\", \"numeric_id\": 0, \"season\": \"Summer\", \"Total_Medals\": 1935}, {\"noc\": \"PHI\", \"numeric_id\": 0, \"season\": \"Summer\", \"Total_Medals\": 1937}, {\"noc\": \"PHI\", \"numeric_id\": 0, \"season\": \"Summer\", \"Total_Medals\": 1965}, {\"noc\": \"PHI\", \"numeric_id\": 0, \"season\": \"Summer\", \"Total_Medals\": 1989}, {\"noc\": \"PHI\", \"numeric_id\": 0, \"season\": \"Summer\", \"Total_Medals\": 1993}, {\"noc\": \"PHI\", \"numeric_id\": 0, \"season\": \"Summer\", \"Total_Medals\": 1997}, {\"noc\": \"PHI\", \"numeric_id\": 0, \"season\": \"Summer\", \"Total_Medals\": 2017}, {\"noc\": \"POL\", \"numeric_id\": 616, \"season\": \"Summer\", \"Total_Medals\": 1929}, {\"noc\": \"POL\", \"numeric_id\": 616, \"season\": \"Summer\", \"Total_Medals\": 1948}, {\"noc\": \"POL\", \"numeric_id\": 616, \"season\": \"Summer\", \"Total_Medals\": 1953}, {\"noc\": \"POL\", \"numeric_id\": 616, \"season\": \"Summer\", \"Total_Medals\": 1948}, {\"noc\": \"POL\", \"numeric_id\": 616, \"season\": \"Summer\", \"Total_Medals\": 1950}, {\"noc\": \"POL\", \"numeric_id\": 616, \"season\": \"Summer\", \"Total_Medals\": 1956}, {\"noc\": \"POL\", \"numeric_id\": 616, \"season\": \"Summer\", \"Total_Medals\": 1975}, {\"noc\": \"POL\", \"numeric_id\": 616, \"season\": \"Summer\", \"Total_Medals\": 1990}, {\"noc\": \"POL\", \"numeric_id\": 616, \"season\": \"Summer\", \"Total_Medals\": 2010}, {\"noc\": \"POL\", \"numeric_id\": 616, \"season\": \"Summer\", \"Total_Medals\": 2005}, {\"noc\": \"POL\", \"numeric_id\": 616, \"season\": \"Summer\", \"Total_Medals\": 2018}, {\"noc\": \"POL\", \"numeric_id\": 616, \"season\": \"Summer\", \"Total_Medals\": 2049}, {\"noc\": \"POL\", \"numeric_id\": 616, \"season\": \"Summer\", \"Total_Medals\": 2030}, {\"noc\": \"POL\", \"numeric_id\": 616, \"season\": \"Summer\", \"Total_Medals\": 2009}, {\"noc\": \"POL\", \"numeric_id\": 616, \"season\": \"Summer\", \"Total_Medals\": 2038}, {\"noc\": \"POL\", \"numeric_id\": 616, \"season\": \"Summer\", \"Total_Medals\": 2018}, {\"noc\": \"POL\", \"numeric_id\": 616, \"season\": \"Summer\", \"Total_Medals\": 2024}, {\"noc\": \"POL\", \"numeric_id\": 616, \"season\": \"Summer\", \"Total_Medals\": 2016}, {\"noc\": \"POL\", \"numeric_id\": 616, \"season\": \"Summer\", \"Total_Medals\": 2028}, {\"noc\": \"POL\", \"numeric_id\": 616, \"season\": \"Summer\", \"Total_Medals\": 2024}, {\"noc\": \"POL\", \"numeric_id\": 616, \"season\": \"Summer\", \"Total_Medals\": 2032}, {\"noc\": \"POL\", \"numeric_id\": 616, \"season\": \"Winter\", \"Total_Medals\": 1957}, {\"noc\": \"POL\", \"numeric_id\": 616, \"season\": \"Winter\", \"Total_Medals\": 1962}, {\"noc\": \"POL\", \"numeric_id\": 616, \"season\": \"Winter\", \"Total_Medals\": 1973}, {\"noc\": \"POL\", \"numeric_id\": 616, \"season\": \"Winter\", \"Total_Medals\": 2004}, {\"noc\": \"POL\", \"numeric_id\": 616, \"season\": \"Winter\", \"Total_Medals\": 2008}, {\"noc\": \"POL\", \"numeric_id\": 616, \"season\": \"Winter\", \"Total_Medals\": 2018}, {\"noc\": \"POL\", \"numeric_id\": 616, \"season\": \"Winter\", \"Total_Medals\": 2025}, {\"noc\": \"POR\", \"numeric_id\": 0, \"season\": \"Summer\", \"Total_Medals\": 1928}, {\"noc\": \"POR\", \"numeric_id\": 0, \"season\": \"Summer\", \"Total_Medals\": 1934}, {\"noc\": \"POR\", \"numeric_id\": 0, \"season\": \"Summer\", \"Total_Medals\": 1939}, {\"noc\": \"POR\", \"numeric_id\": 0, \"season\": \"Summer\", \"Total_Medals\": 1953}, {\"noc\": \"POR\", \"numeric_id\": 0, \"season\": \"Summer\", \"Total_Medals\": 1954}, {\"noc\": \"POR\", \"numeric_id\": 0, \"season\": \"Summer\", \"Total_Medals\": 1962}, {\"noc\": \"POR\", \"numeric_id\": 0, \"season\": \"Summer\", \"Total_Medals\": 1978}, {\"noc\": \"POR\", \"numeric_id\": 0, \"season\": \"Summer\", \"Total_Medals\": 1987}, {\"noc\": \"POR\", \"numeric_id\": 0, \"season\": \"Summer\", \"Total_Medals\": 1989}, {\"noc\": \"POR\", \"numeric_id\": 0, \"season\": \"Summer\", \"Total_Medals\": 1999}, {\"noc\": \"POR\", \"numeric_id\": 0, \"season\": \"Summer\", \"Total_Medals\": 2002}, {\"noc\": \"POR\", \"numeric_id\": 0, \"season\": \"Summer\", \"Total_Medals\": 2007}, {\"noc\": \"POR\", \"numeric_id\": 0, \"season\": \"Summer\", \"Total_Medals\": 2010}, {\"noc\": \"POR\", \"numeric_id\": 0, \"season\": \"Summer\", \"Total_Medals\": 2014}, {\"noc\": \"POR\", \"numeric_id\": 0, \"season\": \"Summer\", \"Total_Medals\": 2017}, {\"noc\": \"PRK\", \"numeric_id\": 408, \"season\": \"Summer\", \"Total_Medals\": 1987}, {\"noc\": \"PRK\", \"numeric_id\": 408, \"season\": \"Summer\", \"Total_Medals\": 1978}, {\"noc\": \"PRK\", \"numeric_id\": 408, \"season\": \"Summer\", \"Total_Medals\": 1985}, {\"noc\": \"PRK\", \"numeric_id\": 408, \"season\": \"Summer\", \"Total_Medals\": 2002}, {\"noc\": \"PRK\", \"numeric_id\": 408, \"season\": \"Summer\", \"Total_Medals\": 2001}, {\"noc\": \"PRK\", \"numeric_id\": 408, \"season\": \"Summer\", \"Total_Medals\": 2004}, {\"noc\": \"PRK\", \"numeric_id\": 408, \"season\": \"Summer\", \"Total_Medals\": 2009}, {\"noc\": \"PRK\", \"numeric_id\": 408, \"season\": \"Summer\", \"Total_Medals\": 2014}, {\"noc\": \"PRK\", \"numeric_id\": 408, \"season\": \"Summer\", \"Total_Medals\": 2018}, {\"noc\": \"PRK\", \"numeric_id\": 408, \"season\": \"Summer\", \"Total_Medals\": 2023}, {\"noc\": \"PRK\", \"numeric_id\": 408, \"season\": \"Winter\", \"Total_Medals\": 1965}, {\"noc\": \"PRK\", \"numeric_id\": 408, \"season\": \"Winter\", \"Total_Medals\": 1993}, {\"noc\": \"PUR\", \"numeric_id\": 0, \"season\": \"Summer\", \"Total_Medals\": 1949}, {\"noc\": \"PUR\", \"numeric_id\": 0, \"season\": \"Summer\", \"Total_Medals\": 1977}, {\"noc\": \"PUR\", \"numeric_id\": 0, \"season\": \"Summer\", \"Total_Medals\": 1986}, {\"noc\": \"PUR\", \"numeric_id\": 0, \"season\": \"Summer\", \"Total_Medals\": 1993}, {\"noc\": \"PUR\", \"numeric_id\": 0, \"season\": \"Summer\", \"Total_Medals\": 1997}, {\"noc\": \"PUR\", \"numeric_id\": 0, \"season\": \"Summer\", \"Total_Medals\": 2014}, {\"noc\": \"PUR\", \"numeric_id\": 0, \"season\": \"Summer\", \"Total_Medals\": 2017}, {\"noc\": \"QAT\", \"numeric_id\": 634, \"season\": \"Summer\", \"Total_Medals\": 1993}, {\"noc\": \"QAT\", \"numeric_id\": 634, \"season\": \"Summer\", \"Total_Medals\": 2001}, {\"noc\": \"QAT\", \"numeric_id\": 634, \"season\": \"Summer\", \"Total_Medals\": 2014}, {\"noc\": \"QAT\", \"numeric_id\": 634, \"season\": \"Summer\", \"Total_Medals\": 2017}, {\"noc\": \"ROU\", \"numeric_id\": 642, \"season\": \"Summer\", \"Total_Medals\": 1940}, {\"noc\": \"ROU\", \"numeric_id\": 642, \"season\": \"Summer\", \"Total_Medals\": 1937}, {\"noc\": \"ROU\", \"numeric_id\": 642, \"season\": \"Summer\", \"Total_Medals\": 1956}, {\"noc\": \"ROU\", \"numeric_id\": 642, \"season\": \"Summer\", \"Total_Medals\": 1975}, {\"noc\": \"ROU\", \"numeric_id\": 642, \"season\": \"Summer\", \"Total_Medals\": 1975}, {\"noc\": \"ROU\", \"numeric_id\": 642, \"season\": \"Summer\", \"Total_Medals\": 1980}, {\"noc\": \"ROU\", \"numeric_id\": 642, \"season\": \"Summer\", \"Total_Medals\": 1991}, {\"noc\": \"ROU\", \"numeric_id\": 642, \"season\": \"Summer\", \"Total_Medals\": 2012}, {\"noc\": \"ROU\", \"numeric_id\": 642, \"season\": \"Summer\", \"Total_Medals\": 2031}, {\"noc\": \"ROU\", \"numeric_id\": 642, \"season\": \"Summer\", \"Total_Medals\": 2048}, {\"noc\": \"ROU\", \"numeric_id\": 642, \"season\": \"Summer\", \"Total_Medals\": 2090}, {\"noc\": \"ROU\", \"numeric_id\": 642, \"season\": \"Summer\", \"Total_Medals\": 2046}, {\"noc\": \"ROU\", \"numeric_id\": 642, \"season\": \"Summer\", \"Total_Medals\": 2045}, {\"noc\": \"ROU\", \"numeric_id\": 642, \"season\": \"Summer\", \"Total_Medals\": 2034}, {\"noc\": \"ROU\", \"numeric_id\": 642, \"season\": \"Summer\", \"Total_Medals\": 2046}, {\"noc\": \"ROU\", \"numeric_id\": 642, \"season\": \"Summer\", \"Total_Medals\": 2043}, {\"noc\": \"ROU\", \"numeric_id\": 642, \"season\": \"Summer\", \"Total_Medals\": 2030}, {\"noc\": \"ROU\", \"numeric_id\": 642, \"season\": \"Summer\", \"Total_Medals\": 2028}, {\"noc\": \"ROU\", \"numeric_id\": 642, \"season\": \"Summer\", \"Total_Medals\": 2032}, {\"noc\": \"ROU\", \"numeric_id\": 642, \"season\": \"Winter\", \"Total_Medals\": 1970}, {\"noc\": \"RSA\", \"numeric_id\": 0, \"season\": \"Summer\", \"Total_Medals\": 1910}, {\"noc\": \"RSA\", \"numeric_id\": 0, \"season\": \"Summer\", \"Total_Medals\": 1919}, {\"noc\": \"RSA\", \"numeric_id\": 0, \"season\": \"Summer\", \"Total_Medals\": 1941}, {\"noc\": \"RSA\", \"numeric_id\": 0, \"season\": \"Summer\", \"Total_Medals\": 1927}, {\"noc\": \"RSA\", \"numeric_id\": 0, \"season\": \"Summer\", \"Total_Medals\": 1934}, {\"noc\": \"RSA\", \"numeric_id\": 0, \"season\": \"Summer\", \"Total_Medals\": 1937}, {\"noc\": \"RSA\", \"numeric_id\": 0, \"season\": \"Summer\", \"Total_Medals\": 1937}, {\"noc\": \"RSA\", \"numeric_id\": 0, \"season\": \"Summer\", \"Total_Medals\": 1954}, {\"noc\": \"RSA\", \"numeric_id\": 0, \"season\": \"Summer\", \"Total_Medals\": 1966}, {\"noc\": \"RSA\", \"numeric_id\": 0, \"season\": \"Summer\", \"Total_Medals\": 1963}, {\"noc\": \"RSA\", \"numeric_id\": 0, \"season\": \"Summer\", \"Total_Medals\": 1963}, {\"noc\": \"RSA\", \"numeric_id\": 0, \"season\": \"Summer\", \"Total_Medals\": 1995}, {\"noc\": \"RSA\", \"numeric_id\": 0, \"season\": \"Summer\", \"Total_Medals\": 2001}, {\"noc\": \"RSA\", \"numeric_id\": 0, \"season\": \"Summer\", \"Total_Medals\": 2005}, {\"noc\": \"RSA\", \"numeric_id\": 0, \"season\": \"Summer\", \"Total_Medals\": 2014}, {\"noc\": \"RSA\", \"numeric_id\": 0, \"season\": \"Summer\", \"Total_Medals\": 2009}, {\"noc\": \"RSA\", \"numeric_id\": 0, \"season\": \"Summer\", \"Total_Medals\": 2021}, {\"noc\": \"RSA\", \"numeric_id\": 0, \"season\": \"Summer\", \"Total_Medals\": 2039}, {\"noc\": \"RUS\", \"numeric_id\": 643, \"season\": \"Summer\", \"Total_Medals\": 1911}, {\"noc\": \"RUS\", \"numeric_id\": 643, \"season\": \"Summer\", \"Total_Medals\": 1926}, {\"noc\": \"RUS\", \"numeric_id\": 643, \"season\": \"Summer\", \"Total_Medals\": 2111}, {\"noc\": \"RUS\", \"numeric_id\": 643, \"season\": \"Summer\", \"Total_Medals\": 2187}, {\"noc\": \"RUS\", \"numeric_id\": 643, \"season\": \"Summer\", \"Total_Medals\": 2193}, {\"noc\": \"RUS\", \"numeric_id\": 643, \"season\": \"Summer\", \"Total_Medals\": 2150}, {\"noc\": \"RUS\", \"numeric_id\": 643, \"season\": \"Summer\", \"Total_Medals\": 2152}, {\"noc\": \"RUS\", \"numeric_id\": 643, \"season\": \"Summer\", \"Total_Medals\": 2131}, {\"noc\": \"RUS\", \"numeric_id\": 643, \"season\": \"Winter\", \"Total_Medals\": 2030}, {\"noc\": \"RUS\", \"numeric_id\": 643, \"season\": \"Winter\", \"Total_Medals\": 2050}, {\"noc\": \"RUS\", \"numeric_id\": 643, \"season\": \"Winter\", \"Total_Medals\": 2040}, {\"noc\": \"RUS\", \"numeric_id\": 643, \"season\": \"Winter\", \"Total_Medals\": 2047}, {\"noc\": \"RUS\", \"numeric_id\": 643, \"season\": \"Winter\", \"Total_Medals\": 2035}, {\"noc\": \"RUS\", \"numeric_id\": 643, \"season\": \"Winter\", \"Total_Medals\": 2082}, {\"noc\": \"SCG\", \"numeric_id\": 0, \"season\": \"Summer\", \"Total_Medals\": 2022}, {\"noc\": \"SCG\", \"numeric_id\": 0, \"season\": \"Summer\", \"Total_Medals\": 2025}, {\"noc\": \"SCG\", \"numeric_id\": 0, \"season\": \"Summer\", \"Total_Medals\": 2017}, {\"noc\": \"SEN\", \"numeric_id\": 686, \"season\": \"Summer\", \"Total_Medals\": 1989}, {\"noc\": \"SGP\", \"numeric_id\": 0, \"season\": \"Summer\", \"Total_Medals\": 1961}, {\"noc\": \"SGP\", \"numeric_id\": 0, \"season\": \"Summer\", \"Total_Medals\": 2011}, {\"noc\": \"SGP\", \"numeric_id\": 0, \"season\": \"Summer\", \"Total_Medals\": 2016}, {\"noc\": \"SGP\", \"numeric_id\": 0, \"season\": \"Summer\", \"Total_Medals\": 2017}, {\"noc\": \"SLO\", \"numeric_id\": 0, \"season\": \"Summer\", \"Total_Medals\": 1998}, {\"noc\": \"SLO\", \"numeric_id\": 0, \"season\": \"Summer\", \"Total_Medals\": 1998}, {\"noc\": \"SLO\", \"numeric_id\": 0, \"season\": \"Summer\", \"Total_Medals\": 2003}, {\"noc\": \"SLO\", \"numeric_id\": 0, \"season\": \"Summer\", \"Total_Medals\": 2009}, {\"noc\": \"SLO\", \"numeric_id\": 0, \"season\": \"Summer\", \"Total_Medals\": 2013}, {\"noc\": \"SLO\", \"numeric_id\": 0, \"season\": \"Summer\", \"Total_Medals\": 2017}, {\"noc\": \"SLO\", \"numeric_id\": 0, \"season\": \"Summer\", \"Total_Medals\": 2020}, {\"noc\": \"SLO\", \"numeric_id\": 0, \"season\": \"Winter\", \"Total_Medals\": 1997}, {\"noc\": \"SLO\", \"numeric_id\": 0, \"season\": \"Winter\", \"Total_Medals\": 2006}, {\"noc\": \"SLO\", \"numeric_id\": 0, \"season\": \"Winter\", \"Total_Medals\": 2013}, {\"noc\": \"SLO\", \"numeric_id\": 0, \"season\": \"Winter\", \"Total_Medals\": 2022}, {\"noc\": \"SRB\", \"numeric_id\": 688, \"season\": \"Summer\", \"Total_Medals\": 2023}, {\"noc\": \"SRB\", \"numeric_id\": 688, \"season\": \"Summer\", \"Total_Medals\": 2028}, {\"noc\": \"SRB\", \"numeric_id\": 688, \"season\": \"Summer\", \"Total_Medals\": 2070}, {\"noc\": \"SRI\", \"numeric_id\": 0, \"season\": \"Summer\", \"Total_Medals\": 1949}, {\"noc\": \"SRI\", \"numeric_id\": 0, \"season\": \"Summer\", \"Total_Medals\": 2001}, {\"noc\": \"SUD\", \"numeric_id\": 0, \"season\": \"Summer\", \"Total_Medals\": 2009}, {\"noc\": \"SUI\", \"numeric_id\": 0, \"season\": \"Summer\", \"Total_Medals\": 1899}, {\"noc\": \"SUI\", \"numeric_id\": 0, \"season\": \"Summer\", \"Total_Medals\": 1921}, {\"noc\": \"SUI\", \"numeric_id\": 0, \"season\": \"Summer\", \"Total_Medals\": 1907}, {\"noc\": \"SUI\", \"numeric_id\": 0, \"season\": \"Summer\", \"Total_Medals\": 1918}, {\"noc\": \"SUI\", \"numeric_id\": 0, \"season\": \"Summer\", \"Total_Medals\": 1914}, {\"noc\": \"SUI\", \"numeric_id\": 0, \"season\": \"Summer\", \"Total_Medals\": 1949}, {\"noc\": \"SUI\", \"numeric_id\": 0, \"season\": \"Summer\", \"Total_Medals\": 1984}, {\"noc\": \"SUI\", \"numeric_id\": 0, \"season\": \"Summer\", \"Total_Medals\": 1958}, {\"noc\": \"SUI\", \"numeric_id\": 0, \"season\": \"Summer\", \"Total_Medals\": 1933}, {\"noc\": \"SUI\", \"numeric_id\": 0, \"season\": \"Summer\", \"Total_Medals\": 1988}, {\"noc\": \"SUI\", \"numeric_id\": 0, \"season\": \"Summer\", \"Total_Medals\": 1984}, {\"noc\": \"SUI\", \"numeric_id\": 0, \"season\": \"Summer\", \"Total_Medals\": 1985}, {\"noc\": \"SUI\", \"numeric_id\": 0, \"season\": \"Summer\", \"Total_Medals\": 1959}, {\"noc\": \"SUI\", \"numeric_id\": 0, \"season\": \"Summer\", \"Total_Medals\": 1972}, {\"noc\": \"SUI\", \"numeric_id\": 0, \"season\": \"Summer\", \"Total_Medals\": 1970}, {\"noc\": \"SUI\", \"numeric_id\": 0, \"season\": \"Summer\", \"Total_Medals\": 1981}, {\"noc\": \"SUI\", \"numeric_id\": 0, \"season\": \"Summer\", \"Total_Medals\": 1980}, {\"noc\": \"SUI\", \"numeric_id\": 0, \"season\": \"Summer\", \"Total_Medals\": 1986}, {\"noc\": \"SUI\", \"numeric_id\": 0, \"season\": \"Summer\", \"Total_Medals\": 1982}, {\"noc\": \"SUI\", \"numeric_id\": 0, \"season\": \"Summer\", \"Total_Medals\": 1997}, {\"noc\": \"SUI\", \"numeric_id\": 0, \"season\": \"Summer\", \"Total_Medals\": 1996}, {\"noc\": \"SUI\", \"numeric_id\": 0, \"season\": \"Summer\", \"Total_Medals\": 1993}, {\"noc\": \"SUI\", \"numeric_id\": 0, \"season\": \"Summer\", \"Total_Medals\": 2007}, {\"noc\": \"SUI\", \"numeric_id\": 0, \"season\": \"Summer\", \"Total_Medals\": 2014}, {\"noc\": \"SUI\", \"numeric_id\": 0, \"season\": \"Summer\", \"Total_Medals\": 2011}, {\"noc\": \"SUI\", \"numeric_id\": 0, \"season\": \"Summer\", \"Total_Medals\": 2019}, {\"noc\": \"SUI\", \"numeric_id\": 0, \"season\": \"Summer\", \"Total_Medals\": 2016}, {\"noc\": \"SUI\", \"numeric_id\": 0, \"season\": \"Summer\", \"Total_Medals\": 2027}, {\"noc\": \"SUI\", \"numeric_id\": 0, \"season\": \"Winter\", \"Total_Medals\": 1933}, {\"noc\": \"SUI\", \"numeric_id\": 0, \"season\": \"Winter\", \"Total_Medals\": 1940}, {\"noc\": \"SUI\", \"numeric_id\": 0, \"season\": \"Winter\", \"Total_Medals\": 1934}, {\"noc\": \"SUI\", \"numeric_id\": 0, \"season\": \"Winter\", \"Total_Medals\": 1946}, {\"noc\": \"SUI\", \"numeric_id\": 0, \"season\": \"Winter\", \"Total_Medals\": 1976}, {\"noc\": \"SUI\", \"numeric_id\": 0, \"season\": \"Winter\", \"Total_Medals\": 1958}, {\"noc\": \"SUI\", \"numeric_id\": 0, \"season\": \"Winter\", \"Total_Medals\": 1966}, {\"noc\": \"SUI\", \"numeric_id\": 0, \"season\": \"Winter\", \"Total_Medals\": 1962}, {\"noc\": \"SUI\", \"numeric_id\": 0, \"season\": \"Winter\", \"Total_Medals\": 1977}, {\"noc\": \"SUI\", \"numeric_id\": 0, \"season\": \"Winter\", \"Total_Medals\": 1989}, {\"noc\": \"SUI\", \"numeric_id\": 0, \"season\": \"Winter\", \"Total_Medals\": 1985}, {\"noc\": \"SUI\", \"numeric_id\": 0, \"season\": \"Winter\", \"Total_Medals\": 1989}, {\"noc\": \"SUI\", \"numeric_id\": 0, \"season\": \"Winter\", \"Total_Medals\": 1992}, {\"noc\": \"SUI\", \"numeric_id\": 0, \"season\": \"Winter\", \"Total_Medals\": 2008}, {\"noc\": \"SUI\", \"numeric_id\": 0, \"season\": \"Winter\", \"Total_Medals\": 1999}, {\"noc\": \"SUI\", \"numeric_id\": 0, \"season\": \"Winter\", \"Total_Medals\": 2010}, {\"noc\": \"SUI\", \"numeric_id\": 0, \"season\": \"Winter\", \"Total_Medals\": 2012}, {\"noc\": \"SUI\", \"numeric_id\": 0, \"season\": \"Winter\", \"Total_Medals\": 2026}, {\"noc\": \"SUI\", \"numeric_id\": 0, \"season\": \"Winter\", \"Total_Medals\": 2027}, {\"noc\": \"SUI\", \"numeric_id\": 0, \"season\": \"Winter\", \"Total_Medals\": 2022}, {\"noc\": \"SUI\", \"numeric_id\": 0, \"season\": \"Winter\", \"Total_Medals\": 2044}, {\"noc\": \"SUR\", \"numeric_id\": 740, \"season\": \"Summer\", \"Total_Medals\": 1989}, {\"noc\": \"SUR\", \"numeric_id\": 740, \"season\": \"Summer\", \"Total_Medals\": 1993}, {\"noc\": \"SVK\", \"numeric_id\": 703, \"season\": \"Summer\", \"Total_Medals\": 1999}, {\"noc\": \"SVK\", \"numeric_id\": 703, \"season\": \"Summer\", \"Total_Medals\": 2006}, {\"noc\": \"SVK\", \"numeric_id\": 703, \"season\": \"Summer\", \"Total_Medals\": 2014}, {\"noc\": \"SVK\", \"numeric_id\": 703, \"season\": \"Summer\", \"Total_Medals\": 2018}, {\"noc\": \"SVK\", \"numeric_id\": 703, \"season\": \"Summer\", \"Total_Medals\": 2017}, {\"noc\": \"SVK\", \"numeric_id\": 703, \"season\": \"Summer\", \"Total_Medals\": 2024}, {\"noc\": \"SVK\", \"numeric_id\": 703, \"season\": \"Winter\", \"Total_Medals\": 2007}, {\"noc\": \"SVK\", \"numeric_id\": 703, \"season\": \"Winter\", \"Total_Medals\": 2013}, {\"noc\": \"SVK\", \"numeric_id\": 703, \"season\": \"Winter\", \"Total_Medals\": 2015}, {\"noc\": \"SWE\", \"numeric_id\": 752, \"season\": \"Summer\", \"Total_Medals\": 1904}, {\"noc\": \"SWE\", \"numeric_id\": 752, \"season\": \"Summer\", \"Total_Medals\": 1927}, {\"noc\": \"SWE\", \"numeric_id\": 752, \"season\": \"Summer\", \"Total_Medals\": 1992}, {\"noc\": \"SWE\", \"numeric_id\": 752, \"season\": \"Summer\", \"Total_Medals\": 2102}, {\"noc\": \"SWE\", \"numeric_id\": 752, \"season\": \"Summer\", \"Total_Medals\": 2074}, {\"noc\": \"SWE\", \"numeric_id\": 752, \"season\": \"Summer\", \"Total_Medals\": 1996}, {\"noc\": \"SWE\", \"numeric_id\": 752, \"season\": \"Summer\", \"Total_Medals\": 1965}, {\"noc\": \"SWE\", \"numeric_id\": 752, \"season\": \"Summer\", \"Total_Medals\": 1964}, {\"noc\": \"SWE\", \"numeric_id\": 752, \"season\": \"Summer\", \"Total_Medals\": 1971}, {\"noc\": \"SWE\", \"numeric_id\": 752, \"season\": \"Summer\", \"Total_Medals\": 2023}, {\"noc\": \"SWE\", \"numeric_id\": 752, \"season\": \"Summer\", \"Total_Medals\": 2022}, {\"noc\": \"SWE\", \"numeric_id\": 752, \"season\": \"Summer\", \"Total_Medals\": 1990}, {\"noc\": \"SWE\", \"numeric_id\": 752, \"season\": \"Summer\", \"Total_Medals\": 1967}, {\"noc\": \"SWE\", \"numeric_id\": 752, \"season\": \"Summer\", \"Total_Medals\": 1979}, {\"noc\": \"SWE\", \"numeric_id\": 752, \"season\": \"Summer\", \"Total_Medals\": 1977}, {\"noc\": \"SWE\", \"numeric_id\": 752, \"season\": \"Summer\", \"Total_Medals\": 1994}, {\"noc\": \"SWE\", \"numeric_id\": 752, \"season\": \"Summer\", \"Total_Medals\": 1986}, {\"noc\": \"SWE\", \"numeric_id\": 752, \"season\": \"Summer\", \"Total_Medals\": 2000}, {\"noc\": \"SWE\", \"numeric_id\": 752, \"season\": \"Summer\", \"Total_Medals\": 2018}, {\"noc\": \"SWE\", \"numeric_id\": 752, \"season\": \"Summer\", \"Total_Medals\": 2004}, {\"noc\": \"SWE\", \"numeric_id\": 752, \"season\": \"Summer\", \"Total_Medals\": 2027}, {\"noc\": \"SWE\", \"numeric_id\": 752, \"season\": \"Summer\", \"Total_Medals\": 2027}, {\"noc\": \"SWE\", \"numeric_id\": 752, \"season\": \"Summer\", \"Total_Medals\": 2032}, {\"noc\": \"SWE\", \"numeric_id\": 752, \"season\": \"Summer\", \"Total_Medals\": 2016}, {\"noc\": \"SWE\", \"numeric_id\": 752, \"season\": \"Summer\", \"Total_Medals\": 2015}, {\"noc\": \"SWE\", \"numeric_id\": 752, \"season\": \"Summer\", \"Total_Medals\": 2034}, {\"noc\": \"SWE\", \"numeric_id\": 752, \"season\": \"Summer\", \"Total_Medals\": 2044}, {\"noc\": \"SWE\", \"numeric_id\": 752, \"season\": \"Winter\", \"Total_Medals\": 1933}, {\"noc\": \"SWE\", \"numeric_id\": 752, \"season\": \"Winter\", \"Total_Medals\": 1944}, {\"noc\": \"SWE\", \"numeric_id\": 752, \"season\": \"Winter\", \"Total_Medals\": 1935}, {\"noc\": \"SWE\", \"numeric_id\": 752, \"season\": \"Winter\", \"Total_Medals\": 1946}, {\"noc\": \"SWE\", \"numeric_id\": 752, \"season\": \"Winter\", \"Total_Medals\": 1961}, {\"noc\": \"SWE\", \"numeric_id\": 752, \"season\": \"Winter\", \"Total_Medals\": 1975}, {\"noc\": \"SWE\", \"numeric_id\": 752, \"season\": \"Winter\", \"Total_Medals\": 1971}, {\"noc\": \"SWE\", \"numeric_id\": 752, \"season\": \"Winter\", \"Total_Medals\": 1969}, {\"noc\": \"SWE\", \"numeric_id\": 752, \"season\": \"Winter\", \"Total_Medals\": 1992}, {\"noc\": \"SWE\", \"numeric_id\": 752, \"season\": \"Winter\", \"Total_Medals\": 1984}, {\"noc\": \"SWE\", \"numeric_id\": 752, \"season\": \"Winter\", \"Total_Medals\": 1976}, {\"noc\": \"SWE\", \"numeric_id\": 752, \"season\": \"Winter\", \"Total_Medals\": 1978}, {\"noc\": \"SWE\", \"numeric_id\": 752, \"season\": \"Winter\", \"Total_Medals\": 2003}, {\"noc\": \"SWE\", \"numeric_id\": 752, \"season\": \"Winter\", \"Total_Medals\": 2014}, {\"noc\": \"SWE\", \"numeric_id\": 752, \"season\": \"Winter\", \"Total_Medals\": 2018}, {\"noc\": \"SWE\", \"numeric_id\": 752, \"season\": \"Winter\", \"Total_Medals\": 1999}, {\"noc\": \"SWE\", \"numeric_id\": 752, \"season\": \"Winter\", \"Total_Medals\": 2018}, {\"noc\": \"SWE\", \"numeric_id\": 752, \"season\": \"Winter\", \"Total_Medals\": 2005}, {\"noc\": \"SWE\", \"numeric_id\": 752, \"season\": \"Winter\", \"Total_Medals\": 2028}, {\"noc\": \"SWE\", \"numeric_id\": 752, \"season\": \"Winter\", \"Total_Medals\": 2070}, {\"noc\": \"SWE\", \"numeric_id\": 752, \"season\": \"Winter\", \"Total_Medals\": 2028}, {\"noc\": \"SWE\", \"numeric_id\": 752, \"season\": \"Winter\", \"Total_Medals\": 2065}, {\"noc\": \"SYR\", \"numeric_id\": 760, \"season\": \"Summer\", \"Total_Medals\": 1985}, {\"noc\": \"SYR\", \"numeric_id\": 760, \"season\": \"Summer\", \"Total_Medals\": 1997}, {\"noc\": \"SYR\", \"numeric_id\": 760, \"season\": \"Summer\", \"Total_Medals\": 2005}, {\"noc\": \"TAN\", \"numeric_id\": 0, \"season\": \"Summer\", \"Total_Medals\": 1982}, {\"noc\": \"TCH\", \"numeric_id\": 0, \"season\": \"Summer\", \"Total_Medals\": 1930}, {\"noc\": \"TCH\", \"numeric_id\": 0, \"season\": \"Summer\", \"Total_Medals\": 1934}, {\"noc\": \"TCH\", \"numeric_id\": 0, \"season\": \"Summer\", \"Total_Medals\": 1944}, {\"noc\": \"TCH\", \"numeric_id\": 0, \"season\": \"Summer\", \"Total_Medals\": 1938}, {\"noc\": \"TCH\", \"numeric_id\": 0, \"season\": \"Summer\", \"Total_Medals\": 1954}, {\"noc\": \"TCH\", \"numeric_id\": 0, \"season\": \"Summer\", \"Total_Medals\": 1968}, {\"noc\": \"TCH\", \"numeric_id\": 0, \"season\": \"Summer\", \"Total_Medals\": 1977}, {\"noc\": \"TCH\", \"numeric_id\": 0, \"season\": \"Summer\", \"Total_Medals\": 1963}, {\"noc\": \"TCH\", \"numeric_id\": 0, \"season\": \"Summer\", \"Total_Medals\": 1982}, {\"noc\": \"TCH\", \"numeric_id\": 0, \"season\": \"Summer\", \"Total_Medals\": 2018}, {\"noc\": \"TCH\", \"numeric_id\": 0, \"season\": \"Summer\", \"Total_Medals\": 1997}, {\"noc\": \"TCH\", \"numeric_id\": 0, \"season\": \"Summer\", \"Total_Medals\": 2001}, {\"noc\": \"TCH\", \"numeric_id\": 0, \"season\": \"Summer\", \"Total_Medals\": 1991}, {\"noc\": \"TCH\", \"numeric_id\": 0, \"season\": \"Summer\", \"Total_Medals\": 2031}, {\"noc\": \"TCH\", \"numeric_id\": 0, \"season\": \"Summer\", \"Total_Medals\": 1998}, {\"noc\": \"TCH\", \"numeric_id\": 0, \"season\": \"Summer\", \"Total_Medals\": 2000}, {\"noc\": \"TCH\", \"numeric_id\": 0, \"season\": \"Winter\", \"Total_Medals\": 1929}, {\"noc\": \"TCH\", \"numeric_id\": 0, \"season\": \"Winter\", \"Total_Medals\": 1965}, {\"noc\": \"TCH\", \"numeric_id\": 0, \"season\": \"Winter\", \"Total_Medals\": 1961}, {\"noc\": \"TCH\", \"numeric_id\": 0, \"season\": \"Winter\", \"Total_Medals\": 1981}, {\"noc\": \"TCH\", \"numeric_id\": 0, \"season\": \"Winter\", \"Total_Medals\": 1989}, {\"noc\": \"TCH\", \"numeric_id\": 0, \"season\": \"Winter\", \"Total_Medals\": 1992}, {\"noc\": \"TCH\", \"numeric_id\": 0, \"season\": \"Winter\", \"Total_Medals\": 1995}, {\"noc\": \"TCH\", \"numeric_id\": 0, \"season\": \"Winter\", \"Total_Medals\": 1981}, {\"noc\": \"TCH\", \"numeric_id\": 0, \"season\": \"Winter\", \"Total_Medals\": 2012}, {\"noc\": \"TCH\", \"numeric_id\": 0, \"season\": \"Winter\", \"Total_Medals\": 1994}, {\"noc\": \"TCH\", \"numeric_id\": 0, \"season\": \"Winter\", \"Total_Medals\": 2019}, {\"noc\": \"TGA\", \"numeric_id\": 0, \"season\": \"Summer\", \"Total_Medals\": 1997}, {\"noc\": \"THA\", \"numeric_id\": 764, \"season\": \"Summer\", \"Total_Medals\": 1977}, {\"noc\": \"THA\", \"numeric_id\": 764, \"season\": \"Summer\", \"Total_Medals\": 1985}, {\"noc\": \"THA\", \"numeric_id\": 764, \"season\": \"Summer\", \"Total_Medals\": 1989}, {\"noc\": \"THA\", \"numeric_id\": 764, \"season\": \"Summer\", \"Total_Medals\": 1993}, {\"noc\": \"THA\", \"numeric_id\": 764, \"season\": \"Summer\", \"Total_Medals\": 1998}, {\"noc\": \"THA\", \"numeric_id\": 764, \"season\": \"Summer\", \"Total_Medals\": 2003}, {\"noc\": \"THA\", \"numeric_id\": 764, \"season\": \"Summer\", \"Total_Medals\": 2012}, {\"noc\": \"THA\", \"numeric_id\": 764, \"season\": \"Summer\", \"Total_Medals\": 2012}, {\"noc\": \"THA\", \"numeric_id\": 764, \"season\": \"Summer\", \"Total_Medals\": 2015}, {\"noc\": \"THA\", \"numeric_id\": 764, \"season\": \"Summer\", \"Total_Medals\": 2022}, {\"noc\": \"TJK\", \"numeric_id\": 762, \"season\": \"Summer\", \"Total_Medals\": 2010}, {\"noc\": \"TJK\", \"numeric_id\": 762, \"season\": \"Summer\", \"Total_Medals\": 2013}, {\"noc\": \"TJK\", \"numeric_id\": 762, \"season\": \"Summer\", \"Total_Medals\": 2017}, {\"noc\": \"TOG\", \"numeric_id\": 0, \"season\": \"Summer\", \"Total_Medals\": 2009}, {\"noc\": \"TPE\", \"numeric_id\": 0, \"season\": \"Summer\", \"Total_Medals\": 1961}, {\"noc\": \"TPE\", \"numeric_id\": 0, \"season\": \"Summer\", \"Total_Medals\": 1969}, {\"noc\": \"TPE\", \"numeric_id\": 0, \"season\": \"Summer\", \"Total_Medals\": 1985}, {\"noc\": \"TPE\", \"numeric_id\": 0, \"season\": \"Summer\", \"Total_Medals\": 2012}, {\"noc\": \"TPE\", \"numeric_id\": 0, \"season\": \"Summer\", \"Total_Medals\": 1997}, {\"noc\": \"TPE\", \"numeric_id\": 0, \"season\": \"Summer\", \"Total_Medals\": 2005}, {\"noc\": \"TPE\", \"numeric_id\": 0, \"season\": \"Summer\", \"Total_Medals\": 2013}, {\"noc\": \"TPE\", \"numeric_id\": 0, \"season\": \"Summer\", \"Total_Medals\": 2012}, {\"noc\": \"TPE\", \"numeric_id\": 0, \"season\": \"Summer\", \"Total_Medals\": 2014}, {\"noc\": \"TPE\", \"numeric_id\": 0, \"season\": \"Summer\", \"Total_Medals\": 2021}, {\"noc\": \"TTO\", \"numeric_id\": 780, \"season\": \"Summer\", \"Total_Medals\": 1949}, {\"noc\": \"TTO\", \"numeric_id\": 780, \"season\": \"Summer\", \"Total_Medals\": 1954}, {\"noc\": \"TTO\", \"numeric_id\": 780, \"season\": \"Summer\", \"Total_Medals\": 1970}, {\"noc\": \"TTO\", \"numeric_id\": 780, \"season\": \"Summer\", \"Total_Medals\": 1977}, {\"noc\": \"TTO\", \"numeric_id\": 780, \"season\": \"Summer\", \"Total_Medals\": 1998}, {\"noc\": \"TTO\", \"numeric_id\": 780, \"season\": \"Summer\", \"Total_Medals\": 2002}, {\"noc\": \"TTO\", \"numeric_id\": 780, \"season\": \"Summer\", \"Total_Medals\": 2005}, {\"noc\": \"TTO\", \"numeric_id\": 780, \"season\": \"Summer\", \"Total_Medals\": 2014}, {\"noc\": \"TTO\", \"numeric_id\": 780, \"season\": \"Summer\", \"Total_Medals\": 2022}, {\"noc\": \"TTO\", \"numeric_id\": 780, \"season\": \"Summer\", \"Total_Medals\": 2017}, {\"noc\": \"TUN\", \"numeric_id\": 788, \"season\": \"Summer\", \"Total_Medals\": 1966}, {\"noc\": \"TUN\", \"numeric_id\": 788, \"season\": \"Summer\", \"Total_Medals\": 1970}, {\"noc\": \"TUN\", \"numeric_id\": 788, \"season\": \"Summer\", \"Total_Medals\": 1973}, {\"noc\": \"TUN\", \"numeric_id\": 788, \"season\": \"Summer\", \"Total_Medals\": 1997}, {\"noc\": \"TUN\", \"numeric_id\": 788, \"season\": \"Summer\", \"Total_Medals\": 2009}, {\"noc\": \"TUN\", \"numeric_id\": 788, \"season\": \"Summer\", \"Total_Medals\": 2015}, {\"noc\": \"TUN\", \"numeric_id\": 788, \"season\": \"Summer\", \"Total_Medals\": 2019}, {\"noc\": \"TUR\", \"numeric_id\": 792, \"season\": \"Summer\", \"Total_Medals\": 1938}, {\"noc\": \"TUR\", \"numeric_id\": 792, \"season\": \"Summer\", \"Total_Medals\": 1960}, {\"noc\": \"TUR\", \"numeric_id\": 792, \"season\": \"Summer\", \"Total_Medals\": 1955}, {\"noc\": \"TUR\", \"numeric_id\": 792, \"season\": \"Summer\", \"Total_Medals\": 1963}, {\"noc\": \"TUR\", \"numeric_id\": 792, \"season\": \"Summer\", \"Total_Medals\": 1969}, {\"noc\": \"TUR\", \"numeric_id\": 792, \"season\": \"Summer\", \"Total_Medals\": 1970}, {\"noc\": \"TUR\", \"numeric_id\": 792, \"season\": \"Summer\", \"Total_Medals\": 1970}, {\"noc\": \"TUR\", \"numeric_id\": 792, \"season\": \"Summer\", \"Total_Medals\": 1973}, {\"noc\": \"TUR\", \"numeric_id\": 792, \"season\": \"Summer\", \"Total_Medals\": 1987}, {\"noc\": \"TUR\", \"numeric_id\": 792, \"season\": \"Summer\", \"Total_Medals\": 1990}, {\"noc\": \"TUR\", \"numeric_id\": 792, \"season\": \"Summer\", \"Total_Medals\": 1998}, {\"noc\": \"TUR\", \"numeric_id\": 792, \"season\": \"Summer\", \"Total_Medals\": 2002}, {\"noc\": \"TUR\", \"numeric_id\": 792, \"season\": \"Summer\", \"Total_Medals\": 2005}, {\"noc\": \"TUR\", \"numeric_id\": 792, \"season\": \"Summer\", \"Total_Medals\": 2015}, {\"noc\": \"TUR\", \"numeric_id\": 792, \"season\": \"Summer\", \"Total_Medals\": 2015}, {\"noc\": \"TUR\", \"numeric_id\": 792, \"season\": \"Summer\", \"Total_Medals\": 2017}, {\"noc\": \"TUR\", \"numeric_id\": 792, \"season\": \"Summer\", \"Total_Medals\": 2024}, {\"noc\": \"UAE\", \"numeric_id\": 0, \"season\": \"Summer\", \"Total_Medals\": 2005}, {\"noc\": \"UAE\", \"numeric_id\": 0, \"season\": \"Summer\", \"Total_Medals\": 2017}, {\"noc\": \"UAR\", \"numeric_id\": 0, \"season\": \"Summer\", \"Total_Medals\": 1962}, {\"noc\": \"UGA\", \"numeric_id\": 800, \"season\": \"Summer\", \"Total_Medals\": 1970}, {\"noc\": \"UGA\", \"numeric_id\": 800, \"season\": \"Summer\", \"Total_Medals\": 1974}, {\"noc\": \"UGA\", \"numeric_id\": 800, \"season\": \"Summer\", \"Total_Medals\": 1981}, {\"noc\": \"UGA\", \"numeric_id\": 800, \"season\": \"Summer\", \"Total_Medals\": 1997}, {\"noc\": \"UGA\", \"numeric_id\": 800, \"season\": \"Summer\", \"Total_Medals\": 2013}, {\"noc\": \"UKR\", \"numeric_id\": 804, \"season\": \"Summer\", \"Total_Medals\": 2030}, {\"noc\": \"UKR\", \"numeric_id\": 804, \"season\": \"Summer\", \"Total_Medals\": 2035}, {\"noc\": \"UKR\", \"numeric_id\": 804, \"season\": \"Summer\", \"Total_Medals\": 2051}, {\"noc\": \"UKR\", \"numeric_id\": 804, \"season\": \"Summer\", \"Total_Medals\": 2039}, {\"noc\": \"UKR\", \"numeric_id\": 804, \"season\": \"Summer\", \"Total_Medals\": 2038}, {\"noc\": \"UKR\", \"numeric_id\": 804, \"season\": \"Summer\", \"Total_Medals\": 2031}, {\"noc\": \"UKR\", \"numeric_id\": 804, \"season\": \"Winter\", \"Total_Medals\": 1996}, {\"noc\": \"UKR\", \"numeric_id\": 804, \"season\": \"Winter\", \"Total_Medals\": 1999}, {\"noc\": \"UKR\", \"numeric_id\": 804, \"season\": \"Winter\", \"Total_Medals\": 2009}, {\"noc\": \"UKR\", \"numeric_id\": 804, \"season\": \"Winter\", \"Total_Medals\": 2019}, {\"noc\": \"URS\", \"numeric_id\": 0, \"season\": \"Summer\", \"Total_Medals\": 2069}, {\"noc\": \"URS\", \"numeric_id\": 0, \"season\": \"Summer\", \"Total_Medals\": 2125}, {\"noc\": \"URS\", \"numeric_id\": 0, \"season\": \"Summer\", \"Total_Medals\": 2129}, {\"noc\": \"URS\", \"numeric_id\": 0, \"season\": \"Summer\", \"Total_Medals\": 2138}, {\"noc\": \"URS\", \"numeric_id\": 0, \"season\": \"Summer\", \"Total_Medals\": 2160}, {\"noc\": \"URS\", \"numeric_id\": 0, \"season\": \"Summer\", \"Total_Medals\": 2186}, {\"noc\": \"URS\", \"numeric_id\": 0, \"season\": \"Summer\", \"Total_Medals\": 2262}, {\"noc\": \"URS\", \"numeric_id\": 0, \"season\": \"Summer\", \"Total_Medals\": 2422}, {\"noc\": \"URS\", \"numeric_id\": 0, \"season\": \"Summer\", \"Total_Medals\": 2288}, {\"noc\": \"URS\", \"numeric_id\": 0, \"season\": \"Winter\", \"Total_Medals\": 1993}, {\"noc\": \"URS\", \"numeric_id\": 0, \"season\": \"Winter\", \"Total_Medals\": 2002}, {\"noc\": \"URS\", \"numeric_id\": 0, \"season\": \"Winter\", \"Total_Medals\": 2011}, {\"noc\": \"URS\", \"numeric_id\": 0, \"season\": \"Winter\", \"Total_Medals\": 2005}, {\"noc\": \"URS\", \"numeric_id\": 0, \"season\": \"Winter\", \"Total_Medals\": 2017}, {\"noc\": \"URS\", \"numeric_id\": 0, \"season\": \"Winter\", \"Total_Medals\": 2032}, {\"noc\": \"URS\", \"numeric_id\": 0, \"season\": \"Winter\", \"Total_Medals\": 2034}, {\"noc\": \"URS\", \"numeric_id\": 0, \"season\": \"Winter\", \"Total_Medals\": 2040}, {\"noc\": \"URS\", \"numeric_id\": 0, \"season\": \"Winter\", \"Total_Medals\": 2054}, {\"noc\": \"URU\", \"numeric_id\": 0, \"season\": \"Summer\", \"Total_Medals\": 1938}, {\"noc\": \"URU\", \"numeric_id\": 0, \"season\": \"Summer\", \"Total_Medals\": 1945}, {\"noc\": \"URU\", \"numeric_id\": 0, \"season\": \"Summer\", \"Total_Medals\": 1933}, {\"noc\": \"URU\", \"numeric_id\": 0, \"season\": \"Summer\", \"Total_Medals\": 1951}, {\"noc\": \"URU\", \"numeric_id\": 0, \"season\": \"Summer\", \"Total_Medals\": 1966}, {\"noc\": \"URU\", \"numeric_id\": 0, \"season\": \"Summer\", \"Total_Medals\": 1968}, {\"noc\": \"URU\", \"numeric_id\": 0, \"season\": \"Summer\", \"Total_Medals\": 1965}, {\"noc\": \"URU\", \"numeric_id\": 0, \"season\": \"Summer\", \"Total_Medals\": 2001}, {\"noc\": \"USA\", \"numeric_id\": 840, \"season\": \"Summer\", \"Total_Medals\": 1916}, {\"noc\": \"USA\", \"numeric_id\": 840, \"season\": \"Summer\", \"Total_Medals\": 1963}, {\"noc\": \"USA\", \"numeric_id\": 840, \"season\": \"Summer\", \"Total_Medals\": 2298}, {\"noc\": \"USA\", \"numeric_id\": 840, \"season\": \"Summer\", \"Total_Medals\": 1930}, {\"noc\": \"USA\", \"numeric_id\": 840, \"season\": \"Summer\", \"Total_Medals\": 1973}, {\"noc\": \"USA\", \"numeric_id\": 840, \"season\": \"Summer\", \"Total_Medals\": 2019}, {\"noc\": \"USA\", \"numeric_id\": 840, \"season\": \"Summer\", \"Total_Medals\": 2114}, {\"noc\": \"USA\", \"numeric_id\": 840, \"season\": \"Summer\", \"Total_Medals\": 2106}, {\"noc\": \"USA\", \"numeric_id\": 840, \"season\": \"Summer\", \"Total_Medals\": 2016}, {\"noc\": \"USA\", \"numeric_id\": 840, \"season\": \"Summer\", \"Total_Medals\": 2121}, {\"noc\": \"USA\", \"numeric_id\": 840, \"season\": \"Summer\", \"Total_Medals\": 2032}, {\"noc\": \"USA\", \"numeric_id\": 840, \"season\": \"Summer\", \"Total_Medals\": 2100}, {\"noc\": \"USA\", \"numeric_id\": 840, \"season\": \"Summer\", \"Total_Medals\": 2086}, {\"noc\": \"USA\", \"numeric_id\": 840, \"season\": \"Summer\", \"Total_Medals\": 2079}, {\"noc\": \"USA\", \"numeric_id\": 840, \"season\": \"Summer\", \"Total_Medals\": 2085}, {\"noc\": \"USA\", \"numeric_id\": 840, \"season\": \"Summer\", \"Total_Medals\": 2133}, {\"noc\": \"USA\", \"numeric_id\": 840, \"season\": \"Summer\", \"Total_Medals\": 2134}, {\"noc\": \"USA\", \"numeric_id\": 840, \"season\": \"Summer\", \"Total_Medals\": 2143}, {\"noc\": \"USA\", \"numeric_id\": 840, \"season\": \"Summer\", \"Total_Medals\": 2140}, {\"noc\": \"USA\", \"numeric_id\": 840, \"season\": \"Summer\", \"Total_Medals\": 2336}, {\"noc\": \"USA\", \"numeric_id\": 840, \"season\": \"Summer\", \"Total_Medals\": 2195}, {\"noc\": \"USA\", \"numeric_id\": 840, \"season\": \"Summer\", \"Total_Medals\": 2216}, {\"noc\": \"USA\", \"numeric_id\": 840, \"season\": \"Summer\", \"Total_Medals\": 2255}, {\"noc\": \"USA\", \"numeric_id\": 840, \"season\": \"Summer\", \"Total_Medals\": 2242}, {\"noc\": \"USA\", \"numeric_id\": 840, \"season\": \"Summer\", \"Total_Medals\": 2267}, {\"noc\": \"USA\", \"numeric_id\": 840, \"season\": \"Summer\", \"Total_Medals\": 2325}, {\"noc\": \"USA\", \"numeric_id\": 840, \"season\": \"Summer\", \"Total_Medals\": 2260}, {\"noc\": \"USA\", \"numeric_id\": 840, \"season\": \"Summer\", \"Total_Medals\": 2280}, {\"noc\": \"USA\", \"numeric_id\": 840, \"season\": \"Winter\", \"Total_Medals\": 1936}, {\"noc\": \"USA\", \"numeric_id\": 840, \"season\": \"Winter\", \"Total_Medals\": 1942}, {\"noc\": \"USA\", \"numeric_id\": 840, \"season\": \"Winter\", \"Total_Medals\": 1966}, {\"noc\": \"USA\", \"numeric_id\": 840, \"season\": \"Winter\", \"Total_Medals\": 1952}, {\"noc\": \"USA\", \"numeric_id\": 840, \"season\": \"Winter\", \"Total_Medals\": 1964}, {\"noc\": \"USA\", \"numeric_id\": 840, \"season\": \"Winter\", \"Total_Medals\": 1982}, {\"noc\": \"USA\", \"numeric_id\": 840, \"season\": \"Winter\", \"Total_Medals\": 1982}, {\"noc\": \"USA\", \"numeric_id\": 840, \"season\": \"Winter\", \"Total_Medals\": 1987}, {\"noc\": \"USA\", \"numeric_id\": 840, \"season\": \"Winter\", \"Total_Medals\": 1972}, {\"noc\": \"USA\", \"numeric_id\": 840, \"season\": \"Winter\", \"Total_Medals\": 1975}, {\"noc\": \"USA\", \"numeric_id\": 840, \"season\": \"Winter\", \"Total_Medals\": 1996}, {\"noc\": \"USA\", \"numeric_id\": 840, \"season\": \"Winter\", \"Total_Medals\": 1987}, {\"noc\": \"USA\", \"numeric_id\": 840, \"season\": \"Winter\", \"Total_Medals\": 2010}, {\"noc\": \"USA\", \"numeric_id\": 840, \"season\": \"Winter\", \"Total_Medals\": 1993}, {\"noc\": \"USA\", \"numeric_id\": 840, \"season\": \"Winter\", \"Total_Medals\": 1995}, {\"noc\": \"USA\", \"numeric_id\": 840, \"season\": \"Winter\", \"Total_Medals\": 2006}, {\"noc\": \"USA\", \"numeric_id\": 840, \"season\": \"Winter\", \"Total_Medals\": 2013}, {\"noc\": \"USA\", \"numeric_id\": 840, \"season\": \"Winter\", \"Total_Medals\": 2032}, {\"noc\": \"USA\", \"numeric_id\": 840, \"season\": \"Winter\", \"Total_Medals\": 2086}, {\"noc\": \"USA\", \"numeric_id\": 840, \"season\": \"Winter\", \"Total_Medals\": 2058}, {\"noc\": \"USA\", \"numeric_id\": 840, \"season\": \"Winter\", \"Total_Medals\": 2107}, {\"noc\": \"USA\", \"numeric_id\": 840, \"season\": \"Winter\", \"Total_Medals\": 2078}, {\"noc\": \"UZB\", \"numeric_id\": 860, \"season\": \"Summer\", \"Total_Medals\": 1998}, {\"noc\": \"UZB\", \"numeric_id\": 860, \"season\": \"Summer\", \"Total_Medals\": 2004}, {\"noc\": \"UZB\", \"numeric_id\": 860, \"season\": \"Summer\", \"Total_Medals\": 2009}, {\"noc\": \"UZB\", \"numeric_id\": 860, \"season\": \"Summer\", \"Total_Medals\": 2014}, {\"noc\": \"UZB\", \"numeric_id\": 860, \"season\": \"Summer\", \"Total_Medals\": 2015}, {\"noc\": \"UZB\", \"numeric_id\": 860, \"season\": \"Summer\", \"Total_Medals\": 2029}, {\"noc\": \"UZB\", \"numeric_id\": 860, \"season\": \"Winter\", \"Total_Medals\": 1995}, {\"noc\": \"VEN\", \"numeric_id\": 862, \"season\": \"Summer\", \"Total_Medals\": 1953}, {\"noc\": \"VEN\", \"numeric_id\": 862, \"season\": \"Summer\", \"Total_Medals\": 1961}, {\"noc\": \"VEN\", \"numeric_id\": 862, \"season\": \"Summer\", \"Total_Medals\": 1969}, {\"noc\": \"VEN\", \"numeric_id\": 862, \"season\": \"Summer\", \"Total_Medals\": 1977}, {\"noc\": \"VEN\", \"numeric_id\": 862, \"season\": \"Summer\", \"Total_Medals\": 1981}, {\"noc\": \"VEN\", \"numeric_id\": 862, \"season\": \"Summer\", \"Total_Medals\": 1987}, {\"noc\": \"VEN\", \"numeric_id\": 862, \"season\": \"Summer\", \"Total_Medals\": 2006}, {\"noc\": \"VEN\", \"numeric_id\": 862, \"season\": \"Summer\", \"Total_Medals\": 2009}, {\"noc\": \"VEN\", \"numeric_id\": 862, \"season\": \"Summer\", \"Total_Medals\": 2013}, {\"noc\": \"VEN\", \"numeric_id\": 862, \"season\": \"Summer\", \"Total_Medals\": 2019}, {\"noc\": \"VIE\", \"numeric_id\": 0, \"season\": \"Summer\", \"Total_Medals\": 2001}, {\"noc\": \"VIE\", \"numeric_id\": 0, \"season\": \"Summer\", \"Total_Medals\": 2009}, {\"noc\": \"VIE\", \"numeric_id\": 0, \"season\": \"Summer\", \"Total_Medals\": 2018}, {\"noc\": \"WIF\", \"numeric_id\": 0, \"season\": \"Summer\", \"Total_Medals\": 1965}, {\"noc\": \"YUG\", \"numeric_id\": 0, \"season\": \"Summer\", \"Total_Medals\": 1926}, {\"noc\": \"YUG\", \"numeric_id\": 0, \"season\": \"Summer\", \"Total_Medals\": 1940}, {\"noc\": \"YUG\", \"numeric_id\": 0, \"season\": \"Summer\", \"Total_Medals\": 1937}, {\"noc\": \"YUG\", \"numeric_id\": 0, \"season\": \"Summer\", \"Total_Medals\": 1964}, {\"noc\": \"YUG\", \"numeric_id\": 0, \"season\": \"Summer\", \"Total_Medals\": 1976}, {\"noc\": \"YUG\", \"numeric_id\": 0, \"season\": \"Summer\", \"Total_Medals\": 1979}, {\"noc\": \"YUG\", \"numeric_id\": 0, \"season\": \"Summer\", \"Total_Medals\": 1977}, {\"noc\": \"YUG\", \"numeric_id\": 0, \"season\": \"Summer\", \"Total_Medals\": 1979}, {\"noc\": \"YUG\", \"numeric_id\": 0, \"season\": \"Summer\", \"Total_Medals\": 1997}, {\"noc\": \"YUG\", \"numeric_id\": 0, \"season\": \"Summer\", \"Total_Medals\": 1990}, {\"noc\": \"YUG\", \"numeric_id\": 0, \"season\": \"Summer\", \"Total_Medals\": 1995}, {\"noc\": \"YUG\", \"numeric_id\": 0, \"season\": \"Summer\", \"Total_Medals\": 2037}, {\"noc\": \"YUG\", \"numeric_id\": 0, \"season\": \"Summer\", \"Total_Medals\": 2071}, {\"noc\": \"YUG\", \"numeric_id\": 0, \"season\": \"Summer\", \"Total_Medals\": 2051}, {\"noc\": \"YUG\", \"numeric_id\": 0, \"season\": \"Winter\", \"Total_Medals\": 1985}, {\"noc\": \"YUG\", \"numeric_id\": 0, \"season\": \"Winter\", \"Total_Medals\": 1994}, {\"noc\": \"ZAM\", \"numeric_id\": 0, \"season\": \"Summer\", \"Total_Medals\": 1985}, {\"noc\": \"ZAM\", \"numeric_id\": 0, \"season\": \"Summer\", \"Total_Medals\": 1997}, {\"noc\": \"ZIM\", \"numeric_id\": 0, \"season\": \"Summer\", \"Total_Medals\": 1995}, {\"noc\": \"ZIM\", \"numeric_id\": 0, \"season\": \"Summer\", \"Total_Medals\": 2007}, {\"noc\": \"ZIM\", \"numeric_id\": 0, \"season\": \"Summer\", \"Total_Medals\": 2012}]}}, {\"mode\": \"vega-lite\"});\n",
       "</script>"
      ],
      "text/plain": [
       "alt.Chart(...)"
      ]
     },
     "execution_count": 50,
     "metadata": {},
     "output_type": "execute_result"
    }
   ],
   "source": [
    "import altair as alt\n",
    "import pandas as pd\n",
    "import json\n",
    "import urllib.request\n",
    "\n",
    "# Load the dataset\n",
    "data_path = \"data/Updated_Medals_Summary_with_Numeric_ID.csv\"\n",
    "df = pd.read_csv(data_path)\n",
    "\n",
    "# Load the TopoJSON file for the world map\n",
    "topojson_url = \"https://vega.github.io/vega-datasets/data/world-110m.json\"\n",
    "with urllib.request.urlopen(topojson_url) as response:\n",
    "    topojson = json.load(response)\n",
    "\n",
    "# Prepare the TopoJSON for use in Altair\n",
    "world = alt.topo_feature(topojson_url, \"countries\")\n",
    "\n",
    "# Create a parameter to toggle between Summer and Winter Olympics\n",
    "season_param = alt.param(\n",
    "    name=\"Season\",\n",
    "    bind=alt.binding_radio(options=[\"Summer\", \"Winter\"], name=\"Season: \"),\n",
    "    value=\"Summer\"  # Default value\n",
    ")\n",
    "\n",
    "# Filter the data to include only relevant columns\n",
    "df_filtered = df[[\"noc\", \"numeric_id\", \"season\", \"Total_Medals\"]]\n",
    "\n",
    "# Create the visualization\n",
    "world_map = alt.Chart(world).mark_geoshape().encode(\n",
    "    color=alt.Color(\n",
    "        \"Total_Medals:Q\",\n",
    "        scale=alt.Scale(scheme=\"goldred\"),\n",
    "        title=\"Total Medals\"\n",
    "    ),\n",
    "    tooltip=[\n",
    "        alt.Tooltip(\"noc:N\", title=\"NOC\"),\n",
    "        alt.Tooltip(\"season:N\", title=\"Season\"),\n",
    "        alt.Tooltip(\"Total_Medals:Q\", title=\"Total Medals\")\n",
    "    ]\n",
    ").transform_lookup(\n",
    "    lookup=\"id\",\n",
    "    from_=alt.LookupData(df_filtered, \"numeric_id\", [\"noc\", \"season\", \"Total_Medals\"])\n",
    ").transform_filter(\n",
    "    alt.datum.season == season_param\n",
    ").properties(\n",
    "    width=800,\n",
    "    height=400,\n",
    "    title=\"Olympic Medals by Country\"\n",
    ").project(\n",
    "    type=\"equirectangular\"\n",
    ")\n",
    "\n",
    "# Add the parameter to the chart\n",
    "final_chart = world_map.add_params(season_param)\n",
    "\n",
    "# Display the chart\n",
    "final_chart\n"
   ]
  },
  {
   "cell_type": "code",
   "execution_count": null,
   "metadata": {},
   "outputs": [],
   "source": []
  }
 ],
 "metadata": {
  "kernelspec": {
   "display_name": "Python 3",
   "language": "python",
   "name": "python3"
  },
  "language_info": {
   "codemirror_mode": {
    "name": "ipython",
    "version": 3
   },
   "file_extension": ".py",
   "mimetype": "text/x-python",
   "name": "python",
   "nbconvert_exporter": "python",
   "pygments_lexer": "ipython3",
   "version": "3.9.6"
  }
 },
 "nbformat": 4,
 "nbformat_minor": 2
}
